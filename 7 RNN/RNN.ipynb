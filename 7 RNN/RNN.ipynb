{
  "cells": [
    {
      "cell_type": "code",
      "execution_count": 14,
      "metadata": {
        "id": "HXd4o-HZkHQN"
      },
      "outputs": [],
      "source": [
        "import torch\n",
        "import torch.nn as nn\n",
        "import torch.nn.functional as F\n",
        "from torch.nn.utils import clip_grad_norm_\n",
        "import os\n",
        "import numpy as np\n",
        "import matplotlib.pyplot as plt"
      ]
    },
    {
      "cell_type": "markdown",
      "metadata": {
        "id": "pRIVQmrukHQQ"
      },
      "source": [
        "## Ссылки:\n",
        "* [Chris Olah's blog (LSTM/GRU)](http://colah.github.io/posts/2015-08-Understanding-LSTMs/)\n",
        "* [PyTorch tutorial - RNN for name classification](https://pytorch.org/tutorials/intermediate/char_rnn_classification_tutorial.html)\n",
        "* [MNIST classification with RNN tutorial](https://medium.com/dair-ai/building-rnns-is-fun-with-pytorch-and-google-colab-3903ea9a3a79)\n",
        "* [Good tutorials about Torch sentiment](https://github.com/bentrevett/pytorch-sentiment-analysis)"
      ]
    },
    {
      "cell_type": "markdown",
      "metadata": {
        "id": "NltJUttHkHQR"
      },
      "source": [
        "## Vanilla RNN"
      ]
    },
    {
      "cell_type": "markdown",
      "metadata": {
        "id": "K-4oBp1MkHQS"
      },
      "source": [
        "<img src=\"http://colah.github.io/posts/2015-08-Understanding-LSTMs/img/LSTM3-SimpleRNN.png\" width=\"600\">"
      ]
    },
    {
      "cell_type": "markdown",
      "metadata": {
        "id": "PiAC7p6JkHQT"
      },
      "source": [
        "$$\\Large h_{i+1} = tanh(W_x \\cdot X_{i+1} + W_y \\cdot h_{i})$$"
      ]
    },
    {
      "cell_type": "markdown",
      "metadata": {
        "id": "U9hhj5mLkHQT"
      },
      "source": [
        "Рекурретные нейросети нужны для работы с **последовательными данными** произвольной длины. Они представляют собой абстрактные ячейки, у которых есть какая-то **память** (hidden state), которая обновляется после обработки очередной порции данных.\n",
        "\n",
        "Если в самом простом виде, то в рекуррентных сетках для одного входного вектора $x_{(t)}$ и одного слоя рекуррентной сети справедливо такое соотношение:\n",
        "\n",
        "$$y_{(t)} = \\phi (x_{(t)}^T \\cdot w_x + y_{(t-1)}^T \\cdot w_y + b)$$\n",
        "\n",
        "где \n",
        "* $x(t)$ — входной вектор на текущем шаге;\n",
        "* $y(t)$ — выходной вектор на текущем шаге;\n",
        "* $w_x$ — вектор весов нейронов для входа;\n",
        "* $w_y$ — вектор весов нейронов для выхода;\n",
        "* $y(t-1)$ — выходной вектор с прошлого шага (для первого шага этот вектор нулевой);\n",
        "* $b$ — bias;\n",
        "* $\\phi$ — какая-то функция активации (например, ReLU).\n",
        "\n",
        "Эту ячейку применяют по очереди ко всей последовательности, пробрасывая hidden state с предыдущего состояния. С точки зрения построения вычислительного графа это выглядит так:\n",
        "\n",
        "<img src=\"http://colah.github.io/posts/2015-08-Understanding-LSTMs/img/RNN-unrolled.png\" width=\"600\">\n",
        "\n",
        "То есть если зафиксировать длину последовательности, то мы получим обычный фиксированный ациклический граф вычислений, в котором просто пошерены параметры всех ячеек.\n",
        "\n",
        "### Упрощение формулы\n",
        "\n",
        "Снова немножко математики чтобы привести формулу выше к более удобному виду.\n",
        "\n",
        "Представим, что на вход подается не один вектор $x_{(t)}$, а целый мини-батч размера $m$ таких векторов $X_{(t)}$, соответственно все дальнейшие размышления мы уже производим в матричном виде:\n",
        "\n",
        "$$ Y_{(t)} = \\phi(X_{(t)}^T \\cdot W_x + Y_{(t-1)}^T \\cdot W_y + b) = \\phi([X_{(t)} Y_{(t-1)}] \\cdot W + b) $$\n",
        "где\n",
        "$$ W = [W_x W_y]^T $$\n",
        "\n",
        "*Операция в квадратных скобках — конкатенация матриц\n",
        "\n",
        "По размерностям:\n",
        "* $Y_{(t)}$ — матрица [$m$ x n_neurons]\n",
        "* $X_{(t)}$ — матрица [$m$ x n_features]\n",
        "* $b$ — вектор длины n_neurons\n",
        "* $W_x$ — веса между входами и нейронами размерностью [n_features x n_neurons]\n",
        "* $W_y$ — веса связей с прошлым выходом размерностью [n_neurons x n_neurons]"
      ]
    },
    {
      "cell_type": "markdown",
      "metadata": {
        "id": "Gq6dnwWWkHQU"
      },
      "source": [
        "# RNN from scratch\n",
        "\n",
        "**Disclaimer:** не используйте самописные RNN-ки в реальной жизни.\n",
        "\n",
        "Давайте реализуем торчовый модуль, который это реализует."
      ]
    },
    {
      "cell_type": "code",
      "execution_count": null,
      "metadata": {
        "id": "dSkcPzlokHQW"
      },
      "outputs": [],
      "source": [
        "import torch.nn as nn\n",
        "\n",
        "class RNN(nn.Module):\n",
        "    def __init__(self, input_size, hidden_size):\n",
        "        super().__init__()\n",
        "\n",
        "        self.hidden_size = hidden_size\n",
        "        self.W = nn.Linear(input_size + hidden_size, hidden_size)\n",
        "        self.T = nn.Tanh()\n",
        "        # <создать Wx, Wy?>\n",
        "\n",
        "    def forward(self, input_data, hidden):\n",
        "        # <использовать Wx, Wy для полученния нового hidden>\n",
        "        hidden = self.T(self.W.forward(torch.cat([input_data, hidden], 1)))\n",
        "        return hidden\n",
        "\n",
        "    def init_hidden(self, batch_size):\n",
        "        return torch.zeros(batch_size, self.hidden_size)"
      ]
    },
    {
      "cell_type": "code",
      "execution_count": null,
      "metadata": {
        "id": "w9n3gNkPkHQY"
      },
      "outputs": [],
      "source": [
        "input_feature_size = 6\n",
        "hidden_size=5\n",
        "batch_size=2"
      ]
    },
    {
      "cell_type": "code",
      "execution_count": null,
      "metadata": {
        "id": "2rqMgLsqkHQd"
      },
      "outputs": [],
      "source": [
        "rnn = RNN(input_size=input_feature_size, hidden_size=hidden_size)\n",
        "initial_hidden = rnn.init_hidden(batch_size)"
      ]
    },
    {
      "cell_type": "code",
      "execution_count": null,
      "metadata": {
        "id": "ZssjzwGDkHQg"
      },
      "outputs": [],
      "source": [
        "input_example = torch.rand([batch_size, input_feature_size])\n",
        "new_hidden = rnn(input_example, initial_hidden)"
      ]
    },
    {
      "cell_type": "code",
      "execution_count": null,
      "metadata": {
        "id": "QdiE8vn-kHQi",
        "colab": {
          "base_uri": "https://localhost:8080/"
        },
        "outputId": "938fe8a9-2d9c-471d-e2bc-7bb00cd39539"
      },
      "outputs": [
        {
          "output_type": "stream",
          "name": "stdout",
          "text": [
            "torch.Size([2, 5])\n"
          ]
        }
      ],
      "source": [
        "print(new_hidden.shape)"
      ]
    },
    {
      "cell_type": "code",
      "execution_count": null,
      "metadata": {
        "id": "Io1NEsIKkHQm",
        "colab": {
          "base_uri": "https://localhost:8080/"
        },
        "outputId": "399ff7e1-007a-4616-8804-9c42c82b60ab"
      },
      "outputs": [
        {
          "output_type": "stream",
          "name": "stdout",
          "text": [
            "initial_hidden:  [[0. 0. 0. 0. 0.]\n",
            " [0. 0. 0. 0. 0.]]\n",
            "new_hidden:  [[-0.0853065   0.14053988 -0.04945155 -0.04884886  0.00633756]\n",
            " [-0.11854563 -0.0412439   0.04434818 -0.42460528 -0.19689617]]\n"
          ]
        }
      ],
      "source": [
        "print(\"initial_hidden: \", initial_hidden.numpy())\n",
        "print(\"new_hidden: \", new_hidden.detach().numpy())"
      ]
    },
    {
      "cell_type": "code",
      "execution_count": null,
      "metadata": {
        "id": "hIwKBaQWkHQo",
        "colab": {
          "base_uri": "https://localhost:8080/"
        },
        "outputId": "5d55f1b4-bcb4-4059-fb37-4ebd4d33d3cc"
      },
      "outputs": [
        {
          "output_type": "stream",
          "name": "stdout",
          "text": [
            "new_hidden:  [[-0.10136566  0.09506332 -0.06576993 -0.02614996 -0.02942809]\n",
            " [-0.25852838  0.05397024 -0.01190714 -0.26975474 -0.33085027]]\n"
          ]
        }
      ],
      "source": [
        "new_hidden = rnn(input_example, new_hidden)\n",
        "print(\"new_hidden: \", new_hidden.detach().numpy())"
      ]
    },
    {
      "cell_type": "markdown",
      "metadata": {
        "id": "hGdYtkjTkHQq"
      },
      "source": [
        "**Задание**. Модифицируйте код так, чтобы на вход можно было подавать батчи размером больше 1."
      ]
    },
    {
      "cell_type": "markdown",
      "metadata": {
        "id": "aGi7O7qekHQr"
      },
      "source": [
        "# Классификация картинок с RNN\n",
        "\n",
        "Представьте, что у вас есть какая-то длинная картинка, в которой свёртки точно не зайдут. Например, снимки со спутника, спектрограмма или длиннокот."
      ]
    },
    {
      "cell_type": "markdown",
      "metadata": {
        "id": "v0H9o53CkHQs"
      },
      "source": [
        "Можно обработать их построчно с помощью рекуррентных сетей — просто подавать в качестве входа все пиксели очередной строки.\n",
        "\n",
        "<img src=\"https://cdn-images-1.medium.com/max/2000/1*wFYZpxTTiXVqncOLQd_CIQ.jpeg\" width=\"800\">"
      ]
    },
    {
      "cell_type": "code",
      "execution_count": null,
      "metadata": {
        "id": "xaQ0QhgfkHQt"
      },
      "outputs": [],
      "source": [
        "!mkdir data"
      ]
    },
    {
      "cell_type": "markdown",
      "metadata": {
        "id": "kmOhDZDEkHQv"
      },
      "source": [
        "Загружаем данные"
      ]
    },
    {
      "cell_type": "code",
      "execution_count": null,
      "metadata": {
        "id": "_ahhqfzgkHQw",
        "colab": {
          "base_uri": "https://localhost:8080/",
          "height": 423,
          "referenced_widgets": [
            "dc4740bcf32041e5968d754ea674571a",
            "02ee58cf5a234c4aa6f759027fcea4a1",
            "135ace649af44b40a07cd890ea6fa361",
            "a6eabfbada2d458a8d929e8b65ce98f1",
            "01112619e8e74f37bb01f683f3ae2db0",
            "8544df1d3ebe4c819df2638615a9cb39",
            "1628b4e21db64d849e0fed3f6878d6b5",
            "c56b4730d39b4bad810039a24003840d",
            "d322006c57704268b2d3164b32b7eb72",
            "517a96820e2e4f688d62b1ca88074f1a",
            "88520c352d7d48deb049354121b55dec",
            "9d5d305daa1d49a7b2110af66f3b394b",
            "47fae07bc3534f50bd3283353398c4c5",
            "825329b1ebff41b29b869e2497ca8159",
            "3345bb35c8c442f2bdabfd97b9003f39",
            "465454e3de67419c965011ceb02ec271",
            "69a30334695b45eab609410037418246",
            "352f51b5027b45aabcd6df87a2a28879",
            "87a68bcccd3d4d78bf67b49d13fb7cdb",
            "42c244a5f7654fe88186f13973bd377a",
            "d3b8132d18ac4b27a98cef57abc91b8b",
            "995d3d60caaa4a598745db000594bc1d",
            "b98343e95b0f43e0b9f70c024dbcc73d",
            "751c09428c084405af653ddb282b35f3",
            "066f5e7edd1c4ac1a805fb228c4333b6",
            "29d72eb013be4811be3e57a2015c34dc",
            "4ed106d5dd424f649fef9f6f332c5803",
            "2bf9af4f0e354e6087189d0323839332",
            "d3ac98802980446b883f772baef07e62",
            "1bdf4d4beed643208fa3006bfff328eb",
            "ca8c2b365dd04f1ebd6b2c601dad2ea7",
            "a3ec20adb8304128bd50cbae766935b1",
            "24329807eef44fdcb921a73184611da3",
            "716c6d08ed4c4d66a7b56c3cd396d96d",
            "610e9ec95b6e48f9aea0a7cf09e70fe9",
            "e307732e78b54f81902941db6886d4f2",
            "5dd1f1730c4b4122bc312b1ab716f882",
            "0db97fcbad68466bb2930a3b95b8da50",
            "0c84aaed57be4e17b2c9d0027128da53",
            "6d6d2479b4544689810bae76fbca8c85",
            "f923fdcfcd57471fa266d31d47b69f7f",
            "862f4a9b8c484bc0af9476d627528908",
            "12b73fb11bce4f599e9fdcaaaf6a4211",
            "9335e513b8834f6b8587f35dc60942ff"
          ]
        },
        "outputId": "7fc9b8c6-86c4-451c-9fc7-14f604eb68ac"
      },
      "outputs": [
        {
          "output_type": "stream",
          "name": "stdout",
          "text": [
            "Downloading http://yann.lecun.com/exdb/mnist/train-images-idx3-ubyte.gz\n",
            "Downloading http://yann.lecun.com/exdb/mnist/train-images-idx3-ubyte.gz to ./data/MNIST/raw/train-images-idx3-ubyte.gz\n"
          ]
        },
        {
          "output_type": "display_data",
          "data": {
            "text/plain": [
              "  0%|          | 0/9912422 [00:00<?, ?it/s]"
            ],
            "application/vnd.jupyter.widget-view+json": {
              "version_major": 2,
              "version_minor": 0,
              "model_id": "dc4740bcf32041e5968d754ea674571a"
            }
          },
          "metadata": {}
        },
        {
          "output_type": "stream",
          "name": "stdout",
          "text": [
            "Extracting ./data/MNIST/raw/train-images-idx3-ubyte.gz to ./data/MNIST/raw\n",
            "\n",
            "Downloading http://yann.lecun.com/exdb/mnist/train-labels-idx1-ubyte.gz\n",
            "Downloading http://yann.lecun.com/exdb/mnist/train-labels-idx1-ubyte.gz to ./data/MNIST/raw/train-labels-idx1-ubyte.gz\n"
          ]
        },
        {
          "output_type": "display_data",
          "data": {
            "text/plain": [
              "  0%|          | 0/28881 [00:00<?, ?it/s]"
            ],
            "application/vnd.jupyter.widget-view+json": {
              "version_major": 2,
              "version_minor": 0,
              "model_id": "9d5d305daa1d49a7b2110af66f3b394b"
            }
          },
          "metadata": {}
        },
        {
          "output_type": "stream",
          "name": "stdout",
          "text": [
            "Extracting ./data/MNIST/raw/train-labels-idx1-ubyte.gz to ./data/MNIST/raw\n",
            "\n",
            "Downloading http://yann.lecun.com/exdb/mnist/t10k-images-idx3-ubyte.gz\n",
            "Downloading http://yann.lecun.com/exdb/mnist/t10k-images-idx3-ubyte.gz to ./data/MNIST/raw/t10k-images-idx3-ubyte.gz\n"
          ]
        },
        {
          "output_type": "display_data",
          "data": {
            "text/plain": [
              "  0%|          | 0/1648877 [00:00<?, ?it/s]"
            ],
            "application/vnd.jupyter.widget-view+json": {
              "version_major": 2,
              "version_minor": 0,
              "model_id": "b98343e95b0f43e0b9f70c024dbcc73d"
            }
          },
          "metadata": {}
        },
        {
          "output_type": "stream",
          "name": "stdout",
          "text": [
            "Extracting ./data/MNIST/raw/t10k-images-idx3-ubyte.gz to ./data/MNIST/raw\n",
            "\n",
            "Downloading http://yann.lecun.com/exdb/mnist/t10k-labels-idx1-ubyte.gz\n",
            "Downloading http://yann.lecun.com/exdb/mnist/t10k-labels-idx1-ubyte.gz to ./data/MNIST/raw/t10k-labels-idx1-ubyte.gz\n"
          ]
        },
        {
          "output_type": "display_data",
          "data": {
            "text/plain": [
              "  0%|          | 0/4542 [00:00<?, ?it/s]"
            ],
            "application/vnd.jupyter.widget-view+json": {
              "version_major": 2,
              "version_minor": 0,
              "model_id": "716c6d08ed4c4d66a7b56c3cd396d96d"
            }
          },
          "metadata": {}
        },
        {
          "output_type": "stream",
          "name": "stdout",
          "text": [
            "Extracting ./data/MNIST/raw/t10k-labels-idx1-ubyte.gz to ./data/MNIST/raw\n",
            "\n"
          ]
        }
      ],
      "source": [
        "import torchvision\n",
        "import torchvision.transforms as transforms\n",
        "\n",
        "BATCH_SIZE = 64\n",
        "\n",
        "# переводим все в тензоры\n",
        "transform = transforms.Compose(\n",
        "    [transforms.ToTensor()])\n",
        "\n",
        "trainset = torchvision.datasets.MNIST(root='./data', train=True,\n",
        "                                      download=True, transform=transform)\n",
        "\n",
        "testset = torchvision.datasets.MNIST(root='./data', train=False,\n",
        "                                     download=True, transform=transform)\n",
        "\n",
        "trainloader = torch.utils.data.DataLoader(trainset, batch_size=BATCH_SIZE,\n",
        "                                          shuffle=True, num_workers=2)\n",
        "\n",
        "testloader = torch.utils.data.DataLoader(testset, batch_size=BATCH_SIZE,\n",
        "                                         shuffle=False, num_workers=2)"
      ]
    },
    {
      "cell_type": "code",
      "execution_count": null,
      "metadata": {
        "id": "zb3byVwpkHQz",
        "colab": {
          "base_uri": "https://localhost:8080/"
        },
        "outputId": "475e9a3f-bde5-46b5-f291-39cf62f059f3"
      },
      "outputs": [
        {
          "output_type": "stream",
          "name": "stdout",
          "text": [
            "total 4.0K\n",
            "drwxr-xr-x 3 root root 4.0K May 15 16:59 MNIST\n"
          ]
        }
      ],
      "source": [
        "!ls -lh data/"
      ]
    },
    {
      "cell_type": "code",
      "execution_count": null,
      "metadata": {
        "id": "wVCuLHrmkHQ4",
        "colab": {
          "base_uri": "https://localhost:8080/",
          "height": 286
        },
        "outputId": "13e2e41a-5032-4289-a5f3-fd03a58aeb86"
      },
      "outputs": [
        {
          "output_type": "stream",
          "name": "stdout",
          "text": [
            "Populating the interactive namespace from numpy and matplotlib\n"
          ]
        },
        {
          "output_type": "display_data",
          "data": {
            "text/plain": [
              "<Figure size 432x288 with 1 Axes>"
            ],
            "image/png": "[encoded data removed]"
          },
          "metadata": {
            "needs_background": "light"
          }
        }
      ],
      "source": [
        "%pylab inline\n",
        "import numpy as np\n",
        "\n",
        "def imshow(img):\n",
        "    #img = img / 2 + 0.5     # unnormalize\n",
        "    npimg = img.numpy()\n",
        "    plt.imshow(np.transpose(npimg, (1, 2, 0)))\n",
        "\n",
        "# get some random training images\n",
        "dataiter = iter(trainloader)\n",
        "images, labels = dataiter.next()\n",
        "\n",
        "# show images\n",
        "imshow(torchvision.utils.make_grid(images))"
      ]
    },
    {
      "cell_type": "markdown",
      "metadata": {
        "id": "NSBQfZBrkHQ8"
      },
      "source": [
        "## Как выглядит классификация с RNN в общем виде "
      ]
    },
    {
      "cell_type": "markdown",
      "metadata": {
        "id": "xTIzNZ09kHQ9"
      },
      "source": [
        "<img src=\"https://cdn-images-1.medium.com/max/1600/1*vhAfRLlaeOXZ-bruv7Ostg.png\" width=\"400\">"
      ]
    },
    {
      "cell_type": "code",
      "execution_count": null,
      "metadata": {
        "id": "uZ2UZw8vkHQ-"
      },
      "outputs": [],
      "source": [
        "class ImageRNN(nn.Module):\n",
        "    def __init__(self, batch_size, n_steps, n_inputs, n_neurons, n_outputs):\n",
        "        super().__init__()\n",
        "        \n",
        "        self.n_neurons = n_neurons\n",
        "        self.batch_size = batch_size\n",
        "        self.n_steps = n_steps\n",
        "        self.n_inputs = n_inputs\n",
        "        self.n_outputs = n_outputs\n",
        "        \n",
        "        self.basic_rnn = nn.RNN(self.n_inputs, self.n_neurons) \n",
        "        \n",
        "        self.FC = nn.Linear(self.n_neurons, self.n_outputs)\n",
        "        \n",
        "    def init_hidden(self,):\n",
        "        # (num_layers, batch_size, n_neurons)\n",
        "        return (torch.zeros(1, self.batch_size, self.n_neurons))\n",
        "        \n",
        "    def forward(self, X):\n",
        "        # transforms X to dimensions: n_steps X batch_size X n_inputs\n",
        "        X = X.permute(1, 0, 2) \n",
        "        \n",
        "        self.batch_size = X.size(1)\n",
        "        self.hidden = self.init_hidden()\n",
        "        \n",
        "        lstm_out, self.hidden = self.basic_rnn(X, self.hidden)      \n",
        "        out = self.FC(self.hidden)\n",
        "        \n",
        "        return out.view(-1, self.n_outputs) # batch_size X n_output"
      ]
    },
    {
      "cell_type": "code",
      "execution_count": null,
      "metadata": {
        "id": "8FZWcJTokHRB"
      },
      "outputs": [],
      "source": [
        "N_STEPS = 28\n",
        "N_INPUTS = 28\n",
        "N_NEURONS = 150\n",
        "N_OUTPUTS = 10\n",
        "N_EPHOCS = 10"
      ]
    },
    {
      "cell_type": "code",
      "execution_count": null,
      "metadata": {
        "id": "bLaGmqMnkHRE",
        "colab": {
          "base_uri": "https://localhost:8080/"
        },
        "outputId": "35e61c12-3cbe-4cc0-d1c4-47ce0d515ac6"
      },
      "outputs": [
        {
          "output_type": "stream",
          "name": "stdout",
          "text": [
            "tensor([[ 0.0715, -0.0823, -0.1113,  0.0569, -0.1277,  0.0478,  0.1243, -0.0209,\n",
            "         -0.0725, -0.0488],\n",
            "        [ 0.0605, -0.0908, -0.0940,  0.0644, -0.1125,  0.0573,  0.1662, -0.0233,\n",
            "         -0.0976, -0.0324],\n",
            "        [ 0.0640, -0.0693, -0.0731,  0.0511, -0.0939,  0.0480,  0.1518, -0.0239,\n",
            "         -0.1070, -0.0440],\n",
            "        [ 0.0593, -0.0758, -0.0916,  0.0574, -0.1020,  0.0446,  0.1644, -0.0230,\n",
            "         -0.1038, -0.0370],\n",
            "        [ 0.0424, -0.0941, -0.0694,  0.0529, -0.0964,  0.0472,  0.1550, -0.0412,\n",
            "         -0.0859, -0.0399],\n",
            "        [ 0.0554, -0.0713, -0.0771,  0.0524, -0.0940,  0.0507,  0.1515, -0.0265,\n",
            "         -0.1070, -0.0402],\n",
            "        [ 0.0691, -0.0790, -0.0874,  0.0674, -0.0977,  0.0448,  0.1726, -0.0172,\n",
            "         -0.1052, -0.0336],\n",
            "        [ 0.0607, -0.0701, -0.0723,  0.0463, -0.0973,  0.0512,  0.1564, -0.0232,\n",
            "         -0.1138, -0.0446],\n",
            "        [ 0.0714, -0.0852, -0.0828,  0.0425, -0.1071,  0.0601,  0.1569, -0.0280,\n",
            "         -0.1122, -0.0456],\n",
            "        [ 0.0637, -0.0847, -0.0930,  0.0637, -0.1021,  0.0476,  0.1651, -0.0189,\n",
            "         -0.1027, -0.0351]], grad_fn=<SliceBackward0>)\n"
          ]
        }
      ],
      "source": [
        "dataiter = iter(trainloader)\n",
        "images, labels = dataiter.next()\n",
        "model = ImageRNN(BATCH_SIZE, N_STEPS, N_INPUTS, N_NEURONS, N_OUTPUTS)\n",
        "logits = model(images.view(-1, 28,28))\n",
        "print(logits[0:10])"
      ]
    },
    {
      "cell_type": "markdown",
      "metadata": {
        "id": "snsRIyjtkHRJ"
      },
      "source": [
        "## Обучаем"
      ]
    },
    {
      "cell_type": "code",
      "execution_count": null,
      "metadata": {
        "id": "bDAvHQlTkHRK"
      },
      "outputs": [],
      "source": [
        "import torch.optim as optim\n",
        "\n",
        "# Device\n",
        "device = torch.device(\"cuda:0\" if torch.cuda.is_available() else \"cpu\")\n",
        "\n",
        "# Model instance\n",
        "model = ImageRNN(BATCH_SIZE, N_STEPS, N_INPUTS, N_NEURONS, N_OUTPUTS)\n",
        "criterion = nn.CrossEntropyLoss()\n",
        "optimizer = optim.Adam(model.parameters(), lr=0.001)\n",
        "\n",
        "def get_accuracy(logit, target, batch_size):\n",
        "    ''' Obtain accuracy for training round '''\n",
        "    corrects = (torch.max(logit, 1)[1].view(target.size()).data == target.data).sum()\n",
        "    accuracy = 100.0 * corrects/batch_size\n",
        "    return accuracy.item()"
      ]
    },
    {
      "cell_type": "code",
      "execution_count": null,
      "metadata": {
        "id": "Flff1olHkHRN",
        "colab": {
          "base_uri": "https://localhost:8080/"
        },
        "outputId": "3980f1a2-86fb-4dd4-a7e0-33df027f7f40"
      },
      "outputs": [
        {
          "output_type": "stream",
          "name": "stdout",
          "text": [
            "Epoch:  0 | Loss: 0.7825 | Train Accuracy: 73.65\n",
            "Epoch:  1 | Loss: 0.3317 | Train Accuracy: 90.20\n",
            "Epoch:  2 | Loss: 0.2394 | Train Accuracy: 93.20\n",
            "Epoch:  3 | Loss: 0.1999 | Train Accuracy: 94.33\n",
            "Epoch:  4 | Loss: 0.1840 | Train Accuracy: 94.75\n",
            "Epoch:  5 | Loss: 0.1705 | Train Accuracy: 95.21\n",
            "Epoch:  6 | Loss: 0.1468 | Train Accuracy: 95.89\n",
            "Epoch:  7 | Loss: 0.1511 | Train Accuracy: 95.79\n",
            "Epoch:  8 | Loss: 0.1355 | Train Accuracy: 96.18\n",
            "Epoch:  9 | Loss: 0.1318 | Train Accuracy: 96.37\n"
          ]
        }
      ],
      "source": [
        "for epoch in range(N_EPHOCS):\n",
        "    train_running_loss = 0.0\n",
        "    train_acc = 0.0\n",
        "    model.train()\n",
        "    \n",
        "    # TRAINING ROUND\n",
        "    for i, data in enumerate(trainloader):\n",
        "         # zero the parameter gradients\n",
        "        optimizer.zero_grad()\n",
        "        \n",
        "        # reset hidden states\n",
        "        model.hidden = model.init_hidden() \n",
        "        \n",
        "        # get the inputs\n",
        "        inputs, labels = data\n",
        "        inputs = inputs.view(-1, 28, 28) \n",
        "\n",
        "        # forward + backward + optimize\n",
        "        outputs = model(inputs)\n",
        "\n",
        "        loss = criterion(outputs, labels)\n",
        "        loss.backward()\n",
        "        optimizer.step()\n",
        "\n",
        "        train_running_loss += loss.detach().item()\n",
        "        train_acc += get_accuracy(outputs, labels, BATCH_SIZE)\n",
        "         \n",
        "    model.eval()\n",
        "    print('Epoch:  %d | Loss: %.4f | Train Accuracy: %.2f' \n",
        "          %(epoch, train_running_loss / i, train_acc / i))"
      ]
    },
    {
      "cell_type": "markdown",
      "metadata": {
        "id": "6TPiwYZgkHRS"
      },
      "source": [
        "### Смотрим что на тесте"
      ]
    },
    {
      "cell_type": "code",
      "execution_count": null,
      "metadata": {
        "id": "6j98n0YbkHRT",
        "colab": {
          "base_uri": "https://localhost:8080/"
        },
        "outputId": "5e0a7122-c5d6-4837-c730-d360579b1ae5"
      },
      "outputs": [
        {
          "output_type": "stream",
          "name": "stdout",
          "text": [
            "Test Accuracy: 96.15\n"
          ]
        }
      ],
      "source": [
        "test_acc = 0.0\n",
        "for i, data in enumerate(testloader, 0):\n",
        "    inputs, labels = data\n",
        "    inputs = inputs.view(-1, 28, 28)\n",
        "\n",
        "    outputs = model(inputs)\n",
        "\n",
        "    test_acc += get_accuracy(outputs, labels, BATCH_SIZE)\n",
        "        \n",
        "print('Test Accuracy: %.2f'%( test_acc/i))"
      ]
    },
    {
      "cell_type": "markdown",
      "metadata": {
        "id": "kM_LmfEWkHRV"
      },
      "source": [
        "# Сентимент анализ\n",
        "\n",
        "Домашка — классифицировать отзывы с IMDB на положительный / отрицательный только по тексту.\n",
        "\n",
        "<img src=\"https://github.com/bentrevett/pytorch-sentiment-analysis/raw/bf8cc46e4823ebf9af721b595501ad6231c73632/assets/sentiment1.png\">\n",
        "\n",
        "Суть такая же, только нужно предобработать тексты — каждому слову сопоставить обучаемый вектор (embedding), который пойдёт дальше в RNN."
      ]
    },
    {
      "cell_type": "code",
      "execution_count": null,
      "metadata": {
        "id": "-jprChrLiWAh"
      },
      "outputs": [],
      "source": [
        "# это уберет боль работы с текстами\n",
        "!pip install torchtext==0.11.0\n",
        "\n",
        "!python -m spacy download en"
      ]
    },
    {
      "cell_type": "markdown",
      "metadata": {
        "id": "sQ0jIrMtkHRW"
      },
      "source": [
        "**Примечание.** Torchtext уже не очень живой проект, а в spacy нет русского.\n"
      ]
    },
    {
      "cell_type": "code",
      "execution_count": 1,
      "metadata": {
        "id": "vpiI5vjUkHRW"
      },
      "outputs": [],
      "source": [
        "import torch\n",
        "import torchtext\n",
        "from torchtext.legacy import data\n",
        "\n",
        "SEED = 1234\n",
        "\n",
        "torch.manual_seed(SEED)\n",
        "torch.cuda.manual_seed(SEED)\n",
        "torch.backends.cudnn.deterministic = True\n",
        "\n",
        "TEXT = data.Field(tokenize='spacy')\n",
        "LABEL = data.LabelField(dtype=torch.float)"
      ]
    },
    {
      "cell_type": "code",
      "execution_count": 2,
      "metadata": {
        "id": "MOCZ7pthkHRY",
        "colab": {
          "base_uri": "https://localhost:8080/"
        },
        "outputId": "7eb36946-7d2b-49cc-cf9e-f95a2bd00c34"
      },
      "outputs": [
        {
          "output_type": "stream",
          "name": "stdout",
          "text": [
            "downloading aclImdb_v1.tar.gz\n"
          ]
        },
        {
          "output_type": "stream",
          "name": "stderr",
          "text": [
            "100%|██████████| 84.1M/84.1M [00:02<00:00, 30.8MB/s]\n"
          ]
        }
      ],
      "source": [
        "from torchtext.legacy import datasets\n",
        "train_data, test_data = datasets.IMDB.splits(TEXT, LABEL, root=\"./data\")"
      ]
    },
    {
      "cell_type": "code",
      "execution_count": 3,
      "metadata": {
        "id": "KPHUYfw2kHRb",
        "colab": {
          "base_uri": "https://localhost:8080/"
        },
        "outputId": "5457a4e5-c09f-40ab-cb8b-01eba80b925f"
      },
      "outputs": [
        {
          "output_type": "stream",
          "name": "stdout",
          "text": [
            "total 1.7M\n",
            "-rw-r--r-- 1 7297 1000 882K Jun 11  2011 imdbEr.txt\n",
            "-rw-r--r-- 1 7297 1000 827K Apr 12  2011 imdb.vocab\n",
            "-rw-r--r-- 1 7297 1000 4.0K Jun 26  2011 README\n",
            "drwxr-xr-x 4 7297 1000 4.0K Apr 12  2011 \u001b[0m\u001b[01;34mtest\u001b[0m/\n",
            "drwxr-xr-x 5 7297 1000 4.0K Jun 26  2011 \u001b[01;34mtrain\u001b[0m/\n"
          ]
        }
      ],
      "source": [
        "ls -lh data/imdb/aclImdb/"
      ]
    },
    {
      "cell_type": "code",
      "execution_count": 4,
      "metadata": {
        "id": "U3Ow6Q3okHRf",
        "colab": {
          "base_uri": "https://localhost:8080/"
        },
        "outputId": "d81ede75-39e0-43f9-d1a1-382cf06c43ac"
      },
      "outputs": [
        {
          "output_type": "stream",
          "name": "stdout",
          "text": [
            "Number of training examples: 25000\n",
            "Number of testing examples: 25000\n"
          ]
        }
      ],
      "source": [
        "print(f'Number of training examples: {len(train_data)}')\n",
        "print(f'Number of testing examples: {len(test_data)}')"
      ]
    },
    {
      "cell_type": "code",
      "execution_count": 5,
      "metadata": {
        "id": "zQquyqCEkHRk",
        "colab": {
          "base_uri": "https://localhost:8080/"
        },
        "outputId": "2cd2bbd5-94e3-427b-f351-c890f647b260"
      },
      "outputs": [
        {
          "output_type": "stream",
          "name": "stdout",
          "text": [
            "{'text': ['It', 'is', 'often', 'only', 'after', 'years', 'pass', 'that', 'we', 'can', 'look', 'back', 'and', 'see', 'those', 'stars', 'who', 'are', 'truly', 'stars', '.', 'As', 'that', 'French', 'film', 'critic', ',', 'whose', 'name', 'escapes', 'me', ',', 'said', ':', '\"', 'There', 'is', 'no', 'Garbo', '.', 'There', 'is', 'no', 'Dietrich', '.', 'There', 'is', 'only', 'Louise', 'Brooks', '\"', ';', 'and', 'there', 'is', ',', 'thank', 'heavens', '!', 'Louise', 'Brooks', '!', 'This', 'is', 'the', 'third', 'of', 'her', 'European', 'masterpieces', '.', 'But', 'it', 'is', 'also', 'an', 'exceptional', 'film', 'for', 'being', 'one', ',', 'if', 'not', 'the', ',', 'first', 'French', 'talkie', ',', 'for', 'following', 'a', 'script', 'written', 'by', 'famed', 'René', 'Clair', ',', 'for', 'reportedly', 'being', 'finished', '(', 'the', 'direction', ',', 'that', 'is', ')', 'by', 'Georg', 'Pabst', ',', 'and', 'for', 'incorporating', 'the', 'voice', 'of', 'Edith', 'Piaf', 'before', 'she', 'was', 'well', 'known', '!', 'So', 'much', 'talent', 'working', 'on', 'and', 'in', 'a', 'film', ',', 'how', 'could', \"n't\", 'it', 'turn', 'out', 'to', 'be', 'a', 'masterpiece', '?', '!', 'And', 'that', \"'s\", 'what', 'this', 'film', 'is', '.', 'It', \"'s\", 'a', 'shame', 'Louise', 'Brooks', 'was', 'blackballed', 'by', 'Hollywood', 'when', 'she', 'came', 'back', 'to', 'the', 'States', '--', 'so', 'much', 'talent', 'cast', 'so', 'arrogantly', 'by', 'the', 'wayside', '!', 'In', 'the', 'film', ',', 'in', 'addition', 'to', 'getting', 'to', 'watch', 'Louise', 'Brooks', 'in', 'action', ',', 'it', \"'s\", 'great', 'to', 'see', 'pictures', 'of', 'Paris', 'ca', '.', '1930', 'and', 'to', 'hear', 'Piaf', \"'s\", 'young', 'voice', '.', 'I', 'never', 'get', 'tired', 'of', 'this', 'film', '!'], 'label': 'pos'}\n"
          ]
        }
      ],
      "source": [
        "print(vars(train_data.examples[0]))"
      ]
    },
    {
      "cell_type": "code",
      "execution_count": 6,
      "metadata": {
        "id": "BufoUgSCkHRn"
      },
      "outputs": [],
      "source": [
        "# Сделаем еще eval\n",
        "import random\n",
        "\n",
        "train_data, valid_data = train_data.split(random_state=random.seed(SEED))"
      ]
    },
    {
      "cell_type": "code",
      "execution_count": 7,
      "metadata": {
        "id": "f7amSe4ikHRp"
      },
      "outputs": [],
      "source": [
        "# Сделаем словарь\n",
        "TEXT.build_vocab(train_data, max_size=25000)\n",
        "LABEL.build_vocab(train_data)"
      ]
    },
    {
      "cell_type": "code",
      "execution_count": 8,
      "metadata": {
        "id": "IWw3xa1gkHRr",
        "colab": {
          "base_uri": "https://localhost:8080/"
        },
        "outputId": "b29b485b-e13d-45a6-d033-faaff90b00b8"
      },
      "outputs": [
        {
          "output_type": "stream",
          "name": "stdout",
          "text": [
            "Unique tokens in TEXT vocabulary: 25002\n",
            "Unique tokens in LABEL vocabulary: 2\n"
          ]
        }
      ],
      "source": [
        "print(f\"Unique tokens in TEXT vocabulary: {len(TEXT.vocab)}\")\n",
        "print(f\"Unique tokens in LABEL vocabulary: {len(LABEL.vocab)}\")"
      ]
    },
    {
      "cell_type": "code",
      "execution_count": 9,
      "metadata": {
        "id": "Z-_ejTnFkHRx",
        "colab": {
          "base_uri": "https://localhost:8080/"
        },
        "outputId": "dd2815d9-3d8e-421e-c983-c55ef6a4bbd4"
      },
      "outputs": [
        {
          "output_type": "execute_result",
          "data": {
            "text/plain": [
              "{'freqs': Counter({'neg': 8810, 'pos': 8690}),\n",
              " 'itos': ['neg', 'pos'],\n",
              " 'stoi': defaultdict(None, {'neg': 0, 'pos': 1}),\n",
              " 'unk_index': None,\n",
              " 'vectors': None}"
            ]
          },
          "metadata": {},
          "execution_count": 9
        }
      ],
      "source": [
        "vars(LABEL.vocab)"
      ]
    },
    {
      "cell_type": "markdown",
      "metadata": {
        "id": "PhJ0nG7akHRz"
      },
      "source": [
        "Почему 25002, а не 25000?\n",
        "Потому что $<unk>$ и $<pad>$\n",
        "\n",
        "<img src=\"https://github.com/bentrevett/pytorch-sentiment-analysis/raw/bf8cc46e4823ebf9af721b595501ad6231c73632/assets/sentiment6.png\" width=\"160\">"
      ]
    },
    {
      "cell_type": "code",
      "execution_count": 10,
      "metadata": {
        "id": "qxMRpe-hkHRz",
        "colab": {
          "base_uri": "https://localhost:8080/"
        },
        "outputId": "4edc0f20-ad98-437f-ac78-71ee69dc81c3"
      },
      "outputs": [
        {
          "output_type": "stream",
          "name": "stdout",
          "text": [
            "[('the', 201773), (',', 192526), ('.', 165179), ('a', 109095), ('and', 109013), ('of', 100440), ('to', 93216), ('is', 76366), ('in', 61082), ('I', 53847), ('it', 53489), ('that', 49135), ('\"', 44457), (\"'s\", 43332), ('this', 42034), ('-', 36930), ('/><br', 35349), ('was', 34976), ('as', 30270), ('with', 29764)]\n"
          ]
        }
      ],
      "source": [
        "print(TEXT.vocab.freqs.most_common(20))"
      ]
    },
    {
      "cell_type": "markdown",
      "metadata": {
        "id": "1kPcwN6qkHR1"
      },
      "source": [
        "* stoi (string to int)\n",
        "* itos (int to string)"
      ]
    },
    {
      "cell_type": "code",
      "execution_count": 11,
      "metadata": {
        "id": "fVf_llCokHR2",
        "colab": {
          "base_uri": "https://localhost:8080/"
        },
        "outputId": "bc343427-65a9-44cb-d6ea-886089342f02"
      },
      "outputs": [
        {
          "output_type": "stream",
          "name": "stdout",
          "text": [
            "['<unk>', '<pad>', 'the', ',', '.', 'a', 'and', 'of', 'to', 'is']\n"
          ]
        }
      ],
      "source": [
        "print(TEXT.vocab.itos[:10])"
      ]
    },
    {
      "cell_type": "code",
      "execution_count": 12,
      "metadata": {
        "id": "K430yfrfkHR3",
        "colab": {
          "base_uri": "https://localhost:8080/"
        },
        "outputId": "634ef3b4-3ff7-4ef1-dc53-c62c0cfa4e4b"
      },
      "outputs": [
        {
          "output_type": "stream",
          "name": "stdout",
          "text": [
            "defaultdict(None, {'neg': 0, 'pos': 1})\n"
          ]
        }
      ],
      "source": [
        "print(LABEL.vocab.stoi)"
      ]
    },
    {
      "cell_type": "markdown",
      "metadata": {
        "id": "Z1NZqp-6kHR9"
      },
      "source": [
        "## Делаем модель"
      ]
    },
    {
      "cell_type": "markdown",
      "metadata": {
        "id": "cgP2m_x0kHR-"
      },
      "source": [
        "<img src=\"https://github.com/bentrevett/pytorch-sentiment-analysis/raw/bf8cc46e4823ebf9af721b595501ad6231c73632/assets/sentiment7.png\" width=\"450\">"
      ]
    },
    {
      "cell_type": "markdown",
      "metadata": {
        "id": "r9OlXUAvkHR_"
      },
      "source": [
        "* В эмбеддер (emb = [torch.nn.Embedding(num_embeddings, embedding_dim)](https://pytorch.org/docs/stable/nn.html?highlight=embedding#torch.nn.Embedding)) запихиваем тензор размерностью **[sentence length, batch size]**\n",
        "* Эмбеддер возвращает тензор размерностью **[sentence length, batch size, embedding dim]**\n",
        "* RNN (torch.nn.RNN(embedding_dim, hidden_dim)) возвращает 2 тензора, *output* размера [sentence length, batch size, hidden dim] и *hidden* размера [1, batch size, hidden dim]"
      ]
    },
    {
      "cell_type": "code",
      "execution_count": 15,
      "metadata": {
        "id": "HrizbizOkHR_"
      },
      "outputs": [],
      "source": [
        "class RNN(nn.Module):\n",
        "    def __init__(self, input_dim, embedding_dim, hidden_dim, output_dim, batch_size,\n",
        "                 mode='RNN', bidirectional=False, num_layers=1, dropout=0.0):\n",
        "        super().__init__()\n",
        "\n",
        "        self.input_dim = input_dim\n",
        "        self.embedding_dim = embedding_dim\n",
        "        self.hidden_dim = hidden_dim\n",
        "        self.output_dim = output_dim\n",
        "        self.batch_size = batch_size\n",
        "        self.mode = mode\n",
        "        self.num_dirs = 2 if bidirectional else 1\n",
        "        self.embedding = nn.Embedding(input_dim, embedding_dim)\n",
        "\n",
        "        if mode == 'RNN':\n",
        "            self.feature_extractor = nn.RNN(embedding_dim, hidden_dim, num_layers,\n",
        "                                            bidirectional=bidirectional, dropout=dropout)\n",
        "        elif mode == 'LSTM':\n",
        "            self.feature_extractor = nn.LSTM(embedding_dim, hidden_dim, num_layers,\n",
        "                                             bidirectional=bidirectional, dropout=dropout)\n",
        "        elif mode == 'GRU':\n",
        "            self.feature_extractor = nn.GRU(embedding_dim, hidden_dim, num_layers,\n",
        "                                            bidirectional=bidirectional, dropout=dropout)\n",
        "            \n",
        "        self.fc = nn.Linear(hidden_dim * num_layers * self.num_dirs, output_dim)\n",
        "    \n",
        "    def forward(self, X):\n",
        "        # text, shape = [sent len, batch size]\n",
        "        \n",
        "        embedded = self.embedding(X)\n",
        "        #embedded.shape = [sent len, batch size, emb dim]\n",
        "\n",
        "        if self.mode == 'LSTM':\n",
        "            output, (hidden, cell) = self.feature_extractor(embedded)\n",
        "            features = torch.cat([x for x in cell], dim=1) \n",
        "        else:    \n",
        "            output, hidden = self.feature_extractor(embedded)\n",
        "            # output.shape = [sent len, batch size, hid dim * num directions]\n",
        "            # hidden.shape = [num layers * num directions, batch size, hid dim]\n",
        "\n",
        "            features = torch.cat([x for x in hidden], dim=1) \n",
        "            # features.shape = [batch size, hid dim * num layers * num directions]\n",
        "        \n",
        "        return self.fc(features.squeeze(0))"
      ]
    },
    {
      "cell_type": "code",
      "source": [
        "BATCH_SIZE = 64\n",
        "INPUT_DIM = len(TEXT.vocab)\n",
        "EMBEDDING_DIM = 128\n",
        "HIDDEN_DIM = 128\n",
        "OUTPUT_DIM = 2\n",
        "NUM_EPOCHS = 15"
      ],
      "metadata": {
        "id": "v-k07J9FWsK_"
      },
      "execution_count": 16,
      "outputs": []
    },
    {
      "cell_type": "code",
      "execution_count": 17,
      "metadata": {
        "id": "qzyXSNLTkHR5",
        "colab": {
          "base_uri": "https://localhost:8080/"
        },
        "outputId": "7d32b52c-7c94-4c4e-9421-dbbf331fba78"
      },
      "outputs": [
        {
          "output_type": "stream",
          "name": "stdout",
          "text": [
            "cuda:0\n"
          ]
        }
      ],
      "source": [
        "device = torch.device(\"cuda:0\" if torch.cuda.is_available() else \"cpu\")\n",
        "print(device)\n",
        "\n",
        "# собираем батчи так, чтобы в каждом батче были примеры наиболее похожей длины\n",
        "train_iterator, valid_iterator, test_iterator = data.BucketIterator.splits(\n",
        "    (train_data, valid_data, test_data), \n",
        "    batch_size=BATCH_SIZE,\n",
        "    device=device)"
      ]
    },
    {
      "cell_type": "markdown",
      "source": [
        "## Training tools"
      ],
      "metadata": {
        "id": "mu3z1f6eBrvI"
      }
    },
    {
      "cell_type": "code",
      "source": [
        "def get_accuracy(logit, target, batch_size):\n",
        "    ''' Obtain accuracy for training round '''\n",
        "    corrects = (torch.max(logit, 1)[1].view(target.size()).data == target.data).sum()\n",
        "    accuracy = 100.0 * corrects/batch_size\n",
        "    return accuracy.item()"
      ],
      "metadata": {
        "id": "pn0t7e8LyCJe"
      },
      "execution_count": 18,
      "outputs": []
    },
    {
      "cell_type": "code",
      "source": [
        "def train(model, optimizer, lr_scheduler, criterion, num_epochs, data_tr, data_val):\n",
        "    history = []\n",
        "\n",
        "    for epoch in range(num_epochs):\n",
        "        avg_tr_loss = avg_val_loss = 0\n",
        "        avg_tr_acc = avg_val_acc = 0\n",
        "\n",
        "        model.train() # training mode\n",
        "        for data in data_tr:\n",
        "            # get the inputs\n",
        "            inputs, labels = data\n",
        "\n",
        "            # data to device\n",
        "            inputs = inputs.to(device)\n",
        "            labels = labels.long().to(device)\n",
        "\n",
        "            # zero the parameter gradients\n",
        "            optimizer.zero_grad()\n",
        "\n",
        "            # forward + backward + optimize\n",
        "            outputs = model(inputs)\n",
        "            loss = criterion(outputs, labels)\n",
        "            loss.backward()\n",
        "            clip_grad_norm_(model.parameters(), 10e5)\n",
        "            optimizer.step()\n",
        "\n",
        "            # update loss and accuracy\n",
        "            avg_tr_loss += loss.item() / len(data_tr)\n",
        "            avg_tr_acc += get_accuracy(outputs, labels, BATCH_SIZE) / len(data_tr)\n",
        "\n",
        "            # free GPU memory\n",
        "            del inputs, labels, outputs, loss\n",
        "            torch.cuda.empty_cache()\n",
        "\n",
        "        model.eval() # testing mode\n",
        "        with torch.no_grad():\n",
        "            for data in data_val:\n",
        "                # get the inputs\n",
        "                inputs, labels = data\n",
        "\n",
        "                # data to device\n",
        "                inputs = inputs.to(device)\n",
        "                labels = labels.long().to(device)\n",
        "\n",
        "                # calculate loss\n",
        "                outputs = model(inputs)\n",
        "                loss = criterion(outputs, labels)\n",
        "\n",
        "                # update loss and accuracy\n",
        "                avg_val_loss += loss.item() / len(data_val)\n",
        "                avg_val_acc += get_accuracy(outputs, labels, BATCH_SIZE) / len(data_val)\n",
        "\n",
        "                # free GPU memory\n",
        "                del inputs, labels, outputs, loss\n",
        "                torch.cuda.empty_cache()\n",
        "        \n",
        "        # record epoch info\n",
        "        history.append((avg_tr_loss, avg_val_loss, avg_tr_acc, avg_val_acc))\n",
        "\n",
        "        lr_scheduler.step()\n",
        "\n",
        "        # show intermediate results\n",
        "        print('Epoch:  %d/%d | Train loss: %.4f | Train accuracy: %.2f | Val loss: %.4f | Val Accuracy: %.2f' \n",
        "                %(epoch + 1, num_epochs, avg_tr_loss, avg_tr_acc, avg_val_loss, avg_val_acc))\n",
        "\n",
        "    return history"
      ],
      "metadata": {
        "id": "XhQfSeXMMJF9"
      },
      "execution_count": 19,
      "outputs": []
    },
    {
      "cell_type": "code",
      "source": [
        "def visualize_histories(histories, legends, title=''):\n",
        "    colors = ['c', 'm', 'g', 'b', 'y', 'r']\n",
        "    subtitles = ['Train loss', 'Validation loss',\n",
        "                 'Train accuracy', 'Validation accuracy']\n",
        "\n",
        "    fig = plt.figure(figsize=(20, 12))\n",
        "    fig.suptitle(title, fontsize=16)\n",
        "\n",
        "    for num_plot in range(4):\n",
        "        plt.subplot(2, 2, num_plot + 1)\n",
        "        plt.title(subtitles[num_plot])\n",
        "        \n",
        "        for i, history in enumerate(histories):\n",
        "            data = [x[num_plot] for x in history]\n",
        "            plt.plot(data, 'go-', C=colors[i], linewidth=2, markersize=5, label=legends[i])\n",
        "\n",
        "        plt.legend(loc='best')\n",
        "        plt.xlabel('epochs')\n",
        "        plt.ylabel('loss' if num_plot <= 1 else 'accuracy')\n",
        "        plt.grid(True)\n",
        "\n",
        "    plt.show()"
      ],
      "metadata": {
        "id": "Z-JVuPV7888E"
      },
      "execution_count": 20,
      "outputs": []
    },
    {
      "cell_type": "code",
      "source": [
        "def evaluate_model(model, test_data):\n",
        "    avg_test_loss = avg_test_acc = 0\n",
        "    model.eval() # testing mode\n",
        "    with torch.no_grad():\n",
        "        for data in test_data:\n",
        "            # get the inputs\n",
        "            inputs, labels = data\n",
        "\n",
        "            # data to device\n",
        "            inputs = inputs.to(device)\n",
        "            labels = labels.long().to(device)\n",
        "\n",
        "            # calculate loss\n",
        "            outputs = model(inputs)\n",
        "            loss = criterion(outputs, labels)\n",
        "\n",
        "            # update loss and accuracy\n",
        "            avg_test_loss += loss.item() / len(test_data)\n",
        "            avg_test_acc += get_accuracy(outputs, labels, BATCH_SIZE) / len(test_data)\n",
        "\n",
        "            # free GPU memory\n",
        "            del inputs, labels, outputs, loss\n",
        "            torch.cuda.empty_cache()\n",
        "\n",
        "    print('Test loss: %.4f | Test accuracy: %.2f' %(avg_test_loss, avg_test_acc))\n",
        "    #return avg_test_loss, avg_test_acc"
      ],
      "metadata": {
        "id": "3vxtxfget7Gp"
      },
      "execution_count": 36,
      "outputs": []
    },
    {
      "cell_type": "markdown",
      "source": [
        "## Обучение простых RNN"
      ],
      "metadata": {
        "id": "0cKdhpJD-u1r"
      }
    },
    {
      "cell_type": "code",
      "source": [
        "model = RNN(INPUT_DIM, EMBEDDING_DIM, HIDDEN_DIM, OUTPUT_DIM, BATCH_SIZE).to(device)\n",
        "optimizer = torch.optim.Adam(model.parameters(), lr=0.001)\n",
        "lr_scheduler = torch.optim.lr_scheduler.MultiplicativeLR(optimizer, lambda x: 0.9825)\n",
        "criterion = nn.CrossEntropyLoss()\n",
        "\n",
        "history_unidir_1_layer = train(model, optimizer, lr_scheduler, criterion, NUM_EPOCHS, train_iterator, valid_iterator)"
      ],
      "metadata": {
        "id": "ry2J5k281Dzx",
        "colab": {
          "base_uri": "https://localhost:8080/"
        },
        "outputId": "652126be-51b3-41b0-9912-9ee5622e5a4f"
      },
      "execution_count": null,
      "outputs": [
        {
          "output_type": "stream",
          "name": "stdout",
          "text": [
            "Epoch:  1/15 | Train loss: 0.6995 | Train accuracy: 49.82 | Val loss: 0.7054 | Val Accuracy: 51.13\n",
            "Epoch:  2/15 | Train loss: 0.6942 | Train accuracy: 50.34 | Val loss: 0.7027 | Val Accuracy: 51.48\n",
            "Epoch:  3/15 | Train loss: 0.6934 | Train accuracy: 49.42 | Val loss: 0.7049 | Val Accuracy: 50.66\n",
            "Epoch:  4/15 | Train loss: 0.6931 | Train accuracy: 50.24 | Val loss: 0.7015 | Val Accuracy: 49.87\n",
            "Epoch:  5/15 | Train loss: 0.6921 | Train accuracy: 49.89 | Val loss: 0.7185 | Val Accuracy: 50.81\n",
            "Epoch:  6/15 | Train loss: 0.6909 | Train accuracy: 50.82 | Val loss: 0.7304 | Val Accuracy: 49.40\n",
            "Epoch:  7/15 | Train loss: 0.6904 | Train accuracy: 50.28 | Val loss: 0.7240 | Val Accuracy: 50.62\n",
            "Epoch:  8/15 | Train loss: 0.6914 | Train accuracy: 50.47 | Val loss: 0.7279 | Val Accuracy: 50.28\n",
            "Epoch:  9/15 | Train loss: 0.6920 | Train accuracy: 50.40 | Val loss: 0.7258 | Val Accuracy: 49.35\n",
            "Epoch:  10/15 | Train loss: 0.6909 | Train accuracy: 50.19 | Val loss: 0.7403 | Val Accuracy: 50.65\n",
            "Epoch:  11/15 | Train loss: 0.6892 | Train accuracy: 50.36 | Val loss: 0.7566 | Val Accuracy: 49.81\n",
            "Epoch:  12/15 | Train loss: 0.6885 | Train accuracy: 50.77 | Val loss: 0.7541 | Val Accuracy: 50.91\n",
            "Epoch:  13/15 | Train loss: 0.6891 | Train accuracy: 50.10 | Val loss: 0.7465 | Val Accuracy: 50.26\n",
            "Epoch:  14/15 | Train loss: 0.6890 | Train accuracy: 49.99 | Val loss: 0.7492 | Val Accuracy: 49.97\n",
            "Epoch:  15/15 | Train loss: 0.6876 | Train accuracy: 49.81 | Val loss: 0.7646 | Val Accuracy: 51.20\n"
          ]
        }
      ]
    },
    {
      "cell_type": "code",
      "source": [
        "model = RNN(INPUT_DIM, EMBEDDING_DIM, HIDDEN_DIM, OUTPUT_DIM, BATCH_SIZE, bidirectional=True, num_layers=1).to(device)\n",
        "optimizer = torch.optim.Adam(model.parameters(), lr=0.001)\n",
        "lr_scheduler = torch.optim.lr_scheduler.MultiplicativeLR(optimizer, lambda x: 0.9825)\n",
        "criterion = nn.CrossEntropyLoss()\n",
        "\n",
        "history_bidir_1_layer = train(model, optimizer, lr_scheduler, criterion, NUM_EPOCHS, train_iterator, valid_iterator)"
      ],
      "metadata": {
        "colab": {
          "base_uri": "https://localhost:8080/"
        },
        "id": "ng01aHNpij84",
        "outputId": "def38822-b9ab-40c1-e64f-cdfd71b0c5ca"
      },
      "execution_count": null,
      "outputs": [
        {
          "output_type": "stream",
          "name": "stdout",
          "text": [
            "Epoch:  1/15 | Train loss: 0.6907 | Train accuracy: 54.43 | Val loss: 0.6628 | Val Accuracy: 59.65\n",
            "Epoch:  2/15 | Train loss: 0.6462 | Train accuracy: 62.51 | Val loss: 0.6585 | Val Accuracy: 60.08\n",
            "Epoch:  3/15 | Train loss: 0.5954 | Train accuracy: 68.20 | Val loss: 0.6243 | Val Accuracy: 67.84\n",
            "Epoch:  4/15 | Train loss: 0.5563 | Train accuracy: 70.64 | Val loss: 0.6388 | Val Accuracy: 64.17\n",
            "Epoch:  5/15 | Train loss: 0.5559 | Train accuracy: 70.40 | Val loss: 0.6497 | Val Accuracy: 65.25\n",
            "Epoch:  6/15 | Train loss: 0.4620 | Train accuracy: 78.83 | Val loss: 0.6620 | Val Accuracy: 65.51\n",
            "Epoch:  7/15 | Train loss: 0.4038 | Train accuracy: 82.06 | Val loss: 0.6253 | Val Accuracy: 73.56\n",
            "Epoch:  8/15 | Train loss: 0.4466 | Train accuracy: 78.84 | Val loss: 0.6619 | Val Accuracy: 70.31\n",
            "Epoch:  9/15 | Train loss: 0.5583 | Train accuracy: 70.99 | Val loss: 0.8431 | Val Accuracy: 54.00\n",
            "Epoch:  10/15 | Train loss: 0.5300 | Train accuracy: 72.48 | Val loss: 0.7347 | Val Accuracy: 53.36\n",
            "Epoch:  11/15 | Train loss: 0.6071 | Train accuracy: 65.52 | Val loss: 0.7602 | Val Accuracy: 56.75\n",
            "Epoch:  12/15 | Train loss: 0.5507 | Train accuracy: 70.45 | Val loss: 0.7659 | Val Accuracy: 58.18\n",
            "Epoch:  13/15 | Train loss: 0.4695 | Train accuracy: 76.89 | Val loss: 0.8729 | Val Accuracy: 58.49\n",
            "Epoch:  14/15 | Train loss: 0.4220 | Train accuracy: 80.13 | Val loss: 0.7102 | Val Accuracy: 71.54\n",
            "Epoch:  15/15 | Train loss: 0.3334 | Train accuracy: 85.55 | Val loss: 0.7664 | Val Accuracy: 69.73\n"
          ]
        }
      ]
    },
    {
      "cell_type": "code",
      "source": [
        "model = RNN(INPUT_DIM, EMBEDDING_DIM, HIDDEN_DIM, OUTPUT_DIM, BATCH_SIZE, bidirectional=False, num_layers=2).to(device)\n",
        "optimizer = torch.optim.Adam(model.parameters(), lr=0.001)\n",
        "lr_scheduler = torch.optim.lr_scheduler.MultiplicativeLR(optimizer, lambda x: 0.9825)\n",
        "criterion = nn.CrossEntropyLoss()\n",
        "\n",
        "history_unidir_2_layers = train(model, optimizer, lr_scheduler, criterion, NUM_EPOCHS, train_iterator, valid_iterator)"
      ],
      "metadata": {
        "colab": {
          "base_uri": "https://localhost:8080/"
        },
        "id": "qmyLlx4L2lpg",
        "outputId": "0ec5d8b3-ba30-487a-c1b0-055ebfbf6893"
      },
      "execution_count": null,
      "outputs": [
        {
          "output_type": "stream",
          "name": "stdout",
          "text": [
            "Epoch:  1/15 | Train loss: 0.6973 | Train accuracy: 49.95 | Val loss: 0.7082 | Val Accuracy: 48.33\n",
            "Epoch:  2/15 | Train loss: 0.6953 | Train accuracy: 49.94 | Val loss: 0.7024 | Val Accuracy: 49.46\n",
            "Epoch:  3/15 | Train loss: 0.6982 | Train accuracy: 50.32 | Val loss: 0.7042 | Val Accuracy: 49.23\n",
            "Epoch:  4/15 | Train loss: 0.6933 | Train accuracy: 50.47 | Val loss: 0.7084 | Val Accuracy: 49.10\n",
            "Epoch:  5/15 | Train loss: 0.6942 | Train accuracy: 50.22 | Val loss: 0.7079 | Val Accuracy: 50.48\n",
            "Epoch:  6/15 | Train loss: 0.6945 | Train accuracy: 50.63 | Val loss: 0.7191 | Val Accuracy: 50.37\n",
            "Epoch:  7/15 | Train loss: 0.6926 | Train accuracy: 50.35 | Val loss: 0.7243 | Val Accuracy: 49.88\n",
            "Epoch:  8/15 | Train loss: 0.6978 | Train accuracy: 50.62 | Val loss: 0.7156 | Val Accuracy: 49.75\n",
            "Epoch:  9/15 | Train loss: 0.6946 | Train accuracy: 50.47 | Val loss: 0.7290 | Val Accuracy: 50.15\n",
            "Epoch:  10/15 | Train loss: 0.6915 | Train accuracy: 50.75 | Val loss: 0.7430 | Val Accuracy: 49.40\n",
            "Epoch:  11/15 | Train loss: 0.6941 | Train accuracy: 50.83 | Val loss: 0.7619 | Val Accuracy: 49.05\n",
            "Epoch:  12/15 | Train loss: 0.6950 | Train accuracy: 50.35 | Val loss: 0.7623 | Val Accuracy: 49.19\n",
            "Epoch:  13/15 | Train loss: 0.6895 | Train accuracy: 50.49 | Val loss: 0.7704 | Val Accuracy: 50.65\n",
            "Epoch:  14/15 | Train loss: 0.6900 | Train accuracy: 50.44 | Val loss: 0.7616 | Val Accuracy: 50.30\n",
            "Epoch:  15/15 | Train loss: 0.6884 | Train accuracy: 50.40 | Val loss: 0.7701 | Val Accuracy: 49.60\n"
          ]
        }
      ]
    },
    {
      "cell_type": "code",
      "source": [
        "model = RNN(INPUT_DIM, EMBEDDING_DIM, HIDDEN_DIM, OUTPUT_DIM, BATCH_SIZE, bidirectional=True, num_layers=2).to(device)\n",
        "optimizer = torch.optim.Adam(model.parameters(), lr=0.001)\n",
        "lr_scheduler = torch.optim.lr_scheduler.MultiplicativeLR(optimizer, lambda x: 0.9825)\n",
        "criterion = nn.CrossEntropyLoss()\n",
        "\n",
        "history_bidir_2_layers = train(model, optimizer, lr_scheduler, criterion, NUM_EPOCHS, train_iterator, valid_iterator)"
      ],
      "metadata": {
        "colab": {
          "base_uri": "https://localhost:8080/"
        },
        "id": "V17p_Jy4GJXC",
        "outputId": "d62e1306-7a9c-4c16-cece-29c81ce0b15b"
      },
      "execution_count": null,
      "outputs": [
        {
          "output_type": "stream",
          "name": "stdout",
          "text": [
            "Epoch:  1/15 | Train loss: 0.6976 | Train accuracy: 53.70 | Val loss: 0.6806 | Val Accuracy: 55.47\n",
            "Epoch:  2/15 | Train loss: 0.6633 | Train accuracy: 60.05 | Val loss: 0.7626 | Val Accuracy: 56.87\n",
            "Epoch:  3/15 | Train loss: 0.6191 | Train accuracy: 65.82 | Val loss: 0.6848 | Val Accuracy: 57.08\n",
            "Epoch:  4/15 | Train loss: 0.6009 | Train accuracy: 67.07 | Val loss: 0.6911 | Val Accuracy: 58.02\n",
            "Epoch:  5/15 | Train loss: 0.5645 | Train accuracy: 70.57 | Val loss: 0.6485 | Val Accuracy: 64.94\n",
            "Epoch:  6/15 | Train loss: 0.4984 | Train accuracy: 75.82 | Val loss: 0.6811 | Val Accuracy: 66.14\n",
            "Epoch:  7/15 | Train loss: 0.4215 | Train accuracy: 81.07 | Val loss: 0.6285 | Val Accuracy: 71.45\n",
            "Epoch:  8/15 | Train loss: 0.3588 | Train accuracy: 84.45 | Val loss: 0.6571 | Val Accuracy: 70.38\n",
            "Epoch:  9/15 | Train loss: 0.3042 | Train accuracy: 87.43 | Val loss: 0.7149 | Val Accuracy: 71.11\n",
            "Epoch:  10/15 | Train loss: 0.2385 | Train accuracy: 90.81 | Val loss: 0.7671 | Val Accuracy: 71.48\n",
            "Epoch:  11/15 | Train loss: 0.2022 | Train accuracy: 92.23 | Val loss: 0.8036 | Val Accuracy: 70.58\n",
            "Epoch:  12/15 | Train loss: 0.1747 | Train accuracy: 93.31 | Val loss: 0.8537 | Val Accuracy: 71.13\n",
            "Epoch:  13/15 | Train loss: 0.1394 | Train accuracy: 94.86 | Val loss: 0.9367 | Val Accuracy: 72.79\n",
            "Epoch:  14/15 | Train loss: 0.1191 | Train accuracy: 95.84 | Val loss: 1.0228 | Val Accuracy: 72.92\n",
            "Epoch:  15/15 | Train loss: 0.1068 | Train accuracy: 96.06 | Val loss: 1.1706 | Val Accuracy: 67.27\n"
          ]
        }
      ]
    },
    {
      "cell_type": "code",
      "source": [
        "visualize_histories([history_unidir_1_layer, history_bidir_1_layer, history_unidir_2_layers, history_bidir_2_layers],\n",
        "                    ['Unidirectional / 1 layer', 'Bidirectional / 1 layer', 'Unidirectional / 2 layers', 'Bidirectional / 2 layers'],\n",
        "                    title='RNN Models Comparison')"
      ],
      "metadata": {
        "colab": {
          "base_uri": "https://localhost:8080/",
          "height": 796
        },
        "id": "VgP6_sYWEaLy",
        "outputId": "149e194a-6716-4cac-d5f1-92f1d6d1b11c"
      },
      "execution_count": null,
      "outputs": [
        {
          "output_type": "display_data",
          "data": {
            "text/plain": [
              "<Figure size 1440x864 with 4 Axes>"
            ],
            "image/png": "[encoded data removed]"
          },
          "metadata": {
            "needs_background": "light"
          }
        }
      ]
    },
    {
      "cell_type": "markdown",
      "source": [
        "#### Видим, что двунаправенность даёт намного больший прирост в качестве, чем увеличение слоёв RNN, при этом два слоя при bidirectional всё же чуть лучше, чем 1.\n",
        "\n",
        "#### Попробуем теперь обучить другие архитектуры."
      ],
      "metadata": {
        "id": "HJUWO_rX_CLe"
      }
    },
    {
      "cell_type": "markdown",
      "source": [
        "## Обучение LSTM и GRU"
      ],
      "metadata": {
        "id": "Jqf5LKIP_tLN"
      }
    },
    {
      "cell_type": "code",
      "source": [
        "model = RNN(INPUT_DIM, EMBEDDING_DIM, HIDDEN_DIM, OUTPUT_DIM, BATCH_SIZE, mode='LSTM', bidirectional=True, num_layers=2).to(device)\n",
        "optimizer = torch.optim.Adam(model.parameters(), lr=0.001)\n",
        "lr_scheduler = torch.optim.lr_scheduler.MultiplicativeLR(optimizer, lambda x: 0.9825)\n",
        "criterion = nn.CrossEntropyLoss()\n",
        "\n",
        "history_lstm_bidir_2_layers = train(model, optimizer, lr_scheduler, criterion, NUM_EPOCHS, train_iterator, valid_iterator)"
      ],
      "metadata": {
        "colab": {
          "base_uri": "https://localhost:8080/"
        },
        "id": "fGB05FNKQLG6",
        "outputId": "efb268de-dcab-4776-cf09-c52b82d4b602"
      },
      "execution_count": null,
      "outputs": [
        {
          "output_type": "stream",
          "name": "stdout",
          "text": [
            "Epoch:  1/15 | Train loss: 0.6602 | Train accuracy: 59.36 | Val loss: 0.5994 | Val Accuracy: 66.58\n",
            "Epoch:  2/15 | Train loss: 0.5672 | Train accuracy: 71.36 | Val loss: 0.5910 | Val Accuracy: 67.92\n",
            "Epoch:  3/15 | Train loss: 0.5018 | Train accuracy: 75.80 | Val loss: 0.5246 | Val Accuracy: 77.22\n",
            "Epoch:  4/15 | Train loss: 0.3905 | Train accuracy: 83.23 | Val loss: 0.4526 | Val Accuracy: 79.98\n",
            "Epoch:  5/15 | Train loss: 0.3210 | Train accuracy: 87.00 | Val loss: 0.5097 | Val Accuracy: 76.40\n",
            "Epoch:  6/15 | Train loss: 0.2515 | Train accuracy: 90.03 | Val loss: 0.4467 | Val Accuracy: 80.24\n",
            "Epoch:  7/15 | Train loss: 0.2013 | Train accuracy: 92.38 | Val loss: 0.5119 | Val Accuracy: 82.26\n",
            "Epoch:  8/15 | Train loss: 0.1384 | Train accuracy: 94.81 | Val loss: 0.6068 | Val Accuracy: 81.48\n",
            "Epoch:  9/15 | Train loss: 0.1065 | Train accuracy: 96.14 | Val loss: 0.6329 | Val Accuracy: 81.24\n",
            "Epoch:  10/15 | Train loss: 0.0650 | Train accuracy: 97.58 | Val loss: 0.7648 | Val Accuracy: 80.44\n",
            "Epoch:  11/15 | Train loss: 0.0590 | Train accuracy: 97.76 | Val loss: 0.7593 | Val Accuracy: 75.79\n",
            "Epoch:  12/15 | Train loss: 0.0768 | Train accuracy: 97.13 | Val loss: 0.7585 | Val Accuracy: 80.36\n",
            "Epoch:  13/15 | Train loss: 0.0342 | Train accuracy: 98.67 | Val loss: 0.9535 | Val Accuracy: 81.33\n",
            "Epoch:  14/15 | Train loss: 0.0159 | Train accuracy: 99.32 | Val loss: 1.1281 | Val Accuracy: 81.93\n",
            "Epoch:  15/15 | Train loss: 0.0087 | Train accuracy: 99.58 | Val loss: 1.2201 | Val Accuracy: 82.18\n"
          ]
        }
      ]
    },
    {
      "cell_type": "code",
      "source": [
        "model = RNN(INPUT_DIM, EMBEDDING_DIM, HIDDEN_DIM, OUTPUT_DIM, BATCH_SIZE, mode='GRU', bidirectional=True, num_layers=2).to(device)\n",
        "optimizer = torch.optim.Adam(model.parameters(), lr=0.001)\n",
        "lr_scheduler = torch.optim.lr_scheduler.MultiplicativeLR(optimizer, lambda x: 0.9825)\n",
        "criterion = nn.CrossEntropyLoss()\n",
        "\n",
        "history_gru_bidir_2_layers = train(model, optimizer, lr_scheduler, criterion, NUM_EPOCHS, train_iterator, valid_iterator)"
      ],
      "metadata": {
        "colab": {
          "base_uri": "https://localhost:8080/"
        },
        "id": "fDpWZcTUXjjI",
        "outputId": "6f85610d-41c2-4bf1-f6dc-efa0ac3b4283"
      },
      "execution_count": null,
      "outputs": [
        {
          "output_type": "stream",
          "name": "stdout",
          "text": [
            "Epoch:  1/15 | Train loss: 0.6708 | Train accuracy: 58.23 | Val loss: 0.6409 | Val Accuracy: 62.41\n",
            "Epoch:  2/15 | Train loss: 0.4941 | Train accuracy: 75.17 | Val loss: 0.4069 | Val Accuracy: 80.95\n",
            "Epoch:  3/15 | Train loss: 0.2732 | Train accuracy: 88.71 | Val loss: 0.3441 | Val Accuracy: 84.52\n",
            "Epoch:  4/15 | Train loss: 0.1745 | Train accuracy: 93.20 | Val loss: 0.3064 | Val Accuracy: 86.80\n",
            "Epoch:  5/15 | Train loss: 0.1007 | Train accuracy: 96.32 | Val loss: 0.3981 | Val Accuracy: 85.75\n",
            "Epoch:  6/15 | Train loss: 0.0571 | Train accuracy: 97.84 | Val loss: 0.4450 | Val Accuracy: 85.57\n",
            "Epoch:  7/15 | Train loss: 0.0242 | Train accuracy: 99.02 | Val loss: 0.5158 | Val Accuracy: 85.39\n",
            "Epoch:  8/15 | Train loss: 0.0155 | Train accuracy: 99.33 | Val loss: 0.5825 | Val Accuracy: 86.43\n",
            "Epoch:  9/15 | Train loss: 0.0181 | Train accuracy: 99.16 | Val loss: 0.5738 | Val Accuracy: 86.28\n",
            "Epoch:  10/15 | Train loss: 0.0128 | Train accuracy: 99.37 | Val loss: 0.5877 | Val Accuracy: 86.31\n",
            "Epoch:  11/15 | Train loss: 0.0079 | Train accuracy: 99.53 | Val loss: 0.6720 | Val Accuracy: 86.49\n",
            "Epoch:  12/15 | Train loss: 0.0130 | Train accuracy: 99.31 | Val loss: 0.6198 | Val Accuracy: 86.51\n",
            "Epoch:  13/15 | Train loss: 0.0088 | Train accuracy: 99.53 | Val loss: 0.6276 | Val Accuracy: 86.65\n",
            "Epoch:  14/15 | Train loss: 0.0027 | Train accuracy: 99.72 | Val loss: 0.6601 | Val Accuracy: 87.24\n",
            "Epoch:  15/15 | Train loss: 0.0026 | Train accuracy: 99.71 | Val loss: 0.6400 | Val Accuracy: 86.68\n"
          ]
        }
      ]
    },
    {
      "cell_type": "code",
      "source": [
        "visualize_histories([history_bidir_2_layers, history_lstm_bidir_2_layers, history_gru_bidir_2_layers],\n",
        "                    ['RNN', 'LSTM', 'GRU'],\n",
        "                    title='Models Comparison (bidirectional / 2 layers)')"
      ],
      "metadata": {
        "colab": {
          "base_uri": "https://localhost:8080/",
          "height": 794
        },
        "id": "DVsxIOMzQLJd",
        "outputId": "186905dd-c3d0-44d7-8a2f-3ce633d848dc"
      },
      "execution_count": null,
      "outputs": [
        {
          "output_type": "display_data",
          "data": {
            "text/plain": [
              "<Figure size 1440x864 with 4 Axes>"
            ],
            "image/png": "[encoded data removed]"
          },
          "metadata": {
            "needs_background": "light"
          }
        }
      ]
    },
    {
      "cell_type": "markdown",
      "source": [
        "#### Здесь видим, что GRU при данных параметрах превосходит LSTM, которая, в свою очередь, сильно лучше простой RNN.\n",
        "\n",
        "#### Также можем видеть, что модели сильно переобучаются, поэтому попробуем дальше обучить GRU с dropout, чтобы хоть чуть-чуть понизить этот эффект."
      ],
      "metadata": {
        "id": "5rgsHs_S_0gW"
      }
    },
    {
      "cell_type": "markdown",
      "source": [
        "## Обучение GRU с разными параметрами"
      ],
      "metadata": {
        "id": "Iu33wln4AWa5"
      }
    },
    {
      "cell_type": "code",
      "source": [
        "model = RNN(INPUT_DIM, EMBEDDING_DIM, HIDDEN_DIM, OUTPUT_DIM, BATCH_SIZE,\n",
        "            mode='GRU', bidirectional=True, num_layers=3, dropout=0.3).to(device)\n",
        "optimizer = torch.optim.Adam(model.parameters(), lr=0.001)\n",
        "lr_scheduler = torch.optim.lr_scheduler.MultiplicativeLR(optimizer, lambda x: 0.9825)\n",
        "criterion = nn.CrossEntropyLoss()\n",
        "\n",
        "history_gru_3_layers_dropout_30 = train(model, optimizer, lr_scheduler, criterion, NUM_EPOCHS, train_iterator, valid_iterator)"
      ],
      "metadata": {
        "colab": {
          "base_uri": "https://localhost:8080/"
        },
        "id": "gAZD9KWMDoeR",
        "outputId": "3a41ab7c-f2c1-4cd8-f15c-8b10b1a98a45"
      },
      "execution_count": null,
      "outputs": [
        {
          "output_type": "stream",
          "name": "stdout",
          "text": [
            "Epoch:  1/15 | Train loss: 0.6714 | Train accuracy: 58.11 | Val loss: 0.5522 | Val Accuracy: 71.93\n",
            "Epoch:  2/15 | Train loss: 0.4182 | Train accuracy: 80.71 | Val loss: 0.3581 | Val Accuracy: 83.32\n",
            "Epoch:  3/15 | Train loss: 0.2445 | Train accuracy: 89.96 | Val loss: 0.3213 | Val Accuracy: 85.50\n",
            "Epoch:  4/15 | Train loss: 0.1614 | Train accuracy: 93.67 | Val loss: 0.3263 | Val Accuracy: 86.71\n",
            "Epoch:  5/15 | Train loss: 0.0983 | Train accuracy: 96.35 | Val loss: 0.3658 | Val Accuracy: 86.55\n",
            "Epoch:  6/15 | Train loss: 0.0470 | Train accuracy: 98.35 | Val loss: 0.4500 | Val Accuracy: 85.83\n",
            "Epoch:  7/15 | Train loss: 0.0264 | Train accuracy: 98.96 | Val loss: 0.5076 | Val Accuracy: 86.67\n",
            "Epoch:  8/15 | Train loss: 0.0177 | Train accuracy: 99.24 | Val loss: 0.5941 | Val Accuracy: 86.49\n",
            "Epoch:  9/15 | Train loss: 0.0133 | Train accuracy: 99.38 | Val loss: 0.6899 | Val Accuracy: 85.62\n",
            "Epoch:  10/15 | Train loss: 0.0150 | Train accuracy: 99.28 | Val loss: 0.6231 | Val Accuracy: 85.69\n",
            "Epoch:  11/15 | Train loss: 0.0065 | Train accuracy: 99.62 | Val loss: 0.6306 | Val Accuracy: 86.60\n",
            "Epoch:  12/15 | Train loss: 0.0101 | Train accuracy: 99.42 | Val loss: 0.6720 | Val Accuracy: 86.67\n",
            "Epoch:  13/15 | Train loss: 0.0112 | Train accuracy: 99.40 | Val loss: 0.6238 | Val Accuracy: 86.23\n",
            "Epoch:  14/15 | Train loss: 0.0085 | Train accuracy: 99.53 | Val loss: 0.7235 | Val Accuracy: 86.85\n",
            "Epoch:  15/15 | Train loss: 0.0021 | Train accuracy: 99.71 | Val loss: 0.7509 | Val Accuracy: 87.10\n"
          ]
        }
      ]
    },
    {
      "cell_type": "code",
      "source": [
        "model = RNN(INPUT_DIM, EMBEDDING_DIM, HIDDEN_DIM, OUTPUT_DIM, BATCH_SIZE,\n",
        "            mode='GRU', bidirectional=True, num_layers=2, dropout=0.6).to(device)\n",
        "optimizer = torch.optim.Adam(model.parameters(), lr=0.001)\n",
        "lr_scheduler = torch.optim.lr_scheduler.MultiplicativeLR(optimizer, lambda x: 0.9825)\n",
        "criterion = nn.CrossEntropyLoss()\n",
        "\n",
        "history_gru_2_layers_dropout_60 = train(model, optimizer, lr_scheduler, criterion, NUM_EPOCHS, train_iterator, valid_iterator)"
      ],
      "metadata": {
        "colab": {
          "base_uri": "https://localhost:8080/"
        },
        "id": "1zD-YTsha1fT",
        "outputId": "72f7e4d8-2c52-4fdc-a6a9-91f78eb4a534"
      },
      "execution_count": 22,
      "outputs": [
        {
          "output_type": "stream",
          "name": "stdout",
          "text": [
            "Epoch:  1/15 | Train loss: 0.6687 | Train accuracy: 58.49 | Val loss: 0.6101 | Val Accuracy: 65.84\n",
            "Epoch:  2/15 | Train loss: 0.4490 | Train accuracy: 79.03 | Val loss: 0.3525 | Val Accuracy: 84.28\n",
            "Epoch:  3/15 | Train loss: 0.2589 | Train accuracy: 89.42 | Val loss: 0.3164 | Val Accuracy: 85.82\n",
            "Epoch:  4/15 | Train loss: 0.1716 | Train accuracy: 93.32 | Val loss: 0.3355 | Val Accuracy: 85.70\n",
            "Epoch:  5/15 | Train loss: 0.1064 | Train accuracy: 96.04 | Val loss: 0.3583 | Val Accuracy: 86.76\n",
            "Epoch:  6/15 | Train loss: 0.0544 | Train accuracy: 98.15 | Val loss: 0.4190 | Val Accuracy: 86.24\n",
            "Epoch:  7/15 | Train loss: 0.0317 | Train accuracy: 98.80 | Val loss: 0.4806 | Val Accuracy: 86.11\n",
            "Epoch:  8/15 | Train loss: 0.0254 | Train accuracy: 99.02 | Val loss: 0.5062 | Val Accuracy: 87.17\n",
            "Epoch:  9/15 | Train loss: 0.0142 | Train accuracy: 99.37 | Val loss: 0.5382 | Val Accuracy: 87.10\n",
            "Epoch:  10/15 | Train loss: 0.0119 | Train accuracy: 99.45 | Val loss: 0.6244 | Val Accuracy: 87.38\n",
            "Epoch:  11/15 | Train loss: 0.0155 | Train accuracy: 99.30 | Val loss: 0.6992 | Val Accuracy: 85.88\n",
            "Epoch:  12/15 | Train loss: 0.0078 | Train accuracy: 99.57 | Val loss: 0.6632 | Val Accuracy: 87.39\n",
            "Epoch:  13/15 | Train loss: 0.0063 | Train accuracy: 99.63 | Val loss: 0.6198 | Val Accuracy: 87.37\n",
            "Epoch:  14/15 | Train loss: 0.0118 | Train accuracy: 99.42 | Val loss: 0.6256 | Val Accuracy: 87.66\n",
            "Epoch:  15/15 | Train loss: 0.0045 | Train accuracy: 99.66 | Val loss: 0.6459 | Val Accuracy: 87.53\n"
          ]
        }
      ]
    },
    {
      "cell_type": "code",
      "source": [
        "model = RNN(INPUT_DIM, EMBEDDING_DIM, HIDDEN_DIM, OUTPUT_DIM, BATCH_SIZE,\n",
        "            mode='GRU', bidirectional=True, num_layers=3, dropout=0.75).to(device)\n",
        "optimizer = torch.optim.Adam(model.parameters(), lr=0.001)\n",
        "lr_scheduler = torch.optim.lr_scheduler.MultiplicativeLR(optimizer, lambda x: 0.9825)\n",
        "criterion = nn.CrossEntropyLoss()\n",
        "\n",
        "history_gru_3_layers_dropout_75 = train(model, optimizer, lr_scheduler, criterion, NUM_EPOCHS, train_iterator, valid_iterator)"
      ],
      "metadata": {
        "id": "g7SYTPu9a1lp",
        "colab": {
          "base_uri": "https://localhost:8080/"
        },
        "outputId": "0e4c0061-a889-4cd2-80d6-c46443c25fcc"
      },
      "execution_count": 26,
      "outputs": [
        {
          "output_type": "stream",
          "name": "stdout",
          "text": [
            "Epoch:  1/15 | Train loss: 0.6631 | Train accuracy: 59.23 | Val loss: 0.6294 | Val Accuracy: 64.61\n",
            "Epoch:  2/15 | Train loss: 0.5427 | Train accuracy: 73.25 | Val loss: 0.5637 | Val Accuracy: 72.13\n",
            "Epoch:  3/15 | Train loss: 0.4258 | Train accuracy: 81.37 | Val loss: 0.4245 | Val Accuracy: 82.24\n",
            "Epoch:  4/15 | Train loss: 0.2928 | Train accuracy: 88.10 | Val loss: 0.3555 | Val Accuracy: 85.00\n",
            "Epoch:  5/15 | Train loss: 0.2032 | Train accuracy: 92.30 | Val loss: 0.3380 | Val Accuracy: 86.60\n",
            "Epoch:  6/15 | Train loss: 0.1325 | Train accuracy: 95.28 | Val loss: 0.3884 | Val Accuracy: 86.27\n",
            "Epoch:  7/15 | Train loss: 0.0875 | Train accuracy: 96.83 | Val loss: 0.4616 | Val Accuracy: 86.00\n",
            "Epoch:  8/15 | Train loss: 0.0553 | Train accuracy: 98.09 | Val loss: 0.5368 | Val Accuracy: 86.47\n",
            "Epoch:  9/15 | Train loss: 0.0321 | Train accuracy: 98.81 | Val loss: 0.5626 | Val Accuracy: 86.11\n",
            "Epoch:  10/15 | Train loss: 0.0258 | Train accuracy: 98.93 | Val loss: 0.7193 | Val Accuracy: 85.77\n",
            "Epoch:  11/15 | Train loss: 0.0198 | Train accuracy: 99.14 | Val loss: 0.7623 | Val Accuracy: 85.63\n",
            "Epoch:  12/15 | Train loss: 0.0147 | Train accuracy: 99.36 | Val loss: 0.8598 | Val Accuracy: 86.28\n",
            "Epoch:  13/15 | Train loss: 0.0100 | Train accuracy: 99.49 | Val loss: 0.8688 | Val Accuracy: 85.82\n",
            "Epoch:  14/15 | Train loss: 0.0163 | Train accuracy: 99.30 | Val loss: 0.8219 | Val Accuracy: 86.12\n",
            "Epoch:  15/15 | Train loss: 0.0113 | Train accuracy: 99.44 | Val loss: 0.8121 | Val Accuracy: 86.06\n"
          ]
        }
      ]
    },
    {
      "cell_type": "code",
      "source": [
        "visualize_histories([history_gru_3_layers_dropout_30, history_gru_2_layers_dropout_60, history_gru_3_layers_dropout_75],\n",
        "                    ['3 layers / dropout 0.3', '2 layers / dropout 0.6', '3 layers / dropout 0.75'],\n",
        "                    title='GRU Models Comparison')"
      ],
      "metadata": {
        "colab": {
          "base_uri": "https://localhost:8080/",
          "height": 801
        },
        "id": "FgUqvhOf2yhY",
        "outputId": "cf6f9148-a60d-4441-e497-5a9469f76d9d"
      },
      "execution_count": 34,
      "outputs": [
        {
          "output_type": "display_data",
          "data": {
            "text/plain": [
              "<Figure size 1440x864 with 4 Axes>"
            ],
            "image/png": "[encoded data removed]"
          },
          "metadata": {
            "needs_background": "light"
          }
        }
      ]
    },
    {
      "cell_type": "markdown",
      "source": [
        "#### Здесь можем видеть, что добавление ещё одного слоя не особо улучшает модель: только сильнее переобучение, даже с большим dropout'ом. Также видим, что модели начинают переобучаться уже после 2-4 слоя, поэтому долго их обучать смысла тоже нет.\n",
        "\n",
        "#### Обучим финальную модель и посмотрим на точность на тестовой выборке."
      ],
      "metadata": {
        "id": "BkpGelpUAjVO"
      }
    },
    {
      "cell_type": "markdown",
      "source": [
        "## Финальная модель и оценка качества"
      ],
      "metadata": {
        "id": "wZuNqPLpBYqq"
      }
    },
    {
      "cell_type": "code",
      "source": [
        "NUM_EPOCHS = 5\n",
        "\n",
        "model = RNN(INPUT_DIM, EMBEDDING_DIM, HIDDEN_DIM, OUTPUT_DIM, BATCH_SIZE,\n",
        "            mode='GRU', bidirectional=True, num_layers=2, dropout=0.7).to(device)\n",
        "optimizer = torch.optim.Adam(model.parameters(), lr=0.001)\n",
        "lr_scheduler = torch.optim.lr_scheduler.MultiplicativeLR(optimizer, lambda x: 0.9825)\n",
        "criterion = nn.CrossEntropyLoss()\n",
        "\n",
        "history_gru_2_layers_dropout_70 = train(model, optimizer, lr_scheduler, criterion, NUM_EPOCHS, train_iterator, valid_iterator)"
      ],
      "metadata": {
        "colab": {
          "base_uri": "https://localhost:8080/"
        },
        "id": "FiY5jY0U5L5M",
        "outputId": "c3e7ec89-733c-4dac-b5da-680a265c818e"
      },
      "execution_count": 44,
      "outputs": [
        {
          "output_type": "stream",
          "name": "stdout",
          "text": [
            "Epoch:  1/5 | Train loss: 0.6870 | Train accuracy: 55.66 | Val loss: 0.6628 | Val Accuracy: 59.84\n",
            "Epoch:  2/5 | Train loss: 0.5730 | Train accuracy: 69.38 | Val loss: 0.4553 | Val Accuracy: 78.99\n",
            "Epoch:  3/5 | Train loss: 0.3425 | Train accuracy: 84.89 | Val loss: 0.3213 | Val Accuracy: 86.10\n",
            "Epoch:  4/5 | Train loss: 0.2238 | Train accuracy: 90.85 | Val loss: 0.2870 | Val Accuracy: 87.69\n",
            "Epoch:  5/5 | Train loss: 0.1443 | Train accuracy: 94.57 | Val loss: 0.3270 | Val Accuracy: 86.69\n"
          ]
        }
      ]
    },
    {
      "cell_type": "code",
      "source": [
        "evaluate_model(model, test_iterator)"
      ],
      "metadata": {
        "colab": {
          "base_uri": "https://localhost:8080/"
        },
        "id": "B2ddEEa66KTF",
        "outputId": "2a734944-6457-4dde-e2ea-580856b25120"
      },
      "execution_count": 45,
      "outputs": [
        {
          "output_type": "stream",
          "name": "stdout",
          "text": [
            "Test loss: 0.3704 | Test accuracy: 85.23\n"
          ]
        }
      ]
    }
  ],
  "metadata": {
    "colab": {
      "collapsed_sections": [],
      "name": "RNN.ipynb",
      "provenance": []
    },
    "kernelspec": {
      "display_name": "Python 3",
      "language": "python",
      "name": "python3"
    },
    "language_info": {
      "codemirror_mode": {
        "name": "ipython",
        "version": 3
      },
      "file_extension": ".py",
      "mimetype": "text/x-python",
      "name": "python",
      "nbconvert_exporter": "python",
      "pygments_lexer": "ipython3",
      "version": "3.8.5"
    },
    "widgets": {
      "application/vnd.jupyter.widget-state+json": {
        "dc4740bcf32041e5968d754ea674571a": {
          "model_module": "@jupyter-widgets/controls",
          "model_name": "HBoxModel",
          "model_module_version": "1.5.0",
          "state": {
            "_dom_classes": [],
            "_model_module": "@jupyter-widgets/controls",
            "_model_module_version": "1.5.0",
            "_model_name": "HBoxModel",
            "_view_count": null,
            "_view_module": "@jupyter-widgets/controls",
            "_view_module_version": "1.5.0",
            "_view_name": "HBoxView",
            "box_style": "",
            "children": [
              "IPY_MODEL_02ee58cf5a234c4aa6f759027fcea4a1",
              "IPY_MODEL_135ace649af44b40a07cd890ea6fa361",
              "IPY_MODEL_a6eabfbada2d458a8d929e8b65ce98f1"
            ],
            "layout": "IPY_MODEL_01112619e8e74f37bb01f683f3ae2db0"
          }
        },
        "02ee58cf5a234c4aa6f759027fcea4a1": {
          "model_module": "@jupyter-widgets/controls",
          "model_name": "HTMLModel",
          "model_module_version": "1.5.0",
          "state": {
            "_dom_classes": [],
            "_model_module": "@jupyter-widgets/controls",
            "_model_module_version": "1.5.0",
            "_model_name": "HTMLModel",
            "_view_count": null,
            "_view_module": "@jupyter-widgets/controls",
            "_view_module_version": "1.5.0",
            "_view_name": "HTMLView",
            "description": "",
            "description_tooltip": null,
            "layout": "IPY_MODEL_8544df1d3ebe4c819df2638615a9cb39",
            "placeholder": "​",
            "style": "IPY_MODEL_1628b4e21db64d849e0fed3f6878d6b5",
            "value": ""
          }
        },
        "135ace649af44b40a07cd890ea6fa361": {
          "model_module": "@jupyter-widgets/controls",
          "model_name": "FloatProgressModel",
          "model_module_version": "1.5.0",
          "state": {
            "_dom_classes": [],
            "_model_module": "@jupyter-widgets/controls",
            "_model_module_version": "1.5.0",
            "_model_name": "FloatProgressModel",
            "_view_count": null,
            "_view_module": "@jupyter-widgets/controls",
            "_view_module_version": "1.5.0",
            "_view_name": "ProgressView",
            "bar_style": "success",
            "description": "",
            "description_tooltip": null,
            "layout": "IPY_MODEL_c56b4730d39b4bad810039a24003840d",
            "max": 9912422,
            "min": 0,
            "orientation": "horizontal",
            "style": "IPY_MODEL_d322006c57704268b2d3164b32b7eb72",
            "value": 9912422
          }
        },
        "a6eabfbada2d458a8d929e8b65ce98f1": {
          "model_module": "@jupyter-widgets/controls",
          "model_name": "HTMLModel",
          "model_module_version": "1.5.0",
          "state": {
            "_dom_classes": [],
            "_model_module": "@jupyter-widgets/controls",
            "_model_module_version": "1.5.0",
            "_model_name": "HTMLModel",
            "_view_count": null,
            "_view_module": "@jupyter-widgets/controls",
            "_view_module_version": "1.5.0",
            "_view_name": "HTMLView",
            "description": "",
            "description_tooltip": null,
            "layout": "IPY_MODEL_517a96820e2e4f688d62b1ca88074f1a",
            "placeholder": "​",
            "style": "IPY_MODEL_88520c352d7d48deb049354121b55dec",
            "value": " 9913344/? [00:00&lt;00:00, 6658453.62it/s]"
          }
        },
        "01112619e8e74f37bb01f683f3ae2db0": {
          "model_module": "@jupyter-widgets/base",
          "model_name": "LayoutModel",
          "model_module_version": "1.2.0",
          "state": {
            "_model_module": "@jupyter-widgets/base",
            "_model_module_version": "1.2.0",
            "_model_name": "LayoutModel",
            "_view_count": null,
            "_view_module": "@jupyter-widgets/base",
            "_view_module_version": "1.2.0",
            "_view_name": "LayoutView",
            "align_content": null,
            "align_items": null,
            "align_self": null,
            "border": null,
            "bottom": null,
            "display": null,
            "flex": null,
            "flex_flow": null,
            "grid_area": null,
            "grid_auto_columns": null,
            "grid_auto_flow": null,
            "grid_auto_rows": null,
            "grid_column": null,
            "grid_gap": null,
            "grid_row": null,
            "grid_template_areas": null,
            "grid_template_columns": null,
            "grid_template_rows": null,
            "height": null,
            "justify_content": null,
            "justify_items": null,
            "left": null,
            "margin": null,
            "max_height": null,
            "max_width": null,
            "min_height": null,
            "min_width": null,
            "object_fit": null,
            "object_position": null,
            "order": null,
            "overflow": null,
            "overflow_x": null,
            "overflow_y": null,
            "padding": null,
            "right": null,
            "top": null,
            "visibility": null,
            "width": null
          }
        },
        "8544df1d3ebe4c819df2638615a9cb39": {
          "model_module": "@jupyter-widgets/base",
          "model_name": "LayoutModel",
          "model_module_version": "1.2.0",
          "state": {
            "_model_module": "@jupyter-widgets/base",
            "_model_module_version": "1.2.0",
            "_model_name": "LayoutModel",
            "_view_count": null,
            "_view_module": "@jupyter-widgets/base",
            "_view_module_version": "1.2.0",
            "_view_name": "LayoutView",
            "align_content": null,
            "align_items": null,
            "align_self": null,
            "border": null,
            "bottom": null,
            "display": null,
            "flex": null,
            "flex_flow": null,
            "grid_area": null,
            "grid_auto_columns": null,
            "grid_auto_flow": null,
            "grid_auto_rows": null,
            "grid_column": null,
            "grid_gap": null,
            "grid_row": null,
            "grid_template_areas": null,
            "grid_template_columns": null,
            "grid_template_rows": null,
            "height": null,
            "justify_content": null,
            "justify_items": null,
            "left": null,
            "margin": null,
            "max_height": null,
            "max_width": null,
            "min_height": null,
            "min_width": null,
            "object_fit": null,
            "object_position": null,
            "order": null,
            "overflow": null,
            "overflow_x": null,
            "overflow_y": null,
            "padding": null,
            "right": null,
            "top": null,
            "visibility": null,
            "width": null
          }
        },
        "1628b4e21db64d849e0fed3f6878d6b5": {
          "model_module": "@jupyter-widgets/controls",
          "model_name": "DescriptionStyleModel",
          "model_module_version": "1.5.0",
          "state": {
            "_model_module": "@jupyter-widgets/controls",
            "_model_module_version": "1.5.0",
            "_model_name": "DescriptionStyleModel",
            "_view_count": null,
            "_view_module": "@jupyter-widgets/base",
            "_view_module_version": "1.2.0",
            "_view_name": "StyleView",
            "description_width": ""
          }
        },
        "c56b4730d39b4bad810039a24003840d": {
          "model_module": "@jupyter-widgets/base",
          "model_name": "LayoutModel",
          "model_module_version": "1.2.0",
          "state": {
            "_model_module": "@jupyter-widgets/base",
            "_model_module_version": "1.2.0",
            "_model_name": "LayoutModel",
            "_view_count": null,
            "_view_module": "@jupyter-widgets/base",
            "_view_module_version": "1.2.0",
            "_view_name": "LayoutView",
            "align_content": null,
            "align_items": null,
            "align_self": null,
            "border": null,
            "bottom": null,
            "display": null,
            "flex": null,
            "flex_flow": null,
            "grid_area": null,
            "grid_auto_columns": null,
            "grid_auto_flow": null,
            "grid_auto_rows": null,
            "grid_column": null,
            "grid_gap": null,
            "grid_row": null,
            "grid_template_areas": null,
            "grid_template_columns": null,
            "grid_template_rows": null,
            "height": null,
            "justify_content": null,
            "justify_items": null,
            "left": null,
            "margin": null,
            "max_height": null,
            "max_width": null,
            "min_height": null,
            "min_width": null,
            "object_fit": null,
            "object_position": null,
            "order": null,
            "overflow": null,
            "overflow_x": null,
            "overflow_y": null,
            "padding": null,
            "right": null,
            "top": null,
            "visibility": null,
            "width": null
          }
        },
        "d322006c57704268b2d3164b32b7eb72": {
          "model_module": "@jupyter-widgets/controls",
          "model_name": "ProgressStyleModel",
          "model_module_version": "1.5.0",
          "state": {
            "_model_module": "@jupyter-widgets/controls",
            "_model_module_version": "1.5.0",
            "_model_name": "ProgressStyleModel",
            "_view_count": null,
            "_view_module": "@jupyter-widgets/base",
            "_view_module_version": "1.2.0",
            "_view_name": "StyleView",
            "bar_color": null,
            "description_width": ""
          }
        },
        "517a96820e2e4f688d62b1ca88074f1a": {
          "model_module": "@jupyter-widgets/base",
          "model_name": "LayoutModel",
          "model_module_version": "1.2.0",
          "state": {
            "_model_module": "@jupyter-widgets/base",
            "_model_module_version": "1.2.0",
            "_model_name": "LayoutModel",
            "_view_count": null,
            "_view_module": "@jupyter-widgets/base",
            "_view_module_version": "1.2.0",
            "_view_name": "LayoutView",
            "align_content": null,
            "align_items": null,
            "align_self": null,
            "border": null,
            "bottom": null,
            "display": null,
            "flex": null,
            "flex_flow": null,
            "grid_area": null,
            "grid_auto_columns": null,
            "grid_auto_flow": null,
            "grid_auto_rows": null,
            "grid_column": null,
            "grid_gap": null,
            "grid_row": null,
            "grid_template_areas": null,
            "grid_template_columns": null,
            "grid_template_rows": null,
            "height": null,
            "justify_content": null,
            "justify_items": null,
            "left": null,
            "margin": null,
            "max_height": null,
            "max_width": null,
            "min_height": null,
            "min_width": null,
            "object_fit": null,
            "object_position": null,
            "order": null,
            "overflow": null,
            "overflow_x": null,
            "overflow_y": null,
            "padding": null,
            "right": null,
            "top": null,
            "visibility": null,
            "width": null
          }
        },
        "88520c352d7d48deb049354121b55dec": {
          "model_module": "@jupyter-widgets/controls",
          "model_name": "DescriptionStyleModel",
          "model_module_version": "1.5.0",
          "state": {
            "_model_module": "@jupyter-widgets/controls",
            "_model_module_version": "1.5.0",
            "_model_name": "DescriptionStyleModel",
            "_view_count": null,
            "_view_module": "@jupyter-widgets/base",
            "_view_module_version": "1.2.0",
            "_view_name": "StyleView",
            "description_width": ""
          }
        },
        "9d5d305daa1d49a7b2110af66f3b394b": {
          "model_module": "@jupyter-widgets/controls",
          "model_name": "HBoxModel",
          "model_module_version": "1.5.0",
          "state": {
            "_dom_classes": [],
            "_model_module": "@jupyter-widgets/controls",
            "_model_module_version": "1.5.0",
            "_model_name": "HBoxModel",
            "_view_count": null,
            "_view_module": "@jupyter-widgets/controls",
            "_view_module_version": "1.5.0",
            "_view_name": "HBoxView",
            "box_style": "",
            "children": [
              "IPY_MODEL_47fae07bc3534f50bd3283353398c4c5",
              "IPY_MODEL_825329b1ebff41b29b869e2497ca8159",
              "IPY_MODEL_3345bb35c8c442f2bdabfd97b9003f39"
            ],
            "layout": "IPY_MODEL_465454e3de67419c965011ceb02ec271"
          }
        },
        "47fae07bc3534f50bd3283353398c4c5": {
          "model_module": "@jupyter-widgets/controls",
          "model_name": "HTMLModel",
          "model_module_version": "1.5.0",
          "state": {
            "_dom_classes": [],
            "_model_module": "@jupyter-widgets/controls",
            "_model_module_version": "1.5.0",
            "_model_name": "HTMLModel",
            "_view_count": null,
            "_view_module": "@jupyter-widgets/controls",
            "_view_module_version": "1.5.0",
            "_view_name": "HTMLView",
            "description": "",
            "description_tooltip": null,
            "layout": "IPY_MODEL_69a30334695b45eab609410037418246",
            "placeholder": "​",
            "style": "IPY_MODEL_352f51b5027b45aabcd6df87a2a28879",
            "value": ""
          }
        },
        "825329b1ebff41b29b869e2497ca8159": {
          "model_module": "@jupyter-widgets/controls",
          "model_name": "FloatProgressModel",
          "model_module_version": "1.5.0",
          "state": {
            "_dom_classes": [],
            "_model_module": "@jupyter-widgets/controls",
            "_model_module_version": "1.5.0",
            "_model_name": "FloatProgressModel",
            "_view_count": null,
            "_view_module": "@jupyter-widgets/controls",
            "_view_module_version": "1.5.0",
            "_view_name": "ProgressView",
            "bar_style": "success",
            "description": "",
            "description_tooltip": null,
            "layout": "IPY_MODEL_87a68bcccd3d4d78bf67b49d13fb7cdb",
            "max": 28881,
            "min": 0,
            "orientation": "horizontal",
            "style": "IPY_MODEL_42c244a5f7654fe88186f13973bd377a",
            "value": 28881
          }
        },
        "3345bb35c8c442f2bdabfd97b9003f39": {
          "model_module": "@jupyter-widgets/controls",
          "model_name": "HTMLModel",
          "model_module_version": "1.5.0",
          "state": {
            "_dom_classes": [],
            "_model_module": "@jupyter-widgets/controls",
            "_model_module_version": "1.5.0",
            "_model_name": "HTMLModel",
            "_view_count": null,
            "_view_module": "@jupyter-widgets/controls",
            "_view_module_version": "1.5.0",
            "_view_name": "HTMLView",
            "description": "",
            "description_tooltip": null,
            "layout": "IPY_MODEL_d3b8132d18ac4b27a98cef57abc91b8b",
            "placeholder": "​",
            "style": "IPY_MODEL_995d3d60caaa4a598745db000594bc1d",
            "value": " 29696/? [00:00&lt;00:00, 865054.81it/s]"
          }
        },
        "465454e3de67419c965011ceb02ec271": {
          "model_module": "@jupyter-widgets/base",
          "model_name": "LayoutModel",
          "model_module_version": "1.2.0",
          "state": {
            "_model_module": "@jupyter-widgets/base",
            "_model_module_version": "1.2.0",
            "_model_name": "LayoutModel",
            "_view_count": null,
            "_view_module": "@jupyter-widgets/base",
            "_view_module_version": "1.2.0",
            "_view_name": "LayoutView",
            "align_content": null,
            "align_items": null,
            "align_self": null,
            "border": null,
            "bottom": null,
            "display": null,
            "flex": null,
            "flex_flow": null,
            "grid_area": null,
            "grid_auto_columns": null,
            "grid_auto_flow": null,
            "grid_auto_rows": null,
            "grid_column": null,
            "grid_gap": null,
            "grid_row": null,
            "grid_template_areas": null,
            "grid_template_columns": null,
            "grid_template_rows": null,
            "height": null,
            "justify_content": null,
            "justify_items": null,
            "left": null,
            "margin": null,
            "max_height": null,
            "max_width": null,
            "min_height": null,
            "min_width": null,
            "object_fit": null,
            "object_position": null,
            "order": null,
            "overflow": null,
            "overflow_x": null,
            "overflow_y": null,
            "padding": null,
            "right": null,
            "top": null,
            "visibility": null,
            "width": null
          }
        },
        "69a30334695b45eab609410037418246": {
          "model_module": "@jupyter-widgets/base",
          "model_name": "LayoutModel",
          "model_module_version": "1.2.0",
          "state": {
            "_model_module": "@jupyter-widgets/base",
            "_model_module_version": "1.2.0",
            "_model_name": "LayoutModel",
            "_view_count": null,
            "_view_module": "@jupyter-widgets/base",
            "_view_module_version": "1.2.0",
            "_view_name": "LayoutView",
            "align_content": null,
            "align_items": null,
            "align_self": null,
            "border": null,
            "bottom": null,
            "display": null,
            "flex": null,
            "flex_flow": null,
            "grid_area": null,
            "grid_auto_columns": null,
            "grid_auto_flow": null,
            "grid_auto_rows": null,
            "grid_column": null,
            "grid_gap": null,
            "grid_row": null,
            "grid_template_areas": null,
            "grid_template_columns": null,
            "grid_template_rows": null,
            "height": null,
            "justify_content": null,
            "justify_items": null,
            "left": null,
            "margin": null,
            "max_height": null,
            "max_width": null,
            "min_height": null,
            "min_width": null,
            "object_fit": null,
            "object_position": null,
            "order": null,
            "overflow": null,
            "overflow_x": null,
            "overflow_y": null,
            "padding": null,
            "right": null,
            "top": null,
            "visibility": null,
            "width": null
          }
        },
        "352f51b5027b45aabcd6df87a2a28879": {
          "model_module": "@jupyter-widgets/controls",
          "model_name": "DescriptionStyleModel",
          "model_module_version": "1.5.0",
          "state": {
            "_model_module": "@jupyter-widgets/controls",
            "_model_module_version": "1.5.0",
            "_model_name": "DescriptionStyleModel",
            "_view_count": null,
            "_view_module": "@jupyter-widgets/base",
            "_view_module_version": "1.2.0",
            "_view_name": "StyleView",
            "description_width": ""
          }
        },
        "87a68bcccd3d4d78bf67b49d13fb7cdb": {
          "model_module": "@jupyter-widgets/base",
          "model_name": "LayoutModel",
          "model_module_version": "1.2.0",
          "state": {
            "_model_module": "@jupyter-widgets/base",
            "_model_module_version": "1.2.0",
            "_model_name": "LayoutModel",
            "_view_count": null,
            "_view_module": "@jupyter-widgets/base",
            "_view_module_version": "1.2.0",
            "_view_name": "LayoutView",
            "align_content": null,
            "align_items": null,
            "align_self": null,
            "border": null,
            "bottom": null,
            "display": null,
            "flex": null,
            "flex_flow": null,
            "grid_area": null,
            "grid_auto_columns": null,
            "grid_auto_flow": null,
            "grid_auto_rows": null,
            "grid_column": null,
            "grid_gap": null,
            "grid_row": null,
            "grid_template_areas": null,
            "grid_template_columns": null,
            "grid_template_rows": null,
            "height": null,
            "justify_content": null,
            "justify_items": null,
            "left": null,
            "margin": null,
            "max_height": null,
            "max_width": null,
            "min_height": null,
            "min_width": null,
            "object_fit": null,
            "object_position": null,
            "order": null,
            "overflow": null,
            "overflow_x": null,
            "overflow_y": null,
            "padding": null,
            "right": null,
            "top": null,
            "visibility": null,
            "width": null
          }
        },
        "42c244a5f7654fe88186f13973bd377a": {
          "model_module": "@jupyter-widgets/controls",
          "model_name": "ProgressStyleModel",
          "model_module_version": "1.5.0",
          "state": {
            "_model_module": "@jupyter-widgets/controls",
            "_model_module_version": "1.5.0",
            "_model_name": "ProgressStyleModel",
            "_view_count": null,
            "_view_module": "@jupyter-widgets/base",
            "_view_module_version": "1.2.0",
            "_view_name": "StyleView",
            "bar_color": null,
            "description_width": ""
          }
        },
        "d3b8132d18ac4b27a98cef57abc91b8b": {
          "model_module": "@jupyter-widgets/base",
          "model_name": "LayoutModel",
          "model_module_version": "1.2.0",
          "state": {
            "_model_module": "@jupyter-widgets/base",
            "_model_module_version": "1.2.0",
            "_model_name": "LayoutModel",
            "_view_count": null,
            "_view_module": "@jupyter-widgets/base",
            "_view_module_version": "1.2.0",
            "_view_name": "LayoutView",
            "align_content": null,
            "align_items": null,
            "align_self": null,
            "border": null,
            "bottom": null,
            "display": null,
            "flex": null,
            "flex_flow": null,
            "grid_area": null,
            "grid_auto_columns": null,
            "grid_auto_flow": null,
            "grid_auto_rows": null,
            "grid_column": null,
            "grid_gap": null,
            "grid_row": null,
            "grid_template_areas": null,
            "grid_template_columns": null,
            "grid_template_rows": null,
            "height": null,
            "justify_content": null,
            "justify_items": null,
            "left": null,
            "margin": null,
            "max_height": null,
            "max_width": null,
            "min_height": null,
            "min_width": null,
            "object_fit": null,
            "object_position": null,
            "order": null,
            "overflow": null,
            "overflow_x": null,
            "overflow_y": null,
            "padding": null,
            "right": null,
            "top": null,
            "visibility": null,
            "width": null
          }
        },
        "995d3d60caaa4a598745db000594bc1d": {
          "model_module": "@jupyter-widgets/controls",
          "model_name": "DescriptionStyleModel",
          "model_module_version": "1.5.0",
          "state": {
            "_model_module": "@jupyter-widgets/controls",
            "_model_module_version": "1.5.0",
            "_model_name": "DescriptionStyleModel",
            "_view_count": null,
            "_view_module": "@jupyter-widgets/base",
            "_view_module_version": "1.2.0",
            "_view_name": "StyleView",
            "description_width": ""
          }
        },
        "b98343e95b0f43e0b9f70c024dbcc73d": {
          "model_module": "@jupyter-widgets/controls",
          "model_name": "HBoxModel",
          "model_module_version": "1.5.0",
          "state": {
            "_dom_classes": [],
            "_model_module": "@jupyter-widgets/controls",
            "_model_module_version": "1.5.0",
            "_model_name": "HBoxModel",
            "_view_count": null,
            "_view_module": "@jupyter-widgets/controls",
            "_view_module_version": "1.5.0",
            "_view_name": "HBoxView",
            "box_style": "",
            "children": [
              "IPY_MODEL_751c09428c084405af653ddb282b35f3",
              "IPY_MODEL_066f5e7edd1c4ac1a805fb228c4333b6",
              "IPY_MODEL_29d72eb013be4811be3e57a2015c34dc"
            ],
            "layout": "IPY_MODEL_4ed106d5dd424f649fef9f6f332c5803"
          }
        },
        "751c09428c084405af653ddb282b35f3": {
          "model_module": "@jupyter-widgets/controls",
          "model_name": "HTMLModel",
          "model_module_version": "1.5.0",
          "state": {
            "_dom_classes": [],
            "_model_module": "@jupyter-widgets/controls",
            "_model_module_version": "1.5.0",
            "_model_name": "HTMLModel",
            "_view_count": null,
            "_view_module": "@jupyter-widgets/controls",
            "_view_module_version": "1.5.0",
            "_view_name": "HTMLView",
            "description": "",
            "description_tooltip": null,
            "layout": "IPY_MODEL_2bf9af4f0e354e6087189d0323839332",
            "placeholder": "​",
            "style": "IPY_MODEL_d3ac98802980446b883f772baef07e62",
            "value": ""
          }
        },
        "066f5e7edd1c4ac1a805fb228c4333b6": {
          "model_module": "@jupyter-widgets/controls",
          "model_name": "FloatProgressModel",
          "model_module_version": "1.5.0",
          "state": {
            "_dom_classes": [],
            "_model_module": "@jupyter-widgets/controls",
            "_model_module_version": "1.5.0",
            "_model_name": "FloatProgressModel",
            "_view_count": null,
            "_view_module": "@jupyter-widgets/controls",
            "_view_module_version": "1.5.0",
            "_view_name": "ProgressView",
            "bar_style": "success",
            "description": "",
            "description_tooltip": null,
            "layout": "IPY_MODEL_1bdf4d4beed643208fa3006bfff328eb",
            "max": 1648877,
            "min": 0,
            "orientation": "horizontal",
            "style": "IPY_MODEL_ca8c2b365dd04f1ebd6b2c601dad2ea7",
            "value": 1648877
          }
        },
        "29d72eb013be4811be3e57a2015c34dc": {
          "model_module": "@jupyter-widgets/controls",
          "model_name": "HTMLModel",
          "model_module_version": "1.5.0",
          "state": {
            "_dom_classes": [],
            "_model_module": "@jupyter-widgets/controls",
            "_model_module_version": "1.5.0",
            "_model_name": "HTMLModel",
            "_view_count": null,
            "_view_module": "@jupyter-widgets/controls",
            "_view_module_version": "1.5.0",
            "_view_name": "HTMLView",
            "description": "",
            "description_tooltip": null,
            "layout": "IPY_MODEL_a3ec20adb8304128bd50cbae766935b1",
            "placeholder": "​",
            "style": "IPY_MODEL_24329807eef44fdcb921a73184611da3",
            "value": " 1649664/? [00:00&lt;00:00, 14208687.75it/s]"
          }
        },
        "4ed106d5dd424f649fef9f6f332c5803": {
          "model_module": "@jupyter-widgets/base",
          "model_name": "LayoutModel",
          "model_module_version": "1.2.0",
          "state": {
            "_model_module": "@jupyter-widgets/base",
            "_model_module_version": "1.2.0",
            "_model_name": "LayoutModel",
            "_view_count": null,
            "_view_module": "@jupyter-widgets/base",
            "_view_module_version": "1.2.0",
            "_view_name": "LayoutView",
            "align_content": null,
            "align_items": null,
            "align_self": null,
            "border": null,
            "bottom": null,
            "display": null,
            "flex": null,
            "flex_flow": null,
            "grid_area": null,
            "grid_auto_columns": null,
            "grid_auto_flow": null,
            "grid_auto_rows": null,
            "grid_column": null,
            "grid_gap": null,
            "grid_row": null,
            "grid_template_areas": null,
            "grid_template_columns": null,
            "grid_template_rows": null,
            "height": null,
            "justify_content": null,
            "justify_items": null,
            "left": null,
            "margin": null,
            "max_height": null,
            "max_width": null,
            "min_height": null,
            "min_width": null,
            "object_fit": null,
            "object_position": null,
            "order": null,
            "overflow": null,
            "overflow_x": null,
            "overflow_y": null,
            "padding": null,
            "right": null,
            "top": null,
            "visibility": null,
            "width": null
          }
        },
        "2bf9af4f0e354e6087189d0323839332": {
          "model_module": "@jupyter-widgets/base",
          "model_name": "LayoutModel",
          "model_module_version": "1.2.0",
          "state": {
            "_model_module": "@jupyter-widgets/base",
            "_model_module_version": "1.2.0",
            "_model_name": "LayoutModel",
            "_view_count": null,
            "_view_module": "@jupyter-widgets/base",
            "_view_module_version": "1.2.0",
            "_view_name": "LayoutView",
            "align_content": null,
            "align_items": null,
            "align_self": null,
            "border": null,
            "bottom": null,
            "display": null,
            "flex": null,
            "flex_flow": null,
            "grid_area": null,
            "grid_auto_columns": null,
            "grid_auto_flow": null,
            "grid_auto_rows": null,
            "grid_column": null,
            "grid_gap": null,
            "grid_row": null,
            "grid_template_areas": null,
            "grid_template_columns": null,
            "grid_template_rows": null,
            "height": null,
            "justify_content": null,
            "justify_items": null,
            "left": null,
            "margin": null,
            "max_height": null,
            "max_width": null,
            "min_height": null,
            "min_width": null,
            "object_fit": null,
            "object_position": null,
            "order": null,
            "overflow": null,
            "overflow_x": null,
            "overflow_y": null,
            "padding": null,
            "right": null,
            "top": null,
            "visibility": null,
            "width": null
          }
        },
        "d3ac98802980446b883f772baef07e62": {
          "model_module": "@jupyter-widgets/controls",
          "model_name": "DescriptionStyleModel",
          "model_module_version": "1.5.0",
          "state": {
            "_model_module": "@jupyter-widgets/controls",
            "_model_module_version": "1.5.0",
            "_model_name": "DescriptionStyleModel",
            "_view_count": null,
            "_view_module": "@jupyter-widgets/base",
            "_view_module_version": "1.2.0",
            "_view_name": "StyleView",
            "description_width": ""
          }
        },
        "1bdf4d4beed643208fa3006bfff328eb": {
          "model_module": "@jupyter-widgets/base",
          "model_name": "LayoutModel",
          "model_module_version": "1.2.0",
          "state": {
            "_model_module": "@jupyter-widgets/base",
            "_model_module_version": "1.2.0",
            "_model_name": "LayoutModel",
            "_view_count": null,
            "_view_module": "@jupyter-widgets/base",
            "_view_module_version": "1.2.0",
            "_view_name": "LayoutView",
            "align_content": null,
            "align_items": null,
            "align_self": null,
            "border": null,
            "bottom": null,
            "display": null,
            "flex": null,
            "flex_flow": null,
            "grid_area": null,
            "grid_auto_columns": null,
            "grid_auto_flow": null,
            "grid_auto_rows": null,
            "grid_column": null,
            "grid_gap": null,
            "grid_row": null,
            "grid_template_areas": null,
            "grid_template_columns": null,
            "grid_template_rows": null,
            "height": null,
            "justify_content": null,
            "justify_items": null,
            "left": null,
            "margin": null,
            "max_height": null,
            "max_width": null,
            "min_height": null,
            "min_width": null,
            "object_fit": null,
            "object_position": null,
            "order": null,
            "overflow": null,
            "overflow_x": null,
            "overflow_y": null,
            "padding": null,
            "right": null,
            "top": null,
            "visibility": null,
            "width": null
          }
        },
        "ca8c2b365dd04f1ebd6b2c601dad2ea7": {
          "model_module": "@jupyter-widgets/controls",
          "model_name": "ProgressStyleModel",
          "model_module_version": "1.5.0",
          "state": {
            "_model_module": "@jupyter-widgets/controls",
            "_model_module_version": "1.5.0",
            "_model_name": "ProgressStyleModel",
            "_view_count": null,
            "_view_module": "@jupyter-widgets/base",
            "_view_module_version": "1.2.0",
            "_view_name": "StyleView",
            "bar_color": null,
            "description_width": ""
          }
        },
        "a3ec20adb8304128bd50cbae766935b1": {
          "model_module": "@jupyter-widgets/base",
          "model_name": "LayoutModel",
          "model_module_version": "1.2.0",
          "state": {
            "_model_module": "@jupyter-widgets/base",
            "_model_module_version": "1.2.0",
            "_model_name": "LayoutModel",
            "_view_count": null,
            "_view_module": "@jupyter-widgets/base",
            "_view_module_version": "1.2.0",
            "_view_name": "LayoutView",
            "align_content": null,
            "align_items": null,
            "align_self": null,
            "border": null,
            "bottom": null,
            "display": null,
            "flex": null,
            "flex_flow": null,
            "grid_area": null,
            "grid_auto_columns": null,
            "grid_auto_flow": null,
            "grid_auto_rows": null,
            "grid_column": null,
            "grid_gap": null,
            "grid_row": null,
            "grid_template_areas": null,
            "grid_template_columns": null,
            "grid_template_rows": null,
            "height": null,
            "justify_content": null,
            "justify_items": null,
            "left": null,
            "margin": null,
            "max_height": null,
            "max_width": null,
            "min_height": null,
            "min_width": null,
            "object_fit": null,
            "object_position": null,
            "order": null,
            "overflow": null,
            "overflow_x": null,
            "overflow_y": null,
            "padding": null,
            "right": null,
            "top": null,
            "visibility": null,
            "width": null
          }
        },
        "24329807eef44fdcb921a73184611da3": {
          "model_module": "@jupyter-widgets/controls",
          "model_name": "DescriptionStyleModel",
          "model_module_version": "1.5.0",
          "state": {
            "_model_module": "@jupyter-widgets/controls",
            "_model_module_version": "1.5.0",
            "_model_name": "DescriptionStyleModel",
            "_view_count": null,
            "_view_module": "@jupyter-widgets/base",
            "_view_module_version": "1.2.0",
            "_view_name": "StyleView",
            "description_width": ""
          }
        },
        "716c6d08ed4c4d66a7b56c3cd396d96d": {
          "model_module": "@jupyter-widgets/controls",
          "model_name": "HBoxModel",
          "model_module_version": "1.5.0",
          "state": {
            "_dom_classes": [],
            "_model_module": "@jupyter-widgets/controls",
            "_model_module_version": "1.5.0",
            "_model_name": "HBoxModel",
            "_view_count": null,
            "_view_module": "@jupyter-widgets/controls",
            "_view_module_version": "1.5.0",
            "_view_name": "HBoxView",
            "box_style": "",
            "children": [
              "IPY_MODEL_610e9ec95b6e48f9aea0a7cf09e70fe9",
              "IPY_MODEL_e307732e78b54f81902941db6886d4f2",
              "IPY_MODEL_5dd1f1730c4b4122bc312b1ab716f882"
            ],
            "layout": "IPY_MODEL_0db97fcbad68466bb2930a3b95b8da50"
          }
        },
        "610e9ec95b6e48f9aea0a7cf09e70fe9": {
          "model_module": "@jupyter-widgets/controls",
          "model_name": "HTMLModel",
          "model_module_version": "1.5.0",
          "state": {
            "_dom_classes": [],
            "_model_module": "@jupyter-widgets/controls",
            "_model_module_version": "1.5.0",
            "_model_name": "HTMLModel",
            "_view_count": null,
            "_view_module": "@jupyter-widgets/controls",
            "_view_module_version": "1.5.0",
            "_view_name": "HTMLView",
            "description": "",
            "description_tooltip": null,
            "layout": "IPY_MODEL_0c84aaed57be4e17b2c9d0027128da53",
            "placeholder": "​",
            "style": "IPY_MODEL_6d6d2479b4544689810bae76fbca8c85",
            "value": ""
          }
        },
        "e307732e78b54f81902941db6886d4f2": {
          "model_module": "@jupyter-widgets/controls",
          "model_name": "FloatProgressModel",
          "model_module_version": "1.5.0",
          "state": {
            "_dom_classes": [],
            "_model_module": "@jupyter-widgets/controls",
            "_model_module_version": "1.5.0",
            "_model_name": "FloatProgressModel",
            "_view_count": null,
            "_view_module": "@jupyter-widgets/controls",
            "_view_module_version": "1.5.0",
            "_view_name": "ProgressView",
            "bar_style": "success",
            "description": "",
            "description_tooltip": null,
            "layout": "IPY_MODEL_f923fdcfcd57471fa266d31d47b69f7f",
            "max": 4542,
            "min": 0,
            "orientation": "horizontal",
            "style": "IPY_MODEL_862f4a9b8c484bc0af9476d627528908",
            "value": 4542
          }
        },
        "5dd1f1730c4b4122bc312b1ab716f882": {
          "model_module": "@jupyter-widgets/controls",
          "model_name": "HTMLModel",
          "model_module_version": "1.5.0",
          "state": {
            "_dom_classes": [],
            "_model_module": "@jupyter-widgets/controls",
            "_model_module_version": "1.5.0",
            "_model_name": "HTMLModel",
            "_view_count": null,
            "_view_module": "@jupyter-widgets/controls",
            "_view_module_version": "1.5.0",
            "_view_name": "HTMLView",
            "description": "",
            "description_tooltip": null,
            "layout": "IPY_MODEL_12b73fb11bce4f599e9fdcaaaf6a4211",
            "placeholder": "​",
            "style": "IPY_MODEL_9335e513b8834f6b8587f35dc60942ff",
            "value": " 5120/? [00:00&lt;00:00, 161758.05it/s]"
          }
        },
        "0db97fcbad68466bb2930a3b95b8da50": {
          "model_module": "@jupyter-widgets/base",
          "model_name": "LayoutModel",
          "model_module_version": "1.2.0",
          "state": {
            "_model_module": "@jupyter-widgets/base",
            "_model_module_version": "1.2.0",
            "_model_name": "LayoutModel",
            "_view_count": null,
            "_view_module": "@jupyter-widgets/base",
            "_view_module_version": "1.2.0",
            "_view_name": "LayoutView",
            "align_content": null,
            "align_items": null,
            "align_self": null,
            "border": null,
            "bottom": null,
            "display": null,
            "flex": null,
            "flex_flow": null,
            "grid_area": null,
            "grid_auto_columns": null,
            "grid_auto_flow": null,
            "grid_auto_rows": null,
            "grid_column": null,
            "grid_gap": null,
            "grid_row": null,
            "grid_template_areas": null,
            "grid_template_columns": null,
            "grid_template_rows": null,
            "height": null,
            "justify_content": null,
            "justify_items": null,
            "left": null,
            "margin": null,
            "max_height": null,
            "max_width": null,
            "min_height": null,
            "min_width": null,
            "object_fit": null,
            "object_position": null,
            "order": null,
            "overflow": null,
            "overflow_x": null,
            "overflow_y": null,
            "padding": null,
            "right": null,
            "top": null,
            "visibility": null,
            "width": null
          }
        },
        "0c84aaed57be4e17b2c9d0027128da53": {
          "model_module": "@jupyter-widgets/base",
          "model_name": "LayoutModel",
          "model_module_version": "1.2.0",
          "state": {
            "_model_module": "@jupyter-widgets/base",
            "_model_module_version": "1.2.0",
            "_model_name": "LayoutModel",
            "_view_count": null,
            "_view_module": "@jupyter-widgets/base",
            "_view_module_version": "1.2.0",
            "_view_name": "LayoutView",
            "align_content": null,
            "align_items": null,
            "align_self": null,
            "border": null,
            "bottom": null,
            "display": null,
            "flex": null,
            "flex_flow": null,
            "grid_area": null,
            "grid_auto_columns": null,
            "grid_auto_flow": null,
            "grid_auto_rows": null,
            "grid_column": null,
            "grid_gap": null,
            "grid_row": null,
            "grid_template_areas": null,
            "grid_template_columns": null,
            "grid_template_rows": null,
            "height": null,
            "justify_content": null,
            "justify_items": null,
            "left": null,
            "margin": null,
            "max_height": null,
            "max_width": null,
            "min_height": null,
            "min_width": null,
            "object_fit": null,
            "object_position": null,
            "order": null,
            "overflow": null,
            "overflow_x": null,
            "overflow_y": null,
            "padding": null,
            "right": null,
            "top": null,
            "visibility": null,
            "width": null
          }
        },
        "6d6d2479b4544689810bae76fbca8c85": {
          "model_module": "@jupyter-widgets/controls",
          "model_name": "DescriptionStyleModel",
          "model_module_version": "1.5.0",
          "state": {
            "_model_module": "@jupyter-widgets/controls",
            "_model_module_version": "1.5.0",
            "_model_name": "DescriptionStyleModel",
            "_view_count": null,
            "_view_module": "@jupyter-widgets/base",
            "_view_module_version": "1.2.0",
            "_view_name": "StyleView",
            "description_width": ""
          }
        },
        "f923fdcfcd57471fa266d31d47b69f7f": {
          "model_module": "@jupyter-widgets/base",
          "model_name": "LayoutModel",
          "model_module_version": "1.2.0",
          "state": {
            "_model_module": "@jupyter-widgets/base",
            "_model_module_version": "1.2.0",
            "_model_name": "LayoutModel",
            "_view_count": null,
            "_view_module": "@jupyter-widgets/base",
            "_view_module_version": "1.2.0",
            "_view_name": "LayoutView",
            "align_content": null,
            "align_items": null,
            "align_self": null,
            "border": null,
            "bottom": null,
            "display": null,
            "flex": null,
            "flex_flow": null,
            "grid_area": null,
            "grid_auto_columns": null,
            "grid_auto_flow": null,
            "grid_auto_rows": null,
            "grid_column": null,
            "grid_gap": null,
            "grid_row": null,
            "grid_template_areas": null,
            "grid_template_columns": null,
            "grid_template_rows": null,
            "height": null,
            "justify_content": null,
            "justify_items": null,
            "left": null,
            "margin": null,
            "max_height": null,
            "max_width": null,
            "min_height": null,
            "min_width": null,
            "object_fit": null,
            "object_position": null,
            "order": null,
            "overflow": null,
            "overflow_x": null,
            "overflow_y": null,
            "padding": null,
            "right": null,
            "top": null,
            "visibility": null,
            "width": null
          }
        },
        "862f4a9b8c484bc0af9476d627528908": {
          "model_module": "@jupyter-widgets/controls",
          "model_name": "ProgressStyleModel",
          "model_module_version": "1.5.0",
          "state": {
            "_model_module": "@jupyter-widgets/controls",
            "_model_module_version": "1.5.0",
            "_model_name": "ProgressStyleModel",
            "_view_count": null,
            "_view_module": "@jupyter-widgets/base",
            "_view_module_version": "1.2.0",
            "_view_name": "StyleView",
            "bar_color": null,
            "description_width": ""
          }
        },
        "12b73fb11bce4f599e9fdcaaaf6a4211": {
          "model_module": "@jupyter-widgets/base",
          "model_name": "LayoutModel",
          "model_module_version": "1.2.0",
          "state": {
            "_model_module": "@jupyter-widgets/base",
            "_model_module_version": "1.2.0",
            "_model_name": "LayoutModel",
            "_view_count": null,
            "_view_module": "@jupyter-widgets/base",
            "_view_module_version": "1.2.0",
            "_view_name": "LayoutView",
            "align_content": null,
            "align_items": null,
            "align_self": null,
            "border": null,
            "bottom": null,
            "display": null,
            "flex": null,
            "flex_flow": null,
            "grid_area": null,
            "grid_auto_columns": null,
            "grid_auto_flow": null,
            "grid_auto_rows": null,
            "grid_column": null,
            "grid_gap": null,
            "grid_row": null,
            "grid_template_areas": null,
            "grid_template_columns": null,
            "grid_template_rows": null,
            "height": null,
            "justify_content": null,
            "justify_items": null,
            "left": null,
            "margin": null,
            "max_height": null,
            "max_width": null,
            "min_height": null,
            "min_width": null,
            "object_fit": null,
            "object_position": null,
            "order": null,
            "overflow": null,
            "overflow_x": null,
            "overflow_y": null,
            "padding": null,
            "right": null,
            "top": null,
            "visibility": null,
            "width": null
          }
        },
        "9335e513b8834f6b8587f35dc60942ff": {
          "model_module": "@jupyter-widgets/controls",
          "model_name": "DescriptionStyleModel",
          "model_module_version": "1.5.0",
          "state": {
            "_model_module": "@jupyter-widgets/controls",
            "_model_module_version": "1.5.0",
            "_model_name": "DescriptionStyleModel",
            "_view_count": null,
            "_view_module": "@jupyter-widgets/base",
            "_view_module_version": "1.2.0",
            "_view_name": "StyleView",
            "description_width": ""
          }
        }
      }
    },
    "accelerator": "GPU"
  },
  "nbformat": 4,
  "nbformat_minor": 0
}