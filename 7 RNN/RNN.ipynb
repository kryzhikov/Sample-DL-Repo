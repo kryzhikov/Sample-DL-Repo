{
 "cells": [
  {
   "cell_type": "code",
   "execution_count": null,
   "metadata": {
    "id": "HXd4o-HZkHQN",
    "pycharm": {
     "name": "#%%\n"
    }
   },
   "outputs": [],
   "source": [
    "import torch\n",
    "import torch.nn as nn\n",
    "import torch.nn.functional as F\n",
    "import os\n",
    "import numpy as np"
   ]
  },
  {
   "cell_type": "markdown",
   "metadata": {
    "id": "pRIVQmrukHQQ",
    "pycharm": {
     "name": "#%% md\n"
    }
   },
   "source": [
    "## Ссылки:\n",
    "* [Chris Olah's blog (LSTM/GRU)](http://colah.github.io/posts/2015-08-Understanding-LSTMs/)\n",
    "* [PyTorch tutorial - RNN for name classification](https://pytorch.org/tutorials/intermediate/char_rnn_classification_tutorial.html)\n",
    "* [MNIST classification with RNN tutorial](https://medium.com/dair-ai/building-rnns-is-fun-with-pytorch-and-google-colab-3903ea9a3a79)\n",
    "* [Good tutorials about Torch sentiment](https://github.com/bentrevett/pytorch-sentiment-analysis)"
   ]
  },
  {
   "cell_type": "markdown",
   "metadata": {
    "id": "NltJUttHkHQR",
    "pycharm": {
     "name": "#%% md\n"
    }
   },
   "source": [
    "## Vanilla RNN"
   ]
  },
  {
   "cell_type": "markdown",
   "metadata": {
    "id": "K-4oBp1MkHQS",
    "pycharm": {
     "name": "#%% md\n"
    }
   },
   "source": [
    "<img src=\"http://colah.github.io/posts/2015-08-Understanding-LSTMs/img/LSTM3-SimpleRNN.png\" width=\"600\">"
   ]
  },
  {
   "cell_type": "markdown",
   "metadata": {
    "id": "PiAC7p6JkHQT",
    "pycharm": {
     "name": "#%% md\n"
    }
   },
   "source": [
    "$$\\Large h_{i+1} = tanh(W_x \\cdot X_{i+1} + W_y \\cdot h_{i})$$"
   ]
  },
  {
   "cell_type": "markdown",
   "metadata": {
    "id": "U9hhj5mLkHQT",
    "pycharm": {
     "name": "#%% md\n"
    }
   },
   "source": [
    "Рекурретные нейросети нужны для работы с **последовательными данными** произвольной длины. Они представляют собой абстрактные ячейки, у которых есть какая-то **память** (hidden state), которая обновляется после обработки очередной порции данных.\n",
    "\n",
    "Если в самом простом виде, то в рекуррентных сетках для одного входного вектора $x_{(t)}$ и одного слоя рекуррентной сети справедливо такое соотношение:\n",
    "\n",
    "$$y_{(t)} = \\phi (x_{(t)}^T \\cdot w_x + y_{(t-1)}^T \\cdot w_y + b)$$\n",
    "\n",
    "где \n",
    "* $x(t)$ — входной вектор на текущем шаге;\n",
    "* $y(t)$ — выходной вектор на текущем шаге;\n",
    "* $w_x$ — вектор весов нейронов для входа;\n",
    "* $w_y$ — вектор весов нейронов для выхода;\n",
    "* $y(t-1)$ — выходной вектор с прошлого шага (для первого шага этот вектор нулевой);\n",
    "* $b$ — bias;\n",
    "* $\\phi$ — какая-то функция активации (например, ReLU).\n",
    "\n",
    "Эту ячейку применяют по очереди ко всей последовательности, пробрасывая hidden state с предыдущего состояния. С точки зрения построения вычислительного графа это выглядит так:\n",
    "\n",
    "<img src=\"http://colah.github.io/posts/2015-08-Understanding-LSTMs/img/RNN-unrolled.png\" width=\"600\">\n",
    "\n",
    "То есть если зафиксировать длину последовательности, то мы получим обычный фиксированный ациклический граф вычислений, в котором просто пошерены параметры всех ячеек.\n",
    "\n",
    "### Упрощение формулы\n",
    "\n",
    "Снова немножко математики чтобы привести формулу выше к более удобному виду.\n",
    "\n",
    "Представим, что на вход подается не один вектор $x_{(t)}$, а целый мини-батч размера $m$ таких векторов $X_{(t)}$, соответственно все дальнейшие размышления мы уже производим в матричном виде:\n",
    "\n",
    "$$ Y_{(t)} = \\phi(X_{(t)}^T \\cdot W_x + Y_{(t-1)}^T \\cdot W_y + b) = \\phi([X_{(t)} Y_{(t-1)}] \\cdot W + b) $$\n",
    "где\n",
    "$$ W = [W_x W_y]^T $$\n",
    "\n",
    "*Операция в квадратных скобках — конкатенация матриц\n",
    "\n",
    "По размерностям:\n",
    "* $Y_{(t)}$ — матрица [$m$ x n_neurons]\n",
    "* $X_{(t)}$ — матрица [$m$ x n_features]\n",
    "* $b$ — вектор длины n_neurons\n",
    "* $W_x$ — веса между входами и нейронами размерностью [n_features x n_neurons]\n",
    "* $W_y$ — веса связей с прошлым выходом размерностью [n_neurons x n_neurons]"
   ]
  },
  {
   "cell_type": "markdown",
   "metadata": {
    "id": "Gq6dnwWWkHQU",
    "pycharm": {
     "name": "#%% md\n"
    }
   },
   "source": [
    "# RNN from scratch\n",
    "\n",
    "**Disclaimer:** не используйте самописные RNN-ки в реальной жизни.\n",
    "\n",
    "Давайте реализуем торчовый модуль, который это реализует."
   ]
  },
  {
   "cell_type": "code",
   "execution_count": null,
   "metadata": {
    "id": "dSkcPzlokHQW",
    "pycharm": {
     "name": "#%%\n"
    }
   },
   "outputs": [],
   "source": [
    "import torch.nn as nn\n",
    "\n",
    "class RNN(nn.Module):\n",
    "    def __init__(self, input_size, hidden_size):\n",
    "        super().__init__()\n",
    "\n",
    "        self.hidden_size = hidden_size\n",
    "        self.W = nn.Linear(input_size + hidden_size, hidden_size)\n",
    "        self.bias = torch.nn.init.normal_(torch.ones(hidden_size))\n",
    "        self.activation = nn.Tanh()\n",
    "\n",
    "    def forward(self, input_data, hidden):\n",
    "        hidden = self.activation(self.W(torch.cat([input_data, hidden], 1)) + self.bias)\n",
    "        return hidden\n",
    "\n",
    "    def init_hidden(self, batch_size=1):\n",
    "        return torch.zeros(batch_size, self.hidden_size)"
   ]
  },
  {
   "cell_type": "code",
   "execution_count": null,
   "metadata": {
    "id": "w9n3gNkPkHQY",
    "pycharm": {
     "name": "#%%\n"
    }
   },
   "outputs": [],
   "source": [
    "input_feature_size = 6\n",
    "hidden_size = 5\n",
    "batch_size = 7"
   ]
  },
  {
   "cell_type": "code",
   "execution_count": null,
   "metadata": {
    "id": "2rqMgLsqkHQd",
    "pycharm": {
     "name": "#%%\n"
    }
   },
   "outputs": [],
   "source": [
    "rnn = RNN(input_size=input_feature_size, hidden_size=hidden_size)\n",
    "initial_hidden = rnn.init_hidden(batch_size)"
   ]
  },
  {
   "cell_type": "code",
   "execution_count": null,
   "metadata": {
    "id": "ZssjzwGDkHQg",
    "pycharm": {
     "name": "#%%\n"
    }
   },
   "outputs": [],
   "source": [
    "input_example = torch.rand([batch_size, input_feature_size])\n",
    "new_hidden = rnn(input_example, initial_hidden)"
   ]
  },
  {
   "cell_type": "code",
   "execution_count": null,
   "metadata": {
    "colab": {
     "base_uri": "https://localhost:8080/"
    },
    "id": "QdiE8vn-kHQi",
    "outputId": "5dbe36c3-0be1-4c53-dea4-f2bb0846fcba",
    "pycharm": {
     "name": "#%%\n"
    }
   },
   "outputs": [
    {
     "output_type": "stream",
     "name": "stdout",
     "text": [
      "torch.Size([7, 5])\n"
     ]
    }
   ],
   "source": [
    "print(new_hidden.shape)"
   ]
  },
  {
   "cell_type": "code",
   "execution_count": null,
   "metadata": {
    "colab": {
     "base_uri": "https://localhost:8080/"
    },
    "id": "Io1NEsIKkHQm",
    "outputId": "218041d8-9d7a-4431-aaf3-bdcfc3aa128e",
    "pycharm": {
     "name": "#%%\n"
    }
   },
   "outputs": [
    {
     "output_type": "stream",
     "name": "stdout",
     "text": [
      "initial_hidden:  [[0. 0. 0. 0. 0.]\n",
      " [0. 0. 0. 0. 0.]\n",
      " [0. 0. 0. 0. 0.]\n",
      " [0. 0. 0. 0. 0.]\n",
      " [0. 0. 0. 0. 0.]\n",
      " [0. 0. 0. 0. 0.]\n",
      " [0. 0. 0. 0. 0.]]\n",
      "new_hidden:  [[ 0.95330834  0.84912586  0.42676324  0.4036587  -0.5384369 ]\n",
      " [ 0.95286095  0.823317    0.16919972  0.43527535 -0.54638267]\n",
      " [ 0.9154905   0.70393634  0.10291948  0.19510552 -0.5784752 ]\n",
      " [ 0.96133006  0.8464452   0.07556947  0.5601283  -0.58431464]\n",
      " [ 0.9518005   0.83714056  0.5259644   0.2950883  -0.55127484]\n",
      " [ 0.91427237  0.7309784   0.4713246   0.09905443 -0.60618716]\n",
      " [ 0.95378655  0.82625115  0.4737499   0.29338586 -0.5818714 ]]\n"
     ]
    }
   ],
   "source": [
    "print(\"initial_hidden: \", initial_hidden.numpy())\n",
    "print(\"new_hidden: \", new_hidden.detach().numpy())"
   ]
  },
  {
   "cell_type": "code",
   "execution_count": null,
   "metadata": {
    "colab": {
     "base_uri": "https://localhost:8080/"
    },
    "id": "hIwKBaQWkHQo",
    "outputId": "4a145e08-aff2-46e6-b3e0-d54a6a31be4a",
    "pycharm": {
     "name": "#%%\n"
    }
   },
   "outputs": [
    {
     "output_type": "stream",
     "name": "stdout",
     "text": [
      "new_hidden:  [[ 0.9550692   0.83786815  0.42368004  0.0319667  -0.34588283]\n",
      " [ 0.9490714   0.7933424   0.22356734  0.13600035 -0.31614527]\n",
      " [ 0.91653275  0.6701842   0.13502598 -0.08822185 -0.4039879 ]\n",
      " [ 0.9542775   0.8049804   0.17729871  0.29348093 -0.32195103]\n",
      " [ 0.9574376   0.83486533  0.49415928 -0.10735208 -0.39417326]\n",
      " [ 0.9295767   0.73283285  0.42466852 -0.2765727  -0.49377593]\n",
      " [ 0.95851046  0.8192078   0.4512227  -0.10285018 -0.4230335 ]]\n"
     ]
    }
   ],
   "source": [
    "new_hidden = rnn(input_example, new_hidden)\n",
    "print(\"new_hidden: \", new_hidden.detach().numpy())"
   ]
  },
  {
   "cell_type": "markdown",
   "metadata": {
    "id": "hGdYtkjTkHQq",
    "pycharm": {
     "name": "#%% md\n"
    }
   },
   "source": [
    "**Задание**. Модифицируйте код так, чтобы на вход можно было подавать батчи размером больше 1."
   ]
  },
  {
   "cell_type": "markdown",
   "metadata": {
    "id": "aGi7O7qekHQr",
    "pycharm": {
     "name": "#%% md\n"
    }
   },
   "source": [
    "# Классификация картинок с RNN\n",
    "\n",
    "Представьте, что у вас есть какая-то длинная картинка, в которой свёртки точно не зайдут. Например, снимки со спутника, спектрограмма или длиннокот."
   ]
  },
  {
   "cell_type": "markdown",
   "metadata": {
    "id": "v0H9o53CkHQs",
    "pycharm": {
     "name": "#%% md\n"
    }
   },
   "source": [
    "Можно обработать их построчно с помощью рекуррентных сетей — просто подавать в качестве входа все пиксели очередной строки.\n",
    "\n",
    "<img src=\"https://cdn-images-1.medium.com/max/2000/1*wFYZpxTTiXVqncOLQd_CIQ.jpeg\" width=\"800\">"
   ]
  },
  {
   "cell_type": "code",
   "execution_count": null,
   "metadata": {
    "id": "xaQ0QhgfkHQt",
    "pycharm": {
     "name": "#%%\n"
    }
   },
   "outputs": [],
   "source": [
    "!mkdir data"
   ]
  },
  {
   "cell_type": "markdown",
   "metadata": {
    "id": "kmOhDZDEkHQv",
    "pycharm": {
     "name": "#%% md\n"
    }
   },
   "source": [
    "Загружаем данные"
   ]
  },
  {
   "cell_type": "code",
   "execution_count": null,
   "metadata": {
    "colab": {
     "base_uri": "https://localhost:8080/",
     "height": 423,
     "referenced_widgets": [
      "923b99eb860d45a3b78823b31a49081e",
      "1bdc39fb48994df782740698e6ce59c9",
      "dab0884f0ac742d9a7ab55e046ecb993",
      "fe2851b0a3d844d3873c54423117dd88",
      "0f08453347f649a098734f63e136bc2f",
      "e0f3d40d5956406091a4f60065352393",
      "ec2b1868eeb344b69bcd9660e28d5d75",
      "5e4092e3f9184381a5e8b618e80ab578",
      "5c1a53f00fe047d5897e416af01f28ce",
      "b8e94a7e4756483aaba9c5864aa1b306",
      "ad6e0e3471cd432581246e6893c00b62",
      "631fc62b3bcb4773865d6228aaa702e6",
      "b0863036504e4dd48d3943598a76504e",
      "88e57101957e48489149340332c34eba",
      "936db03890cc426392d82f33c8cc803c",
      "57f6a042bc654d7ba5d837d7c580ee64",
      "a5b6967b17e447709cd4ecd928e17e8a",
      "e50ba4519a644d59890b95c227bf2382",
      "4d5c0e7eda04400e94798989f33b1a71",
      "62c72e6441b44e2499583c9e0fea2959",
      "5a88cc2a79424ea49f31f3986ff3694a",
      "53da8b2b0313434d8b676d09f0004163",
      "cafb3beeefbb41fa94e61a7dec84555e",
      "a4be53784ce6435c9f4ebb241943dfe8",
      "3d35904cffd14288af79cf09a79afe41",
      "f3d1be862d274032ad2f9cf26930be39",
      "3aa88926c0b64ac8a888fe6657112d49",
      "a80aafc6c49d42a08096769a7ca73a4b",
      "180da6a6831949e5a11ea7dde30fa486",
      "806972c2060a4bb191ed27c9eedc0447",
      "03c7332afb304736be062d02f0cd9c76",
      "a941aaa1f755417c9b203fe1cf5bec47",
      "ecb399b3039a45e1a18aea3ffd3895ef",
      "166dd52cdc594830be43cecfe204f3d0",
      "c9168ed7e1384f378443015791a8325c",
      "57a725e747b54488b04d9d2842243c14",
      "34057717585442c4b5c435e6557e2196",
      "09b974da4a184e42bf0e2fb2665037da",
      "bc4b292931dd4814b708ebc8aca65fc0",
      "b53d6fefef444689a371ab725b4be4f5",
      "c4341a73a7ff4ec6bd779270b14c1684",
      "87bae83b19094521a659a60fd610131f",
      "2eaf9a2c64a44512b71c021ec1683621",
      "6626b669f7f949f4b7557ed3ed86eb8c"
     ]
    },
    "id": "_ahhqfzgkHQw",
    "outputId": "f7bd67fc-6161-4b9b-a819-071faf00c05f",
    "pycharm": {
     "name": "#%%\n"
    }
   },
   "outputs": [
    {
     "output_type": "stream",
     "name": "stdout",
     "text": [
      "Downloading http://yann.lecun.com/exdb/mnist/train-images-idx3-ubyte.gz\n",
      "Downloading http://yann.lecun.com/exdb/mnist/train-images-idx3-ubyte.gz to ./data/MNIST/raw/train-images-idx3-ubyte.gz\n"
     ]
    },
    {
     "output_type": "display_data",
     "data": {
      "text/plain": [
       "  0%|          | 0/9912422 [00:00<?, ?it/s]"
      ],
      "application/vnd.jupyter.widget-view+json": {
       "version_major": 2,
       "version_minor": 0,
       "model_id": "923b99eb860d45a3b78823b31a49081e"
      }
     },
     "metadata": {}
    },
    {
     "output_type": "stream",
     "name": "stdout",
     "text": [
      "Extracting ./data/MNIST/raw/train-images-idx3-ubyte.gz to ./data/MNIST/raw\n",
      "\n",
      "Downloading http://yann.lecun.com/exdb/mnist/train-labels-idx1-ubyte.gz\n",
      "Downloading http://yann.lecun.com/exdb/mnist/train-labels-idx1-ubyte.gz to ./data/MNIST/raw/train-labels-idx1-ubyte.gz\n"
     ]
    },
    {
     "output_type": "display_data",
     "data": {
      "text/plain": [
       "  0%|          | 0/28881 [00:00<?, ?it/s]"
      ],
      "application/vnd.jupyter.widget-view+json": {
       "version_major": 2,
       "version_minor": 0,
       "model_id": "631fc62b3bcb4773865d6228aaa702e6"
      }
     },
     "metadata": {}
    },
    {
     "output_type": "stream",
     "name": "stdout",
     "text": [
      "Extracting ./data/MNIST/raw/train-labels-idx1-ubyte.gz to ./data/MNIST/raw\n",
      "\n",
      "Downloading http://yann.lecun.com/exdb/mnist/t10k-images-idx3-ubyte.gz\n",
      "Downloading http://yann.lecun.com/exdb/mnist/t10k-images-idx3-ubyte.gz to ./data/MNIST/raw/t10k-images-idx3-ubyte.gz\n"
     ]
    },
    {
     "output_type": "display_data",
     "data": {
      "text/plain": [
       "  0%|          | 0/1648877 [00:00<?, ?it/s]"
      ],
      "application/vnd.jupyter.widget-view+json": {
       "version_major": 2,
       "version_minor": 0,
       "model_id": "cafb3beeefbb41fa94e61a7dec84555e"
      }
     },
     "metadata": {}
    },
    {
     "output_type": "stream",
     "name": "stdout",
     "text": [
      "Extracting ./data/MNIST/raw/t10k-images-idx3-ubyte.gz to ./data/MNIST/raw\n",
      "\n",
      "Downloading http://yann.lecun.com/exdb/mnist/t10k-labels-idx1-ubyte.gz\n",
      "Downloading http://yann.lecun.com/exdb/mnist/t10k-labels-idx1-ubyte.gz to ./data/MNIST/raw/t10k-labels-idx1-ubyte.gz\n"
     ]
    },
    {
     "output_type": "display_data",
     "data": {
      "text/plain": [
       "  0%|          | 0/4542 [00:00<?, ?it/s]"
      ],
      "application/vnd.jupyter.widget-view+json": {
       "version_major": 2,
       "version_minor": 0,
       "model_id": "166dd52cdc594830be43cecfe204f3d0"
      }
     },
     "metadata": {}
    },
    {
     "output_type": "stream",
     "name": "stdout",
     "text": [
      "Extracting ./data/MNIST/raw/t10k-labels-idx1-ubyte.gz to ./data/MNIST/raw\n",
      "\n"
     ]
    }
   ],
   "source": [
    "import torchvision\n",
    "import torchvision.transforms as transforms\n",
    "\n",
    "BATCH_SIZE = 64\n",
    "\n",
    "# переводим все в тензоры\n",
    "transform = transforms.Compose(\n",
    "    [transforms.ToTensor()])\n",
    "\n",
    "trainset = torchvision.datasets.MNIST(root='./data', train=True,\n",
    "                                      download=True, transform=transform)\n",
    "\n",
    "testset = torchvision.datasets.MNIST(root='./data', train=False,\n",
    "                                     download=True, transform=transform)\n",
    "\n",
    "trainloader = torch.utils.data.DataLoader(trainset, batch_size=BATCH_SIZE,\n",
    "                                          shuffle=True, num_workers=2)\n",
    "\n",
    "testloader = torch.utils.data.DataLoader(testset, batch_size=BATCH_SIZE,\n",
    "                                         shuffle=False, num_workers=2)"
   ]
  },
  {
   "cell_type": "code",
   "execution_count": null,
   "metadata": {
    "id": "zb3byVwpkHQz",
    "colab": {
     "base_uri": "https://localhost:8080/"
    },
    "outputId": "7e086432-9660-49f5-d2db-0599e71f0b05",
    "pycharm": {
     "name": "#%%\n"
    }
   },
   "outputs": [
    {
     "output_type": "stream",
     "name": "stdout",
     "text": [
      "total 4.0K\n",
      "drwxr-xr-x 3 root root 4.0K May 20 07:45 MNIST\n"
     ]
    }
   ],
   "source": [
    "!ls -lh data/"
   ]
  },
  {
   "cell_type": "code",
   "execution_count": null,
   "metadata": {
    "id": "wVCuLHrmkHQ4",
    "colab": {
     "base_uri": "https://localhost:8080/",
     "height": 286
    },
    "outputId": "925cba0d-b75e-4019-d80e-657a0cc3ddf8",
    "pycharm": {
     "name": "#%%\n"
    }
   },
   "outputs": [
    {
     "output_type": "stream",
     "name": "stdout",
     "text": [
      "Populating the interactive namespace from numpy and matplotlib\n"
     ]
    },
    {
     "output_type": "display_data",
     "data": {
      "text/plain": [
       "<Figure size 432x288 with 1 Axes>"
      ],
      "image/png": "[encoded data removed]"
     },
     "metadata": {
      "needs_background": "light"
     }
    }
   ],
   "source": [
    "%pylab inline\n",
    "import numpy as np\n",
    "\n",
    "def imshow(img):\n",
    "    #img = img / 2 + 0.5     # unnormalize\n",
    "    npimg = img.numpy()\n",
    "    plt.imshow(np.transpose(npimg, (1, 2, 0)))\n",
    "\n",
    "# get some random training images\n",
    "dataiter = iter(trainloader)\n",
    "images, labels = dataiter.next()\n",
    "\n",
    "# show images\n",
    "imshow(torchvision.utils.make_grid(images))"
   ]
  },
  {
   "cell_type": "markdown",
   "metadata": {
    "id": "NSBQfZBrkHQ8",
    "pycharm": {
     "name": "#%% md\n"
    }
   },
   "source": [
    "## Как выглядит классификация с RNN в общем виде "
   ]
  },
  {
   "cell_type": "markdown",
   "metadata": {
    "id": "xTIzNZ09kHQ9",
    "pycharm": {
     "name": "#%% md\n"
    }
   },
   "source": [
    "<img src=\"https://cdn-images-1.medium.com/max/1600/1*vhAfRLlaeOXZ-bruv7Ostg.png\" width=\"400\">"
   ]
  },
  {
   "cell_type": "code",
   "execution_count": null,
   "metadata": {
    "id": "uZ2UZw8vkHQ-",
    "pycharm": {
     "name": "#%%\n"
    }
   },
   "outputs": [],
   "source": [
    "class ImageRNN(nn.Module):\n",
    "    def __init__(self, batch_size, n_steps, n_inputs, n_neurons, n_outputs):\n",
    "        super().__init__()\n",
    "        \n",
    "        self.n_neurons = n_neurons\n",
    "        self.batch_size = batch_size\n",
    "        self.n_steps = n_steps\n",
    "        self.n_inputs = n_inputs\n",
    "        self.n_outputs = n_outputs\n",
    "        \n",
    "        self.basic_rnn = nn.RNN(self.n_inputs, self.n_neurons) \n",
    "        \n",
    "        self.FC = nn.Linear(self.n_neurons, self.n_outputs)\n",
    "        \n",
    "    def init_hidden(self,):\n",
    "        # (num_layers, batch_size, n_neurons)\n",
    "        return (torch.zeros(1, self.batch_size, self.n_neurons))\n",
    "        \n",
    "    def forward(self, X):\n",
    "        # transforms X to dimensions: n_steps X batch_size X n_inputs\n",
    "        X = X.permute(1, 0, 2) \n",
    "        \n",
    "        self.batch_size = X.size(1)\n",
    "        self.hidden = self.init_hidden()\n",
    "        \n",
    "        lstm_out, self.hidden = self.basic_rnn(X, self.hidden)      \n",
    "        out = self.FC(self.hidden)\n",
    "        \n",
    "        return out.view(-1, self.n_outputs) # batch_size X n_output"
   ]
  },
  {
   "cell_type": "code",
   "execution_count": null,
   "metadata": {
    "id": "8FZWcJTokHRB",
    "pycharm": {
     "name": "#%%\n"
    }
   },
   "outputs": [],
   "source": [
    "N_STEPS = 28\n",
    "N_INPUTS = 28\n",
    "N_NEURONS = 150\n",
    "N_OUTPUTS = 10\n",
    "N_EPHOCS = 10"
   ]
  },
  {
   "cell_type": "code",
   "execution_count": null,
   "metadata": {
    "id": "bLaGmqMnkHRE",
    "colab": {
     "base_uri": "https://localhost:8080/"
    },
    "outputId": "653c3c15-4e59-4e3a-dccc-335ab30c7e8d",
    "pycharm": {
     "name": "#%%\n"
    }
   },
   "outputs": [
    {
     "output_type": "stream",
     "name": "stdout",
     "text": [
      "tensor([[ 0.0373, -0.0540,  0.0486, -0.1007, -0.0133,  0.0910,  0.0649,  0.1065,\n",
      "         -0.1483, -0.1029],\n",
      "        [ 0.0235, -0.0404,  0.0562, -0.0838, -0.0337,  0.1055,  0.0880,  0.0878,\n",
      "         -0.1192, -0.1296],\n",
      "        [ 0.0315, -0.0598,  0.0478, -0.0937, -0.0174,  0.0863,  0.0526,  0.1001,\n",
      "         -0.1605, -0.1142],\n",
      "        [ 0.0430, -0.0222,  0.0128, -0.1150, -0.0435,  0.0746,  0.0697,  0.0835,\n",
      "         -0.1458, -0.0984],\n",
      "        [ 0.0316, -0.0534,  0.0559, -0.0985, -0.0129,  0.0957,  0.0652,  0.0982,\n",
      "         -0.1472, -0.1068],\n",
      "        [ 0.0326, -0.0446,  0.0413, -0.1052, -0.0204,  0.0650,  0.0786,  0.0984,\n",
      "         -0.1443, -0.0920],\n",
      "        [ 0.0380, -0.0488,  0.0539, -0.1023, -0.0193,  0.0984,  0.0627,  0.1096,\n",
      "         -0.1568, -0.0961],\n",
      "        [ 0.0346, -0.0493,  0.0463, -0.0974, -0.0190,  0.1012,  0.0698,  0.1028,\n",
      "         -0.1522, -0.0922],\n",
      "        [ 0.0333, -0.0650,  0.0515, -0.0883, -0.0231,  0.0848,  0.0535,  0.0865,\n",
      "         -0.1357, -0.0994],\n",
      "        [ 0.0402, -0.0506,  0.0547, -0.1043, -0.0197,  0.0989,  0.0631,  0.1063,\n",
      "         -0.1511, -0.0966]], grad_fn=<SliceBackward0>)\n"
     ]
    }
   ],
   "source": [
    "dataiter = iter(trainloader)\n",
    "images, labels = dataiter.next()\n",
    "model = ImageRNN(BATCH_SIZE, N_STEPS, N_INPUTS, N_NEURONS, N_OUTPUTS)\n",
    "logits = model(images.view(-1, 28,28))\n",
    "print(logits[0:10])"
   ]
  },
  {
   "cell_type": "markdown",
   "metadata": {
    "id": "snsRIyjtkHRJ",
    "pycharm": {
     "name": "#%% md\n"
    }
   },
   "source": [
    "## Обучаем"
   ]
  },
  {
   "cell_type": "code",
   "execution_count": null,
   "metadata": {
    "id": "bDAvHQlTkHRK",
    "pycharm": {
     "name": "#%%\n"
    }
   },
   "outputs": [],
   "source": [
    "import torch.optim as optim\n",
    "\n",
    "# Device\n",
    "device = torch.device(\"cuda:0\" if torch.cuda.is_available() else \"cpu\")\n",
    "\n",
    "# Model instance\n",
    "model = ImageRNN(BATCH_SIZE, N_STEPS, N_INPUTS, N_NEURONS, N_OUTPUTS)\n",
    "criterion = nn.CrossEntropyLoss()\n",
    "optimizer = optim.Adam(model.parameters(), lr=0.001)\n",
    "\n",
    "def get_accuracy(logit, target, batch_size):\n",
    "    ''' Obtain accuracy for training round '''\n",
    "    corrects = (torch.max(logit, 1)[1].view(target.size()).data == target.data).sum()\n",
    "    accuracy = 100.0 * corrects/batch_size\n",
    "    return accuracy.item()"
   ]
  },
  {
   "cell_type": "code",
   "execution_count": null,
   "metadata": {
    "id": "Flff1olHkHRN",
    "colab": {
     "base_uri": "https://localhost:8080/"
    },
    "outputId": "08d10fac-3bf0-42a9-9a96-f7e85875f7df",
    "pycharm": {
     "name": "#%%\n"
    }
   },
   "outputs": [
    {
     "output_type": "stream",
     "name": "stdout",
     "text": [
      "Epoch:  0 | Loss: 0.6677 | Train Accuracy: 78.56\n",
      "Epoch:  1 | Loss: 0.2926 | Train Accuracy: 91.76\n",
      "Epoch:  2 | Loss: 0.2215 | Train Accuracy: 93.77\n",
      "Epoch:  3 | Loss: 0.1821 | Train Accuracy: 94.89\n",
      "Epoch:  4 | Loss: 0.1659 | Train Accuracy: 95.32\n",
      "Epoch:  5 | Loss: 0.1484 | Train Accuracy: 95.84\n",
      "Epoch:  6 | Loss: 0.1288 | Train Accuracy: 96.50\n",
      "Epoch:  7 | Loss: 0.1257 | Train Accuracy: 96.52\n",
      "Epoch:  8 | Loss: 0.1268 | Train Accuracy: 96.44\n",
      "Epoch:  9 | Loss: 0.1110 | Train Accuracy: 96.94\n"
     ]
    }
   ],
   "source": [
    "for epoch in range(N_EPHOCS):\n",
    "    train_running_loss = 0.0\n",
    "    train_acc = 0.0\n",
    "    model.train()\n",
    "    \n",
    "    # TRAINING ROUND\n",
    "    for i, data in enumerate(trainloader):\n",
    "         # zero the parameter gradients\n",
    "        optimizer.zero_grad()\n",
    "        \n",
    "        # reset hidden states\n",
    "        model.hidden = model.init_hidden() \n",
    "        \n",
    "        # get the inputs\n",
    "        inputs, labels = data\n",
    "        inputs = inputs.view(-1, 28,28) \n",
    "\n",
    "        # forward + backward + optimize\n",
    "        outputs = model(inputs)\n",
    "\n",
    "        loss = criterion(outputs, labels)\n",
    "        loss.backward()\n",
    "        optimizer.step()\n",
    "\n",
    "        train_running_loss += loss.detach().item()\n",
    "        train_acc += get_accuracy(outputs, labels, BATCH_SIZE)\n",
    "         \n",
    "    model.eval()\n",
    "    print('Epoch:  %d | Loss: %.4f | Train Accuracy: %.2f' \n",
    "          %(epoch, train_running_loss / i, train_acc/i))"
   ]
  },
  {
   "cell_type": "markdown",
   "metadata": {
    "id": "6TPiwYZgkHRS",
    "pycharm": {
     "name": "#%% md\n"
    }
   },
   "source": [
    "### Смотрим что на тесте"
   ]
  },
  {
   "cell_type": "code",
   "execution_count": null,
   "metadata": {
    "id": "6j98n0YbkHRT",
    "colab": {
     "base_uri": "https://localhost:8080/"
    },
    "outputId": "6ae9e3d9-2647-4bc9-b4b3-9736c5b92588",
    "pycharm": {
     "name": "#%%\n"
    }
   },
   "outputs": [
    {
     "output_type": "stream",
     "name": "stdout",
     "text": [
      "Test Accuracy: 97.09\n"
     ]
    }
   ],
   "source": [
    "test_acc = 0.0\n",
    "for i, data in enumerate(testloader, 0):\n",
    "    inputs, labels = data\n",
    "    inputs = inputs.view(-1, 28, 28)\n",
    "\n",
    "    outputs = model(inputs)\n",
    "\n",
    "    test_acc += get_accuracy(outputs, labels, BATCH_SIZE)\n",
    "        \n",
    "print('Test Accuracy: %.2f'%( test_acc/i))"
   ]
  },
  {
   "cell_type": "markdown",
   "metadata": {
    "id": "kM_LmfEWkHRV",
    "pycharm": {
     "name": "#%% md\n"
    }
   },
   "source": [
    "# Сентимент анализ\n",
    "\n",
    "Домашка — классифицировать отзывы с IMDB на положительный / отрицательный только по тексту.\n",
    "\n",
    "<img src=\"https://github.com/bentrevett/pytorch-sentiment-analysis/raw/bf8cc46e4823ebf9af721b595501ad6231c73632/assets/sentiment1.png\">\n",
    "\n",
    "Суть такая же, только нужно предобработать тексты — каждому слову сопоставить обучаемый вектор (embedding), который пойдёт дальше в RNN."
   ]
  },
  {
   "cell_type": "code",
   "source": [
    "# это уберет боль работы с текстами\n",
    "!pip install torchtext==0.11.0\n",
    "!python -m spacy download en"
   ],
   "metadata": {
    "colab": {
     "base_uri": "https://localhost:8080/"
    },
    "id": "cEFqCJ2fOQoA",
    "outputId": "1db67000-b59b-49a2-de6e-6d3b696acc34",
    "pycharm": {
     "name": "#%%\n"
    }
   },
   "execution_count": null,
   "outputs": [
    {
     "output_type": "stream",
     "name": "stdout",
     "text": [
      "Requirement already satisfied: torchtext==0.11.0 in /usr/local/lib/python3.7/dist-packages (0.11.0)\n",
      "Collecting torch==1.10.0\n",
      "  Using cached torch-1.10.0-cp37-cp37m-manylinux1_x86_64.whl (881.9 MB)\n",
      "Requirement already satisfied: numpy in /usr/local/lib/python3.7/dist-packages (from torchtext==0.11.0) (1.21.6)\n",
      "Requirement already satisfied: requests in /usr/local/lib/python3.7/dist-packages (from torchtext==0.11.0) (2.23.0)\n",
      "Requirement already satisfied: tqdm in /usr/local/lib/python3.7/dist-packages (from torchtext==0.11.0) (4.64.0)\n",
      "Requirement already satisfied: typing-extensions in /usr/local/lib/python3.7/dist-packages (from torch==1.10.0->torchtext==0.11.0) (4.2.0)\n",
      "Requirement already satisfied: idna<3,>=2.5 in /usr/local/lib/python3.7/dist-packages (from requests->torchtext==0.11.0) (2.10)\n",
      "Requirement already satisfied: urllib3!=1.25.0,!=1.25.1,<1.26,>=1.21.1 in /usr/local/lib/python3.7/dist-packages (from requests->torchtext==0.11.0) (1.24.3)\n",
      "Requirement already satisfied: chardet<4,>=3.0.2 in /usr/local/lib/python3.7/dist-packages (from requests->torchtext==0.11.0) (3.0.4)\n",
      "Requirement already satisfied: certifi>=2017.4.17 in /usr/local/lib/python3.7/dist-packages (from requests->torchtext==0.11.0) (2021.10.8)\n",
      "Installing collected packages: torch\n",
      "  Attempting uninstall: torch\n",
      "    Found existing installation: torch 1.11.0\n",
      "    Uninstalling torch-1.11.0:\n",
      "      Successfully uninstalled torch-1.11.0\n",
      "\u001B[31mERROR: pip's dependency resolver does not currently take into account all the packages that are installed. This behaviour is the source of the following dependency conflicts.\n",
      "torchvision 0.12.0+cu113 requires torch==1.11.0, but you have torch 1.10.0 which is incompatible.\n",
      "torchaudio 0.11.0+cu113 requires torch==1.11.0, but you have torch 1.10.0 which is incompatible.\u001B[0m\n",
      "Successfully installed torch-1.10.0\n",
      "Collecting en_core_web_sm==2.2.5\n",
      "  Downloading https://github.com/explosion/spacy-models/releases/download/en_core_web_sm-2.2.5/en_core_web_sm-2.2.5.tar.gz (12.0 MB)\n",
      "\u001B[K     |████████████████████████████████| 12.0 MB 5.3 MB/s \n",
      "\u001B[?25hRequirement already satisfied: spacy>=2.2.2 in /usr/local/lib/python3.7/dist-packages (from en_core_web_sm==2.2.5) (2.2.4)\n",
      "Requirement already satisfied: numpy>=1.15.0 in /usr/local/lib/python3.7/dist-packages (from spacy>=2.2.2->en_core_web_sm==2.2.5) (1.21.6)\n",
      "Requirement already satisfied: srsly<1.1.0,>=1.0.2 in /usr/local/lib/python3.7/dist-packages (from spacy>=2.2.2->en_core_web_sm==2.2.5) (1.0.5)\n",
      "Requirement already satisfied: tqdm<5.0.0,>=4.38.0 in /usr/local/lib/python3.7/dist-packages (from spacy>=2.2.2->en_core_web_sm==2.2.5) (4.64.0)\n",
      "Requirement already satisfied: setuptools in /usr/local/lib/python3.7/dist-packages (from spacy>=2.2.2->en_core_web_sm==2.2.5) (57.4.0)\n",
      "Requirement already satisfied: thinc==7.4.0 in /usr/local/lib/python3.7/dist-packages (from spacy>=2.2.2->en_core_web_sm==2.2.5) (7.4.0)\n",
      "Requirement already satisfied: preshed<3.1.0,>=3.0.2 in /usr/local/lib/python3.7/dist-packages (from spacy>=2.2.2->en_core_web_sm==2.2.5) (3.0.6)\n",
      "Requirement already satisfied: cymem<2.1.0,>=2.0.2 in /usr/local/lib/python3.7/dist-packages (from spacy>=2.2.2->en_core_web_sm==2.2.5) (2.0.6)\n",
      "Requirement already satisfied: blis<0.5.0,>=0.4.0 in /usr/local/lib/python3.7/dist-packages (from spacy>=2.2.2->en_core_web_sm==2.2.5) (0.4.1)\n",
      "Requirement already satisfied: requests<3.0.0,>=2.13.0 in /usr/local/lib/python3.7/dist-packages (from spacy>=2.2.2->en_core_web_sm==2.2.5) (2.23.0)\n",
      "Requirement already satisfied: murmurhash<1.1.0,>=0.28.0 in /usr/local/lib/python3.7/dist-packages (from spacy>=2.2.2->en_core_web_sm==2.2.5) (1.0.7)\n",
      "Requirement already satisfied: catalogue<1.1.0,>=0.0.7 in /usr/local/lib/python3.7/dist-packages (from spacy>=2.2.2->en_core_web_sm==2.2.5) (1.0.0)\n",
      "Requirement already satisfied: plac<1.2.0,>=0.9.6 in /usr/local/lib/python3.7/dist-packages (from spacy>=2.2.2->en_core_web_sm==2.2.5) (1.1.3)\n",
      "Requirement already satisfied: wasabi<1.1.0,>=0.4.0 in /usr/local/lib/python3.7/dist-packages (from spacy>=2.2.2->en_core_web_sm==2.2.5) (0.9.1)\n",
      "Requirement already satisfied: importlib-metadata>=0.20 in /usr/local/lib/python3.7/dist-packages (from catalogue<1.1.0,>=0.0.7->spacy>=2.2.2->en_core_web_sm==2.2.5) (4.11.3)\n",
      "Requirement already satisfied: zipp>=0.5 in /usr/local/lib/python3.7/dist-packages (from importlib-metadata>=0.20->catalogue<1.1.0,>=0.0.7->spacy>=2.2.2->en_core_web_sm==2.2.5) (3.8.0)\n",
      "Requirement already satisfied: typing-extensions>=3.6.4 in /usr/local/lib/python3.7/dist-packages (from importlib-metadata>=0.20->catalogue<1.1.0,>=0.0.7->spacy>=2.2.2->en_core_web_sm==2.2.5) (4.2.0)\n",
      "Requirement already satisfied: chardet<4,>=3.0.2 in /usr/local/lib/python3.7/dist-packages (from requests<3.0.0,>=2.13.0->spacy>=2.2.2->en_core_web_sm==2.2.5) (3.0.4)\n",
      "Requirement already satisfied: idna<3,>=2.5 in /usr/local/lib/python3.7/dist-packages (from requests<3.0.0,>=2.13.0->spacy>=2.2.2->en_core_web_sm==2.2.5) (2.10)\n",
      "Requirement already satisfied: certifi>=2017.4.17 in /usr/local/lib/python3.7/dist-packages (from requests<3.0.0,>=2.13.0->spacy>=2.2.2->en_core_web_sm==2.2.5) (2021.10.8)\n",
      "Requirement already satisfied: urllib3!=1.25.0,!=1.25.1,<1.26,>=1.21.1 in /usr/local/lib/python3.7/dist-packages (from requests<3.0.0,>=2.13.0->spacy>=2.2.2->en_core_web_sm==2.2.5) (1.24.3)\n",
      "\u001B[38;5;2m✔ Download and installation successful\u001B[0m\n",
      "You can now load the model via spacy.load('en_core_web_sm')\n",
      "\u001B[38;5;2m✔ Linking successful\u001B[0m\n",
      "/usr/local/lib/python3.7/dist-packages/en_core_web_sm -->\n",
      "/usr/local/lib/python3.7/dist-packages/spacy/data/en\n",
      "You can now load the model via spacy.load('en')\n"
     ]
    }
   ]
  },
  {
   "cell_type": "markdown",
   "metadata": {
    "id": "sQ0jIrMtkHRW",
    "pycharm": {
     "name": "#%% md\n"
    }
   },
   "source": [
    "**Примечание.** Torchtext уже не очень живой проект, а в spacy нет русского.\n"
   ]
  },
  {
   "cell_type": "code",
   "execution_count": null,
   "metadata": {
    "id": "vpiI5vjUkHRW",
    "pycharm": {
     "name": "#%%\n"
    }
   },
   "outputs": [],
   "source": [
    "import torch\n",
    "from torchtext.legacy import data\n",
    "\n",
    "SEED = 1234\n",
    "\n",
    "torch.manual_seed(SEED)\n",
    "torch.cuda.manual_seed(SEED)\n",
    "torch.backends.cudnn.deterministic = True\n",
    "\n",
    "TEXT = data.Field(tokenize='spacy', tokenizer_language = 'en_core_web_sm', include_lengths=True)\n",
    "LABEL = data.LabelField(dtype=torch.float)"
   ]
  },
  {
   "cell_type": "code",
   "execution_count": null,
   "metadata": {
    "id": "MOCZ7pthkHRY",
    "pycharm": {
     "name": "#%%\n"
    }
   },
   "outputs": [],
   "source": [
    "from torchtext.legacy import datasets\n",
    "train_data, test_data = datasets.IMDB.splits(TEXT, LABEL, root=\"./data\")"
   ]
  },
  {
   "cell_type": "code",
   "execution_count": null,
   "metadata": {
    "id": "KPHUYfw2kHRb",
    "colab": {
     "base_uri": "https://localhost:8080/"
    },
    "outputId": "4aaac658-de6f-420e-f522-9ba7bbbcc67f",
    "pycharm": {
     "name": "#%%\n"
    }
   },
   "outputs": [
    {
     "output_type": "stream",
     "name": "stdout",
     "text": [
      "total 1.7M\n",
      "-rw-r--r-- 1 7297 1000 882K Jun 11  2011 imdbEr.txt\n",
      "-rw-r--r-- 1 7297 1000 827K Apr 12  2011 imdb.vocab\n",
      "-rw-r--r-- 1 7297 1000 4.0K Jun 26  2011 README\n",
      "drwxr-xr-x 4 7297 1000 4.0K Apr 12  2011 \u001B[0m\u001B[01;34mtest\u001B[0m/\n",
      "drwxr-xr-x 5 7297 1000 4.0K Jun 26  2011 \u001B[01;34mtrain\u001B[0m/\n"
     ]
    }
   ],
   "source": [
    "ls -lh data/imdb/aclImdb/"
   ]
  },
  {
   "cell_type": "code",
   "execution_count": null,
   "metadata": {
    "id": "U3Ow6Q3okHRf",
    "colab": {
     "base_uri": "https://localhost:8080/"
    },
    "outputId": "a6f7c2d9-6adc-4024-e9b8-d7ea9233cf0d",
    "pycharm": {
     "name": "#%%\n"
    }
   },
   "outputs": [
    {
     "output_type": "stream",
     "name": "stdout",
     "text": [
      "Number of training examples: 25000\n",
      "Number of testing examples: 25000\n"
     ]
    }
   ],
   "source": [
    "print(f'Number of training examples: {len(train_data)}')\n",
    "print(f'Number of testing examples: {len(test_data)}')"
   ]
  },
  {
   "cell_type": "code",
   "execution_count": null,
   "metadata": {
    "id": "zQquyqCEkHRk",
    "colab": {
     "base_uri": "https://localhost:8080/"
    },
    "outputId": "f160846c-c31c-431c-b174-84a24e62ee2f",
    "pycharm": {
     "name": "#%%\n"
    }
   },
   "outputs": [
    {
     "output_type": "stream",
     "name": "stdout",
     "text": [
      "{'text': ['CREEP', 'is', 'a', 'straight', 'up', 'serious', 'horror', 'film', 'set', 'in', 'real', 'time', 'that', 'wants', 'nothing', 'more', 'than', 'to', 'just', 'show', 'people', 'get', 'attacked', 'in', 'a', 'empty', 'subway', 'platform', 'by', 'a', 'mutant', 'for', '85', 'minutes', '.', 'And', 'it', 'does', 'just', 'that', '.', 'Nothing', 'more', ',', 'nothing', 'less', '.', 'Director', 'Christopher', 'Smith', 'draws', 'out', 'the', 'drama', 'a', 'far', 'as', 'he', 'plausibly', 'can', 'by', 'introducing', 'a', 'series', 'of', 'characters', 'that', 'would', 'actually', 'have', 'a', 'reason', 'to', 'be', 'in', 'the', 'subway', 'after', 'it', 'is', 'locked', '.', 'He', 'also', 'leaves', 'the', 'origins', 'of', 'the', 'titular', 'Creep', 'deliberately', 'vague', '(', 'unlawful', 'experiments', 'happening', 'in', 'the', '60s', 'underground', 'are', 'hinted', 'at', ')', 'and', 'that', 'little', 'bit', 'of', 'mystery', 'works', 'for', 'the', 'most', 'part', '.', 'Sadly', ',', 'he', 'undermines', 'himself', 'toward', 'the', 'end', 'by', 'actually', 'holding', 'back', 'from', 'a', 'twist', 'ending', 'where', 'more', 'genetic', 'malformations', 'would', 'appear', '(', 'they', 'are', 'hinted', 'at', 'as', 'well', ')', '.', 'Yes', ',', 'you', 'heard', 'me', 'right', '-', 'I', 'wanted', 'a', 'clichéd', 'twist', 'ending', '!', 'Franka', '(', 'RUN', 'LOLA', 'RUN', ')', 'Potente', 'is', 'good', 'as', 'the', 'terrorized', 'female', 'lead', 'and', 'the', 'rest', 'of', 'the', 'cast', 'is', 'fine', '.'], 'label': 'pos'}\n"
     ]
    }
   ],
   "source": [
    "print(vars(train_data.examples[0]))"
   ]
  },
  {
   "cell_type": "code",
   "execution_count": null,
   "metadata": {
    "id": "BufoUgSCkHRn",
    "pycharm": {
     "name": "#%%\n"
    }
   },
   "outputs": [],
   "source": [
    "# Сделаем еще eval\n",
    "import random\n",
    "\n",
    "train_data, valid_data = train_data.split(random_state=random.seed(SEED))"
   ]
  },
  {
   "cell_type": "code",
   "execution_count": null,
   "metadata": {
    "id": "f7amSe4ikHRp",
    "pycharm": {
     "name": "#%%\n"
    }
   },
   "outputs": [],
   "source": [
    "# Сделаем словарь\n",
    "TEXT.build_vocab(train_data, max_size=25000)\n",
    "LABEL.build_vocab(train_data)"
   ]
  },
  {
   "cell_type": "code",
   "execution_count": null,
   "metadata": {
    "id": "IWw3xa1gkHRr",
    "colab": {
     "base_uri": "https://localhost:8080/"
    },
    "outputId": "82c430fb-f3b0-4b67-ae73-ec9cdb9f39b4",
    "pycharm": {
     "name": "#%%\n"
    }
   },
   "outputs": [
    {
     "output_type": "stream",
     "name": "stdout",
     "text": [
      "Unique tokens in TEXT vocabulary: 25002\n",
      "Unique tokens in LABEL vocabulary: 2\n"
     ]
    }
   ],
   "source": [
    "print(f\"Unique tokens in TEXT vocabulary: {len(TEXT.vocab)}\")\n",
    "print(f\"Unique tokens in LABEL vocabulary: {len(LABEL.vocab)}\")"
   ]
  },
  {
   "cell_type": "code",
   "execution_count": null,
   "metadata": {
    "id": "Z-_ejTnFkHRx",
    "colab": {
     "base_uri": "https://localhost:8080/"
    },
    "outputId": "01230846-c49e-403d-8853-be11b7390d75",
    "pycharm": {
     "name": "#%%\n"
    }
   },
   "outputs": [
    {
     "output_type": "execute_result",
     "data": {
      "text/plain": [
       "{'freqs': Counter({'neg': 8810, 'pos': 8690}),\n",
       " 'itos': ['neg', 'pos'],\n",
       " 'stoi': defaultdict(None, {'neg': 0, 'pos': 1}),\n",
       " 'unk_index': None,\n",
       " 'vectors': None}"
      ]
     },
     "metadata": {},
     "execution_count": 10
    }
   ],
   "source": [
    "vars(LABEL.vocab)"
   ]
  },
  {
   "cell_type": "markdown",
   "metadata": {
    "id": "PhJ0nG7akHRz",
    "pycharm": {
     "name": "#%% md\n"
    }
   },
   "source": [
    "Почему 25002, а не 25000?\n",
    "Потому что $<unk>$ и $<pad>$\n",
    "\n",
    "<img src=\"https://github.com/bentrevett/pytorch-sentiment-analysis/raw/bf8cc46e4823ebf9af721b595501ad6231c73632/assets/sentiment6.png\" width=\"160\">"
   ]
  },
  {
   "cell_type": "code",
   "execution_count": null,
   "metadata": {
    "id": "qxMRpe-hkHRz",
    "colab": {
     "base_uri": "https://localhost:8080/"
    },
    "outputId": "a211fa46-93dd-4b6d-fd41-637be5d0a0b3",
    "pycharm": {
     "name": "#%%\n"
    }
   },
   "outputs": [
    {
     "output_type": "stream",
     "name": "stdout",
     "text": [
      "[('the', 203325), (',', 192715), ('.', 166053), ('and', 109620), ('a', 109403), ('of', 100857), ('to', 93979), ('is', 76335), ('in', 61613), ('I', 54402), ('it', 53767), ('that', 49330), ('\"', 44152), (\"'s\", 43462), ('this', 42159), ('-', 37218), ('/><br', 35858), ('was', 35049), ('as', 30385), ('with', 30061)]\n"
     ]
    }
   ],
   "source": [
    "print(TEXT.vocab.freqs.most_common(20))"
   ]
  },
  {
   "cell_type": "markdown",
   "metadata": {
    "id": "1kPcwN6qkHR1",
    "pycharm": {
     "name": "#%% md\n"
    }
   },
   "source": [
    "* stoi (string to int)\n",
    "* itos (int to string)"
   ]
  },
  {
   "cell_type": "code",
   "execution_count": null,
   "metadata": {
    "id": "fVf_llCokHR2",
    "colab": {
     "base_uri": "https://localhost:8080/"
    },
    "outputId": "16ddc9bd-03c1-492b-f845-482e73ba60fe",
    "pycharm": {
     "name": "#%%\n"
    }
   },
   "outputs": [
    {
     "output_type": "stream",
     "name": "stdout",
     "text": [
      "['<unk>', '<pad>', 'the', ',', '.', 'and', 'a', 'of', 'to', 'is']\n"
     ]
    }
   ],
   "source": [
    "print(TEXT.vocab.itos[:10])"
   ]
  },
  {
   "cell_type": "code",
   "execution_count": null,
   "metadata": {
    "id": "K430yfrfkHR3",
    "colab": {
     "base_uri": "https://localhost:8080/"
    },
    "outputId": "c7faffe3-d11f-4324-d1d6-4a3d8ccdec34",
    "pycharm": {
     "name": "#%%\n"
    }
   },
   "outputs": [
    {
     "output_type": "stream",
     "name": "stdout",
     "text": [
      "defaultdict(None, {'neg': 0, 'pos': 1})\n"
     ]
    }
   ],
   "source": [
    "print(LABEL.vocab.stoi)"
   ]
  },
  {
   "cell_type": "markdown",
   "source": [
    "### Установим дополнительные библиотеки. Sentence transformers для извлечения более качественных и осмысленных эмбеддингов, nltk - для предобработки текстов\n",
    "\n",
    "P.S. Наверное, для данной задачи это оверкилл, но я решил попробовать 😀"
   ],
   "metadata": {
    "id": "tbTqYH_O_Y7-",
    "pycharm": {
     "name": "#%% md\n"
    }
   }
  },
  {
   "cell_type": "code",
   "source": [
    "!pip install -q -U sentence-transformers\n",
    "!pip install -q nltk"
   ],
   "metadata": {
    "id": "YP_3D-MPoh4Q",
    "colab": {
     "base_uri": "https://localhost:8080/"
    },
    "outputId": "fa974f1f-e4c5-4896-d2f2-ecbee64e4c71",
    "pycharm": {
     "name": "#%%\n"
    }
   },
   "execution_count": null,
   "outputs": [
    {
     "output_type": "stream",
     "name": "stdout",
     "text": [
      "\u001B[31mERROR: pip's dependency resolver does not currently take into account all the packages that are installed. This behaviour is the source of the following dependency conflicts.\n",
      "torchtext 0.11.0 requires torch==1.10.0, but you have torch 1.11.0 which is incompatible.\u001B[0m\n"
     ]
    }
   ]
  },
  {
   "cell_type": "code",
   "source": [
    "from sentence_transformers import SentenceTransformer\n",
    "\n",
    "import nltk\n",
    "nltk.download('stopwords')\n",
    "nltk.download('wordnet')\n",
    "from nltk.corpus import stopwords\n",
    "from nltk.stem import WordNetLemmatizer\n",
    "\n",
    "import re\n",
    "\n",
    "device = torch.device('cuda:0' if torch.cuda.is_available() else 'cpu')\n",
    "embedder = SentenceTransformer('all-MiniLM-L6-v2', device=device) # трансформер для извлечения эмбеддингов\n",
    "lemmatizer = WordNetLemmatizer() # лемматизатор\n",
    "word_regex = re.compile(r'[a-zA-Zа-яА-Я]+') # а этим будем очищать текст от знаков препинания и пробелов\n",
    "russian_stopwords = stopwords.words('russian') # этим будем чистить текст от стоп-слов\n",
    "english_spotwords = stopwords.words('english') #\n",
    "\n",
    "def preprocess_text(text):\n",
    "  text = list(map(lambda word: word.lower(), word_regex.findall(' '.join(text)))) # удаляем знаки препинания и пробелы, делаем lowercase\n",
    "  text = [lemmatizer.lemmatize(word) for word in text] # находим леммы слов\n",
    "  text = [word for word in text if word not in russian_stopwords  and  word not in english_spotwords] # удаляем стоп-слова\n",
    "  text = ' '.join(text) # склеиваем через пробел (эмбеддер, увы, принимает только строки)\n",
    "  embedding = embedder.encode(text, convert_to_tensor=True, normalize_embeddings=True, device=device).view(1, 384) # находим эмбеддинги\n",
    "  # 384 - размер эмбеддингов, которые возвращает используемая модель\n",
    "  return embedding"
   ],
   "metadata": {
    "id": "BvNVFZqWojep",
    "colab": {
     "base_uri": "https://localhost:8080/"
    },
    "outputId": "37c591c1-522e-4632-b0c5-46569a2cc50e",
    "pycharm": {
     "name": "#%%\n"
    }
   },
   "execution_count": null,
   "outputs": [
    {
     "output_type": "stream",
     "name": "stdout",
     "text": [
      "[nltk_data] Downloading package stopwords to /root/nltk_data...\n",
      "[nltk_data]   Package stopwords is already up-to-date!\n",
      "[nltk_data] Downloading package wordnet to /root/nltk_data...\n",
      "[nltk_data]   Package wordnet is already up-to-date!\n"
     ]
    }
   ]
  },
  {
   "cell_type": "code",
   "source": [
    "from torch.utils.data import Dataset, DataLoader\n",
    "\n",
    "class IMDBDataset(Dataset):\n",
    "  def __init__(self, torchtext_dataset):\n",
    "    super().__init__()\n",
    "    text_embeddings = []\n",
    "    labels = []\n",
    "    for i in range(len(torchtext_dataset.examples)):\n",
    "      comment = vars(torchtext_dataset.examples[i])['text'] # берем один отзыв\n",
    "      embedding = preprocess_text(comment) # находим его эмбеддинг\n",
    "\n",
    "      label = 1 if vars(torchtext_dataset.examples[i])['label'] == 'pos' else 0 # кодируем лэйблы\n",
    "      text_embeddings.append(embedding)\n",
    "      labels.append(label)\n",
    "\n",
    "    self.text_embeddings = text_embeddings\n",
    "    self.labels = torch.tensor(labels)\n",
    "\n",
    "  def __len__(self):\n",
    "    return len(self.labels)\n",
    "  \n",
    "  def __getitem__(self, idx):\n",
    "    return self.text_embeddings[idx], self.labels[idx]"
   ],
   "metadata": {
    "id": "LhNf9CjOnVR5",
    "pycharm": {
     "name": "#%%\n"
    }
   },
   "execution_count": null,
   "outputs": []
  },
  {
   "cell_type": "markdown",
   "source": [
    "### Определяем train/eval dataset/dataloader"
   ],
   "metadata": {
    "id": "HHRRiWeiBw2i",
    "pycharm": {
     "name": "#%% md\n"
    }
   }
  },
  {
   "cell_type": "code",
   "execution_count": null,
   "metadata": {
    "id": "qzyXSNLTkHR5",
    "pycharm": {
     "name": "#%%\n"
    }
   },
   "outputs": [],
   "source": [
    "BATCH_SIZE = 64\n",
    "\n",
    "train_dataset = IMDBDataset(train_data)\n",
    "train_loader = DataLoader(train_dataset, batch_size=BATCH_SIZE, shuffle=True)\n",
    "\n",
    "eval_dataset = IMDBDataset(valid_data)\n",
    "eval_loader = DataLoader(eval_dataset, batch_size=BATCH_SIZE, shuffle=True)"
   ]
  },
  {
   "cell_type": "markdown",
   "metadata": {
    "id": "Z1NZqp-6kHR9",
    "pycharm": {
     "name": "#%% md\n"
    }
   },
   "source": [
    "## Делаем модель"
   ]
  },
  {
   "cell_type": "markdown",
   "metadata": {
    "id": "cgP2m_x0kHR-",
    "pycharm": {
     "name": "#%% md\n"
    }
   },
   "source": [
    "<img src=\"https://github.com/bentrevett/pytorch-sentiment-analysis/raw/bf8cc46e4823ebf9af721b595501ad6231c73632/assets/sentiment7.png\" width=\"450\">"
   ]
  },
  {
   "cell_type": "markdown",
   "metadata": {
    "id": "r9OlXUAvkHR_",
    "pycharm": {
     "name": "#%% md\n"
    }
   },
   "source": [
    "* В эмбеддер (emb = [torch.nn.Embedding(num_embeddings, embedding_dim)](https://pytorch.org/docs/stable/nn.html?highlight=embedding#torch.nn.Embedding)) запихиваем тензор размерностью **[sentence length, batch size]**\n",
    "* Эмбеддер возвращает тензор размерностью **[sentence length, batch size, embedding dim]**\n",
    "* RNN (torch.nn.RNN(embedding_dim, hidden_dim)) возвращает 2 тензора, *output* размера [sentence length, batch size, hidden dim] и *hidden* размера [1, batch size, hidden dim]"
   ]
  },
  {
   "cell_type": "code",
   "execution_count": null,
   "metadata": {
    "id": "HrizbizOkHR_",
    "pycharm": {
     "name": "#%%\n"
    }
   },
   "outputs": [],
   "source": [
    "from torch import nn\n",
    "\n",
    "class RNN(nn.Module):\n",
    "    def __init__(self, embedding_dim, hidden_dim, output_dim):\n",
    "        super().__init__()\n",
    "        self.lstm = nn.LSTM(embedding_dim, \n",
    "                            hidden_dim, \n",
    "                            num_layers=2, \n",
    "                            bidirectional=True,\n",
    "                            dropout=0.2,\n",
    "                            batch_first=True)\n",
    "        self.linear = nn.Linear(hidden_dim * 2, output_dim)\n",
    "\n",
    "    def forward(self, embeddings):\n",
    "        packed_output, (hidden, cell) = self.lstm(embeddings)\n",
    "        hidden = torch.cat((hidden[-2, :, :], hidden[-1, :, :]), dim=1)   \n",
    "        return self.linear(hidden)"
   ]
  },
  {
   "cell_type": "markdown",
   "source": [
    "### Обучаемся"
   ],
   "metadata": {
    "id": "GkAKyID_CB-R",
    "pycharm": {
     "name": "#%% md\n"
    }
   }
  },
  {
   "cell_type": "code",
   "source": [
    "embedding_dim = 384\n",
    "hidden_dim = 128\n",
    "output_dim = 1\n",
    "\n",
    "model = RNN(embedding_dim, hidden_dim, output_dim).to(device)\n",
    "optimizer = torch.optim.Adam(model.parameters(), lr=1e-3)\n",
    "criterion = nn.BCEWithLogitsLoss()"
   ],
   "metadata": {
    "id": "zH_K-CQ0aDJT",
    "pycharm": {
     "name": "#%%\n"
    }
   },
   "execution_count": null,
   "outputs": []
  },
  {
   "cell_type": "code",
   "source": [
    "def accuracy(preds, labels):\n",
    "    rounded_preds = torch.round(torch.sigmoid(preds))\n",
    "    correct = (rounded_preds == labels).float()\n",
    "    return correct.sum() / len(correct)"
   ],
   "metadata": {
    "id": "1_NL-XxvcQoe",
    "pycharm": {
     "name": "#%%\n"
    }
   },
   "execution_count": null,
   "outputs": []
  },
  {
   "cell_type": "code",
   "execution_count": null,
   "metadata": {
    "id": "ctEOkK-6kHSB",
    "colab": {
     "base_uri": "https://localhost:8080/"
    },
    "outputId": "89d1631f-f485-41cc-b491-cae9591745ad",
    "pycharm": {
     "name": "#%%\n"
    }
   },
   "outputs": [
    {
     "output_type": "stream",
     "name": "stdout",
     "text": [
      "Epoch 0\n",
      "\tTrain | Loss: 0.4612 | Accuracy: 77.11%\n",
      "\tValid | Loss: 0.4074 | Accuracy: 78.18%\n",
      "Epoch 1\n",
      "\tTrain | Loss: 0.3976 | Accuracy: 81.88%\n",
      "\tValid | Loss: 0.4212 | Accuracy: 79.06%\n",
      "Epoch 2\n",
      "\tTrain | Loss: 0.3895 | Accuracy: 82.08%\n",
      "\tValid | Loss: 0.3110 | Accuracy: 85.71%\n",
      "Epoch 3\n",
      "\tTrain | Loss: 0.3872 | Accuracy: 82.37%\n",
      "\tValid | Loss: 0.2947 | Accuracy: 88.20%\n",
      "Epoch 4\n",
      "\tTrain | Loss: 0.3799 | Accuracy: 82.53%\n",
      "\tValid | Loss: 0.2944 | Accuracy: 95.55%\n",
      "Epoch 5\n",
      "\tTrain | Loss: 0.3746 | Accuracy: 82.64%\n",
      "\tValid | Loss: 0.4532 | Accuracy: 82.14%\n",
      "Epoch 6\n",
      "\tTrain | Loss: 0.3712 | Accuracy: 82.93%\n",
      "\tValid | Loss: 0.3043 | Accuracy: 85.71%\n",
      "Epoch 7\n",
      "\tTrain | Loss: 0.3673 | Accuracy: 83.02%\n",
      "\tValid | Loss: 0.3699 | Accuracy: 82.38%\n",
      "Epoch 8\n",
      "\tTrain | Loss: 0.3650 | Accuracy: 83.24%\n",
      "\tValid | Loss: 0.4031 | Accuracy: 85.53%\n",
      "Epoch 9\n",
      "\tTrain | Loss: 0.3582 | Accuracy: 83.57%\n",
      "\tValid | Loss: 0.2755 | Accuracy: 92.86%\n"
     ]
    }
   ],
   "source": [
    "N_EPOCHS = 10\n",
    "best_valid_loss = float('inf')\n",
    "for epoch in range(N_EPOCHS):\n",
    "    train_loss = 0\n",
    "    train_acc = 0\n",
    "    valid_loss = 0\n",
    "    valid_acc = 0\n",
    "\n",
    "    for embeddings, labels in train_loader:\n",
    "        embeddings, labels = embeddings.to(device), labels.to(device)\n",
    "        optimizer.zero_grad()\n",
    "\n",
    "        predictions = model(embeddings).squeeze(1)\n",
    "        loss = criterion(predictions, labels.float())\n",
    "        acc = accuracy(predictions, labels)\n",
    "        loss.backward()\n",
    "        optimizer.step()\n",
    "\n",
    "        train_loss += loss.item()\n",
    "        train_acc += acc.item()\n",
    "\n",
    "    train_loss /= len(train_loader)\n",
    "    train_acc /= len(train_loader)\n",
    "\n",
    "    with torch.no_grad():\n",
    "        for valid_data in eval_loader:\n",
    "            embeddings, labels = embeddings.to(device), labels.to(device)\n",
    "\n",
    "            predictions = model(embeddings).squeeze(1)\n",
    "            loss = criterion(predictions, labels.float())\n",
    "            acc = accuracy(predictions, labels)\n",
    "            valid_loss += loss.item()\n",
    "            valid_acc += acc.item()\n",
    "    \n",
    "    valid_loss /= len(eval_loader)\n",
    "    valid_acc /= len(eval_loader)\n",
    "      \n",
    "    if valid_loss < best_valid_loss:\n",
    "        best_valid_loss = valid_loss\n",
    "        torch.save(model.state_dict(), 'model.pt')\n",
    "    \n",
    "    print(f'Epoch {epoch}')\n",
    "    print(f'\\tTrain | Loss: {train_loss:.4f} | Accuracy: {train_acc*100:.2f}%') \n",
    "    print(f'\\tValid | Loss: {valid_loss:.4f} | Accuracy: {valid_acc*100:.2f}%') "
   ]
  },
  {
   "cell_type": "markdown",
   "source": [
    "### Тестируемся"
   ],
   "metadata": {
    "id": "4b9vQSsWCFsU",
    "pycharm": {
     "name": "#%% md\n"
    }
   }
  },
  {
   "cell_type": "code",
   "source": [
    "test_dataset = IMDBDataset(test_data)\n",
    "test_loader = DataLoader(test_dataset, batch_size=BATCH_SIZE, shuffle=True)"
   ],
   "metadata": {
    "id": "xw1DABi4eU6V",
    "pycharm": {
     "name": "#%%\n"
    }
   },
   "execution_count": null,
   "outputs": []
  },
  {
   "cell_type": "code",
   "source": [
    "test_loss = 0\n",
    "test_acc = 0\n",
    "with torch.no_grad():\n",
    "  for valid_data in test_loader:\n",
    "    embeddings, labels = embeddings.to(device), labels.to(device)\n",
    "\n",
    "    predictions = model(embeddings).squeeze(1)\n",
    "    loss = criterion(predictions, labels.float())\n",
    "    acc = accuracy(predictions, labels)\n",
    "    test_loss += loss.item()\n",
    "    test_acc += acc.item()\n",
    "\n",
    "  test_loss /= len(test_loader)\n",
    "  test_acc /= len(test_loader)"
   ],
   "metadata": {
    "id": "SK1GkCnVZeoF",
    "pycharm": {
     "name": "#%%\n"
    }
   },
   "execution_count": null,
   "outputs": []
  },
  {
   "cell_type": "code",
   "source": [
    "print(f'Test loss: {test_loss:.4f}, test_acc: {test_acc * 100:.2f}%')"
   ],
   "metadata": {
    "colab": {
     "base_uri": "https://localhost:8080/"
    },
    "id": "wKemaHutfLej",
    "outputId": "1b7726e8-4a27-4b82-9660-99985ed743d4",
    "pycharm": {
     "name": "#%%\n"
    }
   },
   "execution_count": null,
   "outputs": [
    {
     "output_type": "stream",
     "name": "stdout",
     "text": [
      "Test loss: 0.2749, test_acc: 92.86%\n"
     ]
    }
   ]
  }
 ],
 "metadata": {
  "colab": {
   "collapsed_sections": [],
   "name": "RNN.ipynb",
   "provenance": []
  },
  "kernelspec": {
   "display_name": "Python 3",
   "language": "python",
   "name": "python3"
  },
  "language_info": {
   "codemirror_mode": {
    "name": "ipython",
    "version": 3
   },
   "file_extension": ".py",
   "mimetype": "text/x-python",
   "name": "python",
   "nbconvert_exporter": "python",
   "pygments_lexer": "ipython3",
   "version": "3.8.5"
  },
  "accelerator": "GPU",
  "widgets": {
   "application/vnd.jupyter.widget-state+json": {
    "923b99eb860d45a3b78823b31a49081e": {
     "model_module": "@jupyter-widgets/controls",
     "model_name": "HBoxModel",
     "model_module_version": "1.5.0",
     "state": {
      "_dom_classes": [],
      "_model_module": "@jupyter-widgets/controls",
      "_model_module_version": "1.5.0",
      "_model_name": "HBoxModel",
      "_view_count": null,
      "_view_module": "@jupyter-widgets/controls",
      "_view_module_version": "1.5.0",
      "_view_name": "HBoxView",
      "box_style": "",
      "children": [
       "IPY_MODEL_1bdc39fb48994df782740698e6ce59c9",
       "IPY_MODEL_dab0884f0ac742d9a7ab55e046ecb993",
       "IPY_MODEL_fe2851b0a3d844d3873c54423117dd88"
      ],
      "layout": "IPY_MODEL_0f08453347f649a098734f63e136bc2f"
     }
    },
    "1bdc39fb48994df782740698e6ce59c9": {
     "model_module": "@jupyter-widgets/controls",
     "model_name": "HTMLModel",
     "model_module_version": "1.5.0",
     "state": {
      "_dom_classes": [],
      "_model_module": "@jupyter-widgets/controls",
      "_model_module_version": "1.5.0",
      "_model_name": "HTMLModel",
      "_view_count": null,
      "_view_module": "@jupyter-widgets/controls",
      "_view_module_version": "1.5.0",
      "_view_name": "HTMLView",
      "description": "",
      "description_tooltip": null,
      "layout": "IPY_MODEL_e0f3d40d5956406091a4f60065352393",
      "placeholder": "​",
      "style": "IPY_MODEL_ec2b1868eeb344b69bcd9660e28d5d75",
      "value": ""
     }
    },
    "dab0884f0ac742d9a7ab55e046ecb993": {
     "model_module": "@jupyter-widgets/controls",
     "model_name": "FloatProgressModel",
     "model_module_version": "1.5.0",
     "state": {
      "_dom_classes": [],
      "_model_module": "@jupyter-widgets/controls",
      "_model_module_version": "1.5.0",
      "_model_name": "FloatProgressModel",
      "_view_count": null,
      "_view_module": "@jupyter-widgets/controls",
      "_view_module_version": "1.5.0",
      "_view_name": "ProgressView",
      "bar_style": "success",
      "description": "",
      "description_tooltip": null,
      "layout": "IPY_MODEL_5e4092e3f9184381a5e8b618e80ab578",
      "max": 9912422,
      "min": 0,
      "orientation": "horizontal",
      "style": "IPY_MODEL_5c1a53f00fe047d5897e416af01f28ce",
      "value": 9912422
     }
    },
    "fe2851b0a3d844d3873c54423117dd88": {
     "model_module": "@jupyter-widgets/controls",
     "model_name": "HTMLModel",
     "model_module_version": "1.5.0",
     "state": {
      "_dom_classes": [],
      "_model_module": "@jupyter-widgets/controls",
      "_model_module_version": "1.5.0",
      "_model_name": "HTMLModel",
      "_view_count": null,
      "_view_module": "@jupyter-widgets/controls",
      "_view_module_version": "1.5.0",
      "_view_name": "HTMLView",
      "description": "",
      "description_tooltip": null,
      "layout": "IPY_MODEL_b8e94a7e4756483aaba9c5864aa1b306",
      "placeholder": "​",
      "style": "IPY_MODEL_ad6e0e3471cd432581246e6893c00b62",
      "value": " 9913344/? [00:00&lt;00:00, 20100091.15it/s]"
     }
    },
    "0f08453347f649a098734f63e136bc2f": {
     "model_module": "@jupyter-widgets/base",
     "model_name": "LayoutModel",
     "model_module_version": "1.2.0",
     "state": {
      "_model_module": "@jupyter-widgets/base",
      "_model_module_version": "1.2.0",
      "_model_name": "LayoutModel",
      "_view_count": null,
      "_view_module": "@jupyter-widgets/base",
      "_view_module_version": "1.2.0",
      "_view_name": "LayoutView",
      "align_content": null,
      "align_items": null,
      "align_self": null,
      "border": null,
      "bottom": null,
      "display": null,
      "flex": null,
      "flex_flow": null,
      "grid_area": null,
      "grid_auto_columns": null,
      "grid_auto_flow": null,
      "grid_auto_rows": null,
      "grid_column": null,
      "grid_gap": null,
      "grid_row": null,
      "grid_template_areas": null,
      "grid_template_columns": null,
      "grid_template_rows": null,
      "height": null,
      "justify_content": null,
      "justify_items": null,
      "left": null,
      "margin": null,
      "max_height": null,
      "max_width": null,
      "min_height": null,
      "min_width": null,
      "object_fit": null,
      "object_position": null,
      "order": null,
      "overflow": null,
      "overflow_x": null,
      "overflow_y": null,
      "padding": null,
      "right": null,
      "top": null,
      "visibility": null,
      "width": null
     }
    },
    "e0f3d40d5956406091a4f60065352393": {
     "model_module": "@jupyter-widgets/base",
     "model_name": "LayoutModel",
     "model_module_version": "1.2.0",
     "state": {
      "_model_module": "@jupyter-widgets/base",
      "_model_module_version": "1.2.0",
      "_model_name": "LayoutModel",
      "_view_count": null,
      "_view_module": "@jupyter-widgets/base",
      "_view_module_version": "1.2.0",
      "_view_name": "LayoutView",
      "align_content": null,
      "align_items": null,
      "align_self": null,
      "border": null,
      "bottom": null,
      "display": null,
      "flex": null,
      "flex_flow": null,
      "grid_area": null,
      "grid_auto_columns": null,
      "grid_auto_flow": null,
      "grid_auto_rows": null,
      "grid_column": null,
      "grid_gap": null,
      "grid_row": null,
      "grid_template_areas": null,
      "grid_template_columns": null,
      "grid_template_rows": null,
      "height": null,
      "justify_content": null,
      "justify_items": null,
      "left": null,
      "margin": null,
      "max_height": null,
      "max_width": null,
      "min_height": null,
      "min_width": null,
      "object_fit": null,
      "object_position": null,
      "order": null,
      "overflow": null,
      "overflow_x": null,
      "overflow_y": null,
      "padding": null,
      "right": null,
      "top": null,
      "visibility": null,
      "width": null
     }
    },
    "ec2b1868eeb344b69bcd9660e28d5d75": {
     "model_module": "@jupyter-widgets/controls",
     "model_name": "DescriptionStyleModel",
     "model_module_version": "1.5.0",
     "state": {
      "_model_module": "@jupyter-widgets/controls",
      "_model_module_version": "1.5.0",
      "_model_name": "DescriptionStyleModel",
      "_view_count": null,
      "_view_module": "@jupyter-widgets/base",
      "_view_module_version": "1.2.0",
      "_view_name": "StyleView",
      "description_width": ""
     }
    },
    "5e4092e3f9184381a5e8b618e80ab578": {
     "model_module": "@jupyter-widgets/base",
     "model_name": "LayoutModel",
     "model_module_version": "1.2.0",
     "state": {
      "_model_module": "@jupyter-widgets/base",
      "_model_module_version": "1.2.0",
      "_model_name": "LayoutModel",
      "_view_count": null,
      "_view_module": "@jupyter-widgets/base",
      "_view_module_version": "1.2.0",
      "_view_name": "LayoutView",
      "align_content": null,
      "align_items": null,
      "align_self": null,
      "border": null,
      "bottom": null,
      "display": null,
      "flex": null,
      "flex_flow": null,
      "grid_area": null,
      "grid_auto_columns": null,
      "grid_auto_flow": null,
      "grid_auto_rows": null,
      "grid_column": null,
      "grid_gap": null,
      "grid_row": null,
      "grid_template_areas": null,
      "grid_template_columns": null,
      "grid_template_rows": null,
      "height": null,
      "justify_content": null,
      "justify_items": null,
      "left": null,
      "margin": null,
      "max_height": null,
      "max_width": null,
      "min_height": null,
      "min_width": null,
      "object_fit": null,
      "object_position": null,
      "order": null,
      "overflow": null,
      "overflow_x": null,
      "overflow_y": null,
      "padding": null,
      "right": null,
      "top": null,
      "visibility": null,
      "width": null
     }
    },
    "5c1a53f00fe047d5897e416af01f28ce": {
     "model_module": "@jupyter-widgets/controls",
     "model_name": "ProgressStyleModel",
     "model_module_version": "1.5.0",
     "state": {
      "_model_module": "@jupyter-widgets/controls",
      "_model_module_version": "1.5.0",
      "_model_name": "ProgressStyleModel",
      "_view_count": null,
      "_view_module": "@jupyter-widgets/base",
      "_view_module_version": "1.2.0",
      "_view_name": "StyleView",
      "bar_color": null,
      "description_width": ""
     }
    },
    "b8e94a7e4756483aaba9c5864aa1b306": {
     "model_module": "@jupyter-widgets/base",
     "model_name": "LayoutModel",
     "model_module_version": "1.2.0",
     "state": {
      "_model_module": "@jupyter-widgets/base",
      "_model_module_version": "1.2.0",
      "_model_name": "LayoutModel",
      "_view_count": null,
      "_view_module": "@jupyter-widgets/base",
      "_view_module_version": "1.2.0",
      "_view_name": "LayoutView",
      "align_content": null,
      "align_items": null,
      "align_self": null,
      "border": null,
      "bottom": null,
      "display": null,
      "flex": null,
      "flex_flow": null,
      "grid_area": null,
      "grid_auto_columns": null,
      "grid_auto_flow": null,
      "grid_auto_rows": null,
      "grid_column": null,
      "grid_gap": null,
      "grid_row": null,
      "grid_template_areas": null,
      "grid_template_columns": null,
      "grid_template_rows": null,
      "height": null,
      "justify_content": null,
      "justify_items": null,
      "left": null,
      "margin": null,
      "max_height": null,
      "max_width": null,
      "min_height": null,
      "min_width": null,
      "object_fit": null,
      "object_position": null,
      "order": null,
      "overflow": null,
      "overflow_x": null,
      "overflow_y": null,
      "padding": null,
      "right": null,
      "top": null,
      "visibility": null,
      "width": null
     }
    },
    "ad6e0e3471cd432581246e6893c00b62": {
     "model_module": "@jupyter-widgets/controls",
     "model_name": "DescriptionStyleModel",
     "model_module_version": "1.5.0",
     "state": {
      "_model_module": "@jupyter-widgets/controls",
      "_model_module_version": "1.5.0",
      "_model_name": "DescriptionStyleModel",
      "_view_count": null,
      "_view_module": "@jupyter-widgets/base",
      "_view_module_version": "1.2.0",
      "_view_name": "StyleView",
      "description_width": ""
     }
    },
    "631fc62b3bcb4773865d6228aaa702e6": {
     "model_module": "@jupyter-widgets/controls",
     "model_name": "HBoxModel",
     "model_module_version": "1.5.0",
     "state": {
      "_dom_classes": [],
      "_model_module": "@jupyter-widgets/controls",
      "_model_module_version": "1.5.0",
      "_model_name": "HBoxModel",
      "_view_count": null,
      "_view_module": "@jupyter-widgets/controls",
      "_view_module_version": "1.5.0",
      "_view_name": "HBoxView",
      "box_style": "",
      "children": [
       "IPY_MODEL_b0863036504e4dd48d3943598a76504e",
       "IPY_MODEL_88e57101957e48489149340332c34eba",
       "IPY_MODEL_936db03890cc426392d82f33c8cc803c"
      ],
      "layout": "IPY_MODEL_57f6a042bc654d7ba5d837d7c580ee64"
     }
    },
    "b0863036504e4dd48d3943598a76504e": {
     "model_module": "@jupyter-widgets/controls",
     "model_name": "HTMLModel",
     "model_module_version": "1.5.0",
     "state": {
      "_dom_classes": [],
      "_model_module": "@jupyter-widgets/controls",
      "_model_module_version": "1.5.0",
      "_model_name": "HTMLModel",
      "_view_count": null,
      "_view_module": "@jupyter-widgets/controls",
      "_view_module_version": "1.5.0",
      "_view_name": "HTMLView",
      "description": "",
      "description_tooltip": null,
      "layout": "IPY_MODEL_a5b6967b17e447709cd4ecd928e17e8a",
      "placeholder": "​",
      "style": "IPY_MODEL_e50ba4519a644d59890b95c227bf2382",
      "value": ""
     }
    },
    "88e57101957e48489149340332c34eba": {
     "model_module": "@jupyter-widgets/controls",
     "model_name": "FloatProgressModel",
     "model_module_version": "1.5.0",
     "state": {
      "_dom_classes": [],
      "_model_module": "@jupyter-widgets/controls",
      "_model_module_version": "1.5.0",
      "_model_name": "FloatProgressModel",
      "_view_count": null,
      "_view_module": "@jupyter-widgets/controls",
      "_view_module_version": "1.5.0",
      "_view_name": "ProgressView",
      "bar_style": "success",
      "description": "",
      "description_tooltip": null,
      "layout": "IPY_MODEL_4d5c0e7eda04400e94798989f33b1a71",
      "max": 28881,
      "min": 0,
      "orientation": "horizontal",
      "style": "IPY_MODEL_62c72e6441b44e2499583c9e0fea2959",
      "value": 28881
     }
    },
    "936db03890cc426392d82f33c8cc803c": {
     "model_module": "@jupyter-widgets/controls",
     "model_name": "HTMLModel",
     "model_module_version": "1.5.0",
     "state": {
      "_dom_classes": [],
      "_model_module": "@jupyter-widgets/controls",
      "_model_module_version": "1.5.0",
      "_model_name": "HTMLModel",
      "_view_count": null,
      "_view_module": "@jupyter-widgets/controls",
      "_view_module_version": "1.5.0",
      "_view_name": "HTMLView",
      "description": "",
      "description_tooltip": null,
      "layout": "IPY_MODEL_5a88cc2a79424ea49f31f3986ff3694a",
      "placeholder": "​",
      "style": "IPY_MODEL_53da8b2b0313434d8b676d09f0004163",
      "value": " 29696/? [00:00&lt;00:00, 496442.91it/s]"
     }
    },
    "57f6a042bc654d7ba5d837d7c580ee64": {
     "model_module": "@jupyter-widgets/base",
     "model_name": "LayoutModel",
     "model_module_version": "1.2.0",
     "state": {
      "_model_module": "@jupyter-widgets/base",
      "_model_module_version": "1.2.0",
      "_model_name": "LayoutModel",
      "_view_count": null,
      "_view_module": "@jupyter-widgets/base",
      "_view_module_version": "1.2.0",
      "_view_name": "LayoutView",
      "align_content": null,
      "align_items": null,
      "align_self": null,
      "border": null,
      "bottom": null,
      "display": null,
      "flex": null,
      "flex_flow": null,
      "grid_area": null,
      "grid_auto_columns": null,
      "grid_auto_flow": null,
      "grid_auto_rows": null,
      "grid_column": null,
      "grid_gap": null,
      "grid_row": null,
      "grid_template_areas": null,
      "grid_template_columns": null,
      "grid_template_rows": null,
      "height": null,
      "justify_content": null,
      "justify_items": null,
      "left": null,
      "margin": null,
      "max_height": null,
      "max_width": null,
      "min_height": null,
      "min_width": null,
      "object_fit": null,
      "object_position": null,
      "order": null,
      "overflow": null,
      "overflow_x": null,
      "overflow_y": null,
      "padding": null,
      "right": null,
      "top": null,
      "visibility": null,
      "width": null
     }
    },
    "a5b6967b17e447709cd4ecd928e17e8a": {
     "model_module": "@jupyter-widgets/base",
     "model_name": "LayoutModel",
     "model_module_version": "1.2.0",
     "state": {
      "_model_module": "@jupyter-widgets/base",
      "_model_module_version": "1.2.0",
      "_model_name": "LayoutModel",
      "_view_count": null,
      "_view_module": "@jupyter-widgets/base",
      "_view_module_version": "1.2.0",
      "_view_name": "LayoutView",
      "align_content": null,
      "align_items": null,
      "align_self": null,
      "border": null,
      "bottom": null,
      "display": null,
      "flex": null,
      "flex_flow": null,
      "grid_area": null,
      "grid_auto_columns": null,
      "grid_auto_flow": null,
      "grid_auto_rows": null,
      "grid_column": null,
      "grid_gap": null,
      "grid_row": null,
      "grid_template_areas": null,
      "grid_template_columns": null,
      "grid_template_rows": null,
      "height": null,
      "justify_content": null,
      "justify_items": null,
      "left": null,
      "margin": null,
      "max_height": null,
      "max_width": null,
      "min_height": null,
      "min_width": null,
      "object_fit": null,
      "object_position": null,
      "order": null,
      "overflow": null,
      "overflow_x": null,
      "overflow_y": null,
      "padding": null,
      "right": null,
      "top": null,
      "visibility": null,
      "width": null
     }
    },
    "e50ba4519a644d59890b95c227bf2382": {
     "model_module": "@jupyter-widgets/controls",
     "model_name": "DescriptionStyleModel",
     "model_module_version": "1.5.0",
     "state": {
      "_model_module": "@jupyter-widgets/controls",
      "_model_module_version": "1.5.0",
      "_model_name": "DescriptionStyleModel",
      "_view_count": null,
      "_view_module": "@jupyter-widgets/base",
      "_view_module_version": "1.2.0",
      "_view_name": "StyleView",
      "description_width": ""
     }
    },
    "4d5c0e7eda04400e94798989f33b1a71": {
     "model_module": "@jupyter-widgets/base",
     "model_name": "LayoutModel",
     "model_module_version": "1.2.0",
     "state": {
      "_model_module": "@jupyter-widgets/base",
      "_model_module_version": "1.2.0",
      "_model_name": "LayoutModel",
      "_view_count": null,
      "_view_module": "@jupyter-widgets/base",
      "_view_module_version": "1.2.0",
      "_view_name": "LayoutView",
      "align_content": null,
      "align_items": null,
      "align_self": null,
      "border": null,
      "bottom": null,
      "display": null,
      "flex": null,
      "flex_flow": null,
      "grid_area": null,
      "grid_auto_columns": null,
      "grid_auto_flow": null,
      "grid_auto_rows": null,
      "grid_column": null,
      "grid_gap": null,
      "grid_row": null,
      "grid_template_areas": null,
      "grid_template_columns": null,
      "grid_template_rows": null,
      "height": null,
      "justify_content": null,
      "justify_items": null,
      "left": null,
      "margin": null,
      "max_height": null,
      "max_width": null,
      "min_height": null,
      "min_width": null,
      "object_fit": null,
      "object_position": null,
      "order": null,
      "overflow": null,
      "overflow_x": null,
      "overflow_y": null,
      "padding": null,
      "right": null,
      "top": null,
      "visibility": null,
      "width": null
     }
    },
    "62c72e6441b44e2499583c9e0fea2959": {
     "model_module": "@jupyter-widgets/controls",
     "model_name": "ProgressStyleModel",
     "model_module_version": "1.5.0",
     "state": {
      "_model_module": "@jupyter-widgets/controls",
      "_model_module_version": "1.5.0",
      "_model_name": "ProgressStyleModel",
      "_view_count": null,
      "_view_module": "@jupyter-widgets/base",
      "_view_module_version": "1.2.0",
      "_view_name": "StyleView",
      "bar_color": null,
      "description_width": ""
     }
    },
    "5a88cc2a79424ea49f31f3986ff3694a": {
     "model_module": "@jupyter-widgets/base",
     "model_name": "LayoutModel",
     "model_module_version": "1.2.0",
     "state": {
      "_model_module": "@jupyter-widgets/base",
      "_model_module_version": "1.2.0",
      "_model_name": "LayoutModel",
      "_view_count": null,
      "_view_module": "@jupyter-widgets/base",
      "_view_module_version": "1.2.0",
      "_view_name": "LayoutView",
      "align_content": null,
      "align_items": null,
      "align_self": null,
      "border": null,
      "bottom": null,
      "display": null,
      "flex": null,
      "flex_flow": null,
      "grid_area": null,
      "grid_auto_columns": null,
      "grid_auto_flow": null,
      "grid_auto_rows": null,
      "grid_column": null,
      "grid_gap": null,
      "grid_row": null,
      "grid_template_areas": null,
      "grid_template_columns": null,
      "grid_template_rows": null,
      "height": null,
      "justify_content": null,
      "justify_items": null,
      "left": null,
      "margin": null,
      "max_height": null,
      "max_width": null,
      "min_height": null,
      "min_width": null,
      "object_fit": null,
      "object_position": null,
      "order": null,
      "overflow": null,
      "overflow_x": null,
      "overflow_y": null,
      "padding": null,
      "right": null,
      "top": null,
      "visibility": null,
      "width": null
     }
    },
    "53da8b2b0313434d8b676d09f0004163": {
     "model_module": "@jupyter-widgets/controls",
     "model_name": "DescriptionStyleModel",
     "model_module_version": "1.5.0",
     "state": {
      "_model_module": "@jupyter-widgets/controls",
      "_model_module_version": "1.5.0",
      "_model_name": "DescriptionStyleModel",
      "_view_count": null,
      "_view_module": "@jupyter-widgets/base",
      "_view_module_version": "1.2.0",
      "_view_name": "StyleView",
      "description_width": ""
     }
    },
    "cafb3beeefbb41fa94e61a7dec84555e": {
     "model_module": "@jupyter-widgets/controls",
     "model_name": "HBoxModel",
     "model_module_version": "1.5.0",
     "state": {
      "_dom_classes": [],
      "_model_module": "@jupyter-widgets/controls",
      "_model_module_version": "1.5.0",
      "_model_name": "HBoxModel",
      "_view_count": null,
      "_view_module": "@jupyter-widgets/controls",
      "_view_module_version": "1.5.0",
      "_view_name": "HBoxView",
      "box_style": "",
      "children": [
       "IPY_MODEL_a4be53784ce6435c9f4ebb241943dfe8",
       "IPY_MODEL_3d35904cffd14288af79cf09a79afe41",
       "IPY_MODEL_f3d1be862d274032ad2f9cf26930be39"
      ],
      "layout": "IPY_MODEL_3aa88926c0b64ac8a888fe6657112d49"
     }
    },
    "a4be53784ce6435c9f4ebb241943dfe8": {
     "model_module": "@jupyter-widgets/controls",
     "model_name": "HTMLModel",
     "model_module_version": "1.5.0",
     "state": {
      "_dom_classes": [],
      "_model_module": "@jupyter-widgets/controls",
      "_model_module_version": "1.5.0",
      "_model_name": "HTMLModel",
      "_view_count": null,
      "_view_module": "@jupyter-widgets/controls",
      "_view_module_version": "1.5.0",
      "_view_name": "HTMLView",
      "description": "",
      "description_tooltip": null,
      "layout": "IPY_MODEL_a80aafc6c49d42a08096769a7ca73a4b",
      "placeholder": "​",
      "style": "IPY_MODEL_180da6a6831949e5a11ea7dde30fa486",
      "value": ""
     }
    },
    "3d35904cffd14288af79cf09a79afe41": {
     "model_module": "@jupyter-widgets/controls",
     "model_name": "FloatProgressModel",
     "model_module_version": "1.5.0",
     "state": {
      "_dom_classes": [],
      "_model_module": "@jupyter-widgets/controls",
      "_model_module_version": "1.5.0",
      "_model_name": "FloatProgressModel",
      "_view_count": null,
      "_view_module": "@jupyter-widgets/controls",
      "_view_module_version": "1.5.0",
      "_view_name": "ProgressView",
      "bar_style": "success",
      "description": "",
      "description_tooltip": null,
      "layout": "IPY_MODEL_806972c2060a4bb191ed27c9eedc0447",
      "max": 1648877,
      "min": 0,
      "orientation": "horizontal",
      "style": "IPY_MODEL_03c7332afb304736be062d02f0cd9c76",
      "value": 1648877
     }
    },
    "f3d1be862d274032ad2f9cf26930be39": {
     "model_module": "@jupyter-widgets/controls",
     "model_name": "HTMLModel",
     "model_module_version": "1.5.0",
     "state": {
      "_dom_classes": [],
      "_model_module": "@jupyter-widgets/controls",
      "_model_module_version": "1.5.0",
      "_model_name": "HTMLModel",
      "_view_count": null,
      "_view_module": "@jupyter-widgets/controls",
      "_view_module_version": "1.5.0",
      "_view_name": "HTMLView",
      "description": "",
      "description_tooltip": null,
      "layout": "IPY_MODEL_a941aaa1f755417c9b203fe1cf5bec47",
      "placeholder": "​",
      "style": "IPY_MODEL_ecb399b3039a45e1a18aea3ffd3895ef",
      "value": " 1649664/? [00:00&lt;00:00, 7499652.26it/s]"
     }
    },
    "3aa88926c0b64ac8a888fe6657112d49": {
     "model_module": "@jupyter-widgets/base",
     "model_name": "LayoutModel",
     "model_module_version": "1.2.0",
     "state": {
      "_model_module": "@jupyter-widgets/base",
      "_model_module_version": "1.2.0",
      "_model_name": "LayoutModel",
      "_view_count": null,
      "_view_module": "@jupyter-widgets/base",
      "_view_module_version": "1.2.0",
      "_view_name": "LayoutView",
      "align_content": null,
      "align_items": null,
      "align_self": null,
      "border": null,
      "bottom": null,
      "display": null,
      "flex": null,
      "flex_flow": null,
      "grid_area": null,
      "grid_auto_columns": null,
      "grid_auto_flow": null,
      "grid_auto_rows": null,
      "grid_column": null,
      "grid_gap": null,
      "grid_row": null,
      "grid_template_areas": null,
      "grid_template_columns": null,
      "grid_template_rows": null,
      "height": null,
      "justify_content": null,
      "justify_items": null,
      "left": null,
      "margin": null,
      "max_height": null,
      "max_width": null,
      "min_height": null,
      "min_width": null,
      "object_fit": null,
      "object_position": null,
      "order": null,
      "overflow": null,
      "overflow_x": null,
      "overflow_y": null,
      "padding": null,
      "right": null,
      "top": null,
      "visibility": null,
      "width": null
     }
    },
    "a80aafc6c49d42a08096769a7ca73a4b": {
     "model_module": "@jupyter-widgets/base",
     "model_name": "LayoutModel",
     "model_module_version": "1.2.0",
     "state": {
      "_model_module": "@jupyter-widgets/base",
      "_model_module_version": "1.2.0",
      "_model_name": "LayoutModel",
      "_view_count": null,
      "_view_module": "@jupyter-widgets/base",
      "_view_module_version": "1.2.0",
      "_view_name": "LayoutView",
      "align_content": null,
      "align_items": null,
      "align_self": null,
      "border": null,
      "bottom": null,
      "display": null,
      "flex": null,
      "flex_flow": null,
      "grid_area": null,
      "grid_auto_columns": null,
      "grid_auto_flow": null,
      "grid_auto_rows": null,
      "grid_column": null,
      "grid_gap": null,
      "grid_row": null,
      "grid_template_areas": null,
      "grid_template_columns": null,
      "grid_template_rows": null,
      "height": null,
      "justify_content": null,
      "justify_items": null,
      "left": null,
      "margin": null,
      "max_height": null,
      "max_width": null,
      "min_height": null,
      "min_width": null,
      "object_fit": null,
      "object_position": null,
      "order": null,
      "overflow": null,
      "overflow_x": null,
      "overflow_y": null,
      "padding": null,
      "right": null,
      "top": null,
      "visibility": null,
      "width": null
     }
    },
    "180da6a6831949e5a11ea7dde30fa486": {
     "model_module": "@jupyter-widgets/controls",
     "model_name": "DescriptionStyleModel",
     "model_module_version": "1.5.0",
     "state": {
      "_model_module": "@jupyter-widgets/controls",
      "_model_module_version": "1.5.0",
      "_model_name": "DescriptionStyleModel",
      "_view_count": null,
      "_view_module": "@jupyter-widgets/base",
      "_view_module_version": "1.2.0",
      "_view_name": "StyleView",
      "description_width": ""
     }
    },
    "806972c2060a4bb191ed27c9eedc0447": {
     "model_module": "@jupyter-widgets/base",
     "model_name": "LayoutModel",
     "model_module_version": "1.2.0",
     "state": {
      "_model_module": "@jupyter-widgets/base",
      "_model_module_version": "1.2.0",
      "_model_name": "LayoutModel",
      "_view_count": null,
      "_view_module": "@jupyter-widgets/base",
      "_view_module_version": "1.2.0",
      "_view_name": "LayoutView",
      "align_content": null,
      "align_items": null,
      "align_self": null,
      "border": null,
      "bottom": null,
      "display": null,
      "flex": null,
      "flex_flow": null,
      "grid_area": null,
      "grid_auto_columns": null,
      "grid_auto_flow": null,
      "grid_auto_rows": null,
      "grid_column": null,
      "grid_gap": null,
      "grid_row": null,
      "grid_template_areas": null,
      "grid_template_columns": null,
      "grid_template_rows": null,
      "height": null,
      "justify_content": null,
      "justify_items": null,
      "left": null,
      "margin": null,
      "max_height": null,
      "max_width": null,
      "min_height": null,
      "min_width": null,
      "object_fit": null,
      "object_position": null,
      "order": null,
      "overflow": null,
      "overflow_x": null,
      "overflow_y": null,
      "padding": null,
      "right": null,
      "top": null,
      "visibility": null,
      "width": null
     }
    },
    "03c7332afb304736be062d02f0cd9c76": {
     "model_module": "@jupyter-widgets/controls",
     "model_name": "ProgressStyleModel",
     "model_module_version": "1.5.0",
     "state": {
      "_model_module": "@jupyter-widgets/controls",
      "_model_module_version": "1.5.0",
      "_model_name": "ProgressStyleModel",
      "_view_count": null,
      "_view_module": "@jupyter-widgets/base",
      "_view_module_version": "1.2.0",
      "_view_name": "StyleView",
      "bar_color": null,
      "description_width": ""
     }
    },
    "a941aaa1f755417c9b203fe1cf5bec47": {
     "model_module": "@jupyter-widgets/base",
     "model_name": "LayoutModel",
     "model_module_version": "1.2.0",
     "state": {
      "_model_module": "@jupyter-widgets/base",
      "_model_module_version": "1.2.0",
      "_model_name": "LayoutModel",
      "_view_count": null,
      "_view_module": "@jupyter-widgets/base",
      "_view_module_version": "1.2.0",
      "_view_name": "LayoutView",
      "align_content": null,
      "align_items": null,
      "align_self": null,
      "border": null,
      "bottom": null,
      "display": null,
      "flex": null,
      "flex_flow": null,
      "grid_area": null,
      "grid_auto_columns": null,
      "grid_auto_flow": null,
      "grid_auto_rows": null,
      "grid_column": null,
      "grid_gap": null,
      "grid_row": null,
      "grid_template_areas": null,
      "grid_template_columns": null,
      "grid_template_rows": null,
      "height": null,
      "justify_content": null,
      "justify_items": null,
      "left": null,
      "margin": null,
      "max_height": null,
      "max_width": null,
      "min_height": null,
      "min_width": null,
      "object_fit": null,
      "object_position": null,
      "order": null,
      "overflow": null,
      "overflow_x": null,
      "overflow_y": null,
      "padding": null,
      "right": null,
      "top": null,
      "visibility": null,
      "width": null
     }
    },
    "ecb399b3039a45e1a18aea3ffd3895ef": {
     "model_module": "@jupyter-widgets/controls",
     "model_name": "DescriptionStyleModel",
     "model_module_version": "1.5.0",
     "state": {
      "_model_module": "@jupyter-widgets/controls",
      "_model_module_version": "1.5.0",
      "_model_name": "DescriptionStyleModel",
      "_view_count": null,
      "_view_module": "@jupyter-widgets/base",
      "_view_module_version": "1.2.0",
      "_view_name": "StyleView",
      "description_width": ""
     }
    },
    "166dd52cdc594830be43cecfe204f3d0": {
     "model_module": "@jupyter-widgets/controls",
     "model_name": "HBoxModel",
     "model_module_version": "1.5.0",
     "state": {
      "_dom_classes": [],
      "_model_module": "@jupyter-widgets/controls",
      "_model_module_version": "1.5.0",
      "_model_name": "HBoxModel",
      "_view_count": null,
      "_view_module": "@jupyter-widgets/controls",
      "_view_module_version": "1.5.0",
      "_view_name": "HBoxView",
      "box_style": "",
      "children": [
       "IPY_MODEL_c9168ed7e1384f378443015791a8325c",
       "IPY_MODEL_57a725e747b54488b04d9d2842243c14",
       "IPY_MODEL_34057717585442c4b5c435e6557e2196"
      ],
      "layout": "IPY_MODEL_09b974da4a184e42bf0e2fb2665037da"
     }
    },
    "c9168ed7e1384f378443015791a8325c": {
     "model_module": "@jupyter-widgets/controls",
     "model_name": "HTMLModel",
     "model_module_version": "1.5.0",
     "state": {
      "_dom_classes": [],
      "_model_module": "@jupyter-widgets/controls",
      "_model_module_version": "1.5.0",
      "_model_name": "HTMLModel",
      "_view_count": null,
      "_view_module": "@jupyter-widgets/controls",
      "_view_module_version": "1.5.0",
      "_view_name": "HTMLView",
      "description": "",
      "description_tooltip": null,
      "layout": "IPY_MODEL_bc4b292931dd4814b708ebc8aca65fc0",
      "placeholder": "​",
      "style": "IPY_MODEL_b53d6fefef444689a371ab725b4be4f5",
      "value": ""
     }
    },
    "57a725e747b54488b04d9d2842243c14": {
     "model_module": "@jupyter-widgets/controls",
     "model_name": "FloatProgressModel",
     "model_module_version": "1.5.0",
     "state": {
      "_dom_classes": [],
      "_model_module": "@jupyter-widgets/controls",
      "_model_module_version": "1.5.0",
      "_model_name": "FloatProgressModel",
      "_view_count": null,
      "_view_module": "@jupyter-widgets/controls",
      "_view_module_version": "1.5.0",
      "_view_name": "ProgressView",
      "bar_style": "success",
      "description": "",
      "description_tooltip": null,
      "layout": "IPY_MODEL_c4341a73a7ff4ec6bd779270b14c1684",
      "max": 4542,
      "min": 0,
      "orientation": "horizontal",
      "style": "IPY_MODEL_87bae83b19094521a659a60fd610131f",
      "value": 4542
     }
    },
    "34057717585442c4b5c435e6557e2196": {
     "model_module": "@jupyter-widgets/controls",
     "model_name": "HTMLModel",
     "model_module_version": "1.5.0",
     "state": {
      "_dom_classes": [],
      "_model_module": "@jupyter-widgets/controls",
      "_model_module_version": "1.5.0",
      "_model_name": "HTMLModel",
      "_view_count": null,
      "_view_module": "@jupyter-widgets/controls",
      "_view_module_version": "1.5.0",
      "_view_name": "HTMLView",
      "description": "",
      "description_tooltip": null,
      "layout": "IPY_MODEL_2eaf9a2c64a44512b71c021ec1683621",
      "placeholder": "​",
      "style": "IPY_MODEL_6626b669f7f949f4b7557ed3ed86eb8c",
      "value": " 5120/? [00:00&lt;00:00, 113434.42it/s]"
     }
    },
    "09b974da4a184e42bf0e2fb2665037da": {
     "model_module": "@jupyter-widgets/base",
     "model_name": "LayoutModel",
     "model_module_version": "1.2.0",
     "state": {
      "_model_module": "@jupyter-widgets/base",
      "_model_module_version": "1.2.0",
      "_model_name": "LayoutModel",
      "_view_count": null,
      "_view_module": "@jupyter-widgets/base",
      "_view_module_version": "1.2.0",
      "_view_name": "LayoutView",
      "align_content": null,
      "align_items": null,
      "align_self": null,
      "border": null,
      "bottom": null,
      "display": null,
      "flex": null,
      "flex_flow": null,
      "grid_area": null,
      "grid_auto_columns": null,
      "grid_auto_flow": null,
      "grid_auto_rows": null,
      "grid_column": null,
      "grid_gap": null,
      "grid_row": null,
      "grid_template_areas": null,
      "grid_template_columns": null,
      "grid_template_rows": null,
      "height": null,
      "justify_content": null,
      "justify_items": null,
      "left": null,
      "margin": null,
      "max_height": null,
      "max_width": null,
      "min_height": null,
      "min_width": null,
      "object_fit": null,
      "object_position": null,
      "order": null,
      "overflow": null,
      "overflow_x": null,
      "overflow_y": null,
      "padding": null,
      "right": null,
      "top": null,
      "visibility": null,
      "width": null
     }
    },
    "bc4b292931dd4814b708ebc8aca65fc0": {
     "model_module": "@jupyter-widgets/base",
     "model_name": "LayoutModel",
     "model_module_version": "1.2.0",
     "state": {
      "_model_module": "@jupyter-widgets/base",
      "_model_module_version": "1.2.0",
      "_model_name": "LayoutModel",
      "_view_count": null,
      "_view_module": "@jupyter-widgets/base",
      "_view_module_version": "1.2.0",
      "_view_name": "LayoutView",
      "align_content": null,
      "align_items": null,
      "align_self": null,
      "border": null,
      "bottom": null,
      "display": null,
      "flex": null,
      "flex_flow": null,
      "grid_area": null,
      "grid_auto_columns": null,
      "grid_auto_flow": null,
      "grid_auto_rows": null,
      "grid_column": null,
      "grid_gap": null,
      "grid_row": null,
      "grid_template_areas": null,
      "grid_template_columns": null,
      "grid_template_rows": null,
      "height": null,
      "justify_content": null,
      "justify_items": null,
      "left": null,
      "margin": null,
      "max_height": null,
      "max_width": null,
      "min_height": null,
      "min_width": null,
      "object_fit": null,
      "object_position": null,
      "order": null,
      "overflow": null,
      "overflow_x": null,
      "overflow_y": null,
      "padding": null,
      "right": null,
      "top": null,
      "visibility": null,
      "width": null
     }
    },
    "b53d6fefef444689a371ab725b4be4f5": {
     "model_module": "@jupyter-widgets/controls",
     "model_name": "DescriptionStyleModel",
     "model_module_version": "1.5.0",
     "state": {
      "_model_module": "@jupyter-widgets/controls",
      "_model_module_version": "1.5.0",
      "_model_name": "DescriptionStyleModel",
      "_view_count": null,
      "_view_module": "@jupyter-widgets/base",
      "_view_module_version": "1.2.0",
      "_view_name": "StyleView",
      "description_width": ""
     }
    },
    "c4341a73a7ff4ec6bd779270b14c1684": {
     "model_module": "@jupyter-widgets/base",
     "model_name": "LayoutModel",
     "model_module_version": "1.2.0",
     "state": {
      "_model_module": "@jupyter-widgets/base",
      "_model_module_version": "1.2.0",
      "_model_name": "LayoutModel",
      "_view_count": null,
      "_view_module": "@jupyter-widgets/base",
      "_view_module_version": "1.2.0",
      "_view_name": "LayoutView",
      "align_content": null,
      "align_items": null,
      "align_self": null,
      "border": null,
      "bottom": null,
      "display": null,
      "flex": null,
      "flex_flow": null,
      "grid_area": null,
      "grid_auto_columns": null,
      "grid_auto_flow": null,
      "grid_auto_rows": null,
      "grid_column": null,
      "grid_gap": null,
      "grid_row": null,
      "grid_template_areas": null,
      "grid_template_columns": null,
      "grid_template_rows": null,
      "height": null,
      "justify_content": null,
      "justify_items": null,
      "left": null,
      "margin": null,
      "max_height": null,
      "max_width": null,
      "min_height": null,
      "min_width": null,
      "object_fit": null,
      "object_position": null,
      "order": null,
      "overflow": null,
      "overflow_x": null,
      "overflow_y": null,
      "padding": null,
      "right": null,
      "top": null,
      "visibility": null,
      "width": null
     }
    },
    "87bae83b19094521a659a60fd610131f": {
     "model_module": "@jupyter-widgets/controls",
     "model_name": "ProgressStyleModel",
     "model_module_version": "1.5.0",
     "state": {
      "_model_module": "@jupyter-widgets/controls",
      "_model_module_version": "1.5.0",
      "_model_name": "ProgressStyleModel",
      "_view_count": null,
      "_view_module": "@jupyter-widgets/base",
      "_view_module_version": "1.2.0",
      "_view_name": "StyleView",
      "bar_color": null,
      "description_width": ""
     }
    },
    "2eaf9a2c64a44512b71c021ec1683621": {
     "model_module": "@jupyter-widgets/base",
     "model_name": "LayoutModel",
     "model_module_version": "1.2.0",
     "state": {
      "_model_module": "@jupyter-widgets/base",
      "_model_module_version": "1.2.0",
      "_model_name": "LayoutModel",
      "_view_count": null,
      "_view_module": "@jupyter-widgets/base",
      "_view_module_version": "1.2.0",
      "_view_name": "LayoutView",
      "align_content": null,
      "align_items": null,
      "align_self": null,
      "border": null,
      "bottom": null,
      "display": null,
      "flex": null,
      "flex_flow": null,
      "grid_area": null,
      "grid_auto_columns": null,
      "grid_auto_flow": null,
      "grid_auto_rows": null,
      "grid_column": null,
      "grid_gap": null,
      "grid_row": null,
      "grid_template_areas": null,
      "grid_template_columns": null,
      "grid_template_rows": null,
      "height": null,
      "justify_content": null,
      "justify_items": null,
      "left": null,
      "margin": null,
      "max_height": null,
      "max_width": null,
      "min_height": null,
      "min_width": null,
      "object_fit": null,
      "object_position": null,
      "order": null,
      "overflow": null,
      "overflow_x": null,
      "overflow_y": null,
      "padding": null,
      "right": null,
      "top": null,
      "visibility": null,
      "width": null
     }
    },
    "6626b669f7f949f4b7557ed3ed86eb8c": {
     "model_module": "@jupyter-widgets/controls",
     "model_name": "DescriptionStyleModel",
     "model_module_version": "1.5.0",
     "state": {
      "_model_module": "@jupyter-widgets/controls",
      "_model_module_version": "1.5.0",
      "_model_name": "DescriptionStyleModel",
      "_view_count": null,
      "_view_module": "@jupyter-widgets/base",
      "_view_module_version": "1.2.0",
      "_view_name": "StyleView",
      "description_width": ""
     }
    }
   }
  }
 },
 "nbformat": 4,
 "nbformat_minor": 0
}