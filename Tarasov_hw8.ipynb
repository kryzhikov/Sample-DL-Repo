{
  "nbformat": 4,
  "nbformat_minor": 0,
  "metadata": {
    "colab": {
      "name": "Tarasov_hw8.ipynb",
      "provenance": [],
      "collapsed_sections": []
    },
    "kernelspec": {
      "name": "python3",
      "display_name": "Python 3"
    },
    "language_info": {
      "name": "python"
    }
  },
  "cells": [
    {
      "cell_type": "code",
      "execution_count": 1,
      "metadata": {
        "id": "aW6M5cuYuAoZ"
      },
      "outputs": [],
      "source": [
        "import torch\n",
        "import torch.nn as nn\n",
        "\n",
        "from torch.utils.data import Dataset, DataLoader\n",
        "\n",
        "import numpy as np\n",
        "\n",
        "import matplotlib.pyplot as plt\n",
        "%matplotlib inline\n",
        "\n",
        "import pandas as pd\n",
        "\n",
        "import re"
      ]
    },
    {
      "cell_type": "code",
      "source": [
        "def create_dataset(fname):\n",
        "    with open(fname, 'r',  encoding='utf-8') as f:\n",
        "        nums = f.read().splitlines()\n",
        "    data = pd.DataFrame(nums)\n",
        "    data[0] = data[0].map(lambda s: re.sub('[^а-яА-Я,. ]','', s))\n",
        "    data = data.replace('', np.NaN)\n",
        "    data.dropna(inplace=True)\n",
        "    s = data[0]\n",
        "    s = s + '.'\n",
        "    s = s.map(lambda s: s[0:-2] + '.' if s[-2:] in ['..', ' .'] else s)\n",
        "    #s = s.map(lambda s: s[0:-1] + ' .' if s[-1:] in ['.'] else s)\n",
        "    data[0] = s\n",
        "    data = data.replace('', np.NaN)\n",
        "    data.dropna(inplace=True)\n",
        "    data.reset_index(drop = True, inplace=True)\n",
        "    #data[0] = data[0].map(lambda s: np.array(s.split()))\n",
        "    #print(data.to_numpy().shape)\n",
        "    data = data.to_numpy()#.reshape(3138, -1)\n",
        "    data = np.concatenate(data)\n",
        "    return data\n",
        "data = create_dataset('harry.txt')\n",
        "data"
      ],
      "metadata": {
        "colab": {
          "base_uri": "https://localhost:8080/"
        },
        "id": "FVhbF4NvnQnW",
        "outputId": "8e3533b4-4ba6-4268-9e44-59ce45c1ac85"
      },
      "execution_count": 2,
      "outputs": [
        {
          "output_type": "execute_result",
          "data": {
            "text/plain": [
              "array(['Джоанн Роулинг.', 'Гарри Поттер и Волшебный камень.', 'Глава.',\n",
              "       ...,\n",
              "       'Гарри задержался, чтобы попрощаться с Роном и Гермионой. Увидимся летом.',\n",
              "       'Желаю тебе  эээ  хорошо провести каникулы, Гермиона неуверенно поглядела вслед дяде Вернону, шокированная его грубостью.',\n",
              "       'Постараюсь, ответил Гарри, и его друзья удивились, увидев, как по лицу мальчика расползается торжествующая улыбка, Они ведь не знают, что нам не позволяется колдовать дома. Мы с Дудли славно позабавимся этим летом.'],\n",
              "      dtype=object)"
            ]
          },
          "metadata": {},
          "execution_count": 2
        }
      ]
    },
    {
      "cell_type": "code",
      "source": [
        "class Vocab:\n",
        "    def __init__(self, data):\n",
        "      self.alphabet = 'абвгдежзийклмнопрстуфхцчшщъыьэюя'\n",
        "      symbols = ' ,.'+ self.alphabet+self.alphabet.upper()\n",
        "      self.char2idx = {symbols[i]: i+10 for i in range(len(symbols))}\n",
        "      self.idx2char = {i: symbols[i-10] for i in range(10, 77)}\n",
        "      print(self.char2idx)\n",
        "      print(self.idx2char)\n",
        "    \n",
        "    def tokenize(self, sequence):\n",
        "        # выполните какой-то базовый препроцессинг\n",
        "        # например, оставьте только алфавит и пунктуацию\n",
        "        #print(sequence)\n",
        "        return [self.char2idx[char] for char in sequence]\n",
        "    \n",
        "    def detokenize(self, sequence):\n",
        "        return ''.join([self.idx2char[idx] for idx in sequence])\n",
        "    \n",
        "    def __len__(self):\n",
        "        return len(self.char2idx)"
      ],
      "metadata": {
        "id": "E-MrcZcZuGYq"
      },
      "execution_count": 3,
      "outputs": []
    },
    {
      "cell_type": "code",
      "source": [
        "class TextDataset:\n",
        "    def __init__(self, data_path):\n",
        "        # загрузите данные\n",
        "        data = create_dataset(data_path)\n",
        "\n",
        "        # обучите вокаб\n",
        "        self.vocab = Vocab(data)\n",
        "\n",
        "        data_idx = []\n",
        "        #for i in data:\n",
        "          #data_idx.append(self.vocab.tokenize(i))\n",
        "        #print(data_idx)\n",
        "        # разделите данные на отдельные сэмплы для обучения\n",
        "        # (просто список из сырых строк)\n",
        "        self.data = data\n",
        "        #return self.data\n",
        "    \n",
        "    def __len__(self):\n",
        "        return len(self.data)  \n",
        "    \n",
        "    def __getitem__(self, idx):\n",
        "        maxlen = 150\n",
        "        sample = self.data[idx]\n",
        "        #print(sample)\n",
        "        sample = torch.LongTensor(self.vocab.tokenize(sample))\n",
        "        \n",
        "        if maxlen - len(sample) > 0:\n",
        "          sample = torch.concat((sample, torch.zeros(maxlen - len(sample))))\n",
        "        else:\n",
        "          sample = sample[:150]\n",
        "        #print(sample, sample.shape)\n",
        "        sample = torch.LongTensor([*sample, 0])\n",
        "        sample = sample.long()# сконвертируйте в LongTensor\n",
        "        target = torch.LongTensor([0, *sample[:-1]])# нужно предсказать эту же последовательность со сдвигом 1\n",
        "        #print(sample, sample.shape)\n",
        "        return sample, target"
      ],
      "metadata": {
        "id": "9OIWywOfuGk3"
      },
      "execution_count": 4,
      "outputs": []
    },
    {
      "cell_type": "code",
      "source": [
        "text = TextDataset('harry.txt')\n",
        "#torch.LongTensor([0, *[1,2,3,4,5]])"
      ],
      "metadata": {
        "colab": {
          "base_uri": "https://localhost:8080/"
        },
        "id": "-bRyk8-QgxDR",
        "outputId": "a648a32e-2523-41bf-f78e-63b249987292"
      },
      "execution_count": 5,
      "outputs": [
        {
          "output_type": "stream",
          "name": "stdout",
          "text": [
            "{' ': 10, ',': 11, '.': 12, 'а': 13, 'б': 14, 'в': 15, 'г': 16, 'д': 17, 'е': 18, 'ж': 19, 'з': 20, 'и': 21, 'й': 22, 'к': 23, 'л': 24, 'м': 25, 'н': 26, 'о': 27, 'п': 28, 'р': 29, 'с': 30, 'т': 31, 'у': 32, 'ф': 33, 'х': 34, 'ц': 35, 'ч': 36, 'ш': 37, 'щ': 38, 'ъ': 39, 'ы': 40, 'ь': 41, 'э': 42, 'ю': 43, 'я': 44, 'А': 45, 'Б': 46, 'В': 47, 'Г': 48, 'Д': 49, 'Е': 50, 'Ж': 51, 'З': 52, 'И': 53, 'Й': 54, 'К': 55, 'Л': 56, 'М': 57, 'Н': 58, 'О': 59, 'П': 60, 'Р': 61, 'С': 62, 'Т': 63, 'У': 64, 'Ф': 65, 'Х': 66, 'Ц': 67, 'Ч': 68, 'Ш': 69, 'Щ': 70, 'Ъ': 71, 'Ы': 72, 'Ь': 73, 'Э': 74, 'Ю': 75, 'Я': 76}\n",
            "{10: ' ', 11: ',', 12: '.', 13: 'а', 14: 'б', 15: 'в', 16: 'г', 17: 'д', 18: 'е', 19: 'ж', 20: 'з', 21: 'и', 22: 'й', 23: 'к', 24: 'л', 25: 'м', 26: 'н', 27: 'о', 28: 'п', 29: 'р', 30: 'с', 31: 'т', 32: 'у', 33: 'ф', 34: 'х', 35: 'ц', 36: 'ч', 37: 'ш', 38: 'щ', 39: 'ъ', 40: 'ы', 41: 'ь', 42: 'э', 43: 'ю', 44: 'я', 45: 'А', 46: 'Б', 47: 'В', 48: 'Г', 49: 'Д', 50: 'Е', 51: 'Ж', 52: 'З', 53: 'И', 54: 'Й', 55: 'К', 56: 'Л', 57: 'М', 58: 'Н', 59: 'О', 60: 'П', 61: 'Р', 62: 'С', 63: 'Т', 64: 'У', 65: 'Ф', 66: 'Х', 67: 'Ц', 68: 'Ч', 69: 'Ш', 70: 'Щ', 71: 'Ъ', 72: 'Ы', 73: 'Ь', 74: 'Э', 75: 'Ю', 76: 'Я'}\n"
          ]
        }
      ]
    },
    {
      "cell_type": "code",
      "source": [
        "plt.hist([len(x) for x in text.data], bins=350)\n",
        "plt.title('Распределение числа слов в предложениях.')\n",
        "plt.xlabel('Число слов')\n",
        "plt.xlim((0, 300))\n",
        "plt.show()"
      ],
      "metadata": {
        "colab": {
          "base_uri": "https://localhost:8080/",
          "height": 295
        },
        "id": "D_SJTv3nuGuX",
        "outputId": "37939b2d-c665-410f-9f57-94e569d07a56"
      },
      "execution_count": 6,
      "outputs": [
        {
          "output_type": "display_data",
          "data": {
            "text/plain": [
              "<Figure size 432x288 with 1 Axes>"
            ],
            "image/png": "[encoded data removed]"
          },
          "metadata": {
            "needs_background": "light"
          }
        }
      ]
    },
    {
      "cell_type": "code",
      "source": [
        "min_len = 40  # предложения с меньшим количеством символов не будут рассматриваться\n",
        "max_len = 150 # предложения с большим количеством символов будут обрезаться\n",
        "#Разобьём на обучение и валидацию:"
      ],
      "metadata": {
        "id": "oat6H4-CuG90"
      },
      "execution_count": 7,
      "outputs": []
    },
    {
      "cell_type": "code",
      "source": [
        "dataset = TextDataset('harry.txt')\n",
        "\n",
        "train_size = int(0.9 * len(dataset))\n",
        "test_size = len(dataset) - train_size\n",
        "train_set, test_set = torch.utils.data.random_split(dataset, [train_size, test_size])"
      ],
      "metadata": {
        "colab": {
          "base_uri": "https://localhost:8080/"
        },
        "id": "_ROZg-ESuHIK",
        "outputId": "753cc20f-3d04-491b-8146-db7477e82594"
      },
      "execution_count": 8,
      "outputs": [
        {
          "output_type": "stream",
          "name": "stdout",
          "text": [
            "{' ': 10, ',': 11, '.': 12, 'а': 13, 'б': 14, 'в': 15, 'г': 16, 'д': 17, 'е': 18, 'ж': 19, 'з': 20, 'и': 21, 'й': 22, 'к': 23, 'л': 24, 'м': 25, 'н': 26, 'о': 27, 'п': 28, 'р': 29, 'с': 30, 'т': 31, 'у': 32, 'ф': 33, 'х': 34, 'ц': 35, 'ч': 36, 'ш': 37, 'щ': 38, 'ъ': 39, 'ы': 40, 'ь': 41, 'э': 42, 'ю': 43, 'я': 44, 'А': 45, 'Б': 46, 'В': 47, 'Г': 48, 'Д': 49, 'Е': 50, 'Ж': 51, 'З': 52, 'И': 53, 'Й': 54, 'К': 55, 'Л': 56, 'М': 57, 'Н': 58, 'О': 59, 'П': 60, 'Р': 61, 'С': 62, 'Т': 63, 'У': 64, 'Ф': 65, 'Х': 66, 'Ц': 67, 'Ч': 68, 'Ш': 69, 'Щ': 70, 'Ъ': 71, 'Ы': 72, 'Ь': 73, 'Э': 74, 'Ю': 75, 'Я': 76}\n",
            "{10: ' ', 11: ',', 12: '.', 13: 'а', 14: 'б', 15: 'в', 16: 'г', 17: 'д', 18: 'е', 19: 'ж', 20: 'з', 21: 'и', 22: 'й', 23: 'к', 24: 'л', 25: 'м', 26: 'н', 27: 'о', 28: 'п', 29: 'р', 30: 'с', 31: 'т', 32: 'у', 33: 'ф', 34: 'х', 35: 'ц', 36: 'ч', 37: 'ш', 38: 'щ', 39: 'ъ', 40: 'ы', 41: 'ь', 42: 'э', 43: 'ю', 44: 'я', 45: 'А', 46: 'Б', 47: 'В', 48: 'Г', 49: 'Д', 50: 'Е', 51: 'Ж', 52: 'З', 53: 'И', 54: 'Й', 55: 'К', 56: 'Л', 57: 'М', 58: 'Н', 59: 'О', 60: 'П', 61: 'Р', 62: 'С', 63: 'Т', 64: 'У', 65: 'Ф', 66: 'Х', 67: 'Ц', 68: 'Ч', 69: 'Ш', 70: 'Щ', 71: 'Ъ', 72: 'Ы', 73: 'Ь', 74: 'Э', 75: 'Ю', 76: 'Я'}\n"
          ]
        }
      ]
    },
    {
      "cell_type": "code",
      "source": [
        "class LM(nn.Module):\n",
        "    def __init__(self, vocab_size, embedding_dim, hidden_dim, num_layers, dropout, tie_weights):\n",
        "        super().__init__()\n",
        "        \n",
        "        self.encoder = nn.Embedding(vocab_size, embedding_dim)\n",
        "        self.rnn = nn.GRU(embedding_dim, hidden_dim, num_layers, dropout=dropout)\n",
        "        self.decoder = nn.Linear(hidden_dim, 1)\n",
        "        self.soft = nn.Softmax()\n",
        "        \n",
        "        if tie_weights:\n",
        "            # \"Using the Output Embedding to Improve Language Models\" (Press & Wolf 2016)\n",
        "            # https://arxiv.org/abs/1608.05859\n",
        "            assert hidden_dim == embedding_dim\n",
        "            self.decoder.weight = self.encoder.weight\n",
        "\n",
        "        #self.rnn_type = rnn_type\n",
        "        self.hidden_dim = hidden_dim\n",
        "        self.nlayers = num_layers\n",
        "\n",
        "    def forward(self, input, hidden):\n",
        "        #print(input)\n",
        "        #input = torch.tensor(input)\n",
        "        emb = self.encoder(input)\n",
        "        #print(emb.shape, hidden.shape)\n",
        "        output, hidden = self.rnn(emb, hidden)\n",
        "        decoded = self.decoder(output.view(output.size(0), output.size(1), output.size(2)))\n",
        "        output = self.soft(decoded)\n",
        "        return decoded.view(output.size(0), output.size(1), decoded.size(1)), hidden\n",
        "\n",
        "    def init_hidden(self, batch_size):\n",
        "        # начальный хидден должен быть нулевой\n",
        "        # (либо хоть какой-то константный для всего обучения)\n",
        "        return torch.zeros(1, 151, self.hidden_dim)"
      ],
      "metadata": {
        "id": "Q01xNQvuuHVT"
      },
      "execution_count": 16,
      "outputs": []
    },
    {
      "cell_type": "code",
      "source": [
        "epochs = 5\n",
        "lr = 1e-3 \n",
        "batch_size = 64\n",
        "\n",
        "device = torch.device('cpu')\n",
        "\n",
        "print(len(dataset.vocab))\n",
        "model = LM(\n",
        "    vocab_size = 151,\n",
        "    embedding_dim = 128,\n",
        "    hidden_dim = 128,\n",
        "    num_layers = 1,\n",
        "    dropout = 0.1,\n",
        "    tie_weights= True\n",
        ").to(device)\n",
        "\n",
        "optimizer = torch.optim.Adam(model.parameters(), lr=lr)\n",
        "criterion = nn.CrossEntropyLoss()\n",
        "\n",
        "train = DataLoader(train_set, batch_size=batch_size, shuffle=True)\n",
        "test = DataLoader(test_set, batch_size=batch_size)"
      ],
      "metadata": {
        "colab": {
          "base_uri": "https://localhost:8080/"
        },
        "id": "s9m_ae_ruHmT",
        "outputId": "b6bd7e2f-b7d7-4f54-f91b-feae35a044e2"
      },
      "execution_count": 17,
      "outputs": [
        {
          "output_type": "stream",
          "name": "stdout",
          "text": [
            "67\n"
          ]
        },
        {
          "output_type": "stream",
          "name": "stderr",
          "text": [
            "/usr/local/lib/python3.7/dist-packages/torch/nn/modules/rnn.py:65: UserWarning: dropout option adds dropout after all but last recurrent layer, so non-zero dropout expects num_layers greater than 1, but got dropout=0.1 and num_layers=1\n",
            "  \"num_layers={}\".format(dropout, num_layers))\n"
          ]
        }
      ]
    },
    {
      "cell_type": "code",
      "source": [
        "for e in range(epochs):\n",
        "    for x, y in train:\n",
        "        model.train()    \n",
        "        model.zero_grad()\n",
        "        hidden = model.init_hidden(len(x))\n",
        "        output, hidden = model(x, hidden)\n",
        "        loss = criterion(output, y)\n",
        "        loss.backward()\n",
        "        torch.nn.utils.clip_grad_norm_(model.parameters(), 0.2)\n",
        "        optimizer.step()"
      ],
      "metadata": {
        "colab": {
          "base_uri": "https://localhost:8080/"
        },
        "id": "GUzxbKu8uH4S",
        "outputId": "5109bff7-f1dd-4538-d4d9-ea3763ebeee6"
      },
      "execution_count": 19,
      "outputs": [
        {
          "output_type": "stream",
          "name": "stderr",
          "text": [
            "/usr/local/lib/python3.7/dist-packages/ipykernel_launcher.py:27: UserWarning: Implicit dimension choice for softmax has been deprecated. Change the call to include dim=X as an argument.\n"
          ]
        }
      ]
    }
  ]
}