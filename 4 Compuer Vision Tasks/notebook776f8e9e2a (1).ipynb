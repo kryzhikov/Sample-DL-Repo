{
  "metadata": {
    "kernelspec": {
      "language": "python",
      "display_name": "Python 3",
      "name": "python3"
    },
    "language_info": {
      "name": "python",
      "version": "3.7.12",
      "mimetype": "text/x-python",
      "codemirror_mode": {
        "name": "ipython",
        "version": 3
      },
      "pygments_lexer": "ipython3",
      "nbconvert_exporter": "python",
      "file_extension": ".py"
    },
    "colab": {
      "name": "notebook776f8e9e2a.ipynb",
      "provenance": []
    }
  },
  "nbformat_minor": 0,
  "nbformat": 4,
  "cells": [
    {
      "cell_type": "markdown",
      "source": [
        "Лучшая попытка:"
      ],
      "metadata": {
        "id": "7oSFJZxw8nx8"
      }
    },
    {
      "cell_type": "markdown",
      "source": [
        "![best_submission_VedernikovKI.png](data:image/png;base64,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)"
      ],
      "metadata": {
        "id": "1o9eYL9p8iZl"
      }
    },
    {
      "cell_type": "code",
      "source": [
        "import os\n",
        "import json\n",
        "import nibabel as nib\n",
        "import numpy as np\n",
        "from tqdm.notebook import tqdm"
      ],
      "metadata": {
        "_uuid": "8f2839f25d086af736a60e9eeb907d3b93b6e0e5",
        "_cell_guid": "b1076dfc-b9ad-4769-8c92-a6c4dae69d19",
        "execution": {
          "iopub.status.busy": "2022-05-22T08:33:28.659091Z",
          "iopub.execute_input": "2022-05-22T08:33:28.659379Z",
          "iopub.status.idle": "2022-05-22T08:33:28.663906Z",
          "shell.execute_reply.started": "2022-05-22T08:33:28.659349Z",
          "shell.execute_reply": "2022-05-22T08:33:28.662984Z"
        },
        "trusted": true,
        "id": "AHIilQwM8hO6"
      },
      "execution_count": null,
      "outputs": []
    },
    {
      "cell_type": "markdown",
      "source": [
        "Считывание данных:"
      ],
      "metadata": {
        "id": "5sBdjNw48hPA"
      }
    },
    {
      "cell_type": "code",
      "source": [
        "\n",
        "path = '../input/tgcovid/data/data' \n",
        "path_images = os.path.join(path, 'images')\n",
        "path_labels = os.path.join(path, 'labels')\n",
        "with open('../input/tgcovid/training_data.json', 'r') as f:\n",
        "    dict_training = json.load(f)\n",
        "\n",
        "images = []\n",
        "labels = []\n",
        "for entry in tqdm(dict_training):\n",
        "    s1 = os.path.join(path_images, entry['image'])\n",
        "    sp1 = s1[:len(s1) - 3]\n",
        "\n",
        "    s2 = os.path.join(path_labels, entry['label'])\n",
        "    sp2 = s2[:len(s2) - 3]\n",
        "    image = nib.load(sp1)\n",
        "    label = nib.load(sp2)\n",
        "    images.append(image.get_fdata().astype(np.float32))\n",
        "    labels.append(label.get_fdata().astype(np.float32))"
      ],
      "metadata": {
        "execution": {
          "iopub.status.busy": "2022-05-22T08:33:29.226986Z",
          "iopub.execute_input": "2022-05-22T08:33:29.227455Z",
          "iopub.status.idle": "2022-05-22T08:33:49.396051Z",
          "shell.execute_reply.started": "2022-05-22T08:33:29.227371Z",
          "shell.execute_reply": "2022-05-22T08:33:49.395149Z"
        },
        "trusted": true,
        "id": "89d0wA808hPF"
      },
      "execution_count": null,
      "outputs": []
    },
    {
      "cell_type": "code",
      "source": [
        "from PIL import Image\n",
        "import matplotlib.pyplot as plt\n",
        "\n",
        "def blend(image, mask):\n",
        "    image = image.astype(np.float32)\n",
        "    min_in = image.min()\n",
        "    max_in = image.max()\n",
        "    image = (image - min_in) / (max_in - min_in + 1e-8) * 255\n",
        "    image = np.dstack((image, image, image)).astype(np.uint8)\n",
        "    zeros = np.zeros_like(mask)\n",
        "    mask = np.dstack((zeros, zeros, mask * 255)).astype(np.uint8)\n",
        "    return Image.blend(\n",
        "        Image.fromarray(image),\n",
        "        Image.fromarray(mask),\n",
        "        alpha=.2\n",
        "    )\n",
        "\n",
        "patient_num = 0\n",
        "slices_num = [10, 20, 30]\n",
        "slices = []\n",
        "for idx in slices_num:\n",
        "    continue\n",
        "    slices.append(blend(\n",
        "        images[patient_num][..., idx],\n",
        "        labels[patient_num][..., idx]\n",
        "    ))\n",
        "\n",
        "figure = plt.figure(figsize=(18, 18))\n",
        "for i, image in enumerate(slices):\n",
        "    continue\n",
        "    ax = figure.add_subplot(1, len(slices), i + 1)\n",
        "    ax.imshow(slices[i])\n",
        "\n",
        "plt.show()"
      ],
      "metadata": {
        "execution": {
          "iopub.status.busy": "2022-05-22T08:33:49.398321Z",
          "iopub.execute_input": "2022-05-22T08:33:49.398831Z",
          "iopub.status.idle": "2022-05-22T08:33:49.419460Z",
          "shell.execute_reply.started": "2022-05-22T08:33:49.398783Z",
          "shell.execute_reply": "2022-05-22T08:33:49.418518Z"
        },
        "trusted": true,
        "id": "iVEUPuPV8hPI"
      },
      "execution_count": null,
      "outputs": []
    },
    {
      "cell_type": "markdown",
      "source": [
        "Сами рисунки:"
      ],
      "metadata": {
        "id": "pURaTgve8hPK"
      }
    },
    {
      "cell_type": "code",
      "source": [
        "patient_num = 0\n",
        "slices_num = [10, 20, 30]\n",
        "slices = []\n",
        "for idx in slices_num:\n",
        "    slices.append(blend(\n",
        "        images[patient_num][..., idx],\n",
        "        0 * labels[patient_num][..., idx]\n",
        "    ))\n",
        "\n",
        "figure = plt.figure(figsize=(18, 18))\n",
        "for i, image in enumerate(slices):\n",
        "    ax = figure.add_subplot(1, len(slices), i + 1)\n",
        "    ax.imshow(slices[i])"
      ],
      "metadata": {
        "execution": {
          "iopub.status.busy": "2022-05-22T08:33:49.421032Z",
          "iopub.execute_input": "2022-05-22T08:33:49.421652Z",
          "iopub.status.idle": "2022-05-22T08:33:50.184227Z",
          "shell.execute_reply.started": "2022-05-22T08:33:49.421605Z",
          "shell.execute_reply": "2022-05-22T08:33:50.183414Z"
        },
        "trusted": true,
        "id": "Don4TCGF8hPL"
      },
      "execution_count": null,
      "outputs": []
    },
    {
      "cell_type": "code",
      "source": [
        "import torch \n",
        "import torch.nn as nn\n",
        "from torchvision import transforms"
      ],
      "metadata": {
        "execution": {
          "iopub.status.busy": "2022-05-22T08:33:50.187676Z",
          "iopub.execute_input": "2022-05-22T08:33:50.188264Z",
          "iopub.status.idle": "2022-05-22T08:33:50.193984Z",
          "shell.execute_reply.started": "2022-05-22T08:33:50.188220Z",
          "shell.execute_reply": "2022-05-22T08:33:50.192773Z"
        },
        "trusted": true,
        "id": "6FUYdQX68hPN"
      },
      "execution_count": null,
      "outputs": []
    },
    {
      "cell_type": "code",
      "source": [
        "import matplotlib.pyplot as plt\n",
        "\n",
        "sample_image = torch.tensor(images[0], dtype = torch.float32)\n",
        "\n",
        "sample_image.shape"
      ],
      "metadata": {
        "execution": {
          "iopub.status.busy": "2022-05-22T08:33:50.195450Z",
          "iopub.execute_input": "2022-05-22T08:33:50.195856Z",
          "iopub.status.idle": "2022-05-22T08:33:50.240676Z",
          "shell.execute_reply.started": "2022-05-22T08:33:50.195811Z",
          "shell.execute_reply": "2022-05-22T08:33:50.239605Z"
        },
        "trusted": true,
        "id": "F9s_PGre8hPO"
      },
      "execution_count": null,
      "outputs": []
    },
    {
      "cell_type": "markdown",
      "source": [
        "Создадим датасет для обработки данных:"
      ],
      "metadata": {
        "id": "jHDtlFUD8hPP"
      }
    },
    {
      "cell_type": "markdown",
      "source": [
        "Без случайного флипа картинки(понадобится для реккурентного UNet)"
      ],
      "metadata": {
        "id": "9qFpb5yY8hPQ"
      }
    },
    {
      "cell_type": "code",
      "source": [
        "from torch.utils.data import DataLoader, Dataset\n",
        "\n",
        "class ImageDatasetWithoutTransforms(Dataset):\n",
        "    def __init__(self, labels, images, train):\n",
        "        super().__init__()\n",
        "        self.labels = []\n",
        "        self.images = []\n",
        "        self.train = train\n",
        "        \n",
        "        for i in range(len(images)):\n",
        "            images_tensor = torch.FloatTensor(images[i]).permute(2, 0, 1)\n",
        "            if train:\n",
        "                labels_tensor = torch.FloatTensor(labels[i]).permute(2, 0, 1)\n",
        "            self.images.append([])\n",
        "            self.labels.append([])\n",
        "            for j in range(images_tensor.shape[0]):\n",
        "                self.images[-1].append(images_tensor[j].reshape(1, 512, 512))\n",
        "                if train:\n",
        "                    self.labels[-1].append(labels_tensor[j].reshape(1, 512, 512))\n",
        "\n",
        "\n",
        "\n",
        "    def __len__(self):\n",
        "        return len(self.images)\n",
        "\n",
        "    def __getitem__(self, index):\n",
        "        if self.train:\n",
        "            return {\"images\" : self.images[index],\n",
        "                    \"labels\" : self.labels[index]}\n",
        "        else:\n",
        "            return {\"images\" : self.images[index]}\n",
        "    "
      ],
      "metadata": {
        "execution": {
          "iopub.status.busy": "2022-05-22T08:33:50.242326Z",
          "iopub.execute_input": "2022-05-22T08:33:50.242835Z",
          "iopub.status.idle": "2022-05-22T08:33:50.256199Z",
          "shell.execute_reply.started": "2022-05-22T08:33:50.242790Z",
          "shell.execute_reply": "2022-05-22T08:33:50.255099Z"
        },
        "trusted": true,
        "id": "6I3NDCuc8hPR"
      },
      "execution_count": null,
      "outputs": []
    },
    {
      "cell_type": "code",
      "source": [
        "#transformer = transforms.Compose([])\n",
        "\n",
        "datasetRnn = ImageDatasetWithoutTransforms(labels, images, True)\n",
        "#dataset[0]"
      ],
      "metadata": {
        "execution": {
          "iopub.status.busy": "2022-05-22T08:33:50.257731Z",
          "iopub.execute_input": "2022-05-22T08:33:50.258220Z",
          "iopub.status.idle": "2022-05-22T08:33:50.297714Z",
          "shell.execute_reply.started": "2022-05-22T08:33:50.258160Z",
          "shell.execute_reply": "2022-05-22T08:33:50.296775Z"
        },
        "trusted": true,
        "id": "Yb9Jh46N8hPT"
      },
      "execution_count": null,
      "outputs": []
    },
    {
      "cell_type": "markdown",
      "source": [
        "Разделение на train/test:"
      ],
      "metadata": {
        "id": "dT_g_tao8hPV"
      }
    },
    {
      "cell_type": "code",
      "source": [
        "train_size = len(datasetRnn) - 2\n",
        "test_size = len(datasetRnn) - train_size\n",
        "\n",
        "datasetRnnTrain, datasetRnnVal = torch.utils.data.random_split(datasetRnn, [train_size, test_size])"
      ],
      "metadata": {
        "execution": {
          "iopub.status.busy": "2022-05-22T08:33:50.299270Z",
          "iopub.execute_input": "2022-05-22T08:33:50.299618Z",
          "iopub.status.idle": "2022-05-22T08:33:50.306910Z",
          "shell.execute_reply.started": "2022-05-22T08:33:50.299576Z",
          "shell.execute_reply": "2022-05-22T08:33:50.305450Z"
        },
        "trusted": true,
        "id": "ldq1P3L28hPW"
      },
      "execution_count": null,
      "outputs": []
    },
    {
      "cell_type": "markdown",
      "source": [
        "С аугментацией:"
      ],
      "metadata": {
        "id": "ZA2BcY7P8hPX"
      }
    },
    {
      "cell_type": "code",
      "source": [
        "from torch.utils.data import DataLoader, Dataset\n",
        "\n",
        "class ImageDataset(Dataset):\n",
        "    def __init__(self, labels, images, transforms):\n",
        "        super().__init__()\n",
        "        self.labels = []\n",
        "        self.images = []\n",
        "        self.transforms = transforms\n",
        "\n",
        "        for i in range(len(images)):\n",
        "            images_tensor = torch.FloatTensor(images[i]).permute(2, 0, 1)\n",
        "            if self.transforms is not None:\n",
        "                labels_tensor = torch.FloatTensor(labels[i]).permute(2, 0, 1)\n",
        "            for j in range(images_tensor.shape[0]):\n",
        "                self.images.append(images_tensor[j].reshape(1, 512, 512))\n",
        "                if self.transforms is not None:\n",
        "                    self.labels.append(labels_tensor[j].reshape(1, 512, 512))\n",
        "\n",
        "\n",
        "\n",
        "    def __len__(self):\n",
        "        return len(self.images)\n",
        "\n",
        "    def __getitem__(self, index):\n",
        "        if self.transforms is not None:\n",
        "            tens = torch.cat((self.images[index], self.labels[index]), 0)\n",
        "            tens1 = self.transforms(tens)\n",
        "            return {\"images\" : tens1[0],\n",
        "                    \"labels\" : tens1[1]}\n",
        "        else:\n",
        "            return {\"images\" : self.images[index]}\n",
        "    "
      ],
      "metadata": {
        "execution": {
          "iopub.status.busy": "2022-05-22T08:23:32.566371Z",
          "iopub.execute_input": "2022-05-22T08:23:32.566725Z",
          "iopub.status.idle": "2022-05-22T08:23:32.578992Z",
          "shell.execute_reply.started": "2022-05-22T08:23:32.566693Z",
          "shell.execute_reply": "2022-05-22T08:23:32.577975Z"
        },
        "trusted": true,
        "id": "mqZenIvC8hPY"
      },
      "execution_count": null,
      "outputs": []
    },
    {
      "cell_type": "code",
      "source": [
        "transformer = transforms.Compose([\n",
        "    transforms.RandomHorizontalFlip(),\n",
        "])\n",
        "\n",
        "dataset = ImageDataset(labels, images, transformer)\n",
        "dataset[0]"
      ],
      "metadata": {
        "execution": {
          "iopub.status.busy": "2022-05-22T08:23:33.344718Z",
          "iopub.execute_input": "2022-05-22T08:23:33.345615Z",
          "iopub.status.idle": "2022-05-22T08:23:33.547405Z",
          "shell.execute_reply.started": "2022-05-22T08:23:33.345581Z",
          "shell.execute_reply": "2022-05-22T08:23:33.546329Z"
        },
        "trusted": true,
        "id": "edBl7WiJ8hPa"
      },
      "execution_count": null,
      "outputs": []
    },
    {
      "cell_type": "markdown",
      "source": [
        "Разделение на train/test"
      ],
      "metadata": {
        "id": "gNlESIbb8hPb"
      }
    },
    {
      "cell_type": "code",
      "source": [
        "train_size = int(len(dataset) * 0.9)\n",
        "test_size = len(dataset) - train_size\n",
        "\n",
        "datasetTrain, datasetVal = torch.utils.data.random_split(dataset, [train_size, test_size])"
      ],
      "metadata": {
        "execution": {
          "iopub.status.busy": "2022-05-22T08:23:34.905371Z",
          "iopub.execute_input": "2022-05-22T08:23:34.905705Z",
          "iopub.status.idle": "2022-05-22T08:23:34.912504Z",
          "shell.execute_reply.started": "2022-05-22T08:23:34.905675Z",
          "shell.execute_reply": "2022-05-22T08:23:34.911434Z"
        },
        "trusted": true,
        "id": "T1CGAPNp8hPc"
      },
      "execution_count": null,
      "outputs": []
    },
    {
      "cell_type": "code",
      "source": [
        "from torch.utils.data import DataLoader\n",
        "\n",
        "dataloaderTrain = DataLoader(datasetTrain, shuffle = True, batch_size = 2, pin_memory=False, num_workers = 0)\n",
        "dataloaderVal = DataLoader(datasetVal, shuffle = True, batch_size = 2, pin_memory=False, num_workers = 0)\n"
      ],
      "metadata": {
        "execution": {
          "iopub.status.busy": "2022-05-22T08:23:35.799369Z",
          "iopub.execute_input": "2022-05-22T08:23:35.799664Z",
          "iopub.status.idle": "2022-05-22T08:23:35.805677Z",
          "shell.execute_reply.started": "2022-05-22T08:23:35.799636Z",
          "shell.execute_reply": "2022-05-22T08:23:35.804660Z"
        },
        "trusted": true,
        "id": "u99GnNBw8hPd"
      },
      "execution_count": null,
      "outputs": []
    },
    {
      "cell_type": "code",
      "source": [
        "device = torch.device('cuda:0' if torch.cuda.is_available() else 'cpu')\n",
        "device"
      ],
      "metadata": {
        "execution": {
          "iopub.status.busy": "2022-05-22T08:23:36.575189Z",
          "iopub.execute_input": "2022-05-22T08:23:36.575813Z",
          "iopub.status.idle": "2022-05-22T08:23:36.651875Z",
          "shell.execute_reply.started": "2022-05-22T08:23:36.575769Z",
          "shell.execute_reply": "2022-05-22T08:23:36.650827Z"
        },
        "trusted": true,
        "id": "QgrLmty68hPe"
      },
      "execution_count": null,
      "outputs": []
    },
    {
      "cell_type": "code",
      "source": [
        "class Block(nn.Module):\n",
        "    def __init__(self, in_channels, out_channels):\n",
        "        super().__init__()\n",
        "        self.module = nn.Sequential(\n",
        "            nn.Conv2d(in_channels, out_channels, 3, 1, 1),\n",
        "            nn.BatchNorm2d(out_channels),\n",
        "            nn.LeakyReLU(0.01),\n",
        "        )\n",
        "\n",
        "    def forward(self, X):\n",
        "        return self.module(X)\n",
        "\n",
        "\n",
        "class BlockConv2(nn.Module):\n",
        "    def __init__(self, in_channels, out_channels):\n",
        "        super().__init__()\n",
        "        self.model = nn.Sequential(\n",
        "            nn.Conv2d(in_channels, out_channels, 4, 2, 1),\n",
        "            nn.BatchNorm2d(out_channels),\n",
        "            nn.LeakyReLU(0.01),\n",
        "        )\n",
        "\n",
        "    def forward(self, X):\n",
        "        #print(X.shape)\n",
        "        return self.model(X)"
      ],
      "metadata": {
        "execution": {
          "iopub.status.busy": "2022-05-22T08:23:37.958398Z",
          "iopub.execute_input": "2022-05-22T08:23:37.958729Z",
          "iopub.status.idle": "2022-05-22T08:23:37.968863Z",
          "shell.execute_reply.started": "2022-05-22T08:23:37.958699Z",
          "shell.execute_reply": "2022-05-22T08:23:37.967426Z"
        },
        "trusted": true,
        "id": "dxmBxih_8hPf"
      },
      "execution_count": null,
      "outputs": []
    },
    {
      "cell_type": "code",
      "source": [
        "class ReBlock(nn.Module):\n",
        "    def __init__(self, in_channels, out_channels):\n",
        "        super().__init__()\n",
        "        self.module = nn.Sequential(\n",
        "            nn.ConvTranspose2d(in_channels, out_channels, 3, 1, 1),\n",
        "            nn.BatchNorm2d(out_channels),\n",
        "            nn.LeakyReLU(0.01),\n",
        "        )\n",
        "\n",
        "    def forward(self, X):\n",
        "        return self.module(X)\n",
        "\n",
        "\n",
        "class ReBlockConv2(nn.Module):\n",
        "    def __init__(self, in_channels, out_channels):\n",
        "        super().__init__()\n",
        "        self.model = nn.Sequential(\n",
        "            nn.ConvTranspose2d(in_channels, out_channels, 4, 2, 1),\n",
        "            nn.BatchNorm2d(out_channels),\n",
        "            nn.LeakyReLU(0.01),\n",
        "        )\n",
        "\n",
        "    def forward(self, X):\n",
        "        #print(X.shape)\n",
        "        return self.model(X)"
      ],
      "metadata": {
        "execution": {
          "iopub.status.busy": "2022-05-22T08:23:39.067912Z",
          "iopub.execute_input": "2022-05-22T08:23:39.068679Z",
          "iopub.status.idle": "2022-05-22T08:23:39.077811Z",
          "shell.execute_reply.started": "2022-05-22T08:23:39.068621Z",
          "shell.execute_reply": "2022-05-22T08:23:39.076823Z"
        },
        "trusted": true,
        "id": "LbWvIOnT8hPg"
      },
      "execution_count": null,
      "outputs": []
    },
    {
      "cell_type": "markdown",
      "source": [
        "Модели:"
      ],
      "metadata": {
        "id": "IP0C86h28hPh"
      }
    },
    {
      "cell_type": "markdown",
      "source": [
        "Модель 1: Обычный UNet"
      ],
      "metadata": {
        "id": "gcvsKLus8hPi"
      }
    },
    {
      "cell_type": "code",
      "source": [
        "class UNet(nn.Module):\n",
        "    def __init__(self, in_channels = 1):\n",
        "        super().__init__()\n",
        "        self.conv1 = nn.Sequential(\n",
        "                  BlockConv2(in_channels, 16),\n",
        "                  BlockConv2(16, 16), \n",
        "                  Block(16, 16)\n",
        "        )\n",
        "        self.pool1 = nn.MaxPool2d(4, 2, 1, return_indices=True)\n",
        "        self.conv2 = nn.Sequential(\n",
        "                BlockConv2(16, 8),\n",
        "                BlockConv2(8, 8), \n",
        "                Block(8, 8)\n",
        "        )     \n",
        "        self.pool2 = nn.MaxPool2d(4, 2, 1, return_indices=True)\n",
        "        self.conv3 = Block(8, 8)\n",
        "\n",
        "        self.unpool1 = nn.MaxUnpool2d(4, 2, 1)\n",
        "\n",
        "        self.up1 = nn.Sequential(\n",
        "                nn.Upsample(scale_factor = 2, mode='nearest'),\n",
        "                Block(8, 8),\n",
        "                nn.Upsample(scale_factor = 2, mode='nearest'),\n",
        "                Block(8, 16)\n",
        "        )\n",
        "        self.unpool2 = nn.MaxUnpool2d(4, 2, 1)\n",
        "\n",
        "        self.up2 = nn.Sequential(\n",
        "                nn.Upsample(scale_factor= 2, mode='nearest'),\n",
        "                Block(16, 16),\n",
        "                nn.Upsample(scale_factor= 2, mode='nearest'),\n",
        "                Block(16, 3)\n",
        "        )\n",
        "        self.last = nn.Sequential(\n",
        "            Block(4, 9),\n",
        "            Block(9, 6),\n",
        "            nn.Conv2d(6, 1, 3, 1, 1)\n",
        "        )\n",
        "        self.sigmoid = nn.Sigmoid()\n",
        "        self.dropout = nn.Dropout(0.1)\n",
        "    def forward(self, X):\n",
        "        hidden = self.conv1(X)\n",
        "        hidden, ind1 = self.pool1(hidden) \n",
        "        hidden = self.conv2(hidden) \n",
        "        hidden = self.dropout(hidden)\n",
        "        hidden, ind2 = self.pool2(hidden) \n",
        "        hidden = self.conv3(hidden) \n",
        "       \n",
        "        hidden = self.dropout(hidden)\n",
        "        hidden = self.unpool1(hidden, ind2)\n",
        "        hidden = self.up1(hidden) \n",
        "        hidden = self.dropout(hidden)\n",
        "        hidden = self.unpool2(hidden, ind1)\n",
        "        hidden = self.up2(hidden)\n",
        "        hidden = torch.cat((hidden, X), 1)\n",
        "        return self.sigmoid(self.last(hidden))"
      ],
      "metadata": {
        "execution": {
          "iopub.status.busy": "2022-05-22T08:23:45.219564Z",
          "iopub.execute_input": "2022-05-22T08:23:45.219923Z",
          "iopub.status.idle": "2022-05-22T08:23:45.237004Z",
          "shell.execute_reply.started": "2022-05-22T08:23:45.219879Z",
          "shell.execute_reply": "2022-05-22T08:23:45.235985Z"
        },
        "trusted": true,
        "id": "VjoInRuZ8hPj"
      },
      "execution_count": null,
      "outputs": []
    },
    {
      "cell_type": "markdown",
      "source": [
        "Модель 2: Реккурентный UNet"
      ],
      "metadata": {
        "id": "S5qcun3c8hPk"
      }
    },
    {
      "cell_type": "code",
      "source": [
        "from copy import deepcopy\n",
        "\n",
        "class RNNUNet(nn.Module):\n",
        "    def __init__(self, in_channels = 1):\n",
        "        super().__init__()\n",
        "        self.conv1 = nn.Sequential(\n",
        "                  BlockConv2(in_channels, 32),\n",
        "                  BlockConv2(32, 32), \n",
        "                  Block(32, 128)\n",
        "        )\n",
        "        self.pool1 = nn.MaxPool2d(4, 2, 1, return_indices=True)\n",
        "        self.conv2 = nn.Sequential(\n",
        "                BlockConv2(256, 256),#\n",
        "                BlockConv2(256, 256), \n",
        "                Block(256, 256)\n",
        "        )     \n",
        "        self.pool2 = nn.MaxPool2d(4, 2, 1, return_indices=True)\n",
        "        self.conv3 = Block(512, 256)#\n",
        "\n",
        "        self.unpool1 = nn.MaxUnpool2d(4, 2, 1)\n",
        "\n",
        "        self.up1 = nn.Sequential(\n",
        "                nn.Upsample(scale_factor = 2, mode='nearest'),\n",
        "                Block(256, 256),\n",
        "                nn.Upsample(scale_factor = 2, mode='nearest'),\n",
        "                Block(256, 128)\n",
        "        )\n",
        "        self.unpool2 = nn.MaxUnpool2d(4, 2, 1)\n",
        "\n",
        "        self.up2 = nn.Sequential(\n",
        "                nn.Upsample(scale_factor= 2, mode='nearest'),\n",
        "                Block(128, 128),\n",
        "                nn.Upsample(scale_factor= 2, mode='nearest'),\n",
        "                Block(128, 128)\n",
        "        )\n",
        "        self.last = nn.Sequential(\n",
        "            Block(129, 9),\n",
        "            Block(9, 3),\n",
        "            nn.Conv2d(3, 1, 3, 1, 1)\n",
        "        )\n",
        "        self.sigmoid = nn.Sigmoid()\n",
        "        self.dropout = nn.Dropout(0.1)\n",
        "    def forward(self, X, hidden):\n",
        "        output = self.conv1(X)\n",
        "        output, ind1 = self.pool1(output)\n",
        "        newhidden1 = output\n",
        "        output = self.conv2(torch.cat((output, hidden[0]), 1)) \n",
        "        output = self.dropout(output)\n",
        "        output, ind2 = self.pool2(output) \n",
        "        newhidden2 = output\n",
        "        output = self.conv3(torch.cat((output, hidden[1]), 1)) \n",
        "       \n",
        "        output = self.dropout(output)\n",
        "        output = self.unpool1(output, ind2)\n",
        "        output = self.up1(output) \n",
        "        output = self.dropout(output)\n",
        "        output = self.unpool2(output, ind1)\n",
        "        output = self.up2(output)\n",
        "        output = torch.cat((output, X), 1)\n",
        "        return self.sigmoid(self.last(output)), (newhidden1, newhidden2)\n",
        "    def init_hidden(self):\n",
        "        return torch.zeros((1, 128, 64, 64)).to(device), torch.zeros((1, 256, 8, 8)).to(device)"
      ],
      "metadata": {
        "execution": {
          "iopub.status.busy": "2022-05-22T08:23:46.815653Z",
          "iopub.execute_input": "2022-05-22T08:23:46.815998Z",
          "iopub.status.idle": "2022-05-22T08:23:46.835565Z",
          "shell.execute_reply.started": "2022-05-22T08:23:46.815966Z",
          "shell.execute_reply": "2022-05-22T08:23:46.834163Z"
        },
        "trusted": true,
        "id": "G5vXG68j8hPl"
      },
      "execution_count": null,
      "outputs": []
    },
    {
      "cell_type": "markdown",
      "source": [
        "Модель 3: UNetPlusPlus:"
      ],
      "metadata": {
        "id": "3LcO8ffW8hPm"
      }
    },
    {
      "cell_type": "code",
      "source": [
        "!pip install segmentation_models_pytorch"
      ],
      "metadata": {
        "execution": {
          "iopub.status.busy": "2022-05-22T08:24:26.486757Z",
          "iopub.execute_input": "2022-05-22T08:24:26.487158Z",
          "iopub.status.idle": "2022-05-22T08:24:45.874480Z",
          "shell.execute_reply.started": "2022-05-22T08:24:26.487108Z",
          "shell.execute_reply": "2022-05-22T08:24:45.873305Z"
        },
        "trusted": true,
        "id": "Dj4YyQoV8hPn"
      },
      "execution_count": null,
      "outputs": []
    },
    {
      "cell_type": "code",
      "source": [
        "import segmentation_models_pytorch as smp\n",
        "\n",
        "class UnetikPlus(nn.Module):\n",
        "    def __init__(self):\n",
        "        super().__init__()\n",
        "        self.model = smp.UnetPlusPlus(in_channels = 1, encoder_depth=3, decoder_channels=[ 64,32, 16]).to(device)\n",
        "        self.sigmoid = nn.Sigmoid()\n",
        "\n",
        "    def forward(self, X):\n",
        "        output = self.model(X)\n",
        "        return self.sigmoid(output)"
      ],
      "metadata": {
        "execution": {
          "iopub.status.busy": "2022-05-22T08:24:45.877308Z",
          "iopub.execute_input": "2022-05-22T08:24:45.877705Z",
          "iopub.status.idle": "2022-05-22T08:24:53.820297Z",
          "shell.execute_reply.started": "2022-05-22T08:24:45.877655Z",
          "shell.execute_reply": "2022-05-22T08:24:53.819227Z"
        },
        "trusted": true,
        "id": "TgU_rBOO8hPo"
      },
      "execution_count": null,
      "outputs": []
    },
    {
      "cell_type": "markdown",
      "source": [
        "Обучение:\n",
        "1.UNet:"
      ],
      "metadata": {
        "id": "TrkM0MNK8hPo"
      }
    },
    {
      "cell_type": "code",
      "source": [
        "model = UNet().to(device)"
      ],
      "metadata": {
        "execution": {
          "iopub.status.busy": "2022-05-22T08:24:53.822027Z",
          "iopub.execute_input": "2022-05-22T08:24:53.822336Z",
          "iopub.status.idle": "2022-05-22T08:24:59.655477Z",
          "shell.execute_reply.started": "2022-05-22T08:24:53.822291Z",
          "shell.execute_reply": "2022-05-22T08:24:59.649270Z"
        },
        "trusted": true,
        "id": "9Kwq_XB_8hPp"
      },
      "execution_count": null,
      "outputs": []
    },
    {
      "cell_type": "code",
      "source": [
        "optimizer = torch.optim.Adam(model.parameters(), lr = 1e-3)\n",
        "criterion = nn.BCELoss() # тут так получилось, что на нем получается больше score"
      ],
      "metadata": {
        "execution": {
          "iopub.status.busy": "2022-05-22T08:24:59.658055Z",
          "iopub.execute_input": "2022-05-22T08:24:59.658376Z",
          "iopub.status.idle": "2022-05-22T08:24:59.670973Z",
          "shell.execute_reply.started": "2022-05-22T08:24:59.658332Z",
          "shell.execute_reply": "2022-05-22T08:24:59.669786Z"
        },
        "trusted": true,
        "id": "vPs7kxBF8hPq"
      },
      "execution_count": null,
      "outputs": []
    },
    {
      "cell_type": "code",
      "source": [
        "from tqdm.auto import tqdm \n",
        "\n",
        "num_epochs = 1 # здесь это для демонстрации результатов, так надо обучать примерно в 30-40 эпох\n",
        "model.train()\n",
        "criterion_test = smp.losses.DiceLoss(mode = 'binary')\n",
        "\n",
        "for i in tqdm(range(num_epochs)):\n",
        "    sum_, cnt = 0, 0\n",
        "    for batch in tqdm(dataloaderTrain):\n",
        "        optimizer.zero_grad()\n",
        "        images = batch['images'].to(device).reshape(-1, 1, 512, 512)\n",
        "        labels = batch['labels'].to(device).reshape(-1, 1, 512, 512)\n",
        "        #print(images.shape)\n",
        "        model.train()\n",
        "        output = model(images)\n",
        "        loss = criterion(output, labels)\n",
        "        sum_ += loss.item()\n",
        "        cnt += 1\n",
        "        loss.backward()\n",
        "        optimizer.step()\n",
        "    sum_test, cnt_test = 0, 0\n",
        "    for batch in tqdm(dataloaderVal):\n",
        "        with torch.no_grad():\n",
        "            model.eval()\n",
        "            images = batch['images'].to(device).reshape(-1, 1, 512, 512)\n",
        "            labels = batch['labels'].to(device).reshape(-1, 1, 512, 512)\n",
        "            output = model(images)\n",
        "            sum_test += criterion_test(output, labels)\n",
        "            cnt_test += 1\n",
        "            \n",
        "    print(f'Train loss : {sum_ / cnt}, test loss : {sum_test / cnt_test}')"
      ],
      "metadata": {
        "execution": {
          "iopub.status.busy": "2022-05-22T08:27:01.662779Z",
          "iopub.execute_input": "2022-05-22T08:27:01.663110Z",
          "iopub.status.idle": "2022-05-22T08:27:31.450065Z",
          "shell.execute_reply.started": "2022-05-22T08:27:01.663068Z",
          "shell.execute_reply": "2022-05-22T08:27:31.449055Z"
        },
        "trusted": true,
        "id": "vs42RTzh8hPq"
      },
      "execution_count": null,
      "outputs": []
    },
    {
      "cell_type": "markdown",
      "source": [
        "Обучение примерно в 20 эпох дает скор 55-57"
      ],
      "metadata": {
        "id": "VG3xTTat8hPs"
      }
    },
    {
      "cell_type": "markdown",
      "source": [
        "2. Обучение UNetPlusPlus:"
      ],
      "metadata": {
        "id": "UAU38AoW8hPt"
      }
    },
    {
      "cell_type": "code",
      "source": [
        "model2 = UnetikPlus().to(device)"
      ],
      "metadata": {
        "execution": {
          "iopub.status.busy": "2022-05-22T08:27:37.688845Z",
          "iopub.execute_input": "2022-05-22T08:27:37.689139Z",
          "iopub.status.idle": "2022-05-22T08:27:39.212666Z",
          "shell.execute_reply.started": "2022-05-22T08:27:37.689109Z",
          "shell.execute_reply": "2022-05-22T08:27:39.211696Z"
        },
        "trusted": true,
        "id": "r5Fio-848hPt"
      },
      "execution_count": null,
      "outputs": []
    },
    {
      "cell_type": "code",
      "source": [
        "optimizer = torch.optim.Adam(model2.parameters(), lr = 1e-3)\n",
        "criterion = nn.BCELoss() # тут так получилось, что на нем получается больше score"
      ],
      "metadata": {
        "execution": {
          "iopub.status.busy": "2022-05-22T08:27:39.983675Z",
          "iopub.execute_input": "2022-05-22T08:27:39.984685Z",
          "iopub.status.idle": "2022-05-22T08:27:39.992077Z",
          "shell.execute_reply.started": "2022-05-22T08:27:39.984634Z",
          "shell.execute_reply": "2022-05-22T08:27:39.990850Z"
        },
        "trusted": true,
        "id": "No9p0f4L8hPu"
      },
      "execution_count": null,
      "outputs": []
    },
    {
      "cell_type": "code",
      "source": [
        "from tqdm.auto import tqdm \n",
        "\n",
        "num_epochs = 1 # здесь это для демонстрации результатов, так надо обучать примерно в 30-40 эпох\n",
        "model2.train()\n",
        "\n",
        "criterion_test = smp.losses.DiceLoss(mode = 'binary')\n",
        "\n",
        "for i in tqdm(range(num_epochs)):\n",
        "    sum_, cnt = 0, 0\n",
        "    for batch in tqdm(dataloaderTrain):\n",
        "        optimizer.zero_grad()\n",
        "        images = batch['images'].to(device).reshape(-1, 1, 512, 512)\n",
        "        labels = batch['labels'].to(device).reshape(-1, 1, 512, 512)\n",
        "        #print(images.shape)\n",
        "        model2.train()\n",
        "        output = model2(images)\n",
        "        loss = criterion(output, labels)\n",
        "        sum_ += loss.item()\n",
        "        cnt += 1\n",
        "        loss.backward()\n",
        "        optimizer.step()\n",
        "    sum_test, cnt_test = 0, 0\n",
        "    for batch in tqdm(dataloaderVal):\n",
        "        with torch.no_grad():\n",
        "            model2.eval()\n",
        "            images = batch['images'].to(device).reshape(-1, 1, 512, 512)\n",
        "            labels = batch['labels'].to(device).reshape(-1, 1, 512, 512)\n",
        "            output = model2(images)\n",
        "            sum_test += criterion_test(output, labels)\n",
        "            cnt_test += 1\n",
        "            \n",
        "    print(f'Train loss : {sum_ / cnt}, test loss : {sum_test / cnt_test}')"
      ],
      "metadata": {
        "execution": {
          "iopub.status.busy": "2022-05-22T08:28:44.849160Z",
          "iopub.execute_input": "2022-05-22T08:28:44.849489Z",
          "iopub.status.idle": "2022-05-22T08:29:43.884414Z",
          "shell.execute_reply.started": "2022-05-22T08:28:44.849456Z",
          "shell.execute_reply": "2022-05-22T08:29:43.883147Z"
        },
        "trusted": true,
        "id": "HgqTerkt8hPv"
      },
      "execution_count": null,
      "outputs": []
    },
    {
      "cell_type": "markdown",
      "source": [
        "Обучение примерно в 30 эпох дает скор примерно 60-62"
      ],
      "metadata": {
        "id": "F_6cbqRC8hPw"
      }
    },
    {
      "cell_type": "markdown",
      "source": [
        "3. Обучение RNNUNet"
      ],
      "metadata": {
        "id": "gCuY6MhZ8hPx"
      }
    },
    {
      "cell_type": "code",
      "source": [
        "model = RNNUNet().to(device)"
      ],
      "metadata": {
        "execution": {
          "iopub.status.busy": "2022-05-22T08:29:51.340973Z",
          "iopub.execute_input": "2022-05-22T08:29:51.341241Z",
          "iopub.status.idle": "2022-05-22T08:29:51.402443Z",
          "shell.execute_reply.started": "2022-05-22T08:29:51.341212Z",
          "shell.execute_reply": "2022-05-22T08:29:51.401575Z"
        },
        "trusted": true,
        "id": "yuMaFl848hPy"
      },
      "execution_count": null,
      "outputs": []
    },
    {
      "cell_type": "code",
      "source": [
        "optimizer = torch.optim.Adam(model.parameters(), lr = 1e-3)\n",
        "criterion = nn.BCELoss()"
      ],
      "metadata": {
        "execution": {
          "iopub.status.busy": "2022-05-22T08:29:52.508632Z",
          "iopub.execute_input": "2022-05-22T08:29:52.508967Z",
          "iopub.status.idle": "2022-05-22T08:29:52.514991Z",
          "shell.execute_reply.started": "2022-05-22T08:29:52.508937Z",
          "shell.execute_reply": "2022-05-22T08:29:52.513878Z"
        },
        "trusted": true,
        "id": "olYrrNB98hPy"
      },
      "execution_count": null,
      "outputs": []
    },
    {
      "cell_type": "code",
      "source": [
        "from tqdm.auto import tqdm \n",
        "\n",
        "num_epochs = 1 # здесь это для демонстрации результатов, так надо обучать примерно в 30-40 эпох\n",
        "model.train()\n",
        "for epoch in tqdm(range(num_epochs)):\n",
        "    sum_e, cnt = 0, 0\n",
        "    for i in tqdm(range(len(datasetRnnTrain))):\n",
        "        hidden = model.init_hidden()\n",
        "        for j in range(len(datasetRnnTrain[i]['images'])):\n",
        "            #print(images[j])\n",
        "            optimizer.zero_grad()\n",
        "            model.zero_grad()\n",
        "            output, hidden = model(datasetRnnTrain[i]['images'][j].reshape(1, 1, 512, 512).to(device), (hidden[0].detach(), hidden[1].detach()))\n",
        "            loss = criterion(output, datasetRnnTrain[i]['labels'][j].reshape(1, 1, 512, 512).to(device))\n",
        "            sum_e += loss.item()\n",
        "            cnt += 1\n",
        "            loss.backward()\n",
        "            optimizer.step()\n",
        "            \n",
        "    sum_t, cnt_t = 0, 0\n",
        "    for i in tqdm(range(len(datasetRnnVal))):\n",
        "        hidden = model.init_hidden()\n",
        "        for j in range(len(datasetRnnVal[i]['images'])):\n",
        "            #print(images[j])\n",
        "            output, hidden = model(datasetRnnVal[i]['images'][j].reshape(1, 1, 512, 512).to(device), (hidden[0].detach(), hidden[1].detach()))\n",
        "            loss = criterion(output, datasetRnnVal[i]['labels'][j].reshape(1, 1, 512, 512).to(device))\n",
        "            sum_t += loss.item()\n",
        "            cnt_t += 1\n",
        "            \n",
        "    \n",
        "            \n",
        "    \n",
        "    print(f\"Mean train loss per epoch is {sum_e / cnt}\")"
      ],
      "metadata": {
        "execution": {
          "iopub.status.busy": "2022-05-22T08:40:47.584347Z",
          "iopub.execute_input": "2022-05-22T08:40:47.584867Z",
          "iopub.status.idle": "2022-05-22T08:42:34.178375Z",
          "shell.execute_reply.started": "2022-05-22T08:40:47.584777Z",
          "shell.execute_reply": "2022-05-22T08:42:34.177417Z"
        },
        "trusted": true,
        "id": "CHAerP4o8hPz"
      },
      "execution_count": null,
      "outputs": []
    },
    {
      "cell_type": "markdown",
      "source": [
        "Обучаем ~40 эпох и получаем скор примерно 55-57"
      ],
      "metadata": {
        "id": "IGlxop5B8hP0"
      }
    },
    {
      "cell_type": "markdown",
      "source": [
        "Submission для UNetPlusPlus(так как оно дало лучший скор)"
      ],
      "metadata": {
        "id": "663Y6rdz8hP0"
      }
    },
    {
      "cell_type": "code",
      "source": [
        "model2.eval()\n",
        "with open('../input/tgcovid/testing_data.json', 'r') as f:\n",
        "    dict_testing = json.load(f)\n",
        "\n",
        "images_testig = []\n",
        "for entry in tqdm(dict_testing):\n",
        "    s1 = os.path.join(path_images, entry['image'])\n",
        "    sp1 = s1[:len(s1) - 3]\n",
        "\n",
        "    image = nib.load(sp1)\n",
        "    images_testig.append(image.get_fdata().astype(np.float32))"
      ],
      "metadata": {
        "execution": {
          "iopub.status.busy": "2022-05-22T08:44:17.701976Z",
          "iopub.execute_input": "2022-05-22T08:44:17.702264Z",
          "iopub.status.idle": "2022-05-22T08:44:21.679644Z",
          "shell.execute_reply.started": "2022-05-22T08:44:17.702236Z",
          "shell.execute_reply": "2022-05-22T08:44:21.678638Z"
        },
        "trusted": true,
        "id": "jkH5KObn8hP1"
      },
      "execution_count": null,
      "outputs": []
    },
    {
      "cell_type": "code",
      "source": [
        "lens_test = []\n",
        "for i in range(len(images_testig)):\n",
        "    lens_test.append(np.array(images_testig[i]).shape[2])\n",
        "\n",
        "lens_test"
      ],
      "metadata": {
        "execution": {
          "iopub.status.busy": "2022-05-22T08:44:21.681849Z",
          "iopub.execute_input": "2022-05-22T08:44:21.682391Z",
          "iopub.status.idle": "2022-05-22T08:44:21.969609Z",
          "shell.execute_reply.started": "2022-05-22T08:44:21.682349Z",
          "shell.execute_reply": "2022-05-22T08:44:21.968442Z"
        },
        "trusted": true,
        "id": "u9q_gOae8hP2"
      },
      "execution_count": null,
      "outputs": []
    },
    {
      "cell_type": "code",
      "source": [
        "test_data = ImageDataset(None, images_testig, None)"
      ],
      "metadata": {
        "execution": {
          "iopub.status.busy": "2022-05-22T08:44:21.971433Z",
          "iopub.execute_input": "2022-05-22T08:44:21.971703Z",
          "iopub.status.idle": "2022-05-22T08:44:21.984234Z",
          "shell.execute_reply.started": "2022-05-22T08:44:21.971673Z",
          "shell.execute_reply": "2022-05-22T08:44:21.983147Z"
        },
        "trusted": true,
        "id": "9bt1QkWk8hP2"
      },
      "execution_count": null,
      "outputs": []
    },
    {
      "cell_type": "code",
      "source": [
        "labels_predicted = []\n",
        "\n",
        "model2.eval()\n",
        "for batch in test_data:\n",
        "    images = batch['images'].to(device).reshape(-1, 1, 512, 512)\n",
        "    output = model2(images).reshape(512, 512, 1)\n",
        "    labels_predicted.append(output.cpu().detach().numpy())"
      ],
      "metadata": {
        "execution": {
          "iopub.status.busy": "2022-05-22T08:44:21.987109Z",
          "iopub.execute_input": "2022-05-22T08:44:21.987569Z",
          "iopub.status.idle": "2022-05-22T08:44:26.498565Z",
          "shell.execute_reply.started": "2022-05-22T08:44:21.987527Z",
          "shell.execute_reply": "2022-05-22T08:44:26.497493Z"
        },
        "trusted": true,
        "id": "zwOJJRs58hP3"
      },
      "execution_count": null,
      "outputs": []
    },
    {
      "cell_type": "code",
      "source": [
        "answer_predicted = [] \n",
        "\n",
        "alpha = 0.5 # больше чем alpha считаем как 1, иначе 0. Этот параметр подкручиваем пока не получится хорошо xD\n",
        "\n",
        "it = 0\n",
        "last_cat = True\n",
        "\n",
        "lens_test = []\n",
        "for i in range(len(images_testig)):\n",
        "    lens_test.append(np.array(images_testig[i]).shape[2])\n",
        "\n",
        "\n",
        "for i in range(len(labels_predicted)):\n",
        "    if last_cat:\n",
        "        answer_predicted.append(labels_predicted[i])\n",
        "        lens_test[it] -= 1\n",
        "        last_cat = False\n",
        "    else:\n",
        "        answer_predicted[len(answer_predicted) - 1] = np.concatenate(( answer_predicted[len(answer_predicted) - 1], labels_predicted[i]), 2)\n",
        "        lens_test[it] -= 1\n",
        "        if lens_test[it] == 0:\n",
        "            it += 1\n",
        "            last_cat = True\n",
        "\n",
        "            answer_predicted[len(answer_predicted) - 1] = answer_predicted[len(answer_predicted) - 1] > alpha\n",
        "            answer_predicted[len(answer_predicted) - 1] = answer_predicted[len(answer_predicted) - 1].astype(np.int)\n",
        "for i in range(len(answer_predicted)):\n",
        "    print(answer_predicted[i].shape)"
      ],
      "metadata": {
        "execution": {
          "iopub.status.busy": "2022-05-22T08:44:26.504487Z",
          "iopub.execute_input": "2022-05-22T08:44:26.505167Z",
          "iopub.status.idle": "2022-05-22T08:44:31.785051Z",
          "shell.execute_reply.started": "2022-05-22T08:44:26.505120Z",
          "shell.execute_reply": "2022-05-22T08:44:31.783976Z"
        },
        "trusted": true,
        "id": "O5gAfC5T8hP4"
      },
      "execution_count": null,
      "outputs": []
    },
    {
      "cell_type": "code",
      "source": [
        "for i in range(len(answer_predicted)):\n",
        "    print(answer_predicted[i].shape)"
      ],
      "metadata": {
        "execution": {
          "iopub.status.busy": "2022-05-22T08:44:31.790860Z",
          "iopub.execute_input": "2022-05-22T08:44:31.791712Z",
          "iopub.status.idle": "2022-05-22T08:44:31.802508Z",
          "shell.execute_reply.started": "2022-05-22T08:44:31.791655Z",
          "shell.execute_reply": "2022-05-22T08:44:31.801439Z"
        },
        "trusted": true,
        "id": "vV-7O3lL8hP5"
      },
      "execution_count": null,
      "outputs": []
    },
    {
      "cell_type": "code",
      "source": [
        "labels_predicted = answer_predicted\n",
        "\n",
        "import csv\n",
        "\n",
        "def rle_encoding(x):\n",
        "    dots = np.where(x.T.flatten() == 1)[0]\n",
        "    run_lengths = []\n",
        "    prev = -2\n",
        "    for b in dots:\n",
        "        if (b > prev + 1):\n",
        "            run_lengths.extend((b + 1, 0))\n",
        "        run_lengths[-1] += 1\n",
        "        prev = b\n",
        "    return [str(item) for item in run_lengths]\n",
        "\n",
        "with open(os.path.join(\"\", '../input/tgcovid/testing_data.json'), 'r') as f:\n",
        "    dict_testing = json.load(f)\n",
        "\n",
        "with open(f'submission_{alpha}.csv', \"wt\") as sb:\n",
        "    submission_writer = csv.writer(sb, delimiter=',')\n",
        "    submission_writer.writerow([\"Id\", \"Predicted\"])\n",
        "    for k_i, patient_i in tqdm(zip(dict_testing, labels_predicted)):\n",
        "        submission_writer.writerow([\n",
        "                f\"{k_i['image'][:-7]}\",\n",
        "                \" \".join(rle_encoding(patient_i))\n",
        "            ])"
      ],
      "metadata": {
        "execution": {
          "iopub.status.busy": "2022-05-22T08:44:31.804419Z",
          "iopub.execute_input": "2022-05-22T08:44:31.805158Z",
          "iopub.status.idle": "2022-05-22T08:44:33.222825Z",
          "shell.execute_reply.started": "2022-05-22T08:44:31.805113Z",
          "shell.execute_reply": "2022-05-22T08:44:33.221461Z"
        },
        "trusted": true,
        "id": "zxAn1eZU8hP5"
      },
      "execution_count": null,
      "outputs": []
    },
    {
      "cell_type": "code",
      "source": [
        "import pandas as pd \n",
        "\n",
        "df_sub = pd.read_csv(f\"submission_{alpha}.csv\")\n",
        "df_sub"
      ],
      "metadata": {
        "execution": {
          "iopub.status.busy": "2022-05-22T08:44:33.224684Z",
          "iopub.execute_input": "2022-05-22T08:44:33.224981Z",
          "iopub.status.idle": "2022-05-22T08:44:33.290564Z",
          "shell.execute_reply.started": "2022-05-22T08:44:33.224941Z",
          "shell.execute_reply": "2022-05-22T08:44:33.289635Z"
        },
        "trusted": true,
        "id": "Z0FKDdwh8hP6"
      },
      "execution_count": null,
      "outputs": []
    },
    {
      "cell_type": "code",
      "source": [
        ""
      ],
      "metadata": {
        "id": "2X9D6zId8hP7"
      },
      "execution_count": null,
      "outputs": []
    },
    {
      "cell_type": "code",
      "source": [
        ""
      ],
      "metadata": {
        "id": "TcS0BDC48hP8"
      },
      "execution_count": null,
      "outputs": []
    }
  ]
}