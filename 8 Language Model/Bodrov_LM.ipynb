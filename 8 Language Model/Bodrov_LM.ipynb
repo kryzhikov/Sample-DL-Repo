{
  "cells": [
    {
      "cell_type": "markdown",
      "metadata": {
        "id": "HJKpG_7lGdJh"
      },
      "source": [
        "# Fun with language modelling\n",
        "\n",
        "Если вы пропустили лекцию, то посмотрите слайды к ней — они где-то есть. Также полезно почитать:\n",
        "\n",
        "* [Unreasonable effectiveness of RNN](http://karpathy.github.io/2015/05/21/rnn-effectiveness/) (Andrej Karpathy)\n",
        "* [Официальный пример от PyTorch](https://github.com/pytorch/examples/tree/master/word_language_model)\n",
        "\n",
        "Рекомендуется заранее всё прочитать, чтобы понять, что от вас хотят. При желании, можете переписать всё так, как подсказывает ваше сердце.\n",
        "\n",
        "---"
      ]
    },
    {
      "cell_type": "code",
      "execution_count": 37,
      "metadata": {
        "id": "sNWDbLE0GdJk"
      },
      "outputs": [],
      "source": [
        "import torch\n",
        "import torch.nn as nn\n",
        "\n",
        "from torch.utils.data import Dataset, DataLoader\n",
        "\n",
        "import numpy as np\n",
        "\n",
        "import matplotlib.pyplot as plt\n",
        "%matplotlib inline"
      ]
    },
    {
      "cell_type": "markdown",
      "metadata": {
        "id": "cjjfQ0YNGdJk"
      },
      "source": [
        "## Препроцессинг (3 балла)\n",
        "\n",
        "Возьмите какие-нибудь сырые данные. Википедия, «Гарри Поттер», «Игра Престолов», тексты Монеточки, твиты Тинькова — что угодно.\n",
        "\n",
        "Для простоты будем делать char-level модель. Выкиньте из текстов все ненужные символы (можете оставить только алфавит и, пунктуацию). Сопоставьте всем различным символам свой номер. Удобно это хранить просто в питоновском словаре (`char2idx`). Для генерации вам потребуется ещё и обратный словарь (`idx2char`). Вы что-то такое должны были писать на вступительной — можете просто переиспользовать код оттуда.\n",
        "\n",
        "Заранее зарезервируйте айдишники под служебные символы: `<START>`, `<END>`, `<PAD>`, `<UNK>`.\n",
        "\n",
        "Клёво будет написать отдельный класс, который делает токенизацию и детокенизацию."
      ]
    },
    {
      "cell_type": "code",
      "source": [
        "path = '/content/drive/MyDrive/data/gameofthrones.txt'"
      ],
      "metadata": {
        "id": "ziohg3BXA0Of"
      },
      "execution_count": 38,
      "outputs": []
    },
    {
      "cell_type": "code",
      "source": [
        "from google.colab import drive\n",
        "drive.mount('/content/drive')"
      ],
      "metadata": {
        "colab": {
          "base_uri": "https://localhost:8080/"
        },
        "id": "VBvVapHXA07_",
        "outputId": "47982201-e77a-4db8-bb78-afc321a3b20c"
      },
      "execution_count": 39,
      "outputs": [
        {
          "output_type": "stream",
          "name": "stdout",
          "text": [
            "Drive already mounted at /content/drive; to attempt to forcibly remount, call drive.mount(\"/content/drive\", force_remount=True).\n"
          ]
        }
      ]
    },
    {
      "cell_type": "code",
      "source": [
        "import re"
      ],
      "metadata": {
        "id": "SEg4V8SZkOBQ"
      },
      "execution_count": 40,
      "outputs": []
    },
    {
      "cell_type": "code",
      "execution_count": 41,
      "metadata": {
        "id": "S1Eds-AAGdJl"
      },
      "outputs": [],
      "source": [
        "class Vocab:\n",
        "    def __init__(self, data):\n",
        "        self.data = self.preprocess(data)\n",
        "\n",
        "        self.char2idx = {'<PAD>': 0, '<START>': 1, '<END>': 2, '<UNK>': 3}\n",
        "        self.idx2char = {}\n",
        "\n",
        "        for char in self.data:\n",
        "            self.char2idx[char] = len(self.char2idx) if char not in self.char2idx else self.char2idx[char]\n",
        "\n",
        "        self.idx2char = dict(zip(self.char2idx.values(), self.char2idx.keys()))\n",
        "\n",
        "    def tokenize(self, sequence):\n",
        "        sequence = self.preprocess(sequence)\n",
        "\n",
        "        return [self.char2idx[char] for char in sequence]\n",
        "    \n",
        "    def preprocess(self, sequence):\n",
        "        sequence = sequence.lower()\n",
        "        sequence = re.sub(r'\\n', ' ', sequence)\n",
        "\n",
        "        regex = re.compile('[^a-zA-Z]')\n",
        "        sequence = regex.sub(' ', sequence)\n",
        "\n",
        "        sequence = re.sub(' {2,}', ' ', sequence)\n",
        "        sequence = sequence.strip()\n",
        "\n",
        "        return sequence\n",
        "\n",
        "    def detokenize(self, sequence):\n",
        "        return ''.join([self.idx2char[idx] for idx in sequence])\n",
        "    \n",
        "    def __len__(self):\n",
        "        return len(self.char2idx)"
      ]
    },
    {
      "cell_type": "code",
      "execution_count": 69,
      "metadata": {
        "id": "XEcXIrI7GdJm"
      },
      "outputs": [],
      "source": [
        "class TextDataset():\n",
        "    def __init__(self, data_path, length=150):\n",
        "        data = open(data_path).read()\n",
        "        self.length = length\n",
        "        # обучите вокаб\n",
        "        self.vocab = Vocab(data)\n",
        "\n",
        "        # разделите данные на отдельные сэмплы для обучения\n",
        "        # (просто список из сырых строк)\n",
        "        self.data = []\n",
        "\n",
        "        n = len(self.vocab.data) // length\n",
        "        for i in range(n):\n",
        "            self.data.append(self.vocab.data[i * length : (i + 1) * length])\n",
        "\n",
        "    def __len__(self):\n",
        "        return len(self.data)\n",
        "    \n",
        "    def __getitem__(self, idx):\n",
        "        txt = self.data[idx]\n",
        "        sample = self.vocab.tokenize(txt[:-1])\n",
        "        target = self.vocab.tokenize(txt[1:])\n",
        "        while len(sample) < self.length:\n",
        "            sample.append(self.vocab.char2idx['<PAD>'])\n",
        "        while len(target) < self.length:\n",
        "            target.append(self.vocab.char2idx['<PAD>'])\n",
        "        sample = torch.LongTensor(sample)\n",
        "        target = torch.LongTensor(target)\n",
        "        \n",
        "        return sample, target"
      ]
    },
    {
      "cell_type": "markdown",
      "metadata": {
        "id": "OoJQ7i2qGdJm"
      },
      "source": [
        "Если у вас какой-то большой массив текста (скажем, статьи Википедии), вы можете просто нарезать из него кусочки фиксированной длины и так их подавать в модель.\n",
        "\n",
        "Если же вы хотите приключений, то можно разбить этот текст на предложения (`nltk.sent_tokenize`), и тогда все примеры будут разной длины. По соображениям производительности, вы не хотите использовать самые длинные и самые короткие сэмплы, поэтому имеет смысл обрезать их по длине."
      ]
    },
    {
      "cell_type": "markdown",
      "metadata": {
        "id": "2HDvvYlCGdJo"
      },
      "source": [
        "Разобьём на обучение и валидацию:"
      ]
    },
    {
      "cell_type": "code",
      "execution_count": 70,
      "metadata": {
        "id": "nqP9Qh4gGdJo"
      },
      "outputs": [],
      "source": [
        "dataset = TextDataset(path)\n",
        "\n",
        "train_size = int(0.9 * len(dataset))\n",
        "test_size = len(dataset) - train_size\n",
        "train_set, test_set = torch.utils.data.random_split(dataset, [train_size, test_size])"
      ]
    },
    {
      "cell_type": "markdown",
      "metadata": {
        "id": "ZJQEZfvcGdJp"
      },
      "source": [
        "## Модель (3 балла)\n",
        "\n",
        "Примерно такое должно зайти:\n",
        "\n",
        "* Эмбеддинг\n",
        "* LSTM / GRU\n",
        "* Линейный слой\n",
        "* Softmax"
      ]
    },
    {
      "cell_type": "code",
      "execution_count": 140,
      "metadata": {
        "id": "RKZzV3rnGdJp"
      },
      "outputs": [],
      "source": [
        "class LM(nn.Module):\n",
        "    def __init__(self, input_size, embedding_dim, hidden_size, output_size, n_layers=1):\n",
        "        super().__init__()\n",
        "        self.input_size = input_size\n",
        "        self.hidden_size = hidden_size\n",
        "        self.output_size = output_size\n",
        "        self.n_layers = n_layers\n",
        "\n",
        "        self.encoder = nn.Embedding(input_size, embedding_dim)\n",
        "        self.rnn = nn.GRU(embedding_dim, hidden_size, n_layers, batch_first=True)\n",
        "        self.decoder = nn.Linear(hidden_size, output_size)\n",
        "\n",
        "    def forward(self, input, hidden):\n",
        "        batch_size = input.size(0)\n",
        "        encoded = self.encoder(input)\n",
        "        output, hidden = self.rnn(encoded, hidden)\n",
        "        decoded = self.decoder(output.reshape(output.size(0)*output.size(1), output.size(2)))\n",
        "        output = decoded.view(output.size(0), output.size(1), decoded.size(1))\n",
        "\n",
        "        return output, hidden\n",
        "\n",
        "    def init_hidden(self, batch_size):\n",
        "        return torch.zeros(self.n_layers, batch_size, self.hidden_size)"
      ]
    },
    {
      "cell_type": "markdown",
      "metadata": {
        "id": "9YkDpKQ0GdJp"
      },
      "source": [
        "## Обучение"
      ]
    },
    {
      "cell_type": "code",
      "source": [
        "epochs = 5\n",
        "lr = 1e-3 \n",
        "batch_size = 64"
      ],
      "metadata": {
        "id": "XNafm8vBKdJD"
      },
      "execution_count": 165,
      "outputs": []
    },
    {
      "cell_type": "code",
      "source": [
        "train = DataLoader(train_set, batch_size=batch_size)\n",
        "test = DataLoader(test_set, batch_size=batch_size)"
      ],
      "metadata": {
        "id": "i9Di103MQAs7"
      },
      "execution_count": 166,
      "outputs": []
    },
    {
      "cell_type": "code",
      "execution_count": 167,
      "metadata": {
        "id": "3qQtlUjXGdJq"
      },
      "outputs": [],
      "source": [
        "device = torch.device('cuda:0' if torch.cuda.is_available() else 'cpu')\n",
        "\n",
        "model = LM(\n",
        "    input_size=len(dataset.vocab),\n",
        "    hidden_size=128,\n",
        "    embedding_dim=128,\n",
        "    output_size=len(dataset.vocab)\n",
        ").to(device)\n",
        "\n",
        "optimizer = torch.optim.Adam(model.parameters(), lr=lr)\n",
        "criterion = nn.CrossEntropyLoss()"
      ]
    },
    {
      "cell_type": "code",
      "source": [
        "from tqdm import tqdm"
      ],
      "metadata": {
        "id": "qU88h5ano4p3"
      },
      "execution_count": 168,
      "outputs": []
    },
    {
      "cell_type": "code",
      "execution_count": 169,
      "metadata": {
        "id": "jY0sOLeeGdJq",
        "colab": {
          "base_uri": "https://localhost:8080/"
        },
        "outputId": "adec6cbb-f37f-48fe-9315-f6f593473e58"
      },
      "outputs": [
        {
          "output_type": "stream",
          "name": "stderr",
          "text": [
            "100%|██████████| 5/5 [09:21<00:00, 112.40s/it]\n"
          ]
        }
      ],
      "source": [
        "history = []\n",
        "history_val = []\n",
        "\n",
        "for e in tqdm(range(epochs)):\n",
        "    for x, y in train:\n",
        "        model.train()\n",
        "        optimizer.zero_grad()\n",
        "        \n",
        "        # 0. Распакуйте данные на нужное устройство\n",
        "        x = x.to(device)\n",
        "        y = y.to(device)\n",
        "\n",
        "        # 1. Инициилизируйте hidden\n",
        "        hidden = model.init_hidden(len(x))\n",
        "        \n",
        "        # 2. Прогоните данные через модель, получите предсказания на каждом токене\n",
        "        output, hidden = model(x, hidden)\n",
        "        \n",
        "        # 3. Посчитайте лосс (maxlen независимых классификаций) и сделайте backward()\n",
        "        loss = criterion(output.reshape(-1, len(dataset.vocab)), y.reshape(output.shape[0] * output.shape[1]))\n",
        "        loss.backward()\n",
        "\n",
        "        # 4. Клипните градиенты -- у RNN-ок с этим часто бывают проблемы\n",
        "        torch.nn.utils.clip_grad_norm_(model.parameters(), 0.2)\n",
        "\n",
        "        # 5. Залоггируйте лосс куда-нибудь\n",
        "        history.append(loss.item())\n",
        "\n",
        "        optimizer.step()\n",
        "\n",
        "    for x, y in test:\n",
        "        model.eval()\n",
        "        optimizer.zero_grad()\n",
        "\n",
        "        x = x.to(device)\n",
        "        y = y.to(device)\n",
        "\n",
        "        hidden = model.init_hidden(len(x))\n",
        "        output, hidden = model(x, hidden)\n",
        "        loss = criterion(output.reshape(-1, len(dataset.vocab)), y.reshape(output.shape[0] * output.shape[1]))\n",
        "\n",
        "        torch.nn.utils.clip_grad_norm_(model.parameters(), 0.2)\n",
        "\n",
        "        history_val.append(loss.item())\n",
        "\n",
        "        optimizer.step()\n",
        "        "
      ]
    },
    {
      "cell_type": "code",
      "source": [
        "plt.title('Train loss')\n",
        "plt.plot(history)\n",
        "plt.show()"
      ],
      "metadata": {
        "colab": {
          "base_uri": "https://localhost:8080/",
          "height": 281
        },
        "id": "iFLim-wxunLt",
        "outputId": "ad48fea9-353c-4fbf-9d4f-16e3a972c351"
      },
      "execution_count": 172,
      "outputs": [
        {
          "output_type": "display_data",
          "data": {
            "text/plain": [
              "<Figure size 432x288 with 1 Axes>"
            ],
            "image/png": "[encoded data removed]"
          },
          "metadata": {
            "needs_background": "light"
          }
        }
      ]
    },
    {
      "cell_type": "code",
      "source": [
        "plt.title('Test loss')\n",
        "plt.plot(history_val)\n",
        "plt.show()"
      ],
      "metadata": {
        "colab": {
          "base_uri": "https://localhost:8080/",
          "height": 281
        },
        "id": "NAd-ia5-uzP3",
        "outputId": "7637c824-f725-4f9b-9de4-6ce0bd8ab2aa"
      },
      "execution_count": 173,
      "outputs": [
        {
          "output_type": "display_data",
          "data": {
            "text/plain": [
              "<Figure size 432x288 with 1 Axes>"
            ],
            "image/png": "[encoded data removed]"
          },
          "metadata": {
            "needs_background": "light"
          }
        }
      ]
    },
    {
      "cell_type": "markdown",
      "metadata": {
        "id": "ZtE7MTtjGdJq"
      },
      "source": [
        "## Спеллчекер (3 балла)\n",
        "\n",
        "Из языковой модели можно сделать простенький спеллчекер: можно визуализировать лоссы на каждом символе (либо какой-нибудь другой показатель неуверенности).\n",
        "\n",
        "Бонус: можете усреднить перплексии по словам и выделять их, а не отдельные символы."
      ]
    },
    {
      "cell_type": "code",
      "execution_count": 170,
      "metadata": {
        "id": "7Z6mHew9GdJq",
        "colab": {
          "base_uri": "https://localhost:8080/",
          "height": 52
        },
        "outputId": "7a64cd06-268d-4635-e64e-111b1be24470"
      },
      "outputs": [
        {
          "output_type": "display_data",
          "data": {
            "text/plain": [
              "<IPython.core.display.HTML object>"
            ],
            "text/html": [
              "<span style=\"background: rgb(255, 255, 255)\">Налейте</span> <span style=\"background: rgb(255, 255, 255)\">мне</span> <span style=\"background: rgb(255, 155, 155)\">экспрессо</span>"
            ]
          },
          "metadata": {}
        },
        {
          "output_type": "display_data",
          "data": {
            "text/plain": [
              "<IPython.core.display.HTML object>"
            ],
            "text/html": [
              "<span style=\"background: rgb(255, 255, 255)\">Э</span><span style=\"background: rgb(255, 255, 255)\">т</span><span style=\"background: rgb(255, 255, 255)\">у</span><span style=\"background: rgb(255, 255, 255)\"> </span><span style=\"background: rgb(255, 255, 255)\">д</span><span style=\"background: rgb(255, 255, 255)\">о</span><span style=\"background: rgb(255, 255, 255)\">м</span><span style=\"background: rgb(255, 255, 255)\">а</span><span style=\"background: rgb(255, 255, 255)\">ш</span><span style=\"background: rgb(255, 255, 255)\">к</span><span style=\"background: rgb(255, 255, 255)\">у</span><span style=\"background: rgb(255, 255, 255)\"> </span><span style=\"background: rgb(255, 255, 255)\">н</span><span style=\"background: rgb(255, 255, 255)\">у</span><span style=\"background: rgb(255, 255, 255)\">ж</span><span style=\"background: rgb(255, 255, 255)\">н</span><span style=\"background: rgb(255, 255, 255)\">о</span><span style=\"background: rgb(255, 255, 255)\"> </span><span style=\"background: rgb(255, 255, 255)\">с</span><span style=\"background: rgb(255, 255, 255)\">д</span><span style=\"background: rgb(255, 255, 255)\">а</span><span style=\"background: rgb(255, 255, 255)\">т</span><span style=\"background: rgb(255, 255, 255)\">ь</span><span style=\"background: rgb(255, 255, 255)\"> </span><span style=\"background: rgb(255, 255, 255)\">в</span><span style=\"background: rgb(255, 205, 205)\">т</span><span style=\"background: rgb(255, 195, 195)\">е</span><span style=\"background: rgb(255, 185, 185)\">ч</span><span style=\"background: rgb(255, 255, 255)\">е</span><span style=\"background: rgb(255, 255, 255)\">н</span><span style=\"background: rgb(255, 255, 255)\">и</span><span style=\"background: rgb(255, 105, 105)\">и</span><span style=\"background: rgb(255, 255, 255)\"> </span><span style=\"background: rgb(255, 255, 255)\">д</span><span style=\"background: rgb(255, 255, 255)\">в</span><span style=\"background: rgb(255, 255, 255)\">у</span><span style=\"background: rgb(255, 255, 255)\">х</span><span style=\"background: rgb(255, 255, 255)\"> </span><span style=\"background: rgb(255, 255, 255)\">н</span><span style=\"background: rgb(255, 255, 255)\">е</span><span style=\"background: rgb(255, 255, 255)\">д</span><span style=\"background: rgb(255, 255, 255)\">е</span><span style=\"background: rgb(255, 255, 255)\">л</span><span style=\"background: rgb(255, 255, 255)\">ь</span>"
            ]
          },
          "metadata": {}
        }
      ],
      "source": [
        "from IPython.core.display import display, HTML\n",
        "\n",
        "def print_colored(sequence, intensities, delimeter=''):\n",
        "    html = delimeter.join([\n",
        "        f'<span style=\"background: rgb({255}, {255-x}, {255-x})\">{c}</span>'\n",
        "        for c, x in zip(sequence, intensities) \n",
        "    ])\n",
        "    display(HTML(html))\n",
        "\n",
        "print_colored('Налейте мне экспрессо'.split(), [0, 0, 100], ' ')\n",
        "\n",
        "sequence = 'Эту домашку нужно сдать втечении двух недель'\n",
        "intensities = [0]*len(sequence)\n",
        "intensities[25] = 50\n",
        "intensities[26] = 60\n",
        "intensities[27] = 70\n",
        "intensities[31] = 150\n",
        "print_colored(sequence, intensities)"
      ]
    },
    {
      "cell_type": "code",
      "execution_count": 378,
      "metadata": {
        "id": "VQQ0_P3rGdJr"
      },
      "outputs": [],
      "source": [
        "def spellcheck(sequence):\n",
        "    model.eval()\n",
        "    \n",
        "    # векторизуйте sequence; паддинги делать не нужно\n",
        "    sequence_encoded = torch.LongTensor(dataset.vocab.tokenize(sequence)).reshape(1, -1).to(device)\n",
        "    # прогоните модель и посчитайте лосс, но не усредняйте\n",
        "    # с losses можно что-нибудь сделать для визуализации; например, в какую-нибудь степень возвести\n",
        "    hidden = model.init_hidden(1)\n",
        "    result, _ = model(sequence_encoded, hidden)\n",
        "    \n",
        "    print_colored(sequence, (result * 200).reshape(-1).cpu().detach())"
      ]
    },
    {
      "cell_type": "code",
      "execution_count": 379,
      "metadata": {
        "id": "mptE4MvnGdJr",
        "colab": {
          "base_uri": "https://localhost:8080/",
          "height": 69
        },
        "outputId": "be0cb7b6-6f95-4a0c-d1e6-d916af02b4a5"
      },
      "outputs": [
        {
          "output_type": "display_data",
          "data": {
            "text/plain": [
              "<IPython.core.display.HTML object>"
            ],
            "text/html": [
              "<span style=\"background: rgb(255, 517.353759765625, 517.353759765625)\">T</span><span style=\"background: rgb(255, 1067.30908203125, 1067.30908203125)\">h</span><span style=\"background: rgb(255, 1078.3583984375, 1078.3583984375)\">e</span><span style=\"background: rgb(255, 1070.1343994140625, 1070.1343994140625)\">s</span><span style=\"background: rgb(255, 300.82916259765625, 300.82916259765625)\"> </span><span style=\"background: rgb(255, -89.72451782226562, -89.72451782226562)\">s</span><span style=\"background: rgb(255, 105.11032104492188, 105.11032104492188)\">e</span><span style=\"background: rgb(255, 409.85009765625, 409.85009765625)\">n</span><span style=\"background: rgb(255, -276.36285400390625, -276.36285400390625)\">t</span><span style=\"background: rgb(255, -64.9749755859375, -64.9749755859375)\">a</span><span style=\"background: rgb(255, 258.9302978515625, 258.9302978515625)\">n</span><span style=\"background: rgb(255, 256.16455078125, 256.16455078125)\">c</span><span style=\"background: rgb(255, 374.203125, 374.203125)\">e</span><span style=\"background: rgb(255, -358.105224609375, -358.105224609375)\"> </span><span style=\"background: rgb(255, 120.90055847167969, 120.90055847167969)\">h</span><span style=\"background: rgb(255, -30.39117431640625, -30.39117431640625)\">a</span><span style=\"background: rgb(255, 461.2657470703125, 461.2657470703125)\">s</span><span style=\"background: rgb(255, 350.0694274902344, 350.0694274902344)\"> </span><span style=\"background: rgb(255, 855.9093627929688, 855.9093627929688)\">m</span><span style=\"background: rgb(255, 744.8355102539062, 744.8355102539062)\">a</span><span style=\"background: rgb(255, 410.50439453125, 410.50439453125)\">n</span><span style=\"background: rgb(255, 310.5711975097656, 310.5711975097656)\">y</span><span style=\"background: rgb(255, 19.797378540039062, 19.797378540039062)\"> </span><span style=\"background: rgb(255, 374.73175048828125, 374.73175048828125)\">m</span><span style=\"background: rgb(255, 154.81825256347656, 154.81825256347656)\">i</span><span style=\"background: rgb(255, 571.638671875, 571.638671875)\">s</span><span style=\"background: rgb(255, 595.7713623046875, 595.7713623046875)\">t</span><span style=\"background: rgb(255, 640.1031494140625, 640.1031494140625)\">e</span><span style=\"background: rgb(255, 741.4977416992188, 741.4977416992188)\">k</span><span style=\"background: rgb(255, 959.55078125, 959.55078125)\">a</span><span style=\"background: rgb(255, 1057.106201171875, 1057.106201171875)\">s</span>"
            ]
          },
          "metadata": {}
        },
        {
          "output_type": "display_data",
          "data": {
            "text/plain": [
              "<IPython.core.display.HTML object>"
            ],
            "text/html": [
              "<span style=\"background: rgb(255, 517.353759765625, 517.353759765625)\">T</span><span style=\"background: rgb(255, 1067.30908203125, 1067.30908203125)\">h</span><span style=\"background: rgb(255, 1078.3583984375, 1078.3583984375)\">e</span><span style=\"background: rgb(255, 1070.1343994140625, 1070.1343994140625)\">r</span><span style=\"background: rgb(255, 300.82916259765625, 300.82916259765625)\">e</span><span style=\"background: rgb(255, -89.72451782226562, -89.72451782226562)\"> </span><span style=\"background: rgb(255, 105.11032104492188, 105.11032104492188)\">i</span><span style=\"background: rgb(255, 409.85009765625, 409.85009765625)\">s</span><span style=\"background: rgb(255, -276.36285400390625, -276.36285400390625)\"> </span><span style=\"background: rgb(255, -64.9749755859375, -64.9749755859375)\">e</span><span style=\"background: rgb(255, 258.9302978515625, 258.9302978515625)\">x</span><span style=\"background: rgb(255, 256.16455078125, 256.16455078125)\">t</span><span style=\"background: rgb(255, 374.203125, 374.203125)\">r</span><span style=\"background: rgb(255, -358.105224609375, -358.105224609375)\">a</span><span style=\"background: rgb(255, 120.90055847167969, 120.90055847167969)\"> </span><span style=\"background: rgb(255, -30.39117431640625, -30.39117431640625)\">l</span><span style=\"background: rgb(255, 461.2657470703125, 461.2657470703125)\">e</span><span style=\"background: rgb(255, 350.0694274902344, 350.0694274902344)\">t</span><span style=\"background: rgb(255, 855.9093627929688, 855.9093627929688)\">t</span><span style=\"background: rgb(255, 744.8355102539062, 744.8355102539062)\">t</span><span style=\"background: rgb(255, 410.50439453125, 410.50439453125)\">e</span><span style=\"background: rgb(255, 310.5711975097656, 310.5711975097656)\">r</span><span style=\"background: rgb(255, 19.797378540039062, 19.797378540039062)\">.</span>"
            ]
          },
          "metadata": {}
        },
        {
          "output_type": "display_data",
          "data": {
            "text/plain": [
              "<IPython.core.display.HTML object>"
            ],
            "text/html": [
              "<span style=\"background: rgb(255, 517.353759765625, 517.353759765625)\">T</span><span style=\"background: rgb(255, 1067.30908203125, 1067.30908203125)\">h</span><span style=\"background: rgb(255, 1078.3583984375, 1078.3583984375)\">i</span><span style=\"background: rgb(255, 1070.1343994140625, 1070.1343994140625)\">s</span><span style=\"background: rgb(255, 300.82916259765625, 300.82916259765625)\"> </span><span style=\"background: rgb(255, -89.72451782226562, -89.72451782226562)\">s</span><span style=\"background: rgb(255, 105.11032104492188, 105.11032104492188)\">e</span><span style=\"background: rgb(255, 409.85009765625, 409.85009765625)\">n</span><span style=\"background: rgb(255, -276.36285400390625, -276.36285400390625)\">t</span><span style=\"background: rgb(255, -64.9749755859375, -64.9749755859375)\">e</span><span style=\"background: rgb(255, 258.9302978515625, 258.9302978515625)\">n</span><span style=\"background: rgb(255, 256.16455078125, 256.16455078125)\">c</span><span style=\"background: rgb(255, 374.203125, 374.203125)\">e</span><span style=\"background: rgb(255, -358.105224609375, -358.105224609375)\"> </span><span style=\"background: rgb(255, 120.90055847167969, 120.90055847167969)\">i</span><span style=\"background: rgb(255, -30.39117431640625, -30.39117431640625)\">s</span><span style=\"background: rgb(255, 461.2657470703125, 461.2657470703125)\"> </span><span style=\"background: rgb(255, 350.0694274902344, 350.0694274902344)\">c</span><span style=\"background: rgb(255, 855.9093627929688, 855.9093627929688)\">o</span><span style=\"background: rgb(255, 744.8355102539062, 744.8355102539062)\">r</span><span style=\"background: rgb(255, 410.50439453125, 410.50439453125)\">r</span><span style=\"background: rgb(255, 310.5711975097656, 310.5711975097656)\">e</span><span style=\"background: rgb(255, 19.797378540039062, 19.797378540039062)\">c</span><span style=\"background: rgb(255, 374.73175048828125, 374.73175048828125)\">t</span><span style=\"background: rgb(255, 154.81825256347656, 154.81825256347656)\">.</span>"
            ]
          },
          "metadata": {}
        }
      ],
      "source": [
        "sequences = ['Thes sentance has many mistekas', \n",
        "             'There is extra lettter.', \n",
        "             'This sentence is correct.']\n",
        "\n",
        "for sequence in sequences:\n",
        "    spellcheck(sequence)"
      ]
    },
    {
      "cell_type": "markdown",
      "metadata": {
        "id": "tF2hb7kiGdJr"
      },
      "source": [
        "## Генерация предложений (3 балла)\n",
        "\n",
        "* Поддерживайте hidden state при генерации. Не пересчитывайте ничего больше одного раза.\n",
        "* Прикрутите температуру: это когда при сэмплировании все логиты (то, что перед софтмаксом) делятся на какое-то число (по умолчанию 1, тогда ничего не меняется). Температура позволяет делать trade-off между разнообразием и правдоподобием (подробнее — см. блог Карпатого).\n",
        "* Ваша реализация должна уметь принимать строку seed — то, с чего должно начинаться сгенерированная строка."
      ]
    },
    {
      "cell_type": "code",
      "execution_count": 328,
      "metadata": {
        "id": "PZmuaA2SGdJr"
      },
      "outputs": [],
      "source": [
        "def sample(num_tokens, seed=\"\", temperature=1.0):\n",
        "    model.eval()\n",
        "        \n",
        "    hidden = model.init_hidden(1)\n",
        "    input = torch.LongTensor(dataset.vocab.tokenize(seed)).reshape(1, -1).to(device)    \n",
        "    soft = nn.Softmax()\n",
        "\n",
        "    continuation = ''\n",
        "    \n",
        "    for _ in range(num_tokens):\n",
        "        output, hidden = model(input, hidden)\n",
        "        \n",
        "        token_probas = soft(output.squeeze()).div(temperature).exp().cpu()\n",
        "        token = torch.multinomial(token_probas, 1)[0]\n",
        "        \n",
        "        continuation += dataset.vocab.idx2char[token.item()]\n",
        "        input = torch.LongTensor(dataset.vocab.tokenize(seed + continuation)).reshape(1, -1).to(device)\n",
        "\n",
        "    return continuation"
      ]
    },
    {
      "cell_type": "code",
      "execution_count": 329,
      "metadata": {
        "id": "rsE6AqnoGdJr",
        "colab": {
          "base_uri": "https://localhost:8080/"
        },
        "outputId": "10ded750-a4ad-4743-8e84-5b2c94713e14"
      },
      "outputs": [
        {
          "output_type": "stream",
          "name": "stderr",
          "text": [
            "/usr/local/lib/python3.7/dist-packages/ipykernel_launcher.py:13: UserWarning: Implicit dimension choice for softmax has been deprecated. Change the call to include dim=X as an argument.\n",
            "  del sys.path[0]\n"
          ]
        },
        {
          "output_type": "stream",
          "name": "stdout",
          "text": [
            "A bear walked through the forest... uf<START>dcfczvn\n",
            "\n",
            "An Englishman, an American and a Russian met. Englishman says:... cfkueh ben\n",
            "\n",
            "So, one day the pitching decided to make repairs... uw tbv ztx\n",
            "\n",
            "Lieutenant Rzhevsky was... mvw<PAD>pqcw i\n",
            "\n",
            "The Buddha is walking along the road with his disciples... c<END><UNK>kxm<START>ixg\n",
            "\n",
            "Muller: Stirlitz, where were you in 1938?... <PAD>lthj<PAD>e<UNK>pf\n",
            "\n",
            "The Americans are sending us a spy under the guise of a student... hrzddgdqt \n",
            "\n",
            "The train is approaching Dolgopa:... edbxlxmqwx\n",
            "\n"
          ]
        }
      ],
      "source": [
        "beginnings = ['A bear walked through the forest', \n",
        "              'An Englishman, an American and a Russian met. Englishman says:',\n",
        "              'So, one day the pitching decided to make repairs',\n",
        "              'Lieutenant Rzhevsky was',\n",
        "              'The Buddha is walking along the road with his disciples',\n",
        "              'Muller: Stirlitz, where were you in 1938?',\n",
        "              'The Americans are sending us a spy under the guise of a student',\n",
        "              'The train is approaching Dolgopa:']\n",
        "\n",
        "for beginning in beginnings:\n",
        "    print(f'{beginning}... {sample(10, beginning)}')\n",
        "    print()"
      ]
    },
    {
      "cell_type": "code",
      "source": [
        ""
      ],
      "metadata": {
        "id": "Z7PzxYKuSODz"
      },
      "execution_count": null,
      "outputs": []
    }
  ],
  "metadata": {
    "kernelspec": {
      "display_name": "Python 3",
      "language": "python",
      "name": "python3"
    },
    "language_info": {
      "codemirror_mode": {
        "name": "ipython",
        "version": 3
      },
      "file_extension": ".py",
      "mimetype": "text/x-python",
      "name": "python",
      "nbconvert_exporter": "python",
      "pygments_lexer": "ipython3",
      "version": "3.7.1"
    },
    "colab": {
      "name": "Bodrov_LM.ipynb",
      "provenance": [],
      "collapsed_sections": []
    }
  },
  "nbformat": 4,
  "nbformat_minor": 0
}