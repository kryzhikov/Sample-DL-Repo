{
 "cells": [
  {
   "cell_type": "markdown",
   "metadata": {
    "id": "cTAbteP9gtzi",
    "pycharm": {
     "name": "#%% md\n"
    }
   },
   "source": [
    "# Часть 2: Deep Learning\n",
    "\n",
    "Для начала напомним основные понятия машинного обучения.\n",
    "\n",
    "Что такое моделирование? Это когда мы пытаемся как-то задать зависимость (функцию) между фичами ($X$) и целевой переменной ($y$).\n",
    "\n",
    "* Для этого мы пользуемся какими-то предположениями о том, как должно выглядеть идеальное решение. Например, мы можем сказать «$y = f_k(x) = kx + \\epsilon$ для какого-то $k$», то есть мы можем предположить, что переменные $x$ и $y$ связаны как-то линейно, но коэффициент пропорциональности мы не знаем, и тогда он будет называться **параметром** модели.\n",
    "* После этого мы вводим какую-то **функцию потерь** (например, $l(y') = (y'-y)^2$) и подбираем параметры модели, которые минимизируют её ожидаемое значение.\n",
    "\n",
    "Как подбирать эти параметры? В простых случаях, вроде линейной регрессии, они находятся аналитически: нужно взять производную, приравнять к нулю и решить систему уравнений. Но иногда эти функции намного сложнее. Как их оптимизировать?"
   ]
  },
  {
   "cell_type": "markdown",
   "metadata": {
    "id": "R_xqFRnngtzo",
    "pycharm": {
     "name": "#%% md\n"
    }
   },
   "source": [
    "## Добро пожаловать в мир дифференцируемых функций\n",
    "\n",
    "Автор определяет следующую «иерархию хороших функций», с точки зрения лёгкости нахождения минимума:\n",
    "\n",
    "* Аналитически решаемые — их глобальный минимум можно выразить какой-то простой формулой. Пример: линейная регрессия.\n",
    "* Выпуклые. У них гарантируется решение, причём единственное, и оно быстро ищется разными методами, в частности градиентным спуском (но обычно можно даже быстрее). Пример: логистическая регрессия.\n",
    "* Дифференцируемые. К ним можно применить градиентный спуск, и, возможно, он сойдётся не к локальному минимуму, а к глобальному. **<-- YOU ARE HERE**\n",
    "* Дискретные. Тут обычно всё грустно, но нам хотя бы можно быстро узнать её значение.\n",
    "* Невычислимые. Иногда нам нужно оценивать что-нибудь совсем не формализуемое математикой — например, качество перевода, или поведение пользователя. Невычислимыми функциями, в частности, занимается Reinforcement Learning.\n",
    "\n",
    "В курсе вы будете заниматься разными способами задания моделей, состоящих только из *дифференцируемых* относительно параметров преобразований, что позволит искать (иногда успешно, иногда нет) набор параметров, при которых ожидание функции потерь имеет минимальное значение."
   ]
  },
  {
   "cell_type": "markdown",
   "metadata": {
    "id": "7b4qO-sEgtzs",
    "pycharm": {
     "name": "#%% md\n"
    }
   },
   "source": [
    "## Градиентный спуск\n",
    "\n",
    "**Градиентом** называют вектор (набор чисел), каждой компонентой которого является значение производной по очередному аргументу (при фиксированных остальных).\n",
    "\n",
    "**Ок, зачем он нужен?** Пусть у нас есть какая-нибудь функция, которую мы хотим минимизировать, и мы предполагаем, что она выглядит как что-то типа гладкой ямы. Тогда мы можем попытаться действовать так: начнем с какой-нибудь точки и будем делать много очень маленьких шажков в сторону наибольшего уменьшения функции, пока не придем в локальный минимум.\n",
    "\n",
    "* Что значит «в сторону наибольшего уменьшения»? Это значит «против градиаента».\n",
    "* Что такое «маленький шажок»? Это значит $-\\lambda \\cdot (f'_1, f'_2, \\ldots, f'_n)$. Обычно $\\lambda$ это что-то типа $10^{-3}$. Этот параметр называется learning rate (скорость обучения).\n",
    "* Что значит «пока не придём в локальный минимум». Это значит «пока градиент не ноль». На практике будем проверять, что норма (т. е. длина вектора) больше определенного очень малого $\\epsilon$.\n",
    "\n",
    "Если learning rate достоаточно маленький, мы точно придем хотя бы в локальный минимум. Этот метод называется **градиентным спуском**, и он очень часто применяется для оптимизации тех функций, у которых везде можно быстро посчитать градиент. Гарантированно находить глобальный минимум произвольной функции наука пока не умеет (и вряд ли когда-либо научится)."
   ]
  },
  {
   "cell_type": "markdown",
   "metadata": {
    "id": "3Dv9XZeXgt0o",
    "pycharm": {
     "name": "#%% md\n"
    }
   },
   "source": [
    "### Эвристики\n",
    "\n",
    "В сложных моделях — например, нейросетях — поверхности оптимизируемых функций обычно выглядят весьма страшно:\n",
    "\n",
    "<img width='250px' src='https://ml4a.github.io/images/figures/non_convex_function.png'>\n",
    "\n",
    "«Плохих» точек в процессе оптимизации на самом деле существует два типа: где градиент нулевой и где градиент бесконечный.\n",
    "\n",
    "**Моментум**. Что делать, если мы попали в какую-то точку, где градиента практически нет? Будем шагать каждый раз не в сторону градиента в данной точке, а в сторону *экспоненциально усреднённого* градиента по всем предыдущим итерациям (градиенты с последних итераций будут иметь больший вес). Для этого вводится специальный гиперпараметр $0 < \\gamma < 1$, а рядом с каждым параметром хранится усреднённое среднее его градиентов, которое обновляется по следующей формуле:\n",
    "\n",
    "$$ \\hat{g}_i = \\hat{g}_{i-1} \\cdot \\gamma + g_i $$\n",
    "\n",
    "<img width='250px' src='https://upload.wikimedia.org/wikipedia/commons/thumb/1/1e/Saddle_point.svg/300px-Saddle_point.svg.png'>\n",
    "\n",
    "**RMSProp**. Что делать, если мы на «обрыве»? Будем поддерживать таким же образом усреднённые *квадраты* градиентов, и при обновлении параметров нормировать градиент, деля его на корень из этой оценки. Так оптимизатор будет адаптироваться под «турбулентные» регионы, уменьшая в них размер шага и не давая параметрам улететь куда-то далего из-за обрывов.\n",
    "\n",
    "<img width='250px' src='https://3.bp.blogspot.com/-fJQ8OM1dHl4/WV363VZZVqI/AAAAAAAAFSk/0e0EuS3WZ9gv5jW93cuF-XjU2FAN42VMQCLcBGAs/s1600/gradient_clipping.png'>\n",
    "\n",
    "Алгоритм, объединяющий эти две эвристики, называется **Adam**. Он является одним из самых часто используемых оптимизаторов в глубоком обучении.\n",
    "\n",
    "Подробнее прочитать про эвристики в градиентном спуске можно тут: http://ruder.io/optimizing-gradient-descent/"
   ]
  },
  {
   "cell_type": "markdown",
   "metadata": {
    "id": "_UUjeR_lgtz0",
    "pycharm": {
     "name": "#%% md\n"
    }
   },
   "source": [
    "### Стохастический градиентный спуск\n",
    "\n",
    "Нам может потребоваться много итераций, чтобы градиентный спуск сошелся. Более того, время выполнения одной итерации может быть очень большим хотя бы потому, что нам нужно каждый раз просмотреть весь датасет. Поэтому для каждого шага градиентного спуска будем использовать не точный градиент, а его оценку: выберем несколько десятков примеров — такой набор называется батчем (англ. batch — пакет, группа) — посчитаем на них градиенты и усредним. Получаем шумную, но приемлимую для нас оценку градиента. Такой вид градиентного спуска называют стохастическим (SGD — stochastic gradient descent).\n",
    "\n",
    "Почему бы не брать вообще один пример? На самом деле, с точки зрения теории — можно. Но на практике оптимальный размер батча совсем маленьким делать не стоит из-за параллелизма: на устройстах, на которых эти градиенты считаются, затратится меньше времени на пример, если данные обрабатывать не поштучно, а группами (включите GPU в Google Colab и выполните ячейки снизу).\n",
    "\n",
    "[Можно показать](https://openreview.net/pdf?id=B1Yy1BxCZ), что чтобы скомпенсировать уменьшение размера батча, нужно во столько же раз уменьшить learning rate. Иными словами, более шумные оценки градиента можно компенсировать более мелкими и аккуратными шагами."
   ]
  },
  {
   "cell_type": "markdown",
   "metadata": {
    "id": "pvxOfDSMgtz3",
    "pycharm": {
     "name": "#%% md\n"
    }
   },
   "source": [
    "<img width='500px' src='https://sqream.com/wp-content/uploads/2017/03/cpu_vs_gpu-11.png'>\n",
    "\n",
    "Если вы работаете локально, то зайдите на https://pytorch.org/get-started/locally/ и установите PyTorch."
   ]
  },
  {
   "cell_type": "code",
   "execution_count": 1,
   "metadata": {
    "id": "jbGyCvJpgtz8",
    "pycharm": {
     "name": "#%%\n"
    }
   },
   "outputs": [],
   "source": [
    "import torch\n",
    "import numpy"
   ]
  },
  {
   "cell_type": "code",
   "execution_count": 2,
   "metadata": {
    "colab": {
     "base_uri": "https://localhost:8080/"
    },
    "id": "XJpsMiMhgt0L",
    "outputId": "2ef07cc0-30a7-406c-8907-a711dc6d25ef",
    "pycharm": {
     "name": "#%%\n"
    }
   },
   "outputs": [
    {
     "output_type": "stream",
     "name": "stdout",
     "text": [
      "CPU times: user 1.14 s, sys: 51.8 ms, total: 1.19 s\n",
      "Wall time: 650 ms\n"
     ]
    }
   ],
   "source": [
    "A = numpy.random.randn(1000, 5000)\n",
    "B = numpy.random.randn(5000, 2000)\n",
    "\n",
    "%time C = numpy.matmul(A, B)"
   ]
  },
  {
   "cell_type": "code",
   "execution_count": 3,
   "metadata": {
    "colab": {
     "base_uri": "https://localhost:8080/"
    },
    "id": "Ug3tDQZggt0Y",
    "outputId": "0a72d07a-5ffa-49f9-b5ce-fc6be14276ed",
    "pycharm": {
     "name": "#%%\n"
    }
   },
   "outputs": [
    {
     "output_type": "stream",
     "name": "stdout",
     "text": [
      "CPU times: user 280 ms, sys: 7.67 ms, total: 287 ms\n",
      "Wall time: 321 ms\n"
     ]
    }
   ],
   "source": [
    "A = torch.randn(1000, 5000)\n",
    "B = torch.randn(5000, 2000)\n",
    "\n",
    "%time C = torch.matmul(A, B).shape"
   ]
  },
  {
   "cell_type": "code",
   "execution_count": 4,
   "metadata": {
    "id": "0osua6Eagt0f",
    "pycharm": {
     "name": "#%%\n"
    },
    "colab": {
     "base_uri": "https://localhost:8080/"
    },
    "outputId": "bb75d3f9-4b34-41d2-f84a-4153beea2237"
   },
   "outputs": [
    {
     "output_type": "stream",
     "name": "stdout",
     "text": [
      "CPU times: user 1.61 ms, sys: 170 µs, total: 1.78 ms\n",
      "Wall time: 27.7 ms\n"
     ]
    }
   ],
   "source": [
    "# если вы открыли тетрадку через Google Colab, то включите GPU\n",
    "# (сверху слева Runtime -> Change runtime type... -> GPU)\n",
    "\n",
    "A = torch.randn(1000, 5000).cuda()\n",
    "B = torch.randn(5000, 2000).cuda()\n",
    "\n",
    "%time C = torch.matmul(A, B)"
   ]
  },
  {
   "cell_type": "markdown",
   "metadata": {
    "id": "pFbbEZfTgt0u",
    "pycharm": {
     "name": "#%% md\n"
    }
   },
   "source": [
    "----"
   ]
  },
  {
   "cell_type": "markdown",
   "metadata": {
    "id": "jXRJVMFGgt00",
    "pycharm": {
     "name": "#%% md\n"
    }
   },
   "source": [
    "## Практическая часть: фреймворки\n",
    "\n",
    "Чтобы оптимизировать функцию потерь относительно параметров градиентным спуском, нужно для начала этот градиент хотя бы посчитать. Как вы убедитесь на 3-м занятии, это больно делать вручную. Для этого существуют фреймворки, которые сами посчитают производные за нас. Помимо своей основной функции (поддержка эффективного автоматического дифференцирования и оптимизаторов), они также включают полезные абстракции для машинного обучения.\n",
    "\n",
    "Фреймворков много, и становится ещё больше. Мы будем использовать **PyTorch**. Вам он будет очень напоминать numpy — по сути он может делать всё то же, только ещё и считать градиенты относительно параметров."
   ]
  },
  {
   "cell_type": "markdown",
   "metadata": {
    "id": "duBkhVeXgt04",
    "pycharm": {
     "name": "#%% md\n"
    }
   },
   "source": [
    "PyTorch можно использовать как замену numpy:"
   ]
  },
  {
   "cell_type": "code",
   "execution_count": 5,
   "metadata": {
    "colab": {
     "base_uri": "https://localhost:8080/"
    },
    "id": "-j66C1kagt06",
    "outputId": "5dec6d7f-7679-44f2-b767-7c7e11a33543",
    "pycharm": {
     "name": "#%%\n"
    }
   },
   "outputs": [
    {
     "output_type": "stream",
     "name": "stdout",
     "text": [
      "tensor([5., 7., 9.])\n"
     ]
    }
   ],
   "source": [
    "x = torch.tensor([1., 2., 3.])\n",
    "y = torch.tensor([4., 5., 6.])\n",
    "z = x + y\n",
    "\n",
    "print(z)"
   ]
  },
  {
   "cell_type": "code",
   "execution_count": 6,
   "metadata": {
    "colab": {
     "base_uri": "https://localhost:8080/"
    },
    "id": "M7s7_wdVgt1G",
    "outputId": "9c3bc58b-7f61-4f3a-9aa1-e068bd2057cc",
    "pycharm": {
     "name": "#%%\n"
    }
   },
   "outputs": [
    {
     "output_type": "stream",
     "name": "stdout",
     "text": [
      "tensor(32., grad_fn=<DotBackward0>)\n"
     ]
    }
   ],
   "source": [
    "# при создании переменных можно поставить флаг requires_grad\n",
    "x = torch.tensor([1., 2., 3], requires_grad=True)\n",
    "\n",
    "# с этим флагом мы можем делать те же операции, что и раньше\n",
    "y = torch.tensor([4., 5., 6], requires_grad=True)\n",
    "z = torch.dot(x, y)\n",
    "print(z)"
   ]
  },
  {
   "cell_type": "markdown",
   "metadata": {
    "id": "JW1aPs4Lgt1P",
    "pycharm": {
     "name": "#%% md\n"
    }
   },
   "source": [
    "...но теперь z кое-что знает о себе:"
   ]
  },
  {
   "cell_type": "code",
   "execution_count": 7,
   "metadata": {
    "colab": {
     "base_uri": "https://localhost:8080/"
    },
    "id": "cUqQnpzmgt1V",
    "outputId": "48370008-bc62-4a4b-9692-1c71d90b143b",
    "scrolled": true,
    "pycharm": {
     "name": "#%%\n"
    }
   },
   "outputs": [
    {
     "output_type": "stream",
     "name": "stdout",
     "text": [
      "<DotBackward0 object at 0x7f1da4977b90>\n"
     ]
    }
   ],
   "source": [
    "print(z.grad_fn)"
   ]
  },
  {
   "cell_type": "markdown",
   "metadata": {
    "id": "lZ83fzXZgt1i",
    "pycharm": {
     "name": "#%% md\n"
    }
   },
   "source": [
    "`z` — скаляр, и мы можем продиффиренцировать весь граф относительно него:"
   ]
  },
  {
   "cell_type": "code",
   "execution_count": 8,
   "metadata": {
    "id": "ELxu2tYwgt1l",
    "pycharm": {
     "name": "#%%\n"
    }
   },
   "outputs": [],
   "source": [
    "z.backward()"
   ]
  },
  {
   "cell_type": "markdown",
   "metadata": {
    "id": "vIbZpuL9gt1x",
    "pycharm": {
     "name": "#%% md\n"
    }
   },
   "source": [
    "И теперь рядом со всеми переменными с requires_grad=True, которые как-либо использовались при получении z, теперь будут их градиенты."
   ]
  },
  {
   "cell_type": "code",
   "execution_count": 9,
   "metadata": {
    "colab": {
     "base_uri": "https://localhost:8080/"
    },
    "id": "pEiN8IDigt10",
    "outputId": "ce7ed4e0-5550-429e-d57f-733b135a448d",
    "pycharm": {
     "name": "#%%\n"
    }
   },
   "outputs": [
    {
     "output_type": "stream",
     "name": "stdout",
     "text": [
      "tensor([4., 5., 6.])\n",
      "tensor([1., 2., 3.])\n"
     ]
    }
   ],
   "source": [
    "print(x.grad)\n",
    "print(y.grad)"
   ]
  },
  {
   "cell_type": "markdown",
   "metadata": {
    "id": "laIfejGvgt17",
    "pycharm": {
     "name": "#%% md\n"
    }
   },
   "source": [
    "Мы сможем потом использовать эти градиенты, чтобы оптимально подвинуть параметры в градиентном спуске."
   ]
  },
  {
   "cell_type": "markdown",
   "metadata": {
    "id": "QELCcRPfgt2A",
    "pycharm": {
     "name": "#%% md\n"
    }
   },
   "source": [
    "## MNIST\n",
    "\n",
    "Это всё было абстрактно. Рассмотрим более конкретный пример.\n",
    "\n",
    "Датасет MNIST включает в себя 70000 черно-белых изображений цифр от 0 до 9, каждое 28 на 28 пиксилей. Задача — предсказать по изображению наиболее вероятную цифру, соответствующую изображению.\n",
    "\n",
    "<img width='400px' src='https://camo.githubusercontent.com/24545a9ca1aa3b5d1036bd3deaed3ed7ec6cfdc4/68747470733a2f2f692e696d6775722e636f6d2f4954726d3978342e706e67'>\n",
    "\n",
    "**Нейронная сеть** — это просто какая-то последовательность дифференцируемых операций со входными данными. Обычно эти массовые операции над векторами называют **слоями**. Самый простой пример — матричное умножение, за которым следует операция `softmax`:\n",
    "\n",
    "$$ \\sigma(x)_k = \\frac{e^{x_k}}{\\sum_i e^{x_i}} $$\n",
    "\n",
    "Она возвращает вероятностное распределение: нетрудно убедиться, что каждый элемент неотрицателен, и все $\\sigma_i$ суммируются в единицу. Если кто помнит, мы только что описали логистическую регрессию, которая тоже в каком-то смысле является очень простой нейросетью.\n",
    "\n",
    "Обучим какую-нибудь нейросеть, которая принимает вектора размера $784 = 28^2$ и возвращает вероятностное распределение. \n",
    "\n",
    "**ВАЖНО**: из-за вычислительных причин мы почти всегда будем обрабатывать данные по батчам, и поэтому размерности входных и промежуточных данных всегда будут вида (batch_size x dim)."
   ]
  },
  {
   "cell_type": "code",
   "execution_count": null,
   "outputs": [],
   "source": [
    "import torch\n",
    "import torch.nn as nn\n",
    "from torchvision import datasets, transforms\n",
    "\n",
    "import matplotlib.pyplot as plt\n",
    "%matplotlib inline"
   ],
   "metadata": {
    "collapsed": false,
    "pycharm": {
     "name": "#%%\n"
    }
   }
  },
  {
   "cell_type": "code",
   "execution_count": null,
   "outputs": [],
   "source": [
    "def get_loader(train, batch_size):\n",
    "    '''Cкачает мнист и сохранит где-то рядом.'''\n",
    "    \n",
    "    # Dataset в PyTorch -- это какой-то объект, который оборачивает сырые данные и делает с ними какой-нибудь препроцессинг\n",
    "    dataset = datasets.MNIST('mnist', train=train, download=True,\n",
    "        transform=transforms.ToTensor())\n",
    "    \n",
    "    # DataLoader делает из датасета генератор, который возвращает данные, сгруппированные по батчам\n",
    "    loader = torch.utils.data.DataLoader(dataset, batch_size=batch_size, shuffle=True)\n",
    "    \n",
    "    return loader\n",
    "\n",
    "device = torch.device('cuda' if torch.cuda.is_available() else 'cpu')  \n",
    "train = get_loader(True, 64)\n",
    "val = get_loader(False, 64)"
   ],
   "metadata": {
    "collapsed": false,
    "pycharm": {
     "name": "#%%\n"
    }
   }
  },
  {
   "cell_type": "markdown",
   "source": [
    "Вам для первого занятия не нужно деталь знать, как устроены Dataset-ы и DataLoader-ы, но в будущем будет полезным прочитать туториал с pytorch.org: https://pytorch.org/tutorials/beginner/data_loading_tutorial.html"
   ],
   "metadata": {
    "collapsed": false,
    "pycharm": {
     "name": "#%% md\n"
    }
   }
  },
  {
   "cell_type": "markdown",
   "source": [
    "В качестве функции потерь выберем кроссэнтропию — так же, как и в логистической регрессии. В PyTorch есть функция, которая принимает логарифмы вероятностей и правильные ответы и возвращает кроссэнтропию — `nn.NLLLoss` (negative log likelihood loss). Из-за вычислительных причин (в основном, проблем с точностью), мы почти всегда будем работать с логарифмами вероятностей, а не с самими вероятностями. Чтобы сеть их выдавала, нужно последним слоем добавить слой `nn.LogSoftmax`."
   ],
   "metadata": {
    "collapsed": false,
    "pycharm": {
     "name": "#%% md\n"
    }
   }
  },
  {
   "cell_type": "markdown",
   "source": [
    "### Как создать простую модель\n",
    "Базовая конструкция для наших нейросетей - nn.Sequential, которая принимает в качестве своих параметров последовательность слоев, через которые будут последовательно проходить наши данные. Есть два типа слоев: одним нужно знать размерности тензоров, а другим нет. Важно понимать, что поскольку наши данные проходят через слои последовательно, то и размеры тензора могут меняться от слоя к слою.\n",
    "\n",
    "Перечислим необходимые на первых порах слои:\n",
    "\n",
    "\n",
    "* nn.Linear — это слой, применяющий линейное преобразование. Собственно, в простых моделях мы обучаем именно его - подбираем необходимые коэффициенты преобразования. Для использования nn.Linear надо указывать размерность входного тензора и размерность желаемого выходного. К примеру, nn.Linear(784, 10) преобразует тензор размера (batch_size, 784) в тензор размера (batch_size, 10). \n",
    "* nn.ReLU — это слой, который применяет функцию ReLU, обладающую свойством нелинейности. Зачем это нужно - чуть позже.\n",
    "* nn.Sigmoid — это слой,  который применяет функцию Sigmoid, обладающую двумя свойствами: во-первых, нелинейностью, а во-вторых, ее значения лежат в промежутке [0, 1].  Если нужна только нелинейность, то лучше использовать ReLU (из-за проблемызатухающего градиента)\n",
    "* nn.Softmax — про него писали выше. Этот слой по данным выдает вероятностное распределение. В основном нужен для задач классификации.\n",
    "\n",
    "\n"
   ],
   "metadata": {
    "collapsed": false,
    "pycharm": {
     "name": "#%% md\n"
    }
   }
  },
  {
   "cell_type": "markdown",
   "source": [
    "### Зачем нужна нелинейность\n",
    "\n",
    "Нелинейные функции также называются функциями-активаторами. Слои с этими функциями обычно не содержат параметров, которые оптимизируются при обучении, а нужны для того, чтобы линейные функции не комбинировались. Ведь композиция линейных функций — это тоже линейная функция. Тогда для композиции слоев B и C существует слой А с такими же параметрами, но требующий меньше ресурсов на обучение."
   ],
   "metadata": {
    "collapsed": false,
    "pycharm": {
     "name": "#%% md\n"
    }
   }
  },
  {
   "cell_type": "code",
   "execution_count": null,
   "outputs": [],
   "source": [
    "model = nn.Sequential(\n",
    "    # какие-нибудь nn.Linear и нелинейности\n",
    "    # ...\n",
    "    nn.Linear(784, 375),\n",
    "    nn.Sigmoid(),\n",
    "    nn.Linear(375, 10),\n",
    "    nn.LogSoftmax(dim=1)\n",
    ")"
   ],
   "metadata": {
    "collapsed": false,
    "pycharm": {
     "name": "#%%\n"
    }
   }
  },
  {
   "cell_type": "code",
   "execution_count": null,
   "outputs": [],
   "source": [
    "# Модель со свертками\n",
    "class ConvModel(nn.Module):\n",
    "  def __init__(self):\n",
    "    super(ConvModel, self).__init__()\n",
    "    self.train_losses = []\n",
    "    self.features_extractor = nn.Sequential(\n",
    "        nn.Conv2d(1, 64, 3, padding=1),\n",
    "        nn.ReLU(),\n",
    "        nn.MaxPool2d((2, 2)),\n",
    "        nn.Conv2d(64, 128, 3, padding=1),\n",
    "        nn.ReLU(),\n",
    "        nn.MaxPool2d((2, 2)),\n",
    "        nn.ReLU(),\n",
    "        )\n",
    "    \n",
    "    self.classifier = nn.Sequential(\n",
    "              nn.Flatten(),\n",
    "              nn.Linear(128 * 49, 350),\n",
    "              nn.ReLU(),\n",
    "              nn.Linear(350, 120),\n",
    "              nn.ReLU(),\n",
    "              nn.Linear(120, 40),\n",
    "              nn.ReLU(),\n",
    "              nn.Linear(40, 10),\n",
    "              nn.Softmax(dim=1)\n",
    "          )\n",
    "    \n",
    "    self.optimizer = torch.optim.Adam(self.parameters())\n",
    "    self.criterion = nn.CrossEntropyLoss()\n",
    "\n",
    "  def forward(self, x):\n",
    "      x = self.features_extractor(x)\n",
    "      return self.classifier(x)\n",
    "  \n",
    "  def train(self, train):\n",
    "    train_losses = []\n",
    "    epochs_count = 15\n",
    "    for _ in range(epochs_count):\n",
    "        for X, y in train:\n",
    "            self.optimizer.zero_grad()\n",
    "            \n",
    "            X = X.to(device)\n",
    "            y = y.to(device)\n",
    "\n",
    "            output = self.forward(X)\n",
    "            loss = self.criterion(output, y)\n",
    "            loss.backward()\n",
    "            \n",
    "            train_losses.append(loss.item())\n",
    "            \n",
    "            self.optimizer.step()\n",
    "    self.train_losses = train_losses\n",
    "\n",
    "  def eval(self, val):\n",
    "    total = 0\n",
    "    correct = 0\n",
    "    for X, y in val:\n",
    "      with torch.no_grad():\n",
    "        X = X.to(device)\n",
    "        y = y.to(device)\n",
    "\n",
    "        res = self.forward(X)\n",
    "        res = res.argmax(dim=1)\n",
    "        total += res.shape[0]\n",
    "        correct += (res == y).sum().item()\n",
    "    return correct / total\n",
    "  \n",
    "  def check_train_loss(self):\n",
    "    plt.plot(self.train_losses)\n",
    "    plt.show()"
   ],
   "metadata": {
    "collapsed": false,
    "pycharm": {
     "name": "#%%\n"
    }
   }
  },
  {
   "cell_type": "markdown",
   "source": [
    "Кроссэнтропия не очень информативна — она меряется в каких-то попугаях, а не в понятных единицах. Нас скорее интересует абсолютная точность классификации:"
   ],
   "metadata": {
    "collapsed": false,
    "pycharm": {
     "name": "#%% md\n"
    }
   }
  },
  {
   "cell_type": "code",
   "execution_count": null,
   "outputs": [],
   "source": [
    "def accuracy(model, val):\n",
    "    total = 0\n",
    "    correct = 0\n",
    "    for X, y in val:\n",
    "        X = X.view(-1, 784)\n",
    "        res = model(X)\n",
    "        res = res.argmax(dim=1)\n",
    "        total += res.shape[0]\n",
    "        correct += (res == y).sum().item()\n",
    "    return correct / total"
   ],
   "metadata": {
    "collapsed": false,
    "pycharm": {
     "name": "#%%\n"
    }
   }
  },
  {
   "cell_type": "markdown",
   "source": [
    "## Обучение\n",
    "\n",
    "Следующие блоки кода очень важны, потому что их мы будем использовать постоянно. Что тут происходит:\n",
    "\n",
    "\n",
    "1.   optimizer —это тот объект, который будет отвечать за градиентный спуск и обновление параметров модели.\n",
    "2.   criterion — это та самая функция потерь, которую мы минимизируем.\n",
    "3.   epoch — эпохи. Мы хотим сколько-то раз (например, 10) обработать весь тренировочный датасет, и провести на нем обучение.\n",
    "4.   zero_grad — мы обнуляем все данные градиентов, которые оптимизатор хранил до этого.\n",
    "5.   output — получаем результат работы модели.\n",
    "6.   loss — считаем функцию потерь.\n",
    "7.   backward — мы получаем градиенты, которыми на этом шаге оптимизатор будет пользоваться при обновлении параметров модели. (см. [backpropagation](https://colab.research.google.com/drive/1U2rElWU-0QVjSy421fsTrRMPUK2p9v9F#scrollTo=JpKNvmHR1I_e&line=12&uniqifier=1))\n",
    "8.   step — оптимизатор обновляет всю модель.\n",
    "\n"
   ],
   "metadata": {
    "collapsed": false,
    "pycharm": {
     "name": "#%% md\n"
    }
   }
  },
  {
   "cell_type": "code",
   "execution_count": null,
   "outputs": [],
   "source": [
    "optimizer = torch.optim.Adam(model.parameters(), lr=1e-2)\n",
    "criterion = nn.NLLLoss()\n",
    "# ^ попробуйте какой-нибудь другой и сравните, если ещё не уверовали в кроссэнтропию"
   ],
   "metadata": {
    "collapsed": false,
    "pycharm": {
     "name": "#%%\n"
    }
   }
  },
  {
   "cell_type": "code",
   "execution_count": null,
   "outputs": [],
   "source": [
    "train_losses = []\n",
    "result_accuracy = 0\n",
    "epochs_count = 50\n",
    "epoch_number = 0\n",
    "while epoch_number <= epochs_count and result_accuracy < 0.975:\n",
    "    for X, y in train:\n",
    "        X = X.view(-1, 784)  # разгладим картинку в вектор\n",
    "        optimizer.zero_grad()\n",
    "        \n",
    "        output = model(X)\n",
    "        loss = criterion(output, y)\n",
    "        loss.backward()\n",
    "        \n",
    "        train_losses.append(loss.item())\n",
    "        # как думаете, зачем нужен .item()?\n",
    "        # подсказка: лосс хранит информацию о своей истории\n",
    "        # попробуйте убрать .item() и посмотреть на расход памяти\n",
    "        \n",
    "        optimizer.step()\n",
    "    epoch_number += 1\n",
    "    result_accuracy = accuracy(model, val)\n",
    "    print('val accuracy: %.4f' %result_accuracy)\n",
    "        \n",
    "plt.plot(train_losses)\n",
    "plt.show()"
   ],
   "metadata": {
    "collapsed": false,
    "pycharm": {
     "name": "#%%\n"
    }
   }
  },
  {
   "cell_type": "code",
   "execution_count": null,
   "outputs": [],
   "source": [
    "print(f'итоговая точность: {result_accuracy * 100}%',\n",
    "      f'количество пройденных эпох: {epoch_number}',\n",
    "      sep='\\n')"
   ],
   "metadata": {
    "collapsed": false,
    "pycharm": {
     "name": "#%%\n"
    }
   }
  },
  {
   "cell_type": "code",
   "execution_count": null,
   "outputs": [],
   "source": [
    "conv_model = ConvModel().to(device)\n",
    "conv_model.train(train)"
   ],
   "metadata": {
    "collapsed": false,
    "pycharm": {
     "name": "#%%\n"
    }
   }
  },
  {
   "cell_type": "code",
   "execution_count": null,
   "outputs": [],
   "source": [
    "conv_model.check_train_loss()\n",
    "print(f'итоговая точность: {conv_model.eval(val) * 100}%')"
   ],
   "metadata": {
    "collapsed": false,
    "pycharm": {
     "name": "#%%\n"
    }
   }
  },
  {
   "cell_type": "markdown",
   "source": [
    "### Регуляризация\n",
    "\n",
    "Вы можете заметить, что с какого-то момента функция потерь на `val` перестаёт падать (а потом и начинает расти), при этом лосс на `train` стабильно убывает. Это связано с переобучением. Если сеть достаточно большая, то нейроны смогут адаптироваться для получения меньшего лосса на отдельном примере, что не очень хорошо обобщается под данные, которые модель ещё не видела. Например сеть может выучить правило «если этот пиксель имеет такое-то значение, то это шестёрка», в структуре сети это будет выражаться очень сильной связью между нейронами. Для этого в нейросетях используют методы регуляризации на веса сети или на процесс обучения.\n",
    "\n",
    "Самый популярный из них на данный момент — Dropout (в PyTorch — `nn.Dropout`). Это отдельный слой, который во время обучения с вероятностью $p$ независимо по всем элементам зануляет их значения. Это мешает нейронам адаптироваться.\n",
    "\n",
    "<img width='600px' src='https://cdn-images-1.medium.com/max/1200/1*iWQzxhVlvadk6VAJjsgXgg.png'>"
   ],
   "metadata": {
    "collapsed": false,
    "pycharm": {
     "name": "#%% md\n"
    }
   }
  },
  {
   "cell_type": "markdown",
   "source": [
    "## Автоэнкодеры\n",
    "\n",
    "**Автоэнкодеры** — это сети, которые учатся восстанавливать свои же входные данные. Такой тип обучения иногда называют self-supervised.\n",
    "\n",
    "\n",
    "<img width='400px' src='https://habrastorage.org/web/cf6/228/613/cf6228613fdc4f8fb819cbd41bb677eb.png'>\n",
    "\n",
    "Казалось бы, выучить функцию $f(x) = x$ очень легко, но в автоэнкодеры устроены так, что внутри них вся информация в какой-то момент проходит через скрытый слой небольшой размерности, и поэтому автоэнкодеры просто не имеют возможности идеально точно скопировать свой вход на выходе.\n",
    "\n",
    "Поэтому сети приходится выучивать в этом крытом очень сжатое и информативное представление данных, что потом можно будет использовать для разных интересных вещей.\n",
    "\n",
    "Например, для визуализации: можно сделать скрытый слой размера 2 и вывести данные на плоскость.\n",
    "\n",
    "<img width='800px' src='https://i.stack.imgur.com/2gSs1.png'>\n",
    "\n",
    "Повсеместно используемый PCA на самом деле является частным случаем автоэнкодера: из преобразований разрешается использовать только линейные.\n",
    "\n",
    "Мы также можем использовать скрытые состояния для морфинга — плавного перехода между объектами.\n",
    "\n",
    "<img width='250px' src='https://camo.githubusercontent.com/fa61cfca07320919eb6430a2a06f98d3e68e29c1/68747470733a2f2f692e696d6775722e636f6d2f4f72554a7339562e676966'>\n",
    "\n",
    "Обозначим уже обученный на данных энкодер как функцию $e$, а декодер как функцию $g$. Тогда морфинг между изображениями $A$ и $B$ мы можем сделать так: переведем изображения A и B в скрытые состояния $a = e(A)$ и $b = e(B)$, а затем каждый кадр генерируется как\n",
    "\n",
    "$$ C = d((1-t) \\cdot a + t \\cdot b) $$\n",
    "\n",
    "где $t$ равномерно изменяется от 0 до 1. Иными словами, мы берём все точки на отрезке ab и последовательно декодируем.\n",
    "\n",
    "Это вам и предстоит реализовать."
   ],
   "metadata": {
    "collapsed": false,
    "pycharm": {
     "name": "#%% md\n"
    }
   }
  },
  {
   "cell_type": "code",
   "execution_count": null,
   "outputs": [],
   "source": [
    "class Autoencoder(nn.Module):\n",
    "    def __init__(self, latent_space_size):\n",
    "        super().__init__()\n",
    "        self.latent_space_size = latent_space_size\n",
    "        self.encode = nn.Sequential(\n",
    "            # мы хотим перевести картинку в какое-нибудь X-мерное пространство\n",
    "            nn.Linear(784, 512),\n",
    "            nn.SiLU(),\n",
    "            nn.Linear(512, 392),\n",
    "            nn.SiLU(),\n",
    "            nn.Linear(392, self.latent_space_size)\n",
    "        )\n",
    "        \n",
    "        self.decode = nn.Sequential(\n",
    "            # а теперь наоборот - из Х-мерного в картинку\n",
    "            nn.Linear(self.latent_space_size, 392),\n",
    "            nn.SiLU(),\n",
    "            nn.Linear(392, 512),\n",
    "            nn.SiLU(),\n",
    "            nn.Linear(512, 784),\n",
    "            nn.Sigmoid(),\n",
    "            # картинки -- это тензоры со значениями от 0 до 1\n",
    "            # нет особого смысла выводить что-то не из этого промежутка\n",
    "        )\n",
    "        self.criterion = torch.nn.MSELoss()\n",
    "        self.optimizer = torch.optim.Adam(self.parameters())\n",
    "        self.train_losses = []\n",
    "    \n",
    "    def forward(self, x):\n",
    "        return self.decode(self.encode(x))\n",
    "\n",
    "    def train(self, train):\n",
    "      losses = []\n",
    "      epochs_count = 15\n",
    "      for epoch in range(epochs_count):\n",
    "        train_loss = 0\n",
    "        for data, _ in train:\n",
    "        #     ^ лэйблы нам не нужны\n",
    "          data = data.view(-1, 784)\n",
    "            \n",
    "          self.optimizer.zero_grad()\n",
    "            \n",
    "          reconstructed = self.forward(data)\n",
    "          loss = self.criterion(data, reconstructed)\n",
    "            \n",
    "          loss.backward()\n",
    "          losses.append(loss.item())\n",
    "          train_loss += loss.item()\n",
    "          self.optimizer.step()\n",
    "\n",
    "        print('epoch %d, loss %.4f' % (epoch, train_loss / len(train)))\n",
    "      self.train_losses = losses\n",
    "\n",
    "    def check_train_loss(self):\n",
    "      plt.plot(self.train_losses)\n",
    "      plt.show()"
   ],
   "metadata": {
    "collapsed": false,
    "pycharm": {
     "name": "#%%\n"
    }
   }
  },
  {
   "cell_type": "code",
   "execution_count": null,
   "outputs": [],
   "source": [
    "model = Autoencoder(30)\n",
    "model.train(train)\n",
    "model.check_train_loss()"
   ],
   "metadata": {
    "collapsed": false,
    "pycharm": {
     "name": "#%%\n"
    }
   }
  },
  {
   "cell_type": "code",
   "execution_count": null,
   "outputs": [],
   "source": [
    "class ConvolutionalAutoencoder(nn.Module):\n",
    "  def __init__(self, latent_space_size):\n",
    "    super(ConvolutionalAutoencoder, self).__init__()\n",
    "    self.latent_space_size = latent_space_size\n",
    "    self.train_losses = []\n",
    "    self.encode = nn.Sequential(\n",
    "        nn.Conv2d(1, 8, 3, stride=2, padding=1),\n",
    "        nn.ReLU(),\n",
    "        nn.Conv2d(8, 16, 3, stride=2, padding=1),\n",
    "        nn.BatchNorm2d(16),\n",
    "        nn.ReLU(True),\n",
    "        nn.Conv2d(16, 32, 3, stride=2, padding=0),\n",
    "        nn.ReLU(),\n",
    "        nn.Flatten(),\n",
    "        nn.Linear(3 * 3 * 32, 128),\n",
    "        nn.ReLU(),\n",
    "        nn.Linear(128, self.latent_space_size)\n",
    "        )\n",
    "        \n",
    "    self.decode = nn.Sequential(\n",
    "        nn.Linear(self.latent_space_size, 128),\n",
    "        nn.ReLU(),\n",
    "        nn.Linear(128, 3 * 3 * 32),\n",
    "        nn.ReLU(),\n",
    "        nn.Unflatten(dim=1, unflattened_size=(32, 3, 3)),\n",
    "        nn.ConvTranspose2d(32, 16, 3, \n",
    "        stride=2, output_padding=0),\n",
    "        nn.BatchNorm2d(16),\n",
    "        nn.ReLU(True),\n",
    "        nn.ConvTranspose2d(16, 8, 3, stride=2, \n",
    "        padding=1, output_padding=1),\n",
    "        nn.BatchNorm2d(8),\n",
    "        nn.ReLU(True),\n",
    "        nn.ConvTranspose2d(8, 1, 3, stride=2, \n",
    "        padding=1, output_padding=1)\n",
    "        )\n",
    "    self.optimizer = torch.optim.Adam(self.parameters(), lr=1e-3)\n",
    "    self.criterion = nn.MSELoss()\n",
    "    \n",
    "  def forward(self, x):\n",
    "    x = self.encode(x)\n",
    "    return self.decode(x)\n",
    "\n",
    "  def train(self, train):\n",
    "    losses = []\n",
    "    epochs_count = 30\n",
    "    for epoch in range(epochs_count):\n",
    "        train_loss = 0\n",
    "        for data, _ in train:\n",
    "\n",
    "          self.optimizer.zero_grad()\n",
    "\n",
    "          data = data.to(device)\n",
    "          \n",
    "          reconstructed = self.forward(data)\n",
    "          loss = self.criterion(data, reconstructed)\n",
    "          \n",
    "          loss.backward()\n",
    "          losses.append(loss.item())\n",
    "          train_loss += loss.item()\n",
    "          self.optimizer.step()\n",
    "\n",
    "        print('epoch %d, loss %.4f' % (epoch, train_loss / len(train)))\n",
    "    self.train_losses = losses\n",
    "    \n",
    "  def check_train_loss(self):\n",
    "    plt.plot(self.train_losses)\n",
    "    plt.show()"
   ],
   "metadata": {
    "collapsed": false,
    "pycharm": {
     "name": "#%%\n"
    }
   }
  },
  {
   "cell_type": "code",
   "execution_count": null,
   "outputs": [],
   "source": [
    "conv_autoencoder = ConvolutionalAutoencoder(8).to(device)\n",
    "conv_autoencoder.train(train)\n",
    "conv_autoencoder.check_train_loss()"
   ],
   "metadata": {
    "collapsed": false,
    "pycharm": {
     "name": "#%%\n"
    }
   }
  },
  {
   "cell_type": "markdown",
   "source": [
    "Теперь попытаемся сделать гифку, как выше.\n",
    "\n",
    "Анимации `matplotlib` — это жесть, не надо особо пытаться разобраться в коде снизу. Возможно, вам придётся пройти квест и поставить `ffmpeg` (`apt instal ffmpeg`, `pip install ffmpeg` и перезапуска тетрадки должно хватить в большинстве случаев)."
   ],
   "metadata": {
    "collapsed": false,
    "pycharm": {
     "name": "#%% md\n"
    }
   }
  },
  {
   "cell_type": "code",
   "execution_count": null,
   "outputs": [],
   "source": [
    "from matplotlib import animation\n",
    "from matplotlib.animation import FuncAnimation\n",
    "from IPython.display import HTML, display"
   ],
   "metadata": {
    "collapsed": false,
    "pycharm": {
     "name": "#%%\n"
    }
   }
  },
  {
   "cell_type": "code",
   "execution_count": null,
   "outputs": [],
   "source": [
    "def get(x, conv_model_flag):\n",
    "  if conv_model_flag:\n",
    "    return torch.reshape(train.dataset[x][0], (1, 1, 28, 28)).to(device)\n",
    "  return train.dataset[x][0].view(-1, 784)\n",
    "\n",
    "def imshow(img):\n",
    "    pic = img.cpu().numpy().astype('float')\n",
    "    plt.axis('off')\n",
    "    return plt.imshow(pic, cmap='Greys', animated=True)\n",
    "\n",
    "def morph(inputs, steps, delay, model, conv_model_flag=False):\n",
    "    # перегоняем в латентное пространство все картинки на входе\n",
    "    latent = [model.encode(get(k, conv_model_flag)).data for k in inputs]\n",
    "    fig = plt.figure()\n",
    "    images = []\n",
    "    for a, b in zip(latent, latent[1:] + [latent[0]]):\n",
    "        for t in numpy.linspace(0, 1, steps):\n",
    "            # получаем проинтерполированную точку\n",
    "            c = a*(1-t)+b*t\n",
    "            # ...и декодируем её в изображение\n",
    "            morphed = model.decode(c).data\n",
    "            morphed = morphed.view(28, 28)\n",
    "            images.append([imshow(morphed)])\n",
    "    \n",
    "    ani = animation.ArtistAnimation(fig, images, interval=delay)\n",
    "\n",
    "    display(HTML(ani.to_html5_video()))"
   ],
   "metadata": {
    "collapsed": false,
    "pycharm": {
     "name": "#%%\n"
    }
   }
  },
  {
   "cell_type": "code",
   "execution_count": null,
   "outputs": [],
   "source": [
    "morph(numpy.random.randint(0, len(train.dataset), 30), 20, 30, model)"
   ],
   "metadata": {
    "collapsed": false,
    "pycharm": {
     "name": "#%%\n"
    }
   }
  },
  {
   "cell_type": "code",
   "execution_count": null,
   "outputs": [],
   "source": [
    "morph(numpy.random.randint(0, len(train.dataset), 30), 20, 30, conv_autoencoder,\n",
    "      True)"
   ],
   "metadata": {
    "collapsed": false,
    "pycharm": {
     "name": "#%%\n"
    }
   }
  },
  {
   "cell_type": "code",
   "execution_count": null,
   "outputs": [],
   "source": [
    "model = Autoencoder(2)\n",
    "model.train(train)"
   ],
   "metadata": {
    "collapsed": false,
    "pycharm": {
     "name": "#%%\n"
    }
   }
  },
  {
   "cell_type": "code",
   "execution_count": null,
   "outputs": [],
   "source": [
    "conv_autoencoder = ConvolutionalAutoencoder(2).to(device)\n",
    "conv_autoencoder.train(train)"
   ],
   "metadata": {
    "collapsed": false,
    "pycharm": {
     "name": "#%%\n"
    }
   }
  },
  {
   "cell_type": "code",
   "execution_count": null,
   "outputs": [],
   "source": [
    "fig = plt.figure(figsize=(16, 8))\n",
    "for x, y in val:\n",
    "  prediction = model.encode(x.view(-1, 784)).detach().numpy()\n",
    "  plt.scatter(prediction[:, 0], prediction[:, 1], c=y, cmap=plt.cm.tab10)\n",
    "plt.colorbar()\n",
    "plt.title('Linear layers')\n",
    "plt.show()"
   ],
   "metadata": {
    "collapsed": false,
    "pycharm": {
     "name": "#%%\n"
    }
   }
  },
  {
   "cell_type": "code",
   "execution_count": null,
   "outputs": [],
   "source": [
    "fig = plt.figure(figsize=(16, 8))\n",
    "for x, y in val:\n",
    "  prediction = conv_autoencoder.encode(x.to(device)).detach().cpu().numpy()\n",
    "  plt.scatter(prediction[:, 0], prediction[:, 1], c=y, cmap=plt.cm.tab10)\n",
    "plt.colorbar()\n",
    "plt.title('Convolutional layers')\n",
    "plt.show()"
   ],
   "metadata": {
    "collapsed": false,
    "pycharm": {
     "name": "#%%\n"
    }
   }
  },
  {
   "cell_type": "markdown",
   "metadata": {
    "id": "6a8RE3DDgt4f",
    "pycharm": {
     "name": "#%% md\n"
    }
   },
   "source": [
    "# Домашнее задание\n",
    "\n",
    "* Получить точность 97.5% на валидации MNIST.\n",
    "* Реализовать морфинг автоэнкодером (без формальных критериев — просто получите красивую гифку).\n",
    "* Визуализировать MNIST автоэнкодером (обучить автоэнкодер с латентным пространством размерности 2 и вывести через scatter точки разного цвета)."
   ]
  },
  {
   "cell_type": "markdown",
   "metadata": {
    "id": "wZ85MypBgt4n",
    "pycharm": {
     "name": "#%% md\n"
    }
   },
   "source": [
    "### *Свёртки\n",
    "\n",
    "Если у вас останется время, вы можете улучшить результаты, используя свёртки.\n",
    "\n",
    "О свёрточных сетях в деталях вы узнаете на следующем занятии, а пока что вы можете использовать `nn.Conv2d`, `nn.MaxPool2d`, и `nn.ConvTranspose2d` просто как более продвинутые слои для классификатора и автоэнкодера, даже не особо понимая, как они внутри работают.\n",
    "\n",
    "Основная задача «нейроинженеров» — придумать, как выглядело бы решение этой задачи на уровне программы с неизвестными параметрами, и подбирать соответствующие архитектуры. [Эксперименты с дропаутом](https://arxiv.org/pdf/1701.05369.pdf) показывают, что в Linear примерно 99% весов на самом деле можно выкинуть. Логично, что в оптимальной архитектуре не должно быть бесполезных весов — лишние параметры всегда ведут к переобучению. В случае с картинками решение в том, чтобы использовать информацию о расположении пикселей относительно друг друга, чтобы создать слой, который смотрит на более релевантные фичи. Мотивация заключается примерно в этом, подробнее — через неделю.\n",
    "\n",
    "<img width='250px' src='https://cdn-images-1.medium.com/max/1600/0*iqNdZWyNeCr5tCkc.'>"
   ]
  }
 ],
 "metadata": {
  "accelerator": "GPU",
  "colab": {
   "collapsed_sections": [],
   "name": "Копия блокнота \"task-1.ipynb\"",
   "provenance": []
  },
  "kernelspec": {
   "display_name": "Python 3",
   "name": "python3"
  },
  "widgets": {
   "application/vnd.jupyter.widget-state+json": {
    "3919bcac3aba41db9bd0d70581ed2363": {
     "model_module": "@jupyter-widgets/controls",
     "model_name": "HBoxModel",
     "model_module_version": "1.5.0",
     "state": {
      "_dom_classes": [],
      "_model_module": "@jupyter-widgets/controls",
      "_model_module_version": "1.5.0",
      "_model_name": "HBoxModel",
      "_view_count": null,
      "_view_module": "@jupyter-widgets/controls",
      "_view_module_version": "1.5.0",
      "_view_name": "HBoxView",
      "box_style": "",
      "children": [
       "IPY_MODEL_9838ac85ab1243ad89a39174b289ffb4",
       "IPY_MODEL_86dbff39da5148b8ba8227371d0e676b",
       "IPY_MODEL_51e07ff587d944de9eaac8738871e5d7"
      ],
      "layout": "IPY_MODEL_69d53972fcd5473597744f62afba501a"
     }
    },
    "9838ac85ab1243ad89a39174b289ffb4": {
     "model_module": "@jupyter-widgets/controls",
     "model_name": "HTMLModel",
     "model_module_version": "1.5.0",
     "state": {
      "_dom_classes": [],
      "_model_module": "@jupyter-widgets/controls",
      "_model_module_version": "1.5.0",
      "_model_name": "HTMLModel",
      "_view_count": null,
      "_view_module": "@jupyter-widgets/controls",
      "_view_module_version": "1.5.0",
      "_view_name": "HTMLView",
      "description": "",
      "description_tooltip": null,
      "layout": "IPY_MODEL_ecc0797023764d27a14722773b7b0ebd",
      "placeholder": "​",
      "style": "IPY_MODEL_362de32001dc4c038bcf8d34964aa578",
      "value": ""
     }
    },
    "86dbff39da5148b8ba8227371d0e676b": {
     "model_module": "@jupyter-widgets/controls",
     "model_name": "FloatProgressModel",
     "model_module_version": "1.5.0",
     "state": {
      "_dom_classes": [],
      "_model_module": "@jupyter-widgets/controls",
      "_model_module_version": "1.5.0",
      "_model_name": "FloatProgressModel",
      "_view_count": null,
      "_view_module": "@jupyter-widgets/controls",
      "_view_module_version": "1.5.0",
      "_view_name": "ProgressView",
      "bar_style": "success",
      "description": "",
      "description_tooltip": null,
      "layout": "IPY_MODEL_ce895e300f8e4210b994932f6dc435e7",
      "max": 9912422,
      "min": 0,
      "orientation": "horizontal",
      "style": "IPY_MODEL_8dc71243d1214fb1a470d719710bca2d",
      "value": 9912422
     }
    },
    "51e07ff587d944de9eaac8738871e5d7": {
     "model_module": "@jupyter-widgets/controls",
     "model_name": "HTMLModel",
     "model_module_version": "1.5.0",
     "state": {
      "_dom_classes": [],
      "_model_module": "@jupyter-widgets/controls",
      "_model_module_version": "1.5.0",
      "_model_name": "HTMLModel",
      "_view_count": null,
      "_view_module": "@jupyter-widgets/controls",
      "_view_module_version": "1.5.0",
      "_view_name": "HTMLView",
      "description": "",
      "description_tooltip": null,
      "layout": "IPY_MODEL_3ab966afccaf46deb16a0b1bcaf95728",
      "placeholder": "​",
      "style": "IPY_MODEL_0ff3be2d8acd4b92972de11a82595f73",
      "value": " 9913344/? [00:00&lt;00:00, 18241801.92it/s]"
     }
    },
    "69d53972fcd5473597744f62afba501a": {
     "model_module": "@jupyter-widgets/base",
     "model_name": "LayoutModel",
     "model_module_version": "1.2.0",
     "state": {
      "_model_module": "@jupyter-widgets/base",
      "_model_module_version": "1.2.0",
      "_model_name": "LayoutModel",
      "_view_count": null,
      "_view_module": "@jupyter-widgets/base",
      "_view_module_version": "1.2.0",
      "_view_name": "LayoutView",
      "align_content": null,
      "align_items": null,
      "align_self": null,
      "border": null,
      "bottom": null,
      "display": null,
      "flex": null,
      "flex_flow": null,
      "grid_area": null,
      "grid_auto_columns": null,
      "grid_auto_flow": null,
      "grid_auto_rows": null,
      "grid_column": null,
      "grid_gap": null,
      "grid_row": null,
      "grid_template_areas": null,
      "grid_template_columns": null,
      "grid_template_rows": null,
      "height": null,
      "justify_content": null,
      "justify_items": null,
      "left": null,
      "margin": null,
      "max_height": null,
      "max_width": null,
      "min_height": null,
      "min_width": null,
      "object_fit": null,
      "object_position": null,
      "order": null,
      "overflow": null,
      "overflow_x": null,
      "overflow_y": null,
      "padding": null,
      "right": null,
      "top": null,
      "visibility": null,
      "width": null
     }
    },
    "ecc0797023764d27a14722773b7b0ebd": {
     "model_module": "@jupyter-widgets/base",
     "model_name": "LayoutModel",
     "model_module_version": "1.2.0",
     "state": {
      "_model_module": "@jupyter-widgets/base",
      "_model_module_version": "1.2.0",
      "_model_name": "LayoutModel",
      "_view_count": null,
      "_view_module": "@jupyter-widgets/base",
      "_view_module_version": "1.2.0",
      "_view_name": "LayoutView",
      "align_content": null,
      "align_items": null,
      "align_self": null,
      "border": null,
      "bottom": null,
      "display": null,
      "flex": null,
      "flex_flow": null,
      "grid_area": null,
      "grid_auto_columns": null,
      "grid_auto_flow": null,
      "grid_auto_rows": null,
      "grid_column": null,
      "grid_gap": null,
      "grid_row": null,
      "grid_template_areas": null,
      "grid_template_columns": null,
      "grid_template_rows": null,
      "height": null,
      "justify_content": null,
      "justify_items": null,
      "left": null,
      "margin": null,
      "max_height": null,
      "max_width": null,
      "min_height": null,
      "min_width": null,
      "object_fit": null,
      "object_position": null,
      "order": null,
      "overflow": null,
      "overflow_x": null,
      "overflow_y": null,
      "padding": null,
      "right": null,
      "top": null,
      "visibility": null,
      "width": null
     }
    },
    "362de32001dc4c038bcf8d34964aa578": {
     "model_module": "@jupyter-widgets/controls",
     "model_name": "DescriptionStyleModel",
     "model_module_version": "1.5.0",
     "state": {
      "_model_module": "@jupyter-widgets/controls",
      "_model_module_version": "1.5.0",
      "_model_name": "DescriptionStyleModel",
      "_view_count": null,
      "_view_module": "@jupyter-widgets/base",
      "_view_module_version": "1.2.0",
      "_view_name": "StyleView",
      "description_width": ""
     }
    },
    "ce895e300f8e4210b994932f6dc435e7": {
     "model_module": "@jupyter-widgets/base",
     "model_name": "LayoutModel",
     "model_module_version": "1.2.0",
     "state": {
      "_model_module": "@jupyter-widgets/base",
      "_model_module_version": "1.2.0",
      "_model_name": "LayoutModel",
      "_view_count": null,
      "_view_module": "@jupyter-widgets/base",
      "_view_module_version": "1.2.0",
      "_view_name": "LayoutView",
      "align_content": null,
      "align_items": null,
      "align_self": null,
      "border": null,
      "bottom": null,
      "display": null,
      "flex": null,
      "flex_flow": null,
      "grid_area": null,
      "grid_auto_columns": null,
      "grid_auto_flow": null,
      "grid_auto_rows": null,
      "grid_column": null,
      "grid_gap": null,
      "grid_row": null,
      "grid_template_areas": null,
      "grid_template_columns": null,
      "grid_template_rows": null,
      "height": null,
      "justify_content": null,
      "justify_items": null,
      "left": null,
      "margin": null,
      "max_height": null,
      "max_width": null,
      "min_height": null,
      "min_width": null,
      "object_fit": null,
      "object_position": null,
      "order": null,
      "overflow": null,
      "overflow_x": null,
      "overflow_y": null,
      "padding": null,
      "right": null,
      "top": null,
      "visibility": null,
      "width": null
     }
    },
    "8dc71243d1214fb1a470d719710bca2d": {
     "model_module": "@jupyter-widgets/controls",
     "model_name": "ProgressStyleModel",
     "model_module_version": "1.5.0",
     "state": {
      "_model_module": "@jupyter-widgets/controls",
      "_model_module_version": "1.5.0",
      "_model_name": "ProgressStyleModel",
      "_view_count": null,
      "_view_module": "@jupyter-widgets/base",
      "_view_module_version": "1.2.0",
      "_view_name": "StyleView",
      "bar_color": null,
      "description_width": ""
     }
    },
    "3ab966afccaf46deb16a0b1bcaf95728": {
     "model_module": "@jupyter-widgets/base",
     "model_name": "LayoutModel",
     "model_module_version": "1.2.0",
     "state": {
      "_model_module": "@jupyter-widgets/base",
      "_model_module_version": "1.2.0",
      "_model_name": "LayoutModel",
      "_view_count": null,
      "_view_module": "@jupyter-widgets/base",
      "_view_module_version": "1.2.0",
      "_view_name": "LayoutView",
      "align_content": null,
      "align_items": null,
      "align_self": null,
      "border": null,
      "bottom": null,
      "display": null,
      "flex": null,
      "flex_flow": null,
      "grid_area": null,
      "grid_auto_columns": null,
      "grid_auto_flow": null,
      "grid_auto_rows": null,
      "grid_column": null,
      "grid_gap": null,
      "grid_row": null,
      "grid_template_areas": null,
      "grid_template_columns": null,
      "grid_template_rows": null,
      "height": null,
      "justify_content": null,
      "justify_items": null,
      "left": null,
      "margin": null,
      "max_height": null,
      "max_width": null,
      "min_height": null,
      "min_width": null,
      "object_fit": null,
      "object_position": null,
      "order": null,
      "overflow": null,
      "overflow_x": null,
      "overflow_y": null,
      "padding": null,
      "right": null,
      "top": null,
      "visibility": null,
      "width": null
     }
    },
    "0ff3be2d8acd4b92972de11a82595f73": {
     "model_module": "@jupyter-widgets/controls",
     "model_name": "DescriptionStyleModel",
     "model_module_version": "1.5.0",
     "state": {
      "_model_module": "@jupyter-widgets/controls",
      "_model_module_version": "1.5.0",
      "_model_name": "DescriptionStyleModel",
      "_view_count": null,
      "_view_module": "@jupyter-widgets/base",
      "_view_module_version": "1.2.0",
      "_view_name": "StyleView",
      "description_width": ""
     }
    },
    "f1588450291d453a9ae3b57a4a7a5115": {
     "model_module": "@jupyter-widgets/controls",
     "model_name": "HBoxModel",
     "model_module_version": "1.5.0",
     "state": {
      "_dom_classes": [],
      "_model_module": "@jupyter-widgets/controls",
      "_model_module_version": "1.5.0",
      "_model_name": "HBoxModel",
      "_view_count": null,
      "_view_module": "@jupyter-widgets/controls",
      "_view_module_version": "1.5.0",
      "_view_name": "HBoxView",
      "box_style": "",
      "children": [
       "IPY_MODEL_f122479e4a2e409f9b395a3eb5fb52c1",
       "IPY_MODEL_6c2f292501b54d59b30562c69bafcf1e",
       "IPY_MODEL_4dc1a9b2a7f340638fca9242417ee62f"
      ],
      "layout": "IPY_MODEL_e6b2a43dffb64ad59741100499cc3de2"
     }
    },
    "f122479e4a2e409f9b395a3eb5fb52c1": {
     "model_module": "@jupyter-widgets/controls",
     "model_name": "HTMLModel",
     "model_module_version": "1.5.0",
     "state": {
      "_dom_classes": [],
      "_model_module": "@jupyter-widgets/controls",
      "_model_module_version": "1.5.0",
      "_model_name": "HTMLModel",
      "_view_count": null,
      "_view_module": "@jupyter-widgets/controls",
      "_view_module_version": "1.5.0",
      "_view_name": "HTMLView",
      "description": "",
      "description_tooltip": null,
      "layout": "IPY_MODEL_45594c4893a44490a15bbb945b5e9418",
      "placeholder": "​",
      "style": "IPY_MODEL_bdc9a709ebf7462ea6a0271a1ece21f5",
      "value": ""
     }
    },
    "6c2f292501b54d59b30562c69bafcf1e": {
     "model_module": "@jupyter-widgets/controls",
     "model_name": "FloatProgressModel",
     "model_module_version": "1.5.0",
     "state": {
      "_dom_classes": [],
      "_model_module": "@jupyter-widgets/controls",
      "_model_module_version": "1.5.0",
      "_model_name": "FloatProgressModel",
      "_view_count": null,
      "_view_module": "@jupyter-widgets/controls",
      "_view_module_version": "1.5.0",
      "_view_name": "ProgressView",
      "bar_style": "success",
      "description": "",
      "description_tooltip": null,
      "layout": "IPY_MODEL_8a4e4137b2c24717a3c3ce6f36e22d66",
      "max": 28881,
      "min": 0,
      "orientation": "horizontal",
      "style": "IPY_MODEL_2a9e2f7bcec9482d97ecc7e434fab25a",
      "value": 28881
     }
    },
    "4dc1a9b2a7f340638fca9242417ee62f": {
     "model_module": "@jupyter-widgets/controls",
     "model_name": "HTMLModel",
     "model_module_version": "1.5.0",
     "state": {
      "_dom_classes": [],
      "_model_module": "@jupyter-widgets/controls",
      "_model_module_version": "1.5.0",
      "_model_name": "HTMLModel",
      "_view_count": null,
      "_view_module": "@jupyter-widgets/controls",
      "_view_module_version": "1.5.0",
      "_view_name": "HTMLView",
      "description": "",
      "description_tooltip": null,
      "layout": "IPY_MODEL_e98f6f1bfb0e4624a1f4495e98449f5f",
      "placeholder": "​",
      "style": "IPY_MODEL_952889ba35714f0d8d0365bc720c9db4",
      "value": " 29696/? [00:00&lt;00:00, 728735.72it/s]"
     }
    },
    "e6b2a43dffb64ad59741100499cc3de2": {
     "model_module": "@jupyter-widgets/base",
     "model_name": "LayoutModel",
     "model_module_version": "1.2.0",
     "state": {
      "_model_module": "@jupyter-widgets/base",
      "_model_module_version": "1.2.0",
      "_model_name": "LayoutModel",
      "_view_count": null,
      "_view_module": "@jupyter-widgets/base",
      "_view_module_version": "1.2.0",
      "_view_name": "LayoutView",
      "align_content": null,
      "align_items": null,
      "align_self": null,
      "border": null,
      "bottom": null,
      "display": null,
      "flex": null,
      "flex_flow": null,
      "grid_area": null,
      "grid_auto_columns": null,
      "grid_auto_flow": null,
      "grid_auto_rows": null,
      "grid_column": null,
      "grid_gap": null,
      "grid_row": null,
      "grid_template_areas": null,
      "grid_template_columns": null,
      "grid_template_rows": null,
      "height": null,
      "justify_content": null,
      "justify_items": null,
      "left": null,
      "margin": null,
      "max_height": null,
      "max_width": null,
      "min_height": null,
      "min_width": null,
      "object_fit": null,
      "object_position": null,
      "order": null,
      "overflow": null,
      "overflow_x": null,
      "overflow_y": null,
      "padding": null,
      "right": null,
      "top": null,
      "visibility": null,
      "width": null
     }
    },
    "45594c4893a44490a15bbb945b5e9418": {
     "model_module": "@jupyter-widgets/base",
     "model_name": "LayoutModel",
     "model_module_version": "1.2.0",
     "state": {
      "_model_module": "@jupyter-widgets/base",
      "_model_module_version": "1.2.0",
      "_model_name": "LayoutModel",
      "_view_count": null,
      "_view_module": "@jupyter-widgets/base",
      "_view_module_version": "1.2.0",
      "_view_name": "LayoutView",
      "align_content": null,
      "align_items": null,
      "align_self": null,
      "border": null,
      "bottom": null,
      "display": null,
      "flex": null,
      "flex_flow": null,
      "grid_area": null,
      "grid_auto_columns": null,
      "grid_auto_flow": null,
      "grid_auto_rows": null,
      "grid_column": null,
      "grid_gap": null,
      "grid_row": null,
      "grid_template_areas": null,
      "grid_template_columns": null,
      "grid_template_rows": null,
      "height": null,
      "justify_content": null,
      "justify_items": null,
      "left": null,
      "margin": null,
      "max_height": null,
      "max_width": null,
      "min_height": null,
      "min_width": null,
      "object_fit": null,
      "object_position": null,
      "order": null,
      "overflow": null,
      "overflow_x": null,
      "overflow_y": null,
      "padding": null,
      "right": null,
      "top": null,
      "visibility": null,
      "width": null
     }
    },
    "bdc9a709ebf7462ea6a0271a1ece21f5": {
     "model_module": "@jupyter-widgets/controls",
     "model_name": "DescriptionStyleModel",
     "model_module_version": "1.5.0",
     "state": {
      "_model_module": "@jupyter-widgets/controls",
      "_model_module_version": "1.5.0",
      "_model_name": "DescriptionStyleModel",
      "_view_count": null,
      "_view_module": "@jupyter-widgets/base",
      "_view_module_version": "1.2.0",
      "_view_name": "StyleView",
      "description_width": ""
     }
    },
    "8a4e4137b2c24717a3c3ce6f36e22d66": {
     "model_module": "@jupyter-widgets/base",
     "model_name": "LayoutModel",
     "model_module_version": "1.2.0",
     "state": {
      "_model_module": "@jupyter-widgets/base",
      "_model_module_version": "1.2.0",
      "_model_name": "LayoutModel",
      "_view_count": null,
      "_view_module": "@jupyter-widgets/base",
      "_view_module_version": "1.2.0",
      "_view_name": "LayoutView",
      "align_content": null,
      "align_items": null,
      "align_self": null,
      "border": null,
      "bottom": null,
      "display": null,
      "flex": null,
      "flex_flow": null,
      "grid_area": null,
      "grid_auto_columns": null,
      "grid_auto_flow": null,
      "grid_auto_rows": null,
      "grid_column": null,
      "grid_gap": null,
      "grid_row": null,
      "grid_template_areas": null,
      "grid_template_columns": null,
      "grid_template_rows": null,
      "height": null,
      "justify_content": null,
      "justify_items": null,
      "left": null,
      "margin": null,
      "max_height": null,
      "max_width": null,
      "min_height": null,
      "min_width": null,
      "object_fit": null,
      "object_position": null,
      "order": null,
      "overflow": null,
      "overflow_x": null,
      "overflow_y": null,
      "padding": null,
      "right": null,
      "top": null,
      "visibility": null,
      "width": null
     }
    },
    "2a9e2f7bcec9482d97ecc7e434fab25a": {
     "model_module": "@jupyter-widgets/controls",
     "model_name": "ProgressStyleModel",
     "model_module_version": "1.5.0",
     "state": {
      "_model_module": "@jupyter-widgets/controls",
      "_model_module_version": "1.5.0",
      "_model_name": "ProgressStyleModel",
      "_view_count": null,
      "_view_module": "@jupyter-widgets/base",
      "_view_module_version": "1.2.0",
      "_view_name": "StyleView",
      "bar_color": null,
      "description_width": ""
     }
    },
    "e98f6f1bfb0e4624a1f4495e98449f5f": {
     "model_module": "@jupyter-widgets/base",
     "model_name": "LayoutModel",
     "model_module_version": "1.2.0",
     "state": {
      "_model_module": "@jupyter-widgets/base",
      "_model_module_version": "1.2.0",
      "_model_name": "LayoutModel",
      "_view_count": null,
      "_view_module": "@jupyter-widgets/base",
      "_view_module_version": "1.2.0",
      "_view_name": "LayoutView",
      "align_content": null,
      "align_items": null,
      "align_self": null,
      "border": null,
      "bottom": null,
      "display": null,
      "flex": null,
      "flex_flow": null,
      "grid_area": null,
      "grid_auto_columns": null,
      "grid_auto_flow": null,
      "grid_auto_rows": null,
      "grid_column": null,
      "grid_gap": null,
      "grid_row": null,
      "grid_template_areas": null,
      "grid_template_columns": null,
      "grid_template_rows": null,
      "height": null,
      "justify_content": null,
      "justify_items": null,
      "left": null,
      "margin": null,
      "max_height": null,
      "max_width": null,
      "min_height": null,
      "min_width": null,
      "object_fit": null,
      "object_position": null,
      "order": null,
      "overflow": null,
      "overflow_x": null,
      "overflow_y": null,
      "padding": null,
      "right": null,
      "top": null,
      "visibility": null,
      "width": null
     }
    },
    "952889ba35714f0d8d0365bc720c9db4": {
     "model_module": "@jupyter-widgets/controls",
     "model_name": "DescriptionStyleModel",
     "model_module_version": "1.5.0",
     "state": {
      "_model_module": "@jupyter-widgets/controls",
      "_model_module_version": "1.5.0",
      "_model_name": "DescriptionStyleModel",
      "_view_count": null,
      "_view_module": "@jupyter-widgets/base",
      "_view_module_version": "1.2.0",
      "_view_name": "StyleView",
      "description_width": ""
     }
    },
    "24de9fa82a49456c9ce692624d239bbf": {
     "model_module": "@jupyter-widgets/controls",
     "model_name": "HBoxModel",
     "model_module_version": "1.5.0",
     "state": {
      "_dom_classes": [],
      "_model_module": "@jupyter-widgets/controls",
      "_model_module_version": "1.5.0",
      "_model_name": "HBoxModel",
      "_view_count": null,
      "_view_module": "@jupyter-widgets/controls",
      "_view_module_version": "1.5.0",
      "_view_name": "HBoxView",
      "box_style": "",
      "children": [
       "IPY_MODEL_b991e58ce9b64ae08f5d7c08be6b5a97",
       "IPY_MODEL_22b7326e26a647bfbc1db0d68a5e2054",
       "IPY_MODEL_ea9b68d55b8f48b8850a58758bd1d6f6"
      ],
      "layout": "IPY_MODEL_e7d61cb9868144d8a3d6dab7423535bf"
     }
    },
    "b991e58ce9b64ae08f5d7c08be6b5a97": {
     "model_module": "@jupyter-widgets/controls",
     "model_name": "HTMLModel",
     "model_module_version": "1.5.0",
     "state": {
      "_dom_classes": [],
      "_model_module": "@jupyter-widgets/controls",
      "_model_module_version": "1.5.0",
      "_model_name": "HTMLModel",
      "_view_count": null,
      "_view_module": "@jupyter-widgets/controls",
      "_view_module_version": "1.5.0",
      "_view_name": "HTMLView",
      "description": "",
      "description_tooltip": null,
      "layout": "IPY_MODEL_f35fc8e11a37420b918a3eddfb2ec2a1",
      "placeholder": "​",
      "style": "IPY_MODEL_86bf29863ace49568d238b164894df9f",
      "value": ""
     }
    },
    "22b7326e26a647bfbc1db0d68a5e2054": {
     "model_module": "@jupyter-widgets/controls",
     "model_name": "FloatProgressModel",
     "model_module_version": "1.5.0",
     "state": {
      "_dom_classes": [],
      "_model_module": "@jupyter-widgets/controls",
      "_model_module_version": "1.5.0",
      "_model_name": "FloatProgressModel",
      "_view_count": null,
      "_view_module": "@jupyter-widgets/controls",
      "_view_module_version": "1.5.0",
      "_view_name": "ProgressView",
      "bar_style": "success",
      "description": "",
      "description_tooltip": null,
      "layout": "IPY_MODEL_3396b80e4dad469982c82be21afd93cb",
      "max": 1648877,
      "min": 0,
      "orientation": "horizontal",
      "style": "IPY_MODEL_90acf837adae425b82ba5f981b3dadb5",
      "value": 1648877
     }
    },
    "ea9b68d55b8f48b8850a58758bd1d6f6": {
     "model_module": "@jupyter-widgets/controls",
     "model_name": "HTMLModel",
     "model_module_version": "1.5.0",
     "state": {
      "_dom_classes": [],
      "_model_module": "@jupyter-widgets/controls",
      "_model_module_version": "1.5.0",
      "_model_name": "HTMLModel",
      "_view_count": null,
      "_view_module": "@jupyter-widgets/controls",
      "_view_module_version": "1.5.0",
      "_view_name": "HTMLView",
      "description": "",
      "description_tooltip": null,
      "layout": "IPY_MODEL_21b31dc188f04c4cbb73d1c04b0f8f8e",
      "placeholder": "​",
      "style": "IPY_MODEL_06edf68385d14b4d91432e7e9f95d70a",
      "value": " 1649664/? [00:00&lt;00:00, 18536794.78it/s]"
     }
    },
    "e7d61cb9868144d8a3d6dab7423535bf": {
     "model_module": "@jupyter-widgets/base",
     "model_name": "LayoutModel",
     "model_module_version": "1.2.0",
     "state": {
      "_model_module": "@jupyter-widgets/base",
      "_model_module_version": "1.2.0",
      "_model_name": "LayoutModel",
      "_view_count": null,
      "_view_module": "@jupyter-widgets/base",
      "_view_module_version": "1.2.0",
      "_view_name": "LayoutView",
      "align_content": null,
      "align_items": null,
      "align_self": null,
      "border": null,
      "bottom": null,
      "display": null,
      "flex": null,
      "flex_flow": null,
      "grid_area": null,
      "grid_auto_columns": null,
      "grid_auto_flow": null,
      "grid_auto_rows": null,
      "grid_column": null,
      "grid_gap": null,
      "grid_row": null,
      "grid_template_areas": null,
      "grid_template_columns": null,
      "grid_template_rows": null,
      "height": null,
      "justify_content": null,
      "justify_items": null,
      "left": null,
      "margin": null,
      "max_height": null,
      "max_width": null,
      "min_height": null,
      "min_width": null,
      "object_fit": null,
      "object_position": null,
      "order": null,
      "overflow": null,
      "overflow_x": null,
      "overflow_y": null,
      "padding": null,
      "right": null,
      "top": null,
      "visibility": null,
      "width": null
     }
    },
    "f35fc8e11a37420b918a3eddfb2ec2a1": {
     "model_module": "@jupyter-widgets/base",
     "model_name": "LayoutModel",
     "model_module_version": "1.2.0",
     "state": {
      "_model_module": "@jupyter-widgets/base",
      "_model_module_version": "1.2.0",
      "_model_name": "LayoutModel",
      "_view_count": null,
      "_view_module": "@jupyter-widgets/base",
      "_view_module_version": "1.2.0",
      "_view_name": "LayoutView",
      "align_content": null,
      "align_items": null,
      "align_self": null,
      "border": null,
      "bottom": null,
      "display": null,
      "flex": null,
      "flex_flow": null,
      "grid_area": null,
      "grid_auto_columns": null,
      "grid_auto_flow": null,
      "grid_auto_rows": null,
      "grid_column": null,
      "grid_gap": null,
      "grid_row": null,
      "grid_template_areas": null,
      "grid_template_columns": null,
      "grid_template_rows": null,
      "height": null,
      "justify_content": null,
      "justify_items": null,
      "left": null,
      "margin": null,
      "max_height": null,
      "max_width": null,
      "min_height": null,
      "min_width": null,
      "object_fit": null,
      "object_position": null,
      "order": null,
      "overflow": null,
      "overflow_x": null,
      "overflow_y": null,
      "padding": null,
      "right": null,
      "top": null,
      "visibility": null,
      "width": null
     }
    },
    "86bf29863ace49568d238b164894df9f": {
     "model_module": "@jupyter-widgets/controls",
     "model_name": "DescriptionStyleModel",
     "model_module_version": "1.5.0",
     "state": {
      "_model_module": "@jupyter-widgets/controls",
      "_model_module_version": "1.5.0",
      "_model_name": "DescriptionStyleModel",
      "_view_count": null,
      "_view_module": "@jupyter-widgets/base",
      "_view_module_version": "1.2.0",
      "_view_name": "StyleView",
      "description_width": ""
     }
    },
    "3396b80e4dad469982c82be21afd93cb": {
     "model_module": "@jupyter-widgets/base",
     "model_name": "LayoutModel",
     "model_module_version": "1.2.0",
     "state": {
      "_model_module": "@jupyter-widgets/base",
      "_model_module_version": "1.2.0",
      "_model_name": "LayoutModel",
      "_view_count": null,
      "_view_module": "@jupyter-widgets/base",
      "_view_module_version": "1.2.0",
      "_view_name": "LayoutView",
      "align_content": null,
      "align_items": null,
      "align_self": null,
      "border": null,
      "bottom": null,
      "display": null,
      "flex": null,
      "flex_flow": null,
      "grid_area": null,
      "grid_auto_columns": null,
      "grid_auto_flow": null,
      "grid_auto_rows": null,
      "grid_column": null,
      "grid_gap": null,
      "grid_row": null,
      "grid_template_areas": null,
      "grid_template_columns": null,
      "grid_template_rows": null,
      "height": null,
      "justify_content": null,
      "justify_items": null,
      "left": null,
      "margin": null,
      "max_height": null,
      "max_width": null,
      "min_height": null,
      "min_width": null,
      "object_fit": null,
      "object_position": null,
      "order": null,
      "overflow": null,
      "overflow_x": null,
      "overflow_y": null,
      "padding": null,
      "right": null,
      "top": null,
      "visibility": null,
      "width": null
     }
    },
    "90acf837adae425b82ba5f981b3dadb5": {
     "model_module": "@jupyter-widgets/controls",
     "model_name": "ProgressStyleModel",
     "model_module_version": "1.5.0",
     "state": {
      "_model_module": "@jupyter-widgets/controls",
      "_model_module_version": "1.5.0",
      "_model_name": "ProgressStyleModel",
      "_view_count": null,
      "_view_module": "@jupyter-widgets/base",
      "_view_module_version": "1.2.0",
      "_view_name": "StyleView",
      "bar_color": null,
      "description_width": ""
     }
    },
    "21b31dc188f04c4cbb73d1c04b0f8f8e": {
     "model_module": "@jupyter-widgets/base",
     "model_name": "LayoutModel",
     "model_module_version": "1.2.0",
     "state": {
      "_model_module": "@jupyter-widgets/base",
      "_model_module_version": "1.2.0",
      "_model_name": "LayoutModel",
      "_view_count": null,
      "_view_module": "@jupyter-widgets/base",
      "_view_module_version": "1.2.0",
      "_view_name": "LayoutView",
      "align_content": null,
      "align_items": null,
      "align_self": null,
      "border": null,
      "bottom": null,
      "display": null,
      "flex": null,
      "flex_flow": null,
      "grid_area": null,
      "grid_auto_columns": null,
      "grid_auto_flow": null,
      "grid_auto_rows": null,
      "grid_column": null,
      "grid_gap": null,
      "grid_row": null,
      "grid_template_areas": null,
      "grid_template_columns": null,
      "grid_template_rows": null,
      "height": null,
      "justify_content": null,
      "justify_items": null,
      "left": null,
      "margin": null,
      "max_height": null,
      "max_width": null,
      "min_height": null,
      "min_width": null,
      "object_fit": null,
      "object_position": null,
      "order": null,
      "overflow": null,
      "overflow_x": null,
      "overflow_y": null,
      "padding": null,
      "right": null,
      "top": null,
      "visibility": null,
      "width": null
     }
    },
    "06edf68385d14b4d91432e7e9f95d70a": {
     "model_module": "@jupyter-widgets/controls",
     "model_name": "DescriptionStyleModel",
     "model_module_version": "1.5.0",
     "state": {
      "_model_module": "@jupyter-widgets/controls",
      "_model_module_version": "1.5.0",
      "_model_name": "DescriptionStyleModel",
      "_view_count": null,
      "_view_module": "@jupyter-widgets/base",
      "_view_module_version": "1.2.0",
      "_view_name": "StyleView",
      "description_width": ""
     }
    },
    "62bccb20a12a4cddb312fda642130eab": {
     "model_module": "@jupyter-widgets/controls",
     "model_name": "HBoxModel",
     "model_module_version": "1.5.0",
     "state": {
      "_dom_classes": [],
      "_model_module": "@jupyter-widgets/controls",
      "_model_module_version": "1.5.0",
      "_model_name": "HBoxModel",
      "_view_count": null,
      "_view_module": "@jupyter-widgets/controls",
      "_view_module_version": "1.5.0",
      "_view_name": "HBoxView",
      "box_style": "",
      "children": [
       "IPY_MODEL_30110625e982484184c3547d734d16a6",
       "IPY_MODEL_e06ea75dcbfb463db0b6389a6311bda5",
       "IPY_MODEL_2484bb7272a744f3b57bfe86412b2fa7"
      ],
      "layout": "IPY_MODEL_79d0f660cb8f4455ba00bdeaa9206920"
     }
    },
    "30110625e982484184c3547d734d16a6": {
     "model_module": "@jupyter-widgets/controls",
     "model_name": "HTMLModel",
     "model_module_version": "1.5.0",
     "state": {
      "_dom_classes": [],
      "_model_module": "@jupyter-widgets/controls",
      "_model_module_version": "1.5.0",
      "_model_name": "HTMLModel",
      "_view_count": null,
      "_view_module": "@jupyter-widgets/controls",
      "_view_module_version": "1.5.0",
      "_view_name": "HTMLView",
      "description": "",
      "description_tooltip": null,
      "layout": "IPY_MODEL_ccd524bf4d61480791c0a218c297a9c3",
      "placeholder": "​",
      "style": "IPY_MODEL_5c9a6a841999436fa740c50dba55d4bf",
      "value": ""
     }
    },
    "e06ea75dcbfb463db0b6389a6311bda5": {
     "model_module": "@jupyter-widgets/controls",
     "model_name": "FloatProgressModel",
     "model_module_version": "1.5.0",
     "state": {
      "_dom_classes": [],
      "_model_module": "@jupyter-widgets/controls",
      "_model_module_version": "1.5.0",
      "_model_name": "FloatProgressModel",
      "_view_count": null,
      "_view_module": "@jupyter-widgets/controls",
      "_view_module_version": "1.5.0",
      "_view_name": "ProgressView",
      "bar_style": "success",
      "description": "",
      "description_tooltip": null,
      "layout": "IPY_MODEL_befef0066de84b3c8d9015b272e7090e",
      "max": 4542,
      "min": 0,
      "orientation": "horizontal",
      "style": "IPY_MODEL_7e58dfdc88f34903ac3eb01d88179334",
      "value": 4542
     }
    },
    "2484bb7272a744f3b57bfe86412b2fa7": {
     "model_module": "@jupyter-widgets/controls",
     "model_name": "HTMLModel",
     "model_module_version": "1.5.0",
     "state": {
      "_dom_classes": [],
      "_model_module": "@jupyter-widgets/controls",
      "_model_module_version": "1.5.0",
      "_model_name": "HTMLModel",
      "_view_count": null,
      "_view_module": "@jupyter-widgets/controls",
      "_view_module_version": "1.5.0",
      "_view_name": "HTMLView",
      "description": "",
      "description_tooltip": null,
      "layout": "IPY_MODEL_a23b34be22694847b5ed83593f038539",
      "placeholder": "​",
      "style": "IPY_MODEL_aeeb1db9ff2c46e797621b78b3b5eac7",
      "value": " 5120/? [00:00&lt;00:00, 128820.94it/s]"
     }
    },
    "79d0f660cb8f4455ba00bdeaa9206920": {
     "model_module": "@jupyter-widgets/base",
     "model_name": "LayoutModel",
     "model_module_version": "1.2.0",
     "state": {
      "_model_module": "@jupyter-widgets/base",
      "_model_module_version": "1.2.0",
      "_model_name": "LayoutModel",
      "_view_count": null,
      "_view_module": "@jupyter-widgets/base",
      "_view_module_version": "1.2.0",
      "_view_name": "LayoutView",
      "align_content": null,
      "align_items": null,
      "align_self": null,
      "border": null,
      "bottom": null,
      "display": null,
      "flex": null,
      "flex_flow": null,
      "grid_area": null,
      "grid_auto_columns": null,
      "grid_auto_flow": null,
      "grid_auto_rows": null,
      "grid_column": null,
      "grid_gap": null,
      "grid_row": null,
      "grid_template_areas": null,
      "grid_template_columns": null,
      "grid_template_rows": null,
      "height": null,
      "justify_content": null,
      "justify_items": null,
      "left": null,
      "margin": null,
      "max_height": null,
      "max_width": null,
      "min_height": null,
      "min_width": null,
      "object_fit": null,
      "object_position": null,
      "order": null,
      "overflow": null,
      "overflow_x": null,
      "overflow_y": null,
      "padding": null,
      "right": null,
      "top": null,
      "visibility": null,
      "width": null
     }
    },
    "ccd524bf4d61480791c0a218c297a9c3": {
     "model_module": "@jupyter-widgets/base",
     "model_name": "LayoutModel",
     "model_module_version": "1.2.0",
     "state": {
      "_model_module": "@jupyter-widgets/base",
      "_model_module_version": "1.2.0",
      "_model_name": "LayoutModel",
      "_view_count": null,
      "_view_module": "@jupyter-widgets/base",
      "_view_module_version": "1.2.0",
      "_view_name": "LayoutView",
      "align_content": null,
      "align_items": null,
      "align_self": null,
      "border": null,
      "bottom": null,
      "display": null,
      "flex": null,
      "flex_flow": null,
      "grid_area": null,
      "grid_auto_columns": null,
      "grid_auto_flow": null,
      "grid_auto_rows": null,
      "grid_column": null,
      "grid_gap": null,
      "grid_row": null,
      "grid_template_areas": null,
      "grid_template_columns": null,
      "grid_template_rows": null,
      "height": null,
      "justify_content": null,
      "justify_items": null,
      "left": null,
      "margin": null,
      "max_height": null,
      "max_width": null,
      "min_height": null,
      "min_width": null,
      "object_fit": null,
      "object_position": null,
      "order": null,
      "overflow": null,
      "overflow_x": null,
      "overflow_y": null,
      "padding": null,
      "right": null,
      "top": null,
      "visibility": null,
      "width": null
     }
    },
    "5c9a6a841999436fa740c50dba55d4bf": {
     "model_module": "@jupyter-widgets/controls",
     "model_name": "DescriptionStyleModel",
     "model_module_version": "1.5.0",
     "state": {
      "_model_module": "@jupyter-widgets/controls",
      "_model_module_version": "1.5.0",
      "_model_name": "DescriptionStyleModel",
      "_view_count": null,
      "_view_module": "@jupyter-widgets/base",
      "_view_module_version": "1.2.0",
      "_view_name": "StyleView",
      "description_width": ""
     }
    },
    "befef0066de84b3c8d9015b272e7090e": {
     "model_module": "@jupyter-widgets/base",
     "model_name": "LayoutModel",
     "model_module_version": "1.2.0",
     "state": {
      "_model_module": "@jupyter-widgets/base",
      "_model_module_version": "1.2.0",
      "_model_name": "LayoutModel",
      "_view_count": null,
      "_view_module": "@jupyter-widgets/base",
      "_view_module_version": "1.2.0",
      "_view_name": "LayoutView",
      "align_content": null,
      "align_items": null,
      "align_self": null,
      "border": null,
      "bottom": null,
      "display": null,
      "flex": null,
      "flex_flow": null,
      "grid_area": null,
      "grid_auto_columns": null,
      "grid_auto_flow": null,
      "grid_auto_rows": null,
      "grid_column": null,
      "grid_gap": null,
      "grid_row": null,
      "grid_template_areas": null,
      "grid_template_columns": null,
      "grid_template_rows": null,
      "height": null,
      "justify_content": null,
      "justify_items": null,
      "left": null,
      "margin": null,
      "max_height": null,
      "max_width": null,
      "min_height": null,
      "min_width": null,
      "object_fit": null,
      "object_position": null,
      "order": null,
      "overflow": null,
      "overflow_x": null,
      "overflow_y": null,
      "padding": null,
      "right": null,
      "top": null,
      "visibility": null,
      "width": null
     }
    },
    "7e58dfdc88f34903ac3eb01d88179334": {
     "model_module": "@jupyter-widgets/controls",
     "model_name": "ProgressStyleModel",
     "model_module_version": "1.5.0",
     "state": {
      "_model_module": "@jupyter-widgets/controls",
      "_model_module_version": "1.5.0",
      "_model_name": "ProgressStyleModel",
      "_view_count": null,
      "_view_module": "@jupyter-widgets/base",
      "_view_module_version": "1.2.0",
      "_view_name": "StyleView",
      "bar_color": null,
      "description_width": ""
     }
    },
    "a23b34be22694847b5ed83593f038539": {
     "model_module": "@jupyter-widgets/base",
     "model_name": "LayoutModel",
     "model_module_version": "1.2.0",
     "state": {
      "_model_module": "@jupyter-widgets/base",
      "_model_module_version": "1.2.0",
      "_model_name": "LayoutModel",
      "_view_count": null,
      "_view_module": "@jupyter-widgets/base",
      "_view_module_version": "1.2.0",
      "_view_name": "LayoutView",
      "align_content": null,
      "align_items": null,
      "align_self": null,
      "border": null,
      "bottom": null,
      "display": null,
      "flex": null,
      "flex_flow": null,
      "grid_area": null,
      "grid_auto_columns": null,
      "grid_auto_flow": null,
      "grid_auto_rows": null,
      "grid_column": null,
      "grid_gap": null,
      "grid_row": null,
      "grid_template_areas": null,
      "grid_template_columns": null,
      "grid_template_rows": null,
      "height": null,
      "justify_content": null,
      "justify_items": null,
      "left": null,
      "margin": null,
      "max_height": null,
      "max_width": null,
      "min_height": null,
      "min_width": null,
      "object_fit": null,
      "object_position": null,
      "order": null,
      "overflow": null,
      "overflow_x": null,
      "overflow_y": null,
      "padding": null,
      "right": null,
      "top": null,
      "visibility": null,
      "width": null
     }
    },
    "aeeb1db9ff2c46e797621b78b3b5eac7": {
     "model_module": "@jupyter-widgets/controls",
     "model_name": "DescriptionStyleModel",
     "model_module_version": "1.5.0",
     "state": {
      "_model_module": "@jupyter-widgets/controls",
      "_model_module_version": "1.5.0",
      "_model_name": "DescriptionStyleModel",
      "_view_count": null,
      "_view_module": "@jupyter-widgets/base",
      "_view_module_version": "1.2.0",
      "_view_name": "StyleView",
      "description_width": ""
     }
    }
   }
  }
 },
 "nbformat": 4,
 "nbformat_minor": 0
}