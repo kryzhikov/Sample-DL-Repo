{
  "cells": [
    {
      "cell_type": "markdown",
      "metadata": {
        "id": "GwQSRLfORscd"
      },
      "source": [
        "# Fun with language modelling\n",
        "\n",
        "Если вы пропустили лекцию, то посмотрите слайды к ней — они где-то есть. Также полезно почитать:\n",
        "\n",
        "* [Unreasonable effectiveness of RNN](http://karpathy.github.io/2015/05/21/rnn-effectiveness/) (Andrej Karpathy)\n",
        "* [Официальный пример от PyTorch](https://github.com/pytorch/examples/tree/master/word_language_model)\n",
        "\n",
        "Рекомендуется заранее всё прочитать, чтобы понять, что от вас хотят. При желании, можете переписать всё так, как подсказывает ваше сердце.\n",
        "\n",
        "---"
      ]
    },
    {
      "cell_type": "code",
      "execution_count": 3,
      "metadata": {
        "id": "_HJ9XScARscf"
      },
      "outputs": [],
      "source": [
        "import torch\n",
        "import torch.nn as nn\n",
        "\n",
        "from torch.utils.data import Dataset, DataLoader\n",
        "\n",
        "import numpy as np\n",
        "import pandas as pd\n",
        "\n",
        "import re\n",
        "\n",
        "import matplotlib.pyplot as plt\n",
        "%matplotlib inline"
      ]
    },
    {
      "cell_type": "markdown",
      "metadata": {
        "id": "OCtJHLD_Rsch"
      },
      "source": [
        "## Препроцессинг (3 балла)\n",
        "\n",
        "Возьмите какие-нибудь сырые данные. Википедия, «Гарри Поттер», «Игра Престолов», тексты Монеточки, твиты Тинькова — что угодно.\n",
        "\n",
        "Для простоты будем делать char-level модель. Выкиньте из текстов все ненужные символы (можете оставить только алфавит и, пунктуацию). Сопоставьте всем различным символам свой номер. Удобно это хранить просто в питоновском словаре (`char2idx`). Для генерации вам потребуется ещё и обратный словарь (`idx2char`). Вы что-то такое должны были писать на вступительной — можете просто переиспользовать код оттуда.\n",
        "\n",
        "Заранее зарезервируйте айдишники под служебные символы: `<START>`, `<END>`, `<PAD>`, `<UNK>`.\n",
        "\n",
        "Клёво будет написать отдельный класс, который делает токенизацию и детокенизацию."
      ]
    },
    {
      "cell_type": "code",
      "source": [
        "from google.colab import drive\n",
        "drive.mount('/content/drive')"
      ],
      "metadata": {
        "colab": {
          "base_uri": "https://localhost:8080/"
        },
        "id": "BjTKxe04SVkd",
        "outputId": "5c16824c-13e0-4d15-cf2a-c3850bc61e4a"
      },
      "execution_count": 4,
      "outputs": [
        {
          "output_type": "stream",
          "name": "stdout",
          "text": [
            "Mounted at /content/drive\n"
          ]
        }
      ]
    },
    {
      "cell_type": "code",
      "source": [
        "data = pd.read_csv('/content/drive/MyDrive/labeled.csv')\n",
        "data"
      ],
      "metadata": {
        "colab": {
          "base_uri": "https://localhost:8080/",
          "height": 419
        },
        "id": "79wqm4yNSeji",
        "outputId": "5fadf52d-3b2e-49bf-c83a-101ad953668f"
      },
      "execution_count": 6,
      "outputs": [
        {
          "output_type": "execute_result",
          "data": {
            "text/plain": [
              "                                                 comment  toxic\n",
              "0                   Верблюдов-то за что? Дебилы, бл...\\n    1.0\n",
              "1      Хохлы, это отдушина затюканого россиянина, мол...    1.0\n",
              "2                              Собаке - собачья смерть\\n    1.0\n",
              "3      Страницу обнови, дебил. Это тоже не оскорблени...    1.0\n",
              "4      тебя не убедил 6-страничный пдф в том, что Скр...    1.0\n",
              "...                                                  ...    ...\n",
              "14407  Вонючий совковый скот прибежал и ноет. А вот и...    1.0\n",
              "14408  А кого любить? Гоблина тупорылого что-ли? Или ...    1.0\n",
              "14409  Посмотрел Утомленных солнцем 2. И оказалось, ч...    0.0\n",
              "14410  КРЫМОТРЕД НАРУШАЕТ ПРАВИЛА РАЗДЕЛА Т.К В НЕМ Н...    1.0\n",
              "14411  До сих пор пересматриваю его видео. Орамбо кст...    0.0\n",
              "\n",
              "[14412 rows x 2 columns]"
            ],
            "text/html": [
              "\n",
              "  <div id=\"df-74c12674-5663-4d4f-9299-b75b8167184f\">\n",
              "    <div class=\"colab-df-container\">\n",
              "      <div>\n",
              "<style scoped>\n",
              "    .dataframe tbody tr th:only-of-type {\n",
              "        vertical-align: middle;\n",
              "    }\n",
              "\n",
              "    .dataframe tbody tr th {\n",
              "        vertical-align: top;\n",
              "    }\n",
              "\n",
              "    .dataframe thead th {\n",
              "        text-align: right;\n",
              "    }\n",
              "</style>\n",
              "<table border=\"1\" class=\"dataframe\">\n",
              "  <thead>\n",
              "    <tr style=\"text-align: right;\">\n",
              "      <th></th>\n",
              "      <th>comment</th>\n",
              "      <th>toxic</th>\n",
              "    </tr>\n",
              "  </thead>\n",
              "  <tbody>\n",
              "    <tr>\n",
              "      <th>0</th>\n",
              "      <td>Верблюдов-то за что? Дебилы, бл...\\n</td>\n",
              "      <td>1.0</td>\n",
              "    </tr>\n",
              "    <tr>\n",
              "      <th>1</th>\n",
              "      <td>Хохлы, это отдушина затюканого россиянина, мол...</td>\n",
              "      <td>1.0</td>\n",
              "    </tr>\n",
              "    <tr>\n",
              "      <th>2</th>\n",
              "      <td>Собаке - собачья смерть\\n</td>\n",
              "      <td>1.0</td>\n",
              "    </tr>\n",
              "    <tr>\n",
              "      <th>3</th>\n",
              "      <td>Страницу обнови, дебил. Это тоже не оскорблени...</td>\n",
              "      <td>1.0</td>\n",
              "    </tr>\n",
              "    <tr>\n",
              "      <th>4</th>\n",
              "      <td>тебя не убедил 6-страничный пдф в том, что Скр...</td>\n",
              "      <td>1.0</td>\n",
              "    </tr>\n",
              "    <tr>\n",
              "      <th>...</th>\n",
              "      <td>...</td>\n",
              "      <td>...</td>\n",
              "    </tr>\n",
              "    <tr>\n",
              "      <th>14407</th>\n",
              "      <td>Вонючий совковый скот прибежал и ноет. А вот и...</td>\n",
              "      <td>1.0</td>\n",
              "    </tr>\n",
              "    <tr>\n",
              "      <th>14408</th>\n",
              "      <td>А кого любить? Гоблина тупорылого что-ли? Или ...</td>\n",
              "      <td>1.0</td>\n",
              "    </tr>\n",
              "    <tr>\n",
              "      <th>14409</th>\n",
              "      <td>Посмотрел Утомленных солнцем 2. И оказалось, ч...</td>\n",
              "      <td>0.0</td>\n",
              "    </tr>\n",
              "    <tr>\n",
              "      <th>14410</th>\n",
              "      <td>КРЫМОТРЕД НАРУШАЕТ ПРАВИЛА РАЗДЕЛА Т.К В НЕМ Н...</td>\n",
              "      <td>1.0</td>\n",
              "    </tr>\n",
              "    <tr>\n",
              "      <th>14411</th>\n",
              "      <td>До сих пор пересматриваю его видео. Орамбо кст...</td>\n",
              "      <td>0.0</td>\n",
              "    </tr>\n",
              "  </tbody>\n",
              "</table>\n",
              "<p>14412 rows × 2 columns</p>\n",
              "</div>\n",
              "      <button class=\"colab-df-convert\" onclick=\"convertToInteractive('df-74c12674-5663-4d4f-9299-b75b8167184f')\"\n",
              "              title=\"Convert this dataframe to an interactive table.\"\n",
              "              style=\"display:none;\">\n",
              "        \n",
              "  <svg xmlns=\"http://www.w3.org/2000/svg\" height=\"24px\"viewBox=\"0 0 24 24\"\n",
              "       width=\"24px\">\n",
              "    <path d=\"M0 0h24v24H0V0z\" fill=\"none\"/>\n",
              "    <path d=\"M18.56 5.44l.94 2.06.94-2.06 2.06-.94-2.06-.94-.94-2.06-.94 2.06-2.06.94zm-11 1L8.5 8.5l.94-2.06 2.06-.94-2.06-.94L8.5 2.5l-.94 2.06-2.06.94zm10 10l.94 2.06.94-2.06 2.06-.94-2.06-.94-.94-2.06-.94 2.06-2.06.94z\"/><path d=\"M17.41 7.96l-1.37-1.37c-.4-.4-.92-.59-1.43-.59-.52 0-1.04.2-1.43.59L10.3 9.45l-7.72 7.72c-.78.78-.78 2.05 0 2.83L4 21.41c.39.39.9.59 1.41.59.51 0 1.02-.2 1.41-.59l7.78-7.78 2.81-2.81c.8-.78.8-2.07 0-2.86zM5.41 20L4 18.59l7.72-7.72 1.47 1.35L5.41 20z\"/>\n",
              "  </svg>\n",
              "      </button>\n",
              "      \n",
              "  <style>\n",
              "    .colab-df-container {\n",
              "      display:flex;\n",
              "      flex-wrap:wrap;\n",
              "      gap: 12px;\n",
              "    }\n",
              "\n",
              "    .colab-df-convert {\n",
              "      background-color: #E8F0FE;\n",
              "      border: none;\n",
              "      border-radius: 50%;\n",
              "      cursor: pointer;\n",
              "      display: none;\n",
              "      fill: #1967D2;\n",
              "      height: 32px;\n",
              "      padding: 0 0 0 0;\n",
              "      width: 32px;\n",
              "    }\n",
              "\n",
              "    .colab-df-convert:hover {\n",
              "      background-color: #E2EBFA;\n",
              "      box-shadow: 0px 1px 2px rgba(60, 64, 67, 0.3), 0px 1px 3px 1px rgba(60, 64, 67, 0.15);\n",
              "      fill: #174EA6;\n",
              "    }\n",
              "\n",
              "    [theme=dark] .colab-df-convert {\n",
              "      background-color: #3B4455;\n",
              "      fill: #D2E3FC;\n",
              "    }\n",
              "\n",
              "    [theme=dark] .colab-df-convert:hover {\n",
              "      background-color: #434B5C;\n",
              "      box-shadow: 0px 1px 3px 1px rgba(0, 0, 0, 0.15);\n",
              "      filter: drop-shadow(0px 1px 2px rgba(0, 0, 0, 0.3));\n",
              "      fill: #FFFFFF;\n",
              "    }\n",
              "  </style>\n",
              "\n",
              "      <script>\n",
              "        const buttonEl =\n",
              "          document.querySelector('#df-74c12674-5663-4d4f-9299-b75b8167184f button.colab-df-convert');\n",
              "        buttonEl.style.display =\n",
              "          google.colab.kernel.accessAllowed ? 'block' : 'none';\n",
              "\n",
              "        async function convertToInteractive(key) {\n",
              "          const element = document.querySelector('#df-74c12674-5663-4d4f-9299-b75b8167184f');\n",
              "          const dataTable =\n",
              "            await google.colab.kernel.invokeFunction('convertToInteractive',\n",
              "                                                     [key], {});\n",
              "          if (!dataTable) return;\n",
              "\n",
              "          const docLinkHtml = 'Like what you see? Visit the ' +\n",
              "            '<a target=\"_blank\" href=https://colab.research.google.com/notebooks/data_table.ipynb>data table notebook</a>'\n",
              "            + ' to learn more about interactive tables.';\n",
              "          element.innerHTML = '';\n",
              "          dataTable['output_type'] = 'display_data';\n",
              "          await google.colab.output.renderOutput(dataTable, element);\n",
              "          const docLink = document.createElement('div');\n",
              "          docLink.innerHTML = docLinkHtml;\n",
              "          element.appendChild(docLink);\n",
              "        }\n",
              "      </script>\n",
              "    </div>\n",
              "  </div>\n",
              "  "
            ]
          },
          "metadata": {},
          "execution_count": 6
        }
      ]
    },
    {
      "cell_type": "code",
      "source": [
        "data = data.comment"
      ],
      "metadata": {
        "id": "MVHMR-VlS9l1"
      },
      "execution_count": 7,
      "outputs": []
    },
    {
      "cell_type": "code",
      "execution_count": 8,
      "metadata": {
        "id": "7QULhkrPRsci"
      },
      "outputs": [],
      "source": [
        "class Vocab:\n",
        "    def __init__(self, data):\n",
        "\n",
        "        self.char2idx = {'<START>': 0, '<END>': 1, '<PAD>': 2, '<UNK>': 3}\n",
        "        self.idx2char = {0: '<START>', 1: '<END>', 2: '<PAD>', 3: '<UNK>'}\n",
        "\n",
        "        for comment in data:\n",
        "          comment = self.preprocess(comment)\n",
        "          for char in comment:\n",
        "            if char not in self.char2idx:\n",
        "              self.char2idx[char] = len(self.char2idx)\n",
        "              self.idx2char[len(self.char2idx) - 1] = char\n",
        "\n",
        "    def preprocess(self, text):\n",
        "      text = re.sub(r'\\n', '', text)\n",
        "      return re.sub(r'[^а-я.,!?\\s]', '', text.lower())\n",
        "    \n",
        "    def tokenize(self, sequence):\n",
        "        # выполните какой-то базовый препроцессинг\n",
        "        # например, оставьте только алфавит и пунктуацию\n",
        "\n",
        "        return [self.char2idx[char] for char in self.preprocess(sequence)]\n",
        "    \n",
        "    def detokenize(self, sequence):\n",
        "        return ''.join([self.idx2char[idx] for idx in sequence])\n",
        "    \n",
        "    def __len__(self):\n",
        "        return len(self.char2idx)"
      ]
    },
    {
      "cell_type": "code",
      "execution_count": 9,
      "metadata": {
        "id": "VkkQ7tS0Rsck"
      },
      "outputs": [],
      "source": [
        "class TextDataset():\n",
        "    \n",
        "    def __init__(self, data, max_len):\n",
        "\n",
        "        # обучите вокаб\n",
        "        self.vocab = Vocab(data)\n",
        "        self.data = data\n",
        "        self.max_len = max_len\n",
        "    \n",
        "    def __len__(self):\n",
        "        return len(self.data)\n",
        "    \n",
        "    def __getitem__(self, idx):\n",
        "        sample = self.data[idx]\n",
        "        sample = self.vocab.tokenize(sample)\n",
        "        sample_tokenized = sample[:self.max_len + 1] if len(sample) > self.max_len else sample\n",
        "        sample = sample_tokenized[1:]\n",
        "        target = sample_tokenized[:-1]\n",
        "        sample += ([2] * (self.max_len - len(sample)))\n",
        "        target += ([2] * (self.max_len - len(target)))\n",
        "        sample = torch.LongTensor(sample)# сконвертируйте в LongTensor\n",
        "        target = torch.LongTensor(target)\n",
        "        return sample, target"
      ]
    },
    {
      "cell_type": "markdown",
      "metadata": {
        "id": "RwlFyl2iRscl"
      },
      "source": [
        "Если у вас какой-то большой массив текста (скажем, статьи Википедии), вы можете просто нарезать из него кусочки фиксированной длины и так их подавать в модель.\n",
        "\n",
        "Если же вы хотите приключений, то можно разбить этот текст на предложения (`nltk.sent_tokenize`), и тогда все примеры будут разной длины. По соображениям производительности, вы не хотите использовать самые длинные и самые короткие сэмплы, поэтому имеет смысл обрезать их по длине."
      ]
    },
    {
      "cell_type": "code",
      "execution_count": 169,
      "metadata": {
        "colab": {
          "base_uri": "https://localhost:8080/",
          "height": 295
        },
        "id": "aVO6bo8-Rscn",
        "outputId": "8f7978d8-df2d-4796-a6df-d6a817a25483"
      },
      "outputs": [
        {
          "output_type": "display_data",
          "data": {
            "text/plain": [
              "<Figure size 432x288 with 1 Axes>"
            ],
            "image/png": "[encoded data removed]"
          },
          "metadata": {
            "needs_background": "light"
          }
        }
      ],
      "source": [
        "plt.hist([len(x) for x in data], bins=350)\n",
        "plt.title('Распределение числа слов в предложениях.')\n",
        "plt.xlabel('Число слов')\n",
        "plt.xlim((0, 300))\n",
        "plt.show()"
      ]
    },
    {
      "cell_type": "code",
      "execution_count": 10,
      "metadata": {
        "id": "6HUHkYJgRscn"
      },
      "outputs": [],
      "source": [
        "min_len = 20  # предложения с меньшим количеством символов не будут рассматриваться\n",
        "max_len = 130 # предложения с большим количеством символов будут обрезаться"
      ]
    },
    {
      "cell_type": "markdown",
      "metadata": {
        "id": "O6RcdWcwRsco"
      },
      "source": [
        "Разобьём на обучение и валидацию:"
      ]
    },
    {
      "cell_type": "code",
      "execution_count": 11,
      "metadata": {
        "id": "8DpW1ir_Rscp"
      },
      "outputs": [],
      "source": [
        "dataset = TextDataset(data, max_len)\n",
        "\n",
        "train_size = int(0.9 * len(dataset))\n",
        "test_size = len(dataset) - train_size\n",
        "train_set, test_set = torch.utils.data.random_split(dataset, [train_size, test_size])"
      ]
    },
    {
      "cell_type": "code",
      "source": [
        "data[0]"
      ],
      "metadata": {
        "colab": {
          "base_uri": "https://localhost:8080/",
          "height": 37
        },
        "id": "KdedTo1B6q5B",
        "outputId": "711dc723-605d-4b9b-8019-5c535bd8a7d0"
      },
      "execution_count": 12,
      "outputs": [
        {
          "output_type": "execute_result",
          "data": {
            "text/plain": [
              "'Верблюдов-то за что? Дебилы, бл...\\n'"
            ],
            "application/vnd.google.colaboratory.intrinsic+json": {
              "type": "string"
            }
          },
          "metadata": {},
          "execution_count": 12
        }
      ]
    },
    {
      "cell_type": "code",
      "source": [
        "dataset[0]"
      ],
      "metadata": {
        "colab": {
          "base_uri": "https://localhost:8080/"
        },
        "id": "djoUJbQG2IdE",
        "outputId": "c67a59a0-ad55-4899-a191-4fb97f9b4f92"
      },
      "execution_count": 175,
      "outputs": [
        {
          "output_type": "execute_result",
          "data": {
            "text/plain": [
              "(tensor([ 5,  6,  7,  8,  9, 10, 11,  4, 12, 11, 13, 14, 15, 13, 16, 12, 11, 17,\n",
              "         13, 10,  5,  7, 18,  8, 19, 20, 13,  7,  8, 21, 21, 21,  2,  2,  2,  2,\n",
              "          2,  2,  2,  2,  2,  2,  2,  2,  2,  2,  2,  2,  2,  2,  2,  2,  2,  2,\n",
              "          2,  2,  2,  2,  2,  2,  2,  2,  2,  2,  2,  2,  2,  2,  2,  2,  2,  2,\n",
              "          2,  2,  2,  2,  2,  2,  2,  2,  2,  2,  2,  2,  2,  2,  2,  2,  2,  2,\n",
              "          2,  2,  2,  2,  2,  2,  2,  2,  2,  2,  2,  2,  2,  2,  2,  2,  2,  2,\n",
              "          2,  2,  2,  2,  2,  2,  2,  2,  2,  2,  2,  2,  2,  2,  2,  2,  2,  2,\n",
              "          2,  2,  2,  2]),\n",
              " tensor([ 4,  5,  6,  7,  8,  9, 10, 11,  4, 12, 11, 13, 14, 15, 13, 16, 12, 11,\n",
              "         17, 13, 10,  5,  7, 18,  8, 19, 20, 13,  7,  8, 21, 21,  2,  2,  2,  2,\n",
              "          2,  2,  2,  2,  2,  2,  2,  2,  2,  2,  2,  2,  2,  2,  2,  2,  2,  2,\n",
              "          2,  2,  2,  2,  2,  2,  2,  2,  2,  2,  2,  2,  2,  2,  2,  2,  2,  2,\n",
              "          2,  2,  2,  2,  2,  2,  2,  2,  2,  2,  2,  2,  2,  2,  2,  2,  2,  2,\n",
              "          2,  2,  2,  2,  2,  2,  2,  2,  2,  2,  2,  2,  2,  2,  2,  2,  2,  2,\n",
              "          2,  2,  2,  2,  2,  2,  2,  2,  2,  2,  2,  2,  2,  2,  2,  2,  2,  2,\n",
              "          2,  2,  2,  2]))"
            ]
          },
          "metadata": {},
          "execution_count": 175
        }
      ]
    },
    {
      "cell_type": "markdown",
      "metadata": {
        "id": "s6b30h7QRscp"
      },
      "source": [
        "## Модель (3 балла)\n",
        "\n",
        "Примерно такое должно зайти:\n",
        "\n",
        "* Эмбеддинг\n",
        "* LSTM / GRU\n",
        "* Линейный слой\n",
        "* Softmax"
      ]
    },
    {
      "cell_type": "code",
      "execution_count": 13,
      "metadata": {
        "id": "q04OEKIaRscq"
      },
      "outputs": [],
      "source": [
        "class LM(nn.Module):\n",
        "    def __init__(self, input_dim, embedding_dim, hidden_dim, num_layers, dropout, tie_weights):\n",
        "        super().__init__()\n",
        "        \n",
        "        self.encoder = nn.Embedding(input_dim, embedding_dim)\n",
        "        self.rnn = nn.GRU(embedding_dim, hidden_dim, num_layers, dropout=dropout, batch_first=True)\n",
        "        self.decoder = nn.Linear(hidden_dim, input_dim)\n",
        "        self.drop = nn.Dropout(dropout)\n",
        "        self.softmax = nn.Softmax()\n",
        "        \n",
        "        if tie_weights:\n",
        "            # \"Using the Output Embedding to Improve Language Models\" (Press & Wolf 2016)\n",
        "            # https://arxiv.org/abs/1608.05859\n",
        "            assert hidden_dim == embedding_dim\n",
        "            self.decoder.weight = self.encoder.weight\n",
        "\n",
        "        #self.rnn_type = rnn_type\n",
        "        self.hidden_dim = hidden_dim\n",
        "        self.nlayers = num_layers\n",
        "\n",
        "    def forward(self, input, hidden):\n",
        "        emb = self.drop(self.encoder(input))\n",
        "        output, hidden = self.rnn(emb, hidden)\n",
        "        output = self.drop(output)\n",
        "        decoded = self.decoder(output.reshape(output.size(0)*output.size(1), output.size(2)))\n",
        "        return decoded.view(output.size(0), output.size(1), decoded.size(1)), hidden\n",
        "\n",
        "    def init_hidden(self, batch_size):\n",
        "        # начальный хидден должен быть нулевой\n",
        "        # (либо хоть какой-то константный для всего обучения)\n",
        "        return torch.zeros(self.nlayers, batch_size, self.hidden_dim)"
      ]
    },
    {
      "cell_type": "markdown",
      "metadata": {
        "id": "lCohYs0HRscr"
      },
      "source": [
        "## Обучение"
      ]
    },
    {
      "cell_type": "code",
      "execution_count": 14,
      "metadata": {
        "id": "LIZCVFVvRscr"
      },
      "outputs": [],
      "source": [
        "epochs = 5\n",
        "lr = 1e-3 \n",
        "batch_size = 64\n",
        "\n",
        "device = torch.device('cuda:0' if torch.cuda.is_available() else 'cpu')\n",
        "\n",
        "model = LM(\n",
        "    input_dim = len(dataset.vocab),\n",
        "    embedding_dim = 128,\n",
        "    hidden_dim = 128,\n",
        "    num_layers = 10,\n",
        "    dropout = 0.1,\n",
        "    tie_weights= True\n",
        ").to(device)\n",
        "\n",
        "optimizer = torch.optim.Adam(model.parameters(), lr=lr)\n",
        "criterion = nn.CrossEntropyLoss()\n",
        "\n",
        "train = DataLoader(train_set, batch_size=batch_size)\n",
        "test = DataLoader(test_set, batch_size=batch_size)"
      ]
    },
    {
      "cell_type": "code",
      "execution_count": 15,
      "metadata": {
        "id": "HZ_bm3RVRscs"
      },
      "outputs": [],
      "source": [
        "train_history = []\n",
        "val_history = []\n",
        "\n",
        "for e in range(epochs):\n",
        "    for x, y in train:\n",
        "        model.train()\n",
        "        \n",
        "        optimizer.zero_grad()\n",
        "        \n",
        "        # 0. Распакуйте данные на нужное устройство\n",
        "        x = x.to(device)\n",
        "        y = y.to(device)\n",
        "        # 1. Инициилизируйте hidden\n",
        "        hidden = model.init_hidden(len(x)).to(device)\n",
        "        # 2. Прогоните данные через модель, получите предсказания на каждом токене\n",
        "        output, hidden = model(x, hidden)\n",
        "        # 3. Посчитайте лосс (maxlen независимых классификаций) и сделайте backward()\n",
        "        loss = criterion(output.reshape(-1, len(dataset.vocab)), y.reshape(output.shape[0] * output.shape[1]))\n",
        "        loss.backward()\n",
        "        # 4. Клипните градиенты -- у RNN-ок с этим часто бывают проблемы\n",
        "        torch.nn.utils.clip_grad_norm_(model.parameters(), 0.2)\n",
        "        # 5. Залоггируйте лосс куда-нибудь\n",
        "        train_history.append(loss.item())\n",
        "        optimizer.step()\n",
        "    \n",
        "    for x, y in test:\n",
        "        model.eval()\n",
        "        \n",
        "        optimizer.zero_grad()\n",
        "        \n",
        "        x = x.to(device)\n",
        "        y = y.to(device)\n",
        "\n",
        "        hidden = model.init_hidden(len(x)).to(device)\n",
        "\n",
        "        output, hidden = model(x, hidden)\n",
        "\n",
        "        loss = criterion(output.reshape(-1, len(dataset.vocab)), y.reshape(output.shape[0] * output.shape[1]))\n",
        "\n",
        "        torch.nn.utils.clip_grad_norm_(model.parameters(), 0.2)\n",
        "\n",
        "        val_history.append(loss.item())\n",
        "        optimizer.step()\n"
      ]
    },
    {
      "cell_type": "code",
      "source": [
        "plt.title('Train loss')\n",
        "plt.plot(train_history)\n",
        "plt.show()"
      ],
      "metadata": {
        "colab": {
          "base_uri": "https://localhost:8080/",
          "height": 281
        },
        "id": "9ILBHcPWAY_q",
        "outputId": "1ef5f95d-b1f7-47f1-d6fb-142fc5f41dee"
      },
      "execution_count": 16,
      "outputs": [
        {
          "output_type": "display_data",
          "data": {
            "text/plain": [
              "<Figure size 432x288 with 1 Axes>"
            ],
            "image/png": "[encoded data removed]"
          },
          "metadata": {
            "needs_background": "light"
          }
        }
      ]
    },
    {
      "cell_type": "code",
      "source": [
        "plt.title('Validation loss')\n",
        "plt.plot(val_history)\n",
        "plt.show()"
      ],
      "metadata": {
        "colab": {
          "base_uri": "https://localhost:8080/",
          "height": 281
        },
        "id": "YJGdwjjaAfco",
        "outputId": "a2c33eaf-9a1b-42c0-8688-cf5b37e3ddbf"
      },
      "execution_count": 17,
      "outputs": [
        {
          "output_type": "display_data",
          "data": {
            "text/plain": [
              "<Figure size 432x288 with 1 Axes>"
            ],
            "image/png": "[encoded data removed]"
          },
          "metadata": {
            "needs_background": "light"
          }
        }
      ]
    },
    {
      "cell_type": "markdown",
      "metadata": {
        "id": "GkN80j_pRsct"
      },
      "source": [
        "## Спеллчекер (3 балла)\n",
        "\n",
        "Из языковой модели можно сделать простенький спеллчекер: можно визуализировать лоссы на каждом символе (либо какой-нибудь другой показатель неуверенности).\n",
        "\n",
        "Бонус: можете усреднить перплексии по словам и выделять их, а не отдельные символы."
      ]
    },
    {
      "cell_type": "code",
      "execution_count": 23,
      "metadata": {
        "colab": {
          "base_uri": "https://localhost:8080/",
          "height": 51
        },
        "id": "XhJXGW-hRscu",
        "outputId": "2d5ba270-f69d-4edd-9419-db41f154c9b7"
      },
      "outputs": [
        {
          "output_type": "display_data",
          "data": {
            "text/plain": [
              "<IPython.core.display.HTML object>"
            ],
            "text/html": [
              "<span style=\"background: rgb(255, 255, 255)\">Налейте</span> <span style=\"background: rgb(255, 255, 255)\">мне</span> <span style=\"background: rgb(255, 155, 155)\">экспрессо</span>"
            ]
          },
          "metadata": {}
        },
        {
          "output_type": "display_data",
          "data": {
            "text/plain": [
              "<IPython.core.display.HTML object>"
            ],
            "text/html": [
              "<span style=\"background: rgb(255, 255, 255)\">Э</span><span style=\"background: rgb(255, 255, 255)\">т</span><span style=\"background: rgb(255, 255, 255)\">у</span><span style=\"background: rgb(255, 255, 255)\"> </span><span style=\"background: rgb(255, 255, 255)\">д</span><span style=\"background: rgb(255, 255, 255)\">о</span><span style=\"background: rgb(255, 255, 255)\">м</span><span style=\"background: rgb(255, 255, 255)\">а</span><span style=\"background: rgb(255, 255, 255)\">ш</span><span style=\"background: rgb(255, 255, 255)\">к</span><span style=\"background: rgb(255, 255, 255)\">у</span><span style=\"background: rgb(255, 255, 255)\"> </span><span style=\"background: rgb(255, 255, 255)\">н</span><span style=\"background: rgb(255, 255, 255)\">у</span><span style=\"background: rgb(255, 255, 255)\">ж</span><span style=\"background: rgb(255, 255, 255)\">н</span><span style=\"background: rgb(255, 255, 255)\">о</span><span style=\"background: rgb(255, 255, 255)\"> </span><span style=\"background: rgb(255, 255, 255)\">с</span><span style=\"background: rgb(255, 255, 255)\">д</span><span style=\"background: rgb(255, 255, 255)\">а</span><span style=\"background: rgb(255, 255, 255)\">т</span><span style=\"background: rgb(255, 255, 255)\">ь</span><span style=\"background: rgb(255, 255, 255)\"> </span><span style=\"background: rgb(255, 255, 255)\">в</span><span style=\"background: rgb(255, 205, 205)\">т</span><span style=\"background: rgb(255, 195, 195)\">е</span><span style=\"background: rgb(255, 185, 185)\">ч</span><span style=\"background: rgb(255, 255, 255)\">е</span><span style=\"background: rgb(255, 255, 255)\">н</span><span style=\"background: rgb(255, 255, 255)\">и</span><span style=\"background: rgb(255, 105, 105)\">и</span><span style=\"background: rgb(255, 255, 255)\"> </span><span style=\"background: rgb(255, 255, 255)\">д</span><span style=\"background: rgb(255, 255, 255)\">в</span><span style=\"background: rgb(255, 255, 255)\">у</span><span style=\"background: rgb(255, 255, 255)\">х</span><span style=\"background: rgb(255, 255, 255)\"> </span><span style=\"background: rgb(255, 255, 255)\">н</span><span style=\"background: rgb(255, 255, 255)\">е</span><span style=\"background: rgb(255, 255, 255)\">д</span><span style=\"background: rgb(255, 255, 255)\">е</span><span style=\"background: rgb(255, 255, 255)\">л</span><span style=\"background: rgb(255, 255, 255)\">ь</span>"
            ]
          },
          "metadata": {}
        }
      ],
      "source": [
        "from IPython.core.display import display, HTML\n",
        "\n",
        "def print_colored(sequence, intensities, delimeter=''):\n",
        "    html = delimeter.join([\n",
        "        f'<span style=\"background: rgb({255}, {255-x}, {255-x})\">{c}</span>'\n",
        "        for c, x in zip(sequence, intensities) \n",
        "    ])\n",
        "    display(HTML(html))\n",
        "\n",
        "print_colored('Налейте мне экспрессо'.split(), [0, 0, 100], ' ')\n",
        "\n",
        "sequence = 'Эту домашку нужно сдать втечении двух недель'\n",
        "intensities = [0]*len(sequence)\n",
        "intensities[25] = 50\n",
        "intensities[26] = 60\n",
        "intensities[27] = 70\n",
        "intensities[31] = 150\n",
        "print_colored(sequence, intensities)"
      ]
    },
    {
      "cell_type": "code",
      "source": [
        "criterion = nn.CrossEntropyLoss(reduce=False)"
      ],
      "metadata": {
        "colab": {
          "base_uri": "https://localhost:8080/"
        },
        "id": "wRap0LY2JPOU",
        "outputId": "1bb58202-989f-4d84-a5f2-c70f02c1d74a"
      },
      "execution_count": 20,
      "outputs": [
        {
          "output_type": "stream",
          "name": "stderr",
          "text": [
            "/usr/local/lib/python3.7/dist-packages/torch/nn/_reduction.py:42: UserWarning: size_average and reduce args will be deprecated, please use reduction='none' instead.\n",
            "  warnings.warn(warning.format(ret))\n"
          ]
        }
      ]
    },
    {
      "cell_type": "code",
      "execution_count": 36,
      "metadata": {
        "id": "QL6Ni-e0Rscu"
      },
      "outputs": [],
      "source": [
        "def spellcheck(sequence):\n",
        "    model.eval()\n",
        "    \n",
        "    # векторизуйте sequence; паддинги делать не нужно\n",
        "    decoded_sequence = torch.LongTensor(dataset.vocab.tokenize(sequence[:-1])).reshape(1, -1).to(device)\n",
        "    \n",
        "    # прогоните модель и посчитайте лосс, но не усредняйте\n",
        "    # с losses можно что-нибудь сделать для визуализации; например, в какую-нибудь степень возвести\n",
        "    hidden = model.init_hidden(1).to(device)\n",
        "    output, _ = model(decoded_sequence, hidden)\n",
        "    y = torch.LongTensor(dataset.vocab.tokenize(sequence[1:])).reshape(1, -1).to(device)\n",
        "    losses = criterion(output.reshape(-1, len(dataset.vocab)), y.reshape(len(sequence) - 1))\n",
        "    print_colored(sequence, np.concatenate((np.array([0]), np.array(losses.detach().cpu())), axis=None))"
      ]
    },
    {
      "cell_type": "code",
      "execution_count": 37,
      "metadata": {
        "colab": {
          "base_uri": "https://localhost:8080/",
          "height": 102
        },
        "id": "__Mqa4ZURscw",
        "outputId": "bef28304-741e-4bed-b0d6-a90a79fe9214"
      },
      "outputs": [
        {
          "output_type": "display_data",
          "data": {
            "text/plain": [
              "<IPython.core.display.HTML object>"
            ],
            "text/html": [
              "<span style=\"background: rgb(255, 255.0, 255.0)\">В</span><span style=\"background: rgb(255, 250.3814902305603, 250.3814902305603)\"> </span><span style=\"background: rgb(255, 226.05234718322754, 226.05234718322754)\">э</span><span style=\"background: rgb(255, 212.50286483764648, 212.50286483764648)\">т</span><span style=\"background: rgb(255, 235.5883674621582, 235.5883674621582)\">о</span><span style=\"background: rgb(255, 234.73260498046875, 234.73260498046875)\">м</span><span style=\"background: rgb(255, 239.4166488647461, 239.4166488647461)\"> </span><span style=\"background: rgb(255, 226.58879852294922, 226.58879852294922)\">п</span><span style=\"background: rgb(255, 206.75276565551758, 206.75276565551758)\">р</span><span style=\"background: rgb(255, 206.53560638427734, 206.53560638427734)\">е</span><span style=\"background: rgb(255, 210.5638198852539, 210.5638198852539)\">т</span><span style=\"background: rgb(255, 214.78473663330078, 214.78473663330078)\">л</span><span style=\"background: rgb(255, 232.46846771240234, 232.46846771240234)\">о</span><span style=\"background: rgb(255, 233.96789360046387, 233.96789360046387)\">ж</span><span style=\"background: rgb(255, 236.54683685302734, 236.54683685302734)\">е</span><span style=\"background: rgb(255, 223.34497833251953, 223.34497833251953)\">н</span><span style=\"background: rgb(255, 229.76571655273438, 229.76571655273438)\">и</span><span style=\"background: rgb(255, 220.49096298217773, 220.49096298217773)\">и</span><span style=\"background: rgb(255, 255.0, 255.0)\">и</span><span style=\"background: rgb(255, 227.86034774780273, 227.86034774780273)\"> </span><span style=\"background: rgb(255, 212.08839416503906, 212.08839416503906)\">о</span><span style=\"background: rgb(255, 216.04169464111328, 216.04169464111328)\">ч</span><span style=\"background: rgb(255, 230.00139808654785, 230.00139808654785)\">е</span><span style=\"background: rgb(255, 218.37358474731445, 218.37358474731445)\">н</span><span style=\"background: rgb(255, 218.19586563110352, 218.19586563110352)\"> </span><span style=\"background: rgb(255, 226.6085147857666, 226.6085147857666)\">м</span><span style=\"background: rgb(255, 214.69368362426758, 214.69368362426758)\">н</span><span style=\"background: rgb(255, 216.61212158203125, 216.61212158203125)\">о</span><span style=\"background: rgb(255, 227.08633041381836, 227.08633041381836)\">г</span><span style=\"background: rgb(255, 254.99999737739904, 254.99999737739904)\">о</span><span style=\"background: rgb(255, 219.19882583618164, 219.19882583618164)\"> </span><span style=\"background: rgb(255, 255.0, 255.0)\">о</span><span style=\"background: rgb(255, 216.42739486694336, 216.42739486694336)\">ч</span><span style=\"background: rgb(255, 231.34779357910156, 231.34779357910156)\">е</span><span style=\"background: rgb(255, 222.07514572143555, 222.07514572143555)\">п</span><span style=\"background: rgb(255, 214.0108985900879, 214.0108985900879)\">я</span><span style=\"background: rgb(255, 222.29830169677734, 222.29830169677734)\">т</span><span style=\"background: rgb(255, 222.6133689880371, 222.6133689880371)\">о</span><span style=\"background: rgb(255, 228.9366455078125, 228.9366455078125)\">к</span><span style=\"background: rgb(255, 223.36773872375488, 223.36773872375488)\">.</span>"
            ]
          },
          "metadata": {}
        },
        {
          "output_type": "display_data",
          "data": {
            "text/plain": [
              "<IPython.core.display.HTML object>"
            ],
            "text/html": [
              "<span style=\"background: rgb(255, 255.0, 255.0)\">З</span><span style=\"background: rgb(255, 250.26487922668457, 250.26487922668457)\">д</span><span style=\"background: rgb(255, 227.45487213134766, 227.45487213134766)\">е</span><span style=\"background: rgb(255, 217.96337509155273, 217.96337509155273)\">с</span><span style=\"background: rgb(255, 207.91996383666992, 207.91996383666992)\">ь</span><span style=\"background: rgb(255, 238.9818286895752, 238.9818286895752)\"> </span><span style=\"background: rgb(255, 213.19552993774414, 213.19552993774414)\">п</span><span style=\"background: rgb(255, 229.1119041442871, 229.1119041442871)\">о</span><span style=\"background: rgb(255, 222.83692169189453, 222.83692169189453)\">я</span><span style=\"background: rgb(255, 226.35074424743652, 226.35074424743652)\">в</span><span style=\"background: rgb(255, 233.22309684753418, 233.22309684753418)\">и</span><span style=\"background: rgb(255, 223.8437042236328, 223.8437042236328)\">л</span><span style=\"background: rgb(255, 230.13041305541992, 230.13041305541992)\">а</span><span style=\"background: rgb(255, 220.42658615112305, 220.42658615112305)\">с</span><span style=\"background: rgb(255, 224.82490730285645, 224.82490730285645)\">ь</span><span style=\"background: rgb(255, 235.2826690673828, 235.2826690673828)\"> </span><span style=\"background: rgb(255, 226.37804794311523, 226.37804794311523)\">л</span><span style=\"background: rgb(255, 228.2796287536621, 228.2796287536621)\">и</span><span style=\"background: rgb(255, 230.02045440673828, 230.02045440673828)\">ш</span><span style=\"background: rgb(255, 205.93131256103516, 205.93131256103516)\">н</span><span style=\"background: rgb(255, 221.1544075012207, 221.1544075012207)\">н</span><span style=\"background: rgb(255, 205.13348007202148, 205.13348007202148)\">я</span><span style=\"background: rgb(255, 211.30023193359375, 211.30023193359375)\">я</span><span style=\"background: rgb(255, 240.0604658126831, 240.0604658126831)\"> </span><span style=\"background: rgb(255, 209.2404556274414, 209.2404556274414)\">б</span><span style=\"background: rgb(255, 225.2373046875, 225.2373046875)\">у</span><span style=\"background: rgb(255, 221.44187927246094, 221.44187927246094)\">к</span><span style=\"background: rgb(255, 234.8501434326172, 234.8501434326172)\">в</span><span style=\"background: rgb(255, 207.9277687072754, 207.9277687072754)\">а</span><span style=\"background: rgb(255, 229.91182136535645, 229.91182136535645)\">.</span>"
            ]
          },
          "metadata": {}
        },
        {
          "output_type": "display_data",
          "data": {
            "text/plain": [
              "<IPython.core.display.HTML object>"
            ],
            "text/html": [
              "<span style=\"background: rgb(255, 255.0, 255.0)\">В</span><span style=\"background: rgb(255, 250.3814902305603, 250.3814902305603)\"> </span><span style=\"background: rgb(255, 226.05234718322754, 226.05234718322754)\">э</span><span style=\"background: rgb(255, 212.50286483764648, 212.50286483764648)\">т</span><span style=\"background: rgb(255, 235.5883674621582, 235.5883674621582)\">о</span><span style=\"background: rgb(255, 234.73260498046875, 234.73260498046875)\">м</span><span style=\"background: rgb(255, 239.4166488647461, 239.4166488647461)\"> </span><span style=\"background: rgb(255, 226.58879852294922, 226.58879852294922)\">п</span><span style=\"background: rgb(255, 206.75276565551758, 206.75276565551758)\">р</span><span style=\"background: rgb(255, 206.53560638427734, 206.53560638427734)\">е</span><span style=\"background: rgb(255, 221.8616943359375, 221.8616943359375)\">д</span><span style=\"background: rgb(255, 216.98300170898438, 216.98300170898438)\">л</span><span style=\"background: rgb(255, 216.64802932739258, 216.64802932739258)\">о</span><span style=\"background: rgb(255, 232.84775161743164, 232.84775161743164)\">ж</span><span style=\"background: rgb(255, 235.20569229125977, 235.20569229125977)\">е</span><span style=\"background: rgb(255, 222.56253814697266, 222.56253814697266)\">н</span><span style=\"background: rgb(255, 229.77370834350586, 229.77370834350586)\">и</span><span style=\"background: rgb(255, 220.5607681274414, 220.5607681274414)\">и</span><span style=\"background: rgb(255, 231.58509635925293, 231.58509635925293)\"> </span><span style=\"background: rgb(255, 237.92430877685547, 237.92430877685547)\">в</span><span style=\"background: rgb(255, 221.70619201660156, 221.70619201660156)\">с</span><span style=\"background: rgb(255, 234.45520401000977, 234.45520401000977)\">е</span><span style=\"background: rgb(255, 229.5928840637207, 229.5928840637207)\"> </span><span style=\"background: rgb(255, 213.45316696166992, 213.45316696166992)\">н</span><span style=\"background: rgb(255, 229.34131240844727, 229.34131240844727)\">о</span><span style=\"background: rgb(255, 222.76577758789062, 222.76577758789062)\">р</span><span style=\"background: rgb(255, 224.50934600830078, 224.50934600830078)\">м</span><span style=\"background: rgb(255, 227.2073516845703, 227.2073516845703)\">а</span><span style=\"background: rgb(255, 230.60748481750488, 230.60748481750488)\">л</span><span style=\"background: rgb(255, 219.55013275146484, 219.55013275146484)\">ь</span><span style=\"background: rgb(255, 239.23149490356445, 239.23149490356445)\">н</span><span style=\"background: rgb(255, 210.82331466674805, 210.82331466674805)\">о</span><span style=\"background: rgb(255, 212.8043098449707, 212.8043098449707)\">.</span>"
            ]
          },
          "metadata": {}
        },
        {
          "output_type": "display_data",
          "data": {
            "text/plain": [
              "<IPython.core.display.HTML object>"
            ],
            "text/html": [
              "<span style=\"background: rgb(255, 255.0, 255.0)\">Ч</span><span style=\"background: rgb(255, 249.4724941253662, 249.4724941253662)\">т</span><span style=\"background: rgb(255, 230.48972702026367, 230.48972702026367)\">о</span><span style=\"background: rgb(255, 240.22683715820312, 240.22683715820312)\">н</span><span style=\"background: rgb(255, 218.01116561889648, 218.01116561889648)\">и</span><span style=\"background: rgb(255, 229.18409729003906, 229.18409729003906)\">б</span><span style=\"background: rgb(255, 221.26661682128906, 221.26661682128906)\">у</span><span style=\"background: rgb(255, 225.86627769470215, 225.86627769470215)\">д</span><span style=\"background: rgb(255, 219.19192123413086, 219.19192123413086)\">ь</span><span style=\"background: rgb(255, 221.64199447631836, 221.64199447631836)\"> </span><span style=\"background: rgb(255, 214.6814842224121, 214.6814842224121)\">п</span><span style=\"background: rgb(255, 224.50969123840332, 224.50969123840332)\">и</span><span style=\"background: rgb(255, 234.24388122558594, 234.24388122558594)\">ш</span><span style=\"background: rgb(255, 226.93920707702637, 226.93920707702637)\">е</span><span style=\"background: rgb(255, 223.11920928955078, 223.11920928955078)\">т</span><span style=\"background: rgb(255, 202.20711517333984, 202.20711517333984)\">ь</span><span style=\"background: rgb(255, 233.51126861572266, 233.51126861572266)\">с</span><span style=\"background: rgb(255, 223.41052436828613, 223.41052436828613)\">я</span><span style=\"background: rgb(255, 239.47803020477295, 239.47803020477295)\"> </span><span style=\"background: rgb(255, 222.1288604736328, 222.1288604736328)\">ч</span><span style=\"background: rgb(255, 218.65113067626953, 218.65113067626953)\">е</span><span style=\"background: rgb(255, 209.3784065246582, 209.3784065246582)\">р</span><span style=\"background: rgb(255, 228.52190399169922, 228.52190399169922)\">и</span><span style=\"background: rgb(255, 223.9136734008789, 223.9136734008789)\">з</span><span style=\"background: rgb(255, 229.92548751831055, 229.92548751831055)\"> </span><span style=\"background: rgb(255, 239.23939895629883, 239.23939895629883)\">д</span><span style=\"background: rgb(255, 221.1548080444336, 221.1548080444336)\">е</span><span style=\"background: rgb(255, 220.54195022583008, 220.54195022583008)\">ф</span><span style=\"background: rgb(255, 227.15449142456055, 227.15449142456055)\">и</span><span style=\"background: rgb(255, 235.43493843078613, 235.43493843078613)\">с</span><span style=\"background: rgb(255, 223.585693359375, 223.585693359375)\">.</span>"
            ]
          },
          "metadata": {}
        },
        {
          "output_type": "display_data",
          "data": {
            "text/plain": [
              "<IPython.core.display.HTML object>"
            ],
            "text/html": [
              "<span style=\"background: rgb(255, 255.0, 255.0)\">С</span><span style=\"background: rgb(255, 248.90092849731445, 248.90092849731445)\">л</span><span style=\"background: rgb(255, 242.44563484191895, 242.44563484191895)\">о</span><span style=\"background: rgb(255, 222.3761749267578, 222.3761749267578)\">в</span><span style=\"background: rgb(255, 213.08869171142578, 213.08869171142578)\">а</span><span style=\"background: rgb(255, 229.10644149780273, 229.10644149780273)\"> </span><span style=\"background: rgb(255, 219.5925636291504, 219.5925636291504)\">н</span><span style=\"background: rgb(255, 209.07786560058594, 209.07786560058594)\">р</span><span style=\"background: rgb(255, 219.1491470336914, 219.1491470336914)\">п</span><span style=\"background: rgb(255, 232.7921085357666, 232.7921085357666)\">д</span><span style=\"background: rgb(255, 230.3159351348877, 230.3159351348877)\">з</span><span style=\"background: rgb(255, 232.62931060791016, 232.62931060791016)\">х</span><span style=\"background: rgb(255, 220.4947967529297, 220.4947967529297)\"> </span><span style=\"background: rgb(255, 224.76249504089355, 224.76249504089355)\">н</span><span style=\"background: rgb(255, 221.8274040222168, 221.8274040222168)\">е</span><span style=\"background: rgb(255, 223.21967887878418, 223.21967887878418)\"> </span><span style=\"background: rgb(255, 213.72962951660156, 213.72962951660156)\">с</span><span style=\"background: rgb(255, 232.81237030029297, 232.81237030029297)\">у</span><span style=\"background: rgb(255, 218.87332153320312, 218.87332153320312)\">щ</span><span style=\"background: rgb(255, 219.22085571289062, 219.22085571289062)\">е</span><span style=\"background: rgb(255, 213.7984848022461, 213.7984848022461)\">с</span><span style=\"background: rgb(255, 211.76304244995117, 211.76304244995117)\">д</span><span style=\"background: rgb(255, 235.59181022644043, 235.59181022644043)\">в</span><span style=\"background: rgb(255, 214.46529006958008, 214.46529006958008)\">у</span><span style=\"background: rgb(255, 248.85817432403564, 248.85817432403564)\">е</span><span style=\"background: rgb(255, 224.0433750152588, 224.0433750152588)\">т</span><span style=\"background: rgb(255, 205.4663543701172, 205.4663543701172)\">.</span>"
            ]
          },
          "metadata": {}
        }
      ],
      "source": [
        "sequences = ['В этом претложениии очен много очепяток.', \n",
        "             'Здесь появилась лишнняя буква.', \n",
        "             'В этом предложении все нормально.', \n",
        "             'Чтонибудь пишеться чериз дефис.', \n",
        "             'Слова нрпдзх не сущесдвует.']\n",
        "\n",
        "for sequence in sequences:\n",
        "    spellcheck(sequence)"
      ]
    },
    {
      "cell_type": "markdown",
      "metadata": {
        "id": "JdEOpjbgRscw"
      },
      "source": [
        "## Генерация предложений (3 балла)\n",
        "\n",
        "* Поддерживайте hidden state при генерации. Не пересчитывайте ничего больше одного раза.\n",
        "* Прикрутите температуру: это когда при сэмплировании все логиты (то, что перед софтмаксом) делятся на какое-то число (по умолчанию 1, тогда ничего не меняется). Температура позволяет делать trade-off между разнообразием и правдоподобием (подробнее — см. блог Карпатого).\n",
        "* Ваша реализация должна уметь принимать строку seed — то, с чего должно начинаться сгенерированная строка."
      ]
    },
    {
      "cell_type": "code",
      "execution_count": 289,
      "metadata": {
        "id": "AOGPPyFiRscx"
      },
      "outputs": [],
      "source": [
        "def sample(num_tokens, seed=\"\", temperature=1.0):\n",
        "    model.eval()\n",
        "        \n",
        "    hidden = model.init_hidden(1).to(device)\n",
        "    input = torch.LongTensor(dataset.vocab.tokenize(seed)).reshape(1, -1).to(device)\n",
        "\n",
        "    \n",
        "    continuation = ''\n",
        "    \n",
        "    for _ in range(num_tokens):\n",
        "        output, hidden = model(input, hidden)\n",
        "        \n",
        "        token_probas = output.squeeze().div(temperature).exp().cpu()\n",
        "        token = torch.multinomial(token_probas, 1)[0]\n",
        "        \n",
        "        continuation += dataset.vocab.idx2char[token.item()]\n",
        "        input = torch.LongTensor(dataset.vocab.tokenize(seed + continuation)).reshape(1, -1).to(device)\n",
        "    \n",
        "    return continuation"
      ]
    },
    {
      "cell_type": "code",
      "execution_count": 290,
      "metadata": {
        "colab": {
          "base_uri": "https://localhost:8080/"
        },
        "id": "hA2ceV2LRscy",
        "outputId": "0eee6405-7744-4ae0-8956-51ddc5daee54"
      },
      "outputs": [
        {
          "output_type": "stream",
          "name": "stdout",
          "text": [
            "Шел медведь по лесу... мумумумуму\n",
            "\n",
            "Встретились англичанин, американец и русский. Англичанин говорит:... зтзтзтзтзт\n",
            "\n",
            "Так вот, однажды качки решили делать ремонт... этэтэтэтэт\n",
            "\n",
            "Поручик Ржевский был... илилилилил\n",
            "\n",
            "Идёт Будда с учениками по дороге... бебебебебе\n",
            "\n",
            "Мюллер: Штирлиц, где вы были в 1938 году?... ицицицициц\n",
            "\n",
            "Засылают к нам американцы шпиона под видом студента... вавававава\n",
            "\n",
            "Подъезжает электричка к Долгопе:... аеаеаеаеае\n",
            "\n"
          ]
        }
      ],
      "source": [
        "beginnings = ['Шел медведь по лесу', \n",
        "              'Встретились англичанин, американец и русский. Англичанин говорит:',\n",
        "              'Так вот, однажды качки решили делать ремонт',\n",
        "              'Поручик Ржевский был',\n",
        "              'Идёт Будда с учениками по дороге',\n",
        "              'Мюллер: Штирлиц, где вы были в 1938 году?',\n",
        "              'Засылают к нам американцы шпиона под видом студента',\n",
        "              'Подъезжает электричка к Долгопе:']\n",
        "\n",
        "for beginning in beginnings:\n",
        "    print(f'{beginning}... {sample(10, beginning)}')\n",
        "    print()"
      ]
    }
  ],
  "metadata": {
    "kernelspec": {
      "display_name": "Python 3",
      "language": "python",
      "name": "python3"
    },
    "language_info": {
      "codemirror_mode": {
        "name": "ipython",
        "version": 3
      },
      "file_extension": ".py",
      "mimetype": "text/x-python",
      "name": "python",
      "nbconvert_exporter": "python",
      "pygments_lexer": "ipython3",
      "version": "3.7.1"
    },
    "colab": {
      "name": "lm_pytorch.ipynb",
      "provenance": []
    },
    "accelerator": "GPU"
  },
  "nbformat": 4,
  "nbformat_minor": 0
}