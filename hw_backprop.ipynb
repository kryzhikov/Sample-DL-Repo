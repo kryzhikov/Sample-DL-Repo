{
 "cells": [
  {
   "cell_type": "markdown",
   "metadata": {
    "colab_type": "text",
    "id": "mo4MwTZtocWC"
   },
   "source": [
    "# Backprop своими руками"
   ]
  },
  {
   "cell_type": "markdown",
   "metadata": {
    "colab_type": "text",
    "id": "ZTn-EUeLocWG"
   },
   "source": [
    "Материалы:\n",
    "\n",
    "* [Andrew Karpahy: yes, you should understand backprop](https://medium.com/@karpathy/yes-you-should-understand-backprop-e2f06eab496b)\n",
    "* [Stanford CS231n](http://cs231n.stanford.edu/)\n",
    "* [Deep Learning](http://sereja.me/f/deep_learning_goodfellow.pdf) — с 204 страницы и до прозрения\n",
    "* [Xavier, Bengio](http://proceedings.mlr.press/v9/glorot10a/glorot10a.pdf)"
   ]
  },
  {
   "cell_type": "markdown",
   "metadata": {
    "colab_type": "text",
    "id": "vr9onIFLocWI"
   },
   "source": [
    "<img width='800px' src='https://cdn-images-1.medium.com/max/1600/1*q1M7LGiDTirwU-4LcFq7_Q.png'>"
   ]
  },
  {
   "cell_type": "markdown",
   "metadata": {
    "colab_type": "text",
    "id": "0pNAiOscocWJ"
   },
   "source": [
    "Иногда сети пишут на чистом C++, причём код для обучения и инференса (реального прогона в продакшне) — отдельно. Так делают, когда нужен очень быстрый отклик и высокая производительность, но это очень трудоемко.\n",
    "\n",
    "Большинство людей не усложняют себе жизнь и просто используют фреймворки — с ними можно просто почти декларативно описать, какие операции хотите сделать с данными, а он потом сам построит сеть и подгонит её под данные.\n",
    "\n",
    "Ваше задание — реализовать свой небольшой фреймворк глубокого обучения на чистом `numpy`. Основное время у вас должно уйти на вывод формул для градиентов, анализ поведения самых часто используемых слоев в современных нейросетях и прочий матан. Хотя бы один раз в жизни это надо сделать, а уже потом пользоваться готовыми абстракциями."
   ]
  },
  {
   "cell_type": "markdown",
   "metadata": {
    "colab_type": "text",
    "id": "boLW-DeTocWL"
   },
   "source": [
    "Предполагаемый порядок выполнения:\n",
    "* Поймите на высоком уровне, как работает алгоритм backpropagation\n",
    "* Изучите пример с логиситической регрессией, чтобы понять, что от вас в итоге хотят\n",
    "* Изучите код `Module`\n",
    "* `Sequential`\n",
    "* `Linear`\n",
    "* `SoftMax`\n",
    "* `CrossEntropy`\n",
    "* Протестируйте их на логистической регрессии\n",
    "* Напишите код для решения MNIST\n",
    "* Дописывайте остальные слои, пока не получите на нём 97%"
   ]
  },
  {
   "cell_type": "markdown",
   "metadata": {
    "colab_type": "text",
    "id": "sPciq6WzocWN"
   },
   "source": [
    "Оценивание (суммарно до 20 баллов):\n",
    "* 5 баллов -- что-то хоть как-то обучается, MNIST на валидации >90%\n",
    "* 2 балла -- MNIST на 95%, дальше по одному баллу за 96%, 97% и 98%. Это будет сделать намного сложнее, чем через PyTorch, потому что вам всё нужно писать самим: более сложные оптимизаторы, learning rate decay, думать про численную стабильность и т. д.\n",
    "* По 2 балла за слои: LeakyReLU, Dropout, BatchNorm, CrossEntropy, SoftMax"
   ]
  },
  {
   "cell_type": "markdown",
   "metadata": {
    "colab_type": "text",
    "id": "VrI9amBAocWO"
   },
   "source": [
    "Советы:\n",
    "* Чтобы лучше понять, что должно в итоге получиться, изучите «игрушечный пример» и вообще эту тетрадку, а потом начните читать `hw_framework.py`, где будет более техничное описание.\n",
    "* Для дебага проверяйте градиенты численно — сдвигайте параметры на какой-нибудь эпсилон и смотрите разницу. Ещё можете проверить, что на одинаковых данных они дают то же, что их эквиваленты из PyTorch (можно после каждого нового слоя добавить юнит тест через `assert`).\n",
    "* Пишите код без циклов — в питоне они очень долгие; все вычисления можно делать внутри numpy.\n",
    "* Ограничение на срок сдачи большое — до конца всего курса, но рекомендуется закончить примерно за месяц. Дописывайте его постепенно, разбираясь, как работает каждая функция активации.\n",
    "* Обсуждайте математику и общую архитектуру фреймворка, но не шарьте друг другу код — так не интересно."
   ]
  },
  {
   "cell_type": "code",
   "execution_count": 1,
   "metadata": {
    "colab": {},
    "colab_type": "code",
    "id": "osDsI56TocWQ"
   },
   "outputs": [],
   "source": [
    "import numpy as np\n",
    "import matplotlib.pyplot as plt\n",
    "%matplotlib inline\n",
    "\n",
    "import warnings\n",
    "warnings.simplefilter('ignore')"
   ]
  },
  {
   "cell_type": "markdown",
   "metadata": {
    "colab_type": "text",
    "id": "rArLbzznocWU"
   },
   "source": [
    "---"
   ]
  },
  {
   "cell_type": "markdown",
   "metadata": {
    "colab_type": "text",
    "id": "9SpmBG6XocWV"
   },
   "source": [
    "Откройте в Jupyter две тетрадки — эту и `hw_framework.ipynb`. В этой содержится train loop, а там непосредственно ваш «фреймворк», который вам ещё предстоит написать.\n",
    "\n",
    "Архитектура фреймворка вдохновлена PyTorch. Как всегда, если придумаете какой-то более клёвый дизайн — можете использовать его."
   ]
  },
  {
   "cell_type": "code",
   "execution_count": 2,
   "metadata": {
    "colab": {},
    "colab_type": "code",
    "id": "AR35O38uocWX"
   },
   "outputs": [
    {
     "name": "stdout",
     "output_type": "stream",
     "text": [
      "Wall time: 44 ms\n",
      "Wall time: 4 ms\n"
     ]
    }
   ],
   "source": [
    "%run hw_framework.ipynb"
   ]
  },
  {
   "cell_type": "markdown",
   "metadata": {
    "colab_type": "text",
    "id": "Z03GIF03ocWc"
   },
   "source": [
    "Мы будем использовать самый простой вариант градиентного спуска: просто пройдемся по всем параметрам и сделаем шаги в сторону уменьшения посчитанного заранее градиента.\n",
    "\n",
    "Есть [более продвинутые методы](http://ruder.io/optimizing-gradient-descent/), но пока что мы их использовать не будем."
   ]
  },
  {
   "cell_type": "code",
   "execution_count": 3,
   "metadata": {
    "colab": {},
    "colab_type": "code",
    "id": "gIkgsfAXocWd"
   },
   "outputs": [],
   "source": [
    "def SGD(params, gradients, lr=1e-3):    \n",
    "    for weights, gradient in zip(params, gradients):\n",
    "        #print(type(lr), type(gradient))\n",
    "        #print(weights.shape, gradient.shape)\n",
    "        weights -= lr * gradient"
   ]
  },
  {
   "cell_type": "markdown",
   "metadata": {
    "colab_type": "text",
    "id": "PfBYatsKocWh"
   },
   "source": [
    "Cоздадим обертку вокруг нашего датасета (просто numpy-евские массивы), которую будем потом использовать, чтобы итерироваться по нему."
   ]
  },
  {
   "cell_type": "code",
   "execution_count": 4,
   "metadata": {
    "colab": {},
    "colab_type": "code",
    "id": "jDmJKg8hocWi"
   },
   "outputs": [],
   "source": [
    "def loader(X, Y, batch_size):    \n",
    "    n = X.shape[0]\n",
    "\n",
    "    # в начале каждой эпохи будем всё перемешивать\n",
    "    # важно, что мы пермешиваем индексы, а не X\n",
    "    indices = np.arange(n)\n",
    "    np.random.shuffle(indices)\n",
    "    \n",
    "    for start in range(0, n, batch_size):\n",
    "        # в конце нам, возможно, нужно взять неполный батч\n",
    "        end = min(start + batch_size, n)\n",
    "        \n",
    "        batch_idx = indices[start:end]\n",
    "    \n",
    "        yield X[batch_idx], Y[batch_idx]"
   ]
  },
  {
   "cell_type": "markdown",
   "metadata": {
    "colab_type": "text",
    "id": "yMcWZrUPocWm"
   },
   "source": [
    "В следующих двух секциях — игрушечные примеры регрессии и классификации на синтезированных данных. В них ничего менять не надо — они нужны, чтобы отдебажить ваши слои в `hw_framework`."
   ]
  },
  {
   "cell_type": "markdown",
   "metadata": {
    "colab_type": "text",
    "id": "MLPP2pyMocWn"
   },
   "source": [
    "# Линейная регрессия"
   ]
  },
  {
   "cell_type": "code",
   "execution_count": 5,
   "metadata": {
    "colab": {},
    "colab_type": "code",
    "id": "i2oHX9NQocWo",
    "scrolled": true
   },
   "outputs": [
    {
     "name": "stdout",
     "output_type": "stream",
     "text": [
      "best_possible_mse: 26.35018363798124\n"
     ]
    }
   ],
   "source": [
    "n = 1000\n",
    "\n",
    "X = np.random.randn(n, 10)\n",
    "true_w = np.random.randn(10, 1)\n",
    "Y = np.dot(X, true_w).reshape(n, 1) + np.random.randn(n, 1) / 5\n",
    "\n",
    "print('best_possible_mse:', np.mean(np.power(Y-np.dot(X, true_w).reshape(n), 2)))"
   ]
  },
  {
   "cell_type": "markdown",
   "metadata": {
    "colab_type": "text",
    "id": "gu4bulrKocWs"
   },
   "source": [
    "### Модель"
   ]
  },
  {
   "cell_type": "code",
   "execution_count": 6,
   "metadata": {
    "colab": {},
    "colab_type": "code",
    "id": "2bHZzM0XocWt"
   },
   "outputs": [],
   "source": [
    "model = Sequential(\n",
    "    Linear(10, 1),\n",
    ")\n",
    "\n",
    "criterion = MSE()"
   ]
  },
  {
   "cell_type": "markdown",
   "metadata": {
    "colab_type": "text",
    "id": "dsdkT55BocWx"
   },
   "source": [
    "Можете тут потом тестировать остальные свои слои, когда их напишите."
   ]
  },
  {
   "cell_type": "markdown",
   "metadata": {
    "colab_type": "text",
    "id": "G6cJy-nOocWy"
   },
   "source": [
    "### Обучение"
   ]
  },
  {
   "cell_type": "code",
   "execution_count": 7,
   "metadata": {
    "colab": {},
    "colab_type": "code",
    "id": "P3Y7VImUocW0"
   },
   "outputs": [],
   "source": [
    "epochs = 10\n",
    "batch_size = 10\n",
    "learning_rate = 1e-1"
   ]
  },
  {
   "cell_type": "code",
   "execution_count": 8,
   "metadata": {
    "colab": {},
    "colab_type": "code",
    "id": "8NHCVPRiocW4",
    "scrolled": true
   },
   "outputs": [
    {
     "data": {
      "image/png": "[encoded data removed]",
      "text/plain": [
       "<Figure size 432x288 with 1 Axes>"
      ]
     },
     "metadata": {
      "needs_background": "light"
     },
     "output_type": "display_data"
    }
   ],
   "source": [
    "history = []\n",
    "\n",
    "for i in range(epochs):\n",
    "    for x, y_true in loader(X, Y, batch_size):\n",
    "        # forward -- считаем все значения до функции потерь\n",
    "        y_pred = model.forward(x)\n",
    "        loss = criterion.forward(y_pred, y_true)\n",
    "\n",
    "        #print(y_pred, y_true)\n",
    "        #print('SUM OF SQUARES:', np.mean(np.power(y_pred-y_true, 2)))\n",
    "    \n",
    "        # backward -- считаем все градиенты в обратном порядке\n",
    "        grad = criterion.backward(y_pred, y_true)\n",
    "        \n",
    "        model.backward(x, grad)\n",
    "        \n",
    "        # обновляем веса\n",
    "        SGD(model.parameters(),\n",
    "            model.grad_parameters(),\n",
    "            learning_rate)\n",
    "        \n",
    "        #print(model.layers[0].W[0][0])\n",
    "        #print(loss)\n",
    "        \n",
    "        history.append(loss)\n",
    "\n",
    "    \n",
    "plt.title(\"Training loss\")\n",
    "plt.xlabel(\"iteration\")\n",
    "plt.ylabel(\"loss\")\n",
    "plt.plot(history)\n",
    "plt.grid()\n",
    "plt.show()"
   ]
  },
  {
   "cell_type": "markdown",
   "metadata": {
    "colab_type": "text",
    "id": "33YJP2KeocW8"
   },
   "source": [
    "# Логистическая регрессия\n",
    "\n",
    "Этот пример нужнен для теситрования классификации (`CrossEntropy` и `SoftMax`).\n",
    "\n",
    "Возьмем в качестве датасета точки из двух гауссиан на плоскости."
   ]
  },
  {
   "cell_type": "code",
   "execution_count": 9,
   "metadata": {
    "colab": {},
    "colab_type": "code",
    "id": "Vy-6IgGWocW9",
    "scrolled": false
   },
   "outputs": [
    {
     "data": {
      "image/png": "[encoded data removed]",
      "text/plain": [
       "<Figure size 432x288 with 1 Axes>"
      ]
     },
     "metadata": {
      "needs_background": "light"
     },
     "output_type": "display_data"
    }
   ],
   "source": [
    "n = 500\n",
    "\n",
    "X1 = np.random.randn(n, 2) + np.array([2, 2])\n",
    "X2 = np.random.randn(n, 2) + np.array([-2, -2])\n",
    "X = np.vstack([X1, X2])\n",
    "\n",
    "Y = np.concatenate([np.ones(n), np.zeros(n)])[:, None]\n",
    "Y = np.hstack([Y, 1-Y])\n",
    "\n",
    "plt.scatter(X[:,0], X[:,1], c=Y[:,0])\n",
    "plt.grid()\n",
    "plt.show()"
   ]
  },
  {
   "cell_type": "markdown",
   "metadata": {
    "colab_type": "text",
    "id": "g6ga19VxocXB"
   },
   "source": [
    "Обратите внимание на `y`. Он в формате one-hot: у каждого вектора все нули, кроме одной единицы.\n",
    "\n",
    "Выходные данные в таком формате упростят написание `CrossEntropy`."
   ]
  },
  {
   "cell_type": "markdown",
   "metadata": {
    "colab_type": "text",
    "id": "zNDguGQXocXD"
   },
   "source": [
    "### Модель\n",
    "\n",
    "Логистическая регрессия — это тоже как бы маленькая нейронка: линейный слой, софтмакс, и максимизируем правдоподобие."
   ]
  },
  {
   "cell_type": "code",
   "execution_count": 10,
   "metadata": {
    "colab": {},
    "colab_type": "code",
    "id": "fdKlc0EgocXE"
   },
   "outputs": [],
   "source": [
    "model = Sequential(\n",
    "    Linear(2, 2),\n",
    "    SoftMax()\n",
    ")\n",
    "\n",
    "criterion = CrossEntropy()"
   ]
  },
  {
   "cell_type": "markdown",
   "metadata": {
    "colab_type": "text",
    "id": "NMoT8yXCocXI"
   },
   "source": [
    "### Обучение"
   ]
  },
  {
   "cell_type": "code",
   "execution_count": 11,
   "metadata": {
    "colab": {},
    "colab_type": "code",
    "id": "KIk7RXUrocXJ"
   },
   "outputs": [],
   "source": [
    "epochs = 100\n",
    "batch_size = 16\n",
    "learning_rate = 1e-1"
   ]
  },
  {
   "cell_type": "code",
   "execution_count": 12,
   "metadata": {
    "colab": {},
    "colab_type": "code",
    "id": "6RU473D9ocXN",
    "scrolled": true
   },
   "outputs": [
    {
     "data": {
      "image/png": "[encoded data removed]",
      "text/plain": [
       "<Figure size 432x288 with 1 Axes>"
      ]
     },
     "metadata": {
      "needs_background": "light"
     },
     "output_type": "display_data"
    }
   ],
   "source": [
    "history = []\n",
    "\n",
    "for i in range(epochs):\n",
    "    for x, y_true in loader(X, Y, batch_size):\n",
    "        # forward: считаем все значения до функции потерь\n",
    "        y_pred = model.forward(x)\n",
    "        #print(y_pred, y_true),\n",
    "        loss = criterion.forward(y_pred, y_true)\n",
    "        \n",
    "        # backward: считаем все градиенты в обратном порядке\n",
    "        grad = criterion.backward(y_pred, y_true)\n",
    "        #print(grad)\n",
    "        model.backward(x, grad)\n",
    "        \n",
    "        # обновляем веса\n",
    "        SGD(model.parameters(),\n",
    "            model.grad_parameters(),\n",
    "            learning_rate)\n",
    "        \n",
    "        #print(loss)\n",
    "        # логгируем лосс\n",
    "        history.append(loss)\n",
    "\n",
    "\n",
    "plt.title(\"Training loss\")\n",
    "plt.xlabel(\"iteration\")\n",
    "plt.ylabel(\"loss\")\n",
    "plt.plot(history)\n",
    "plt.grid()\n",
    "plt.show()"
   ]
  },
  {
   "cell_type": "markdown",
   "metadata": {
    "colab_type": "text",
    "id": "Mc_7Av6uocXR"
   },
   "source": [
    "Мы тут пропустили много важных деталей: валидация, подсчет точности (кроссэнтропия не очень информативна), регуляризация. Вам всё это нужно будет реализовать потом самим."
   ]
  },
  {
   "cell_type": "markdown",
   "metadata": {
    "colab_type": "text",
    "id": "tmqQxNhFocXS"
   },
   "source": [
    "# Теперь сами"
   ]
  },
  {
   "cell_type": "code",
   "execution_count": 13,
   "metadata": {},
   "outputs": [],
   "source": [
    "import pandas as pd\n",
    "from sklearn.model_selection import train_test_split\n",
    "X = pd.read_csv('train.csv')\n",
    "y = pd.get_dummies(X['label'])\n",
    "X = X.drop(['label'], axis=1)\n",
    "\n",
    "X_train, X_test, y_train, y_test = train_test_split(np.array(X), np.array(y), test_size=0.33, random_state=42)"
   ]
  },
  {
   "cell_type": "code",
   "execution_count": 14,
   "metadata": {
    "colab": {},
    "colab_type": "code",
    "id": "VDMMhl24ocXk"
   },
   "outputs": [],
   "source": [
    "def accuracy(model, val):\n",
    "    total, correct = 0, 0\n",
    "    for x, y in val:\n",
    "        res = model.forward(x)\n",
    "        res = np.argmax(res, axis=1)\n",
    "        y = np.argmax(y, axis=1)\n",
    "        total += res.shape[0]\n",
    "        correct += np.sum(res == y)\n",
    "    return correct / total"
   ]
  },
  {
   "cell_type": "code",
   "execution_count": 15,
   "metadata": {},
   "outputs": [],
   "source": [
    "model = Sequential(\n",
    "    Linear(784, 128),\n",
    "    ReLU(),\n",
    "    Linear(128, 64),\n",
    "    ReLU(),\n",
    "    Linear(64, 10),\n",
    "    SoftMax()\n",
    ")\n",
    "\n",
    "criterion = CrossEntropy()"
   ]
  },
  {
   "cell_type": "code",
   "execution_count": 16,
   "metadata": {},
   "outputs": [],
   "source": [
    "NUM_EPOCH = 20\n",
    "BATCH_SIZE = 64\n",
    "LEARNING_RATE = 2e-2"
   ]
  },
  {
   "cell_type": "code",
   "execution_count": 17,
   "metadata": {
    "scrolled": true
   },
   "outputs": [
    {
     "name": "stdout",
     "output_type": "stream",
     "text": [
      "Train accuracy: 0.917590618336887\n",
      "Test accuracy: 0.9101731601731602\n",
      "------------------------------\n",
      "Train accuracy: 0.9339729921819474\n",
      "Test accuracy: 0.9213564213564214\n",
      "------------------------------\n",
      "Train accuracy: 0.9550106609808102\n",
      "Test accuracy: 0.9409090909090909\n",
      "------------------------------\n",
      "Train accuracy: 0.9648542999289268\n",
      "Test accuracy: 0.9477633477633478\n",
      "------------------------------\n",
      "Train accuracy: 0.9694385216773277\n",
      "Test accuracy: 0.9489177489177489\n",
      "------------------------------\n",
      "Train accuracy: 0.9734186211798153\n",
      "Test accuracy: 0.9565656565656566\n",
      "------------------------------\n",
      "Train accuracy: 0.9786425017768301\n",
      "Test accuracy: 0.9584415584415584\n",
      "------------------------------\n",
      "Train accuracy: 0.9780383795309169\n",
      "Test accuracy: 0.9545454545454546\n",
      "------------------------------\n",
      "Train accuracy: 0.9824804548685145\n",
      "Test accuracy: 0.9602453102453102\n",
      "------------------------------\n",
      "Train accuracy: 0.9832977967306326\n",
      "Test accuracy: 0.9592352092352092\n",
      "------------------------------\n",
      "Train accuracy: 0.984363894811656\n",
      "Test accuracy: 0.9617604617604618\n",
      "------------------------------\n",
      "Train accuracy: 0.9867093105899076\n",
      "Test accuracy: 0.9619047619047619\n",
      "------------------------------\n",
      "Train accuracy: 0.9891257995735607\n",
      "Test accuracy: 0.9645743145743145\n",
      "------------------------------\n",
      "Train accuracy: 0.9904406538734897\n",
      "Test accuracy: 0.9665945165945166\n",
      "------------------------------\n",
      "Train accuracy: 0.9883439943141435\n",
      "Test accuracy: 0.9603896103896103\n",
      "------------------------------\n",
      "Train accuracy: 0.9911158493248046\n",
      "Test accuracy: 0.9658730158730159\n",
      "------------------------------\n",
      "Train accuracy: 0.9925017768301351\n",
      "Test accuracy: 0.965007215007215\n",
      "------------------------------\n",
      "Train accuracy: 0.9928571428571429\n",
      "Test accuracy: 0.9673160173160174\n",
      "------------------------------\n",
      "Train accuracy: 0.9935323383084577\n",
      "Test accuracy: 0.967027417027417\n",
      "------------------------------\n",
      "Train accuracy: 0.994136460554371\n",
      "Test accuracy: 0.9676046176046176\n",
      "------------------------------\n"
     ]
    }
   ],
   "source": [
    "history = []\n",
    "train_accuracy = []\n",
    "test_accuracy = []\n",
    "\n",
    "for i in range(NUM_EPOCH):\n",
    "    for x, y_true in loader(X_train, y_train, BATCH_SIZE):\n",
    "        y_pred = model.forward(x)\n",
    "        loss = criterion.forward(y_pred, y_true)\n",
    "\n",
    "        grad = criterion.backward(y_pred, y_true)\n",
    "        model.backward(x, grad)\n",
    "        \n",
    "        SGD(model.parameters(),\n",
    "            model.grad_parameters(),\n",
    "            LEARNING_RATE)\n",
    "        \n",
    "        history.append(loss)\n",
    "    \n",
    "    q1 = accuracy(model, loader(X_train, y_train, BATCH_SIZE))\n",
    "    q2 = accuracy(model, loader(X_test, y_test, BATCH_SIZE))\n",
    "    \n",
    "    train_accuracy.append(q1)\n",
    "    test_accuracy.append(q2)\n",
    "    \n",
    "    print('Train accuracy:', q1)\n",
    "    print('Test accuracy:', q2)\n",
    "    print('--' * 15)"
   ]
  },
  {
   "cell_type": "code",
   "execution_count": 18,
   "metadata": {},
   "outputs": [
    {
     "data": {
      "image/png": "[encoded data removed]",
      "text/plain": [
       "<Figure size 1152x360 with 2 Axes>"
      ]
     },
     "metadata": {
      "needs_background": "light"
     },
     "output_type": "display_data"
    }
   ],
   "source": [
    "plt.figure(figsize=(16, 5))\n",
    "\n",
    "plt.subplot(121)\n",
    "plt.title('loss')\n",
    "plt.xlabel('iteration')\n",
    "plt.ylabel('loss')\n",
    "plt.plot(history)\n",
    "plt.grid()\n",
    "\n",
    "plt.subplot(122)\n",
    "plt.plot(train_accuracy, label='train')\n",
    "plt.plot(test_accuracy, label='test')\n",
    "plt.title('score')\n",
    "plt.xlabel('epoch')\n",
    "plt.ylabel('accuracy')\n",
    "plt.legend()\n",
    "plt.grid()"
   ]
  },
  {
   "cell_type": "code",
   "execution_count": 19,
   "metadata": {},
   "outputs": [
    {
     "name": "stdout",
     "output_type": "stream",
     "text": [
      "Best score on test: 0.9676046176046176\n"
     ]
    }
   ],
   "source": [
    "print('Best score on test:', np.max(test_accuracy))"
   ]
  },
  {
   "cell_type": "markdown",
   "metadata": {
    "colab_type": "text",
    "id": "XHv3CVCIocXo"
   },
   "source": [
    "Теперь напишите модель и train loop. Можете начать с адаптации предыдущего примера.\n",
    "\n",
    "Дальше начинается творческая часть и настоящий Deep Learning:\n",
    "* поиграйтесь с архитектурами;\n",
    "* поиграйтесь с learning rate и batch_size;\n",
    "* сделайте learning rate decay;\n",
    "* сделайте data augmentation.\n",
    "\n",
    "Have fun. Дедлайн — не две недели, а до конца курса."
   ]
  }
 ],
 "metadata": {
  "colab": {
   "collapsed_sections": [],
   "name": "hw_backprop.ipynb",
   "provenance": []
  },
  "kernelspec": {
   "display_name": "Python 3 (ipykernel)",
   "language": "python",
   "name": "python3"
  },
  "language_info": {
   "codemirror_mode": {
    "name": "ipython",
    "version": 3
   },
   "file_extension": ".py",
   "mimetype": "text/x-python",
   "name": "python",
   "nbconvert_exporter": "python",
   "pygments_lexer": "ipython3",
   "version": "3.9.6"
  },
  "toc": {
   "base_numbering": 1,
   "nav_menu": {},
   "number_sections": false,
   "sideBar": true,
   "skip_h1_title": false,
   "title_cell": "Table of Contents",
   "title_sidebar": "Contents",
   "toc_cell": false,
   "toc_position": {},
   "toc_section_display": true,
   "toc_window_display": false
  }
 },
 "nbformat": 4,
 "nbformat_minor": 1
}
